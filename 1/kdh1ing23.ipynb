{
 "cells": [
  {
   "cell_type": "code",
   "execution_count": 1,
   "metadata": {},
   "outputs": [],
   "source": [
    "import numpy as np\n",
    "import pandas as pd\n",
    "import matplotlib.pyplot as plt\n",
    "import mglearn\n",
    "\n",
    "from sklearn.model_selection import train_test_split \n",
    "\n",
    "from sklearn.neighbors import KNeighborsClassifier\n",
    "from sklearn.linear_model import LinearRegression, LogisticRegression ,Ridge #  LinearRegression, Ridge 예측, LogisticRegression 분류\n",
    "\n",
    "from sklearn.tree import DecisionTreeClassifier\n",
    "from sklearn.ensemble import RandomForestClassifier, GradientBoostingClassifier\n",
    "from sklearn.svm import SVC, SVR #분류/예측\n",
    "\n",
    "from sklearn.manifold import TSNE\n",
    "from sklearn.decomposition import PCA\n",
    "from sklearn.cluster import AgglomerativeClustering, KMeans, DBSCAN\n",
    "\n",
    "from sklearn.model_selection import cross_val_score, cross_validate, GridSearchCV\n",
    "from sklearn.metrics import classification_report, confusion_matrix \n",
    "\n",
    "\n",
    "from sklearn.tree import export_graphviz\n",
    "import graphviz\n",
    "import os\n",
    "os.environ['PATH'] += os.pathsep + 'C:\\\\Program Files (x86)\\\\Graphviz2.38\\\\bin\\\\'"
   ]
  },
  {
   "cell_type": "markdown",
   "metadata": {},
   "source": [
    "1. stock market prediction > regression\n",
    "   input : 한국 KOSPI + 미국 DJIA 검색\n",
    "   output : KOSPI 미래의 1개월간(1일)의 종가 예측\n",
    "   - KOSPI : https://finance.naver.com/sise/sise_index_day.nhn?code=KOSPI&page=##\n",
    "   - DJIA : https://finance.yahoo.com/quote/%5EDJI/history?period1=1531810422&period2=1563346422&interval=1d&filter=history&frequency=1d\n",
    "   - 2018.07.17 ~ 현재까지 1년치 데이터 사용"
   ]
  },
  {
   "cell_type": "code",
   "execution_count": 96,
   "metadata": {},
   "outputs": [],
   "source": [
    "kospi_url='https://finance.naver.com/sise/sise_index_day.nhn?code=KOSPI&page='"
   ]
  },
  {
   "cell_type": "code",
   "execution_count": 97,
   "metadata": {},
   "outputs": [
    {
     "data": {
      "text/html": [
       "<div>\n",
       "<style scoped>\n",
       "    .dataframe tbody tr th:only-of-type {\n",
       "        vertical-align: middle;\n",
       "    }\n",
       "\n",
       "    .dataframe tbody tr th {\n",
       "        vertical-align: top;\n",
       "    }\n",
       "\n",
       "    .dataframe thead th {\n",
       "        text-align: right;\n",
       "    }\n",
       "</style>\n",
       "<table border=\"1\" class=\"dataframe\">\n",
       "  <thead>\n",
       "    <tr style=\"text-align: right;\">\n",
       "      <th></th>\n",
       "      <th>날짜</th>\n",
       "      <th>체결가</th>\n",
       "      <th>전일비</th>\n",
       "      <th>등락률</th>\n",
       "      <th>거래량(천주)</th>\n",
       "      <th>거래대금(백만)</th>\n",
       "    </tr>\n",
       "  </thead>\n",
       "  <tbody>\n",
       "    <tr>\n",
       "      <th>0</th>\n",
       "      <td>NaN</td>\n",
       "      <td>NaN</td>\n",
       "      <td>NaN</td>\n",
       "      <td>NaN</td>\n",
       "      <td>NaN</td>\n",
       "      <td>NaN</td>\n",
       "    </tr>\n",
       "    <tr>\n",
       "      <th>1</th>\n",
       "      <td>2019.07.17</td>\n",
       "      <td>2072.92</td>\n",
       "      <td>18.95</td>\n",
       "      <td>-0.91%</td>\n",
       "      <td>752119.0</td>\n",
       "      <td>4549215.0</td>\n",
       "    </tr>\n",
       "    <tr>\n",
       "      <th>2</th>\n",
       "      <td>2019.07.16</td>\n",
       "      <td>2091.87</td>\n",
       "      <td>9.39</td>\n",
       "      <td>+0.45%</td>\n",
       "      <td>674500.0</td>\n",
       "      <td>5158374.0</td>\n",
       "    </tr>\n",
       "    <tr>\n",
       "      <th>3</th>\n",
       "      <td>2019.07.15</td>\n",
       "      <td>2082.48</td>\n",
       "      <td>4.18</td>\n",
       "      <td>-0.20%</td>\n",
       "      <td>455075.0</td>\n",
       "      <td>3656611.0</td>\n",
       "    </tr>\n",
       "    <tr>\n",
       "      <th>4</th>\n",
       "      <td>NaN</td>\n",
       "      <td>NaN</td>\n",
       "      <td>NaN</td>\n",
       "      <td>NaN</td>\n",
       "      <td>NaN</td>\n",
       "      <td>NaN</td>\n",
       "    </tr>\n",
       "    <tr>\n",
       "      <th>5</th>\n",
       "      <td>NaN</td>\n",
       "      <td>NaN</td>\n",
       "      <td>NaN</td>\n",
       "      <td>NaN</td>\n",
       "      <td>NaN</td>\n",
       "      <td>NaN</td>\n",
       "    </tr>\n",
       "    <tr>\n",
       "      <th>6</th>\n",
       "      <td>NaN</td>\n",
       "      <td>NaN</td>\n",
       "      <td>NaN</td>\n",
       "      <td>NaN</td>\n",
       "      <td>NaN</td>\n",
       "      <td>NaN</td>\n",
       "    </tr>\n",
       "    <tr>\n",
       "      <th>7</th>\n",
       "      <td>NaN</td>\n",
       "      <td>NaN</td>\n",
       "      <td>NaN</td>\n",
       "      <td>NaN</td>\n",
       "      <td>NaN</td>\n",
       "      <td>NaN</td>\n",
       "    </tr>\n",
       "    <tr>\n",
       "      <th>8</th>\n",
       "      <td>2019.07.12</td>\n",
       "      <td>2086.66</td>\n",
       "      <td>6.08</td>\n",
       "      <td>+0.29%</td>\n",
       "      <td>398353.0</td>\n",
       "      <td>3714594.0</td>\n",
       "    </tr>\n",
       "    <tr>\n",
       "      <th>9</th>\n",
       "      <td>2019.07.11</td>\n",
       "      <td>2080.58</td>\n",
       "      <td>21.80</td>\n",
       "      <td>+1.06%</td>\n",
       "      <td>368242.0</td>\n",
       "      <td>4934006.0</td>\n",
       "    </tr>\n",
       "    <tr>\n",
       "      <th>10</th>\n",
       "      <td>2019.07.10</td>\n",
       "      <td>2058.78</td>\n",
       "      <td>6.75</td>\n",
       "      <td>+0.33%</td>\n",
       "      <td>350018.0</td>\n",
       "      <td>3867014.0</td>\n",
       "    </tr>\n",
       "    <tr>\n",
       "      <th>11</th>\n",
       "      <td>NaN</td>\n",
       "      <td>NaN</td>\n",
       "      <td>NaN</td>\n",
       "      <td>NaN</td>\n",
       "      <td>NaN</td>\n",
       "      <td>NaN</td>\n",
       "    </tr>\n",
       "    <tr>\n",
       "      <th>12</th>\n",
       "      <td>NaN</td>\n",
       "      <td>NaN</td>\n",
       "      <td>NaN</td>\n",
       "      <td>NaN</td>\n",
       "      <td>NaN</td>\n",
       "      <td>NaN</td>\n",
       "    </tr>\n",
       "  </tbody>\n",
       "</table>\n",
       "</div>"
      ],
      "text/plain": [
       "            날짜      체결가    전일비     등락률   거래량(천주)   거래대금(백만)\n",
       "0          NaN      NaN    NaN     NaN       NaN        NaN\n",
       "1   2019.07.17  2072.92  18.95  -0.91%  752119.0  4549215.0\n",
       "2   2019.07.16  2091.87   9.39  +0.45%  674500.0  5158374.0\n",
       "3   2019.07.15  2082.48   4.18  -0.20%  455075.0  3656611.0\n",
       "4          NaN      NaN    NaN     NaN       NaN        NaN\n",
       "5          NaN      NaN    NaN     NaN       NaN        NaN\n",
       "6          NaN      NaN    NaN     NaN       NaN        NaN\n",
       "7          NaN      NaN    NaN     NaN       NaN        NaN\n",
       "8   2019.07.12  2086.66   6.08  +0.29%  398353.0  3714594.0\n",
       "9   2019.07.11  2080.58  21.80  +1.06%  368242.0  4934006.0\n",
       "10  2019.07.10  2058.78   6.75  +0.33%  350018.0  3867014.0\n",
       "11         NaN      NaN    NaN     NaN       NaN        NaN\n",
       "12         NaN      NaN    NaN     NaN       NaN        NaN"
      ]
     },
     "execution_count": 97,
     "metadata": {},
     "output_type": "execute_result"
    }
   ],
   "source": [
    "tables = pd.read_html(kospi_url+'1')\n",
    "tables[0]"
   ]
  },
  {
   "cell_type": "code",
   "execution_count": 114,
   "metadata": {},
   "outputs": [
    {
     "data": {
      "text/plain": [
       "41"
      ]
     },
     "execution_count": 114,
     "metadata": {},
     "output_type": "execute_result"
    }
   ],
   "source": [
    "kospis = []\n",
    "max_num = 42\n",
    "for i in range(1,max_num):\n",
    "    tables = pd.read_html(kospi_url+str(i))\n",
    "    kospi = tables[0]\n",
    "    kospis.append(kospi)\n",
    "len(kospis)"
   ]
  },
  {
   "cell_type": "code",
   "execution_count": 115,
   "metadata": {},
   "outputs": [
    {
     "data": {
      "text/plain": [
       "(533, 6)"
      ]
     },
     "execution_count": 115,
     "metadata": {},
     "output_type": "execute_result"
    }
   ],
   "source": [
    "kospi = pd.concat(kospis, axis=0)\n",
    "kospi.shape"
   ]
  },
  {
   "cell_type": "code",
   "execution_count": 116,
   "metadata": {},
   "outputs": [
    {
     "data": {
      "text/html": [
       "<div>\n",
       "<style scoped>\n",
       "    .dataframe tbody tr th:only-of-type {\n",
       "        vertical-align: middle;\n",
       "    }\n",
       "\n",
       "    .dataframe tbody tr th {\n",
       "        vertical-align: top;\n",
       "    }\n",
       "\n",
       "    .dataframe thead th {\n",
       "        text-align: right;\n",
       "    }\n",
       "</style>\n",
       "<table border=\"1\" class=\"dataframe\">\n",
       "  <thead>\n",
       "    <tr style=\"text-align: right;\">\n",
       "      <th></th>\n",
       "      <th>날짜</th>\n",
       "      <th>체결가</th>\n",
       "      <th>전일비</th>\n",
       "      <th>등락률</th>\n",
       "      <th>거래량(천주)</th>\n",
       "      <th>거래대금(백만)</th>\n",
       "    </tr>\n",
       "  </thead>\n",
       "  <tbody>\n",
       "    <tr>\n",
       "      <th>3</th>\n",
       "      <td>2018.07.20</td>\n",
       "      <td>2289.19</td>\n",
       "      <td>6.90</td>\n",
       "      <td>+0.30%</td>\n",
       "      <td>346880.0</td>\n",
       "      <td>4839036.0</td>\n",
       "    </tr>\n",
       "    <tr>\n",
       "      <th>4</th>\n",
       "      <td>NaN</td>\n",
       "      <td>NaN</td>\n",
       "      <td>NaN</td>\n",
       "      <td>NaN</td>\n",
       "      <td>NaN</td>\n",
       "      <td>NaN</td>\n",
       "    </tr>\n",
       "    <tr>\n",
       "      <th>5</th>\n",
       "      <td>NaN</td>\n",
       "      <td>NaN</td>\n",
       "      <td>NaN</td>\n",
       "      <td>NaN</td>\n",
       "      <td>NaN</td>\n",
       "      <td>NaN</td>\n",
       "    </tr>\n",
       "    <tr>\n",
       "      <th>6</th>\n",
       "      <td>NaN</td>\n",
       "      <td>NaN</td>\n",
       "      <td>NaN</td>\n",
       "      <td>NaN</td>\n",
       "      <td>NaN</td>\n",
       "      <td>NaN</td>\n",
       "    </tr>\n",
       "    <tr>\n",
       "      <th>7</th>\n",
       "      <td>NaN</td>\n",
       "      <td>NaN</td>\n",
       "      <td>NaN</td>\n",
       "      <td>NaN</td>\n",
       "      <td>NaN</td>\n",
       "      <td>NaN</td>\n",
       "    </tr>\n",
       "    <tr>\n",
       "      <th>8</th>\n",
       "      <td>2018.07.19</td>\n",
       "      <td>2282.29</td>\n",
       "      <td>7.82</td>\n",
       "      <td>-0.34%</td>\n",
       "      <td>458752.0</td>\n",
       "      <td>5346881.0</td>\n",
       "    </tr>\n",
       "    <tr>\n",
       "      <th>9</th>\n",
       "      <td>2018.07.18</td>\n",
       "      <td>2290.11</td>\n",
       "      <td>7.81</td>\n",
       "      <td>-0.34%</td>\n",
       "      <td>395774.0</td>\n",
       "      <td>4838320.0</td>\n",
       "    </tr>\n",
       "    <tr>\n",
       "      <th>10</th>\n",
       "      <td>2018.07.17</td>\n",
       "      <td>2297.92</td>\n",
       "      <td>4.07</td>\n",
       "      <td>-0.18%</td>\n",
       "      <td>365351.0</td>\n",
       "      <td>4696497.0</td>\n",
       "    </tr>\n",
       "    <tr>\n",
       "      <th>11</th>\n",
       "      <td>NaN</td>\n",
       "      <td>NaN</td>\n",
       "      <td>NaN</td>\n",
       "      <td>NaN</td>\n",
       "      <td>NaN</td>\n",
       "      <td>NaN</td>\n",
       "    </tr>\n",
       "    <tr>\n",
       "      <th>12</th>\n",
       "      <td>NaN</td>\n",
       "      <td>NaN</td>\n",
       "      <td>NaN</td>\n",
       "      <td>NaN</td>\n",
       "      <td>NaN</td>\n",
       "      <td>NaN</td>\n",
       "    </tr>\n",
       "  </tbody>\n",
       "</table>\n",
       "</div>"
      ],
      "text/plain": [
       "            날짜      체결가   전일비     등락률   거래량(천주)   거래대금(백만)\n",
       "3   2018.07.20  2289.19  6.90  +0.30%  346880.0  4839036.0\n",
       "4          NaN      NaN   NaN     NaN       NaN        NaN\n",
       "5          NaN      NaN   NaN     NaN       NaN        NaN\n",
       "6          NaN      NaN   NaN     NaN       NaN        NaN\n",
       "7          NaN      NaN   NaN     NaN       NaN        NaN\n",
       "8   2018.07.19  2282.29  7.82  -0.34%  458752.0  5346881.0\n",
       "9   2018.07.18  2290.11  7.81  -0.34%  395774.0  4838320.0\n",
       "10  2018.07.17  2297.92  4.07  -0.18%  365351.0  4696497.0\n",
       "11         NaN      NaN   NaN     NaN       NaN        NaN\n",
       "12         NaN      NaN   NaN     NaN       NaN        NaN"
      ]
     },
     "execution_count": 116,
     "metadata": {},
     "output_type": "execute_result"
    }
   ],
   "source": [
    "kospi.tail(10)"
   ]
  },
  {
   "cell_type": "code",
   "execution_count": 117,
   "metadata": {},
   "outputs": [],
   "source": [
    "kospi = kospi.set_index('날짜')"
   ]
  },
  {
   "cell_type": "code",
   "execution_count": 118,
   "metadata": {},
   "outputs": [],
   "source": [
    "djia_url = 'https://finance.yahoo.com/quote/%5EDJI/history?period1=1531810422&period2=1563346422&interval=1d&filter=history&frequency=1d'"
   ]
  },
  {
   "cell_type": "code",
   "execution_count": 119,
   "metadata": {},
   "outputs": [
    {
     "data": {
      "text/plain": [
       "1"
      ]
     },
     "execution_count": 119,
     "metadata": {},
     "output_type": "execute_result"
    }
   ],
   "source": [
    "tables = pd.read_html(djia_url)\n",
    "len(tables)"
   ]
  },
  {
   "cell_type": "code",
   "execution_count": 123,
   "metadata": {},
   "outputs": [
    {
     "name": "stdout",
     "output_type": "stream",
     "text": [
      "<class 'pandas.core.frame.DataFrame'>\n",
      "RangeIndex: 101 entries, 0 to 100\n",
      "Data columns (total 7 columns):\n",
      "Date           101 non-null object\n",
      "Open           101 non-null object\n",
      "High           101 non-null object\n",
      "Low            101 non-null object\n",
      "Close*         101 non-null object\n",
      "Adj Close**    101 non-null object\n",
      "Volume         101 non-null object\n",
      "dtypes: object(7)\n",
      "memory usage: 5.6+ KB\n"
     ]
    },
    {
     "data": {
      "text/plain": [
       "(           Date      Open      High       Low    Close* Adj Close**     Volume\n",
       " 0  Jul 16, 2019  27349.32  27398.68  27290.24  27335.63    27335.63  223850000\n",
       " 1  Jul 15, 2019  27364.69  27364.69  27294.17  27359.16    27359.16  199730000\n",
       " 2  Jul 12, 2019  27139.49  27333.79  27135.45  27332.03    27332.03  248390000\n",
       " 3  Jul 11, 2019  26950.16  27088.45  26916.32  27088.08    27088.08  252300000\n",
       " 4  Jul 10, 2019  26851.96  26983.45  26813.11  26860.20    26860.20  207990000,\n",
       " None)"
      ]
     },
     "execution_count": 123,
     "metadata": {},
     "output_type": "execute_result"
    }
   ],
   "source": [
    "tables[0].head(), tables[0].info()"
   ]
  },
  {
   "cell_type": "code",
   "execution_count": 127,
   "metadata": {},
   "outputs": [],
   "source": [
    "djia=tables[0]"
   ]
  },
  {
   "cell_type": "code",
   "execution_count": 128,
   "metadata": {},
   "outputs": [],
   "source": [
    "djia = djia.set_index('Date')"
   ]
  },
  {
   "cell_type": "code",
   "execution_count": 130,
   "metadata": {},
   "outputs": [
    {
     "data": {
      "text/plain": [
       "(Index([         nan, '2019.07.17', '2019.07.16', '2019.07.15',          nan,\n",
       "                 nan,          nan,          nan, '2019.07.12', '2019.07.11',\n",
       "        ...\n",
       "        '2018.07.20',          nan,          nan,          nan,          nan,\n",
       "        '2018.07.19', '2018.07.18', '2018.07.17',          nan,          nan],\n",
       "       dtype='object', name='날짜', length=533),\n",
       " Index(['Jul 16, 2019', 'Jul 15, 2019', 'Jul 12, 2019', 'Jul 11, 2019',\n",
       "        'Jul 10, 2019', 'Jul 09, 2019', 'Jul 08, 2019', 'Jul 05, 2019',\n",
       "        'Jul 03, 2019', 'Jul 02, 2019',\n",
       "        ...\n",
       "        'Mar 06, 2019', 'Mar 05, 2019', 'Mar 04, 2019', 'Mar 01, 2019',\n",
       "        'Feb 28, 2019', 'Feb 27, 2019', 'Feb 26, 2019', 'Feb 25, 2019',\n",
       "        'Feb 22, 2019',\n",
       "        '*Close price adjusted for splits.**Adjusted close price adjusted for both dividends and splits.'],\n",
       "       dtype='object', name='Date', length=101))"
      ]
     },
     "execution_count": 130,
     "metadata": {},
     "output_type": "execute_result"
    }
   ],
   "source": [
    "kospi.index, djia.index"
   ]
  },
  {
   "cell_type": "code",
   "execution_count": null,
   "metadata": {},
   "outputs": [],
   "source": []
  },
  {
   "cell_type": "code",
   "execution_count": null,
   "metadata": {},
   "outputs": [],
   "source": []
  },
  {
   "cell_type": "code",
   "execution_count": null,
   "metadata": {},
   "outputs": [],
   "source": []
  },
  {
   "cell_type": "code",
   "execution_count": null,
   "metadata": {},
   "outputs": [],
   "source": []
  },
  {
   "cell_type": "code",
   "execution_count": null,
   "metadata": {},
   "outputs": [],
   "source": []
  },
  {
   "cell_type": "markdown",
   "metadata": {},
   "source": [
    "2. loan default prediction > classfication\n",
    "   input : 검색\n",
    "   - bank 예제 사용"
   ]
  },
  {
   "cell_type": "code",
   "execution_count": 46,
   "metadata": {},
   "outputs": [],
   "source": [
    "df = pd.read_csv('bank/bank.csv',sep=';')"
   ]
  },
  {
   "cell_type": "code",
   "execution_count": 48,
   "metadata": {},
   "outputs": [
    {
     "name": "stdout",
     "output_type": "stream",
     "text": [
      "<class 'pandas.core.frame.DataFrame'>\n",
      "RangeIndex: 4521 entries, 0 to 4520\n",
      "Data columns (total 17 columns):\n",
      "age          4521 non-null int64\n",
      "job          4521 non-null object\n",
      "marital      4521 non-null object\n",
      "education    4521 non-null object\n",
      "default      4521 non-null object\n",
      "balance      4521 non-null int64\n",
      "housing      4521 non-null object\n",
      "loan         4521 non-null object\n",
      "contact      4521 non-null object\n",
      "day          4521 non-null int64\n",
      "month        4521 non-null object\n",
      "duration     4521 non-null int64\n",
      "campaign     4521 non-null int64\n",
      "pdays        4521 non-null int64\n",
      "previous     4521 non-null int64\n",
      "poutcome     4521 non-null object\n",
      "y            4521 non-null object\n",
      "dtypes: int64(7), object(10)\n",
      "memory usage: 600.5+ KB\n"
     ]
    },
    {
     "data": {
      "text/plain": [
       "(   age          job  marital  education default  balance housing loan  \\\n",
       " 0   30   unemployed  married    primary      no     1787      no   no   \n",
       " 1   33     services  married  secondary      no     4789     yes  yes   \n",
       " 2   35   management   single   tertiary      no     1350     yes   no   \n",
       " 3   30   management  married   tertiary      no     1476     yes  yes   \n",
       " 4   59  blue-collar  married  secondary      no        0     yes   no   \n",
       " \n",
       "     contact  day month  duration  campaign  pdays  previous poutcome   y  \n",
       " 0  cellular   19   oct        79         1     -1         0  unknown  no  \n",
       " 1  cellular   11   may       220         1    339         4  failure  no  \n",
       " 2  cellular   16   apr       185         1    330         1  failure  no  \n",
       " 3   unknown    3   jun       199         4     -1         0  unknown  no  \n",
       " 4   unknown    5   may       226         1     -1         0  unknown  no  ,\n",
       " None)"
      ]
     },
     "execution_count": 48,
     "metadata": {},
     "output_type": "execute_result"
    }
   ],
   "source": [
    "df.head(), df.info()"
   ]
  },
  {
   "cell_type": "code",
   "execution_count": 49,
   "metadata": {},
   "outputs": [
    {
     "data": {
      "text/plain": [
       "0"
      ]
     },
     "execution_count": 49,
     "metadata": {},
     "output_type": "execute_result"
    }
   ],
   "source": [
    "df.isna().sum().sum()"
   ]
  },
  {
   "cell_type": "code",
   "execution_count": 50,
   "metadata": {},
   "outputs": [
    {
     "data": {
      "text/plain": [
       "management       969\n",
       "blue-collar      946\n",
       "technician       768\n",
       "admin.           478\n",
       "services         417\n",
       "retired          230\n",
       "self-employed    183\n",
       "entrepreneur     168\n",
       "unemployed       128\n",
       "housemaid        112\n",
       "student           84\n",
       "unknown           38\n",
       "Name: job, dtype: int64"
      ]
     },
     "execution_count": 50,
     "metadata": {},
     "output_type": "execute_result"
    }
   ],
   "source": [
    "# EDM\n",
    "j= df['job']\n",
    "j.value_counts()"
   ]
  },
  {
   "cell_type": "code",
   "execution_count": 51,
   "metadata": {},
   "outputs": [
    {
     "data": {
      "text/plain": [
       "<matplotlib.axes._subplots.AxesSubplot at 0x212a4516780>"
      ]
     },
     "execution_count": 51,
     "metadata": {},
     "output_type": "execute_result"
    },
    {
     "data": {
      "image/png": "[encoded data removed]",
      "text/plain": [
       "<Figure size 432x288 with 1 Axes>"
      ]
     },
     "metadata": {
      "needs_background": "light"
     },
     "output_type": "display_data"
    }
   ],
   "source": [
    "j.value_counts().plot.bar()"
   ]
  },
  {
   "cell_type": "code",
   "execution_count": 52,
   "metadata": {},
   "outputs": [
    {
     "data": {
      "text/plain": [
       "<matplotlib.axes._subplots.AxesSubplot at 0x212a458b2e8>"
      ]
     },
     "execution_count": 52,
     "metadata": {},
     "output_type": "execute_result"
    },
    {
     "data": {
      "image/png": "[encoded data removed]",
      "text/plain": [
       "<Figure size 432x288 with 1 Axes>"
      ]
     },
     "metadata": {
      "needs_background": "light"
     },
     "output_type": "display_data"
    }
   ],
   "source": [
    "df.marital.value_counts().plot.barh()"
   ]
  },
  {
   "cell_type": "code",
   "execution_count": 53,
   "metadata": {},
   "outputs": [
    {
     "data": {
      "text/plain": [
       "0.11523999115239991"
      ]
     },
     "execution_count": 53,
     "metadata": {},
     "output_type": "execute_result"
    }
   ],
   "source": [
    "(df['y']=='yes').mean()"
   ]
  },
  {
   "cell_type": "code",
   "execution_count": 54,
   "metadata": {},
   "outputs": [
    {
     "data": {
      "text/plain": [
       "<matplotlib.axes._subplots.AxesSubplot at 0x212a4f7e240>"
      ]
     },
     "execution_count": 54,
     "metadata": {},
     "output_type": "execute_result"
    },
    {
     "data": {
      "image/png": "[encoded data removed]",
      "text/plain": [
       "<Figure size 432x288 with 1 Axes>"
      ]
     },
     "metadata": {
      "needs_background": "light"
     },
     "output_type": "display_data"
    }
   ],
   "source": [
    "df['age'].hist()"
   ]
  },
  {
   "cell_type": "code",
   "execution_count": 55,
   "metadata": {},
   "outputs": [
    {
     "data": {
      "text/plain": [
       "<matplotlib.axes._subplots.AxesSubplot at 0x212a733c1d0>"
      ]
     },
     "execution_count": 55,
     "metadata": {},
     "output_type": "execute_result"
    },
    {
     "data": {
      "image/png": "[encoded data removed]",
      "text/plain": [
       "<Figure size 432x288 with 1 Axes>"
      ]
     },
     "metadata": {
      "needs_background": "light"
     },
     "output_type": "display_data"
    }
   ],
   "source": [
    "df[df.balance <20000].balance.hist(bins=20)"
   ]
  },
  {
   "cell_type": "code",
   "execution_count": 57,
   "metadata": {},
   "outputs": [],
   "source": [
    "df2 = df.iloc[:,:-1]"
   ]
  },
  {
   "cell_type": "code",
   "execution_count": 59,
   "metadata": {},
   "outputs": [
    {
     "name": "stdout",
     "output_type": "stream",
     "text": [
      "<class 'pandas.core.frame.DataFrame'>\n",
      "RangeIndex: 4521 entries, 0 to 4520\n",
      "Data columns (total 16 columns):\n",
      "age          4521 non-null int64\n",
      "job          4521 non-null object\n",
      "marital      4521 non-null object\n",
      "education    4521 non-null object\n",
      "default      4521 non-null object\n",
      "balance      4521 non-null int64\n",
      "housing      4521 non-null object\n",
      "loan         4521 non-null object\n",
      "contact      4521 non-null object\n",
      "day          4521 non-null object\n",
      "month        4521 non-null object\n",
      "duration     4521 non-null int64\n",
      "campaign     4521 non-null int64\n",
      "pdays        4521 non-null int64\n",
      "previous     4521 non-null int64\n",
      "poutcome     4521 non-null object\n",
      "dtypes: int64(6), object(10)\n",
      "memory usage: 565.2+ KB\n"
     ]
    },
    {
     "data": {
      "text/plain": [
       "(   age          job  marital  education default  balance housing loan  \\\n",
       " 0   30   unemployed  married    primary      no     1787      no   no   \n",
       " 1   33     services  married  secondary      no     4789     yes  yes   \n",
       " 2   35   management   single   tertiary      no     1350     yes   no   \n",
       " 3   30   management  married   tertiary      no     1476     yes  yes   \n",
       " 4   59  blue-collar  married  secondary      no        0     yes   no   \n",
       " \n",
       "     contact day month  duration  campaign  pdays  previous poutcome  \n",
       " 0  cellular  19   oct        79         1     -1         0  unknown  \n",
       " 1  cellular  11   may       220         1    339         4  failure  \n",
       " 2  cellular  16   apr       185         1    330         1  failure  \n",
       " 3   unknown   3   jun       199         4     -1         0  unknown  \n",
       " 4   unknown   5   may       226         1     -1         0  unknown  , None)"
      ]
     },
     "execution_count": 59,
     "metadata": {},
     "output_type": "execute_result"
    }
   ],
   "source": [
    "# 원핫 인코딩 준비\n",
    "# day는 int가 아닌 object여야 한다.\n",
    "df2['day'] = df2['day'].astype('object')\n",
    "df2.head(), df2.info()"
   ]
  },
  {
   "cell_type": "code",
   "execution_count": 60,
   "metadata": {},
   "outputs": [],
   "source": [
    "df_hot = pd.get_dummies(df2)"
   ]
  },
  {
   "cell_type": "code",
   "execution_count": 61,
   "metadata": {},
   "outputs": [],
   "source": [
    "#원 핫 인코딩\n",
    "df_hot = pd.get_dummies(df2)"
   ]
  },
  {
   "cell_type": "code",
   "execution_count": 62,
   "metadata": {},
   "outputs": [
    {
     "data": {
      "text/plain": [
       "Index(['age', 'balance', 'duration', 'campaign', 'pdays', 'previous',\n",
       "       'job_admin.', 'job_blue-collar', 'job_entrepreneur', 'job_housemaid',\n",
       "       'job_management', 'job_retired', 'job_self-employed', 'job_services',\n",
       "       'job_student', 'job_technician', 'job_unemployed', 'job_unknown',\n",
       "       'marital_divorced', 'marital_married', 'marital_single',\n",
       "       'education_primary', 'education_secondary', 'education_tertiary',\n",
       "       'education_unknown', 'default_no', 'default_yes', 'housing_no',\n",
       "       'housing_yes', 'loan_no', 'loan_yes', 'contact_cellular',\n",
       "       'contact_telephone', 'contact_unknown', 'day_1', 'day_2', 'day_3',\n",
       "       'day_4', 'day_5', 'day_6', 'day_7', 'day_8', 'day_9', 'day_10',\n",
       "       'day_11', 'day_12', 'day_13', 'day_14', 'day_15', 'day_16', 'day_17',\n",
       "       'day_18', 'day_19', 'day_20', 'day_21', 'day_22', 'day_23', 'day_24',\n",
       "       'day_25', 'day_26', 'day_27', 'day_28', 'day_29', 'day_30', 'day_31',\n",
       "       'month_apr', 'month_aug', 'month_dec', 'month_feb', 'month_jan',\n",
       "       'month_jul', 'month_jun', 'month_mar', 'month_may', 'month_nov',\n",
       "       'month_oct', 'month_sep', 'poutcome_failure', 'poutcome_other',\n",
       "       'poutcome_success', 'poutcome_unknown'],\n",
       "      dtype='object')"
      ]
     },
     "execution_count": 62,
     "metadata": {},
     "output_type": "execute_result"
    }
   ],
   "source": [
    "df_hot.columns"
   ]
  },
  {
   "cell_type": "code",
   "execution_count": 63,
   "metadata": {},
   "outputs": [
    {
     "data": {
      "text/plain": [
       "(   age  balance  duration  campaign  pdays  previous  job_admin.  \\\n",
       " 0   30     1787        79         1     -1         0           0   \n",
       " 1   33     4789       220         1    339         4           0   \n",
       " 2   35     1350       185         1    330         1           0   \n",
       " 3   30     1476       199         4     -1         0           0   \n",
       " 4   59        0       226         1     -1         0           0   \n",
       " \n",
       "    job_blue-collar  job_entrepreneur  job_housemaid  ...  month_jun  \\\n",
       " 0                0                 0              0  ...          0   \n",
       " 1                0                 0              0  ...          0   \n",
       " 2                0                 0              0  ...          0   \n",
       " 3                0                 0              0  ...          1   \n",
       " 4                1                 0              0  ...          0   \n",
       " \n",
       "    month_mar  month_may  month_nov  month_oct  month_sep  poutcome_failure  \\\n",
       " 0          0          0          0          1          0                 0   \n",
       " 1          0          1          0          0          0                 1   \n",
       " 2          0          0          0          0          0                 1   \n",
       " 3          0          0          0          0          0                 0   \n",
       " 4          0          1          0          0          0                 0   \n",
       " \n",
       "    poutcome_other  poutcome_success  poutcome_unknown  \n",
       " 0               0                 0                 1  \n",
       " 1               0                 0                 0  \n",
       " 2               0                 0                 0  \n",
       " 3               0                 0                 1  \n",
       " 4               0                 0                 1  \n",
       " \n",
       " [5 rows x 81 columns], 0    no\n",
       " 1    no\n",
       " 2    no\n",
       " 3    no\n",
       " 4    no\n",
       " Name: y, dtype: object)"
      ]
     },
     "execution_count": 63,
     "metadata": {},
     "output_type": "execute_result"
    }
   ],
   "source": [
    "X = df_hot\n",
    "y = df.iloc[:,-1]\n",
    "X.head(), y.head()"
   ]
  },
  {
   "cell_type": "code",
   "execution_count": 64,
   "metadata": {},
   "outputs": [],
   "source": [
    "X_train, X_test, y_train, y_test = train_test_split(X,y, test_size = 0.25, random_state=42) # test_size = 0.25, random_state=42"
   ]
  },
  {
   "cell_type": "code",
   "execution_count": 65,
   "metadata": {},
   "outputs": [
    {
     "data": {
      "text/plain": [
       "((3390, 81), (1131, 81), (3390,), (1131,))"
      ]
     },
     "execution_count": 65,
     "metadata": {},
     "output_type": "execute_result"
    }
   ],
   "source": [
    "X_train.shape, X_test.shape, y_train.shape, y_test.shape"
   ]
  },
  {
   "cell_type": "code",
   "execution_count": 66,
   "metadata": {},
   "outputs": [
    {
     "data": {
      "text/plain": [
       "0.883289124668435"
      ]
     },
     "execution_count": 66,
     "metadata": {},
     "output_type": "execute_result"
    }
   ],
   "source": [
    "knn = KNeighborsClassifier(n_neighbors=3)\n",
    "knn.fit(X_train, y_train)\n",
    "knn.score(X_test, y_test)"
   ]
  },
  {
   "cell_type": "code",
   "execution_count": 69,
   "metadata": {},
   "outputs": [
    {
     "name": "stderr",
     "output_type": "stream",
     "text": [
      "C:\\Users\\wtime\\Anaconda3\\lib\\site-packages\\sklearn\\linear_model\\logistic.py:433: FutureWarning: Default solver will be changed to 'lbfgs' in 0.22. Specify a solver to silence this warning.\n",
      "  FutureWarning)\n"
     ]
    },
    {
     "data": {
      "text/plain": [
       "0.8983200707338639"
      ]
     },
     "execution_count": 69,
     "metadata": {},
     "output_type": "execute_result"
    }
   ],
   "source": [
    "lr = LogisticRegression()\n",
    "lr.fit(X_train,y_train)\n",
    "lr.score(X_test, y_test)"
   ]
  },
  {
   "cell_type": "code",
   "execution_count": 70,
   "metadata": {},
   "outputs": [
    {
     "data": {
      "text/plain": [
       "0.8983200707338639"
      ]
     },
     "execution_count": 70,
     "metadata": {},
     "output_type": "execute_result"
    }
   ],
   "source": [
    "model = DecisionTreeClassifier(max_depth=3).fit(X_train,y_train)\n",
    "model.score(X_test, y_test)"
   ]
  },
  {
   "cell_type": "code",
   "execution_count": 71,
   "metadata": {},
   "outputs": [
    {
     "data": {
      "text/plain": [
       "0.900972590627763"
      ]
     },
     "execution_count": 71,
     "metadata": {},
     "output_type": "execute_result"
    }
   ],
   "source": [
    "rf = RandomForestClassifier(n_estimators=100).fit(X_train,y_train)\n",
    "rf.score(X_test,y_test)"
   ]
  },
  {
   "cell_type": "code",
   "execution_count": 72,
   "metadata": {},
   "outputs": [
    {
     "data": {
      "text/plain": [
       "(array([0.08638377, 0.0773273 , 0.22646908, 0.03518881, 0.03344908,\n",
       "        0.02318499, 0.00860278, 0.00946186, 0.00275285, 0.00378379,\n",
       "        0.01038516, 0.00866171, 0.00474029, 0.00631562, 0.0047766 ,\n",
       "        0.01005696, 0.00207279, 0.00183145, 0.00898092, 0.01216009,\n",
       "        0.01083433, 0.00788937, 0.01244366, 0.01339719, 0.00508208,\n",
       "        0.00233771, 0.00221025, 0.01277277, 0.01411869, 0.00674793,\n",
       "        0.0061063 , 0.00986139, 0.00497111, 0.00744562, 0.00389054,\n",
       "        0.00447422, 0.00419398, 0.00188122, 0.00725704, 0.00457657,\n",
       "        0.00401294, 0.00397638, 0.00474866, 0.00362915, 0.0037553 ,\n",
       "        0.00666227, 0.00544589, 0.0053613 , 0.0060589 , 0.00797368,\n",
       "        0.00497959, 0.00678052, 0.003157  , 0.0046065 , 0.00608545,\n",
       "        0.00433572, 0.00289509, 0.00243063, 0.00253995, 0.00412099,\n",
       "        0.00426064, 0.00370416, 0.00261407, 0.00807667, 0.00110569,\n",
       "        0.01245541, 0.00943914, 0.00269584, 0.00618556, 0.00315537,\n",
       "        0.00824   , 0.01143249, 0.01203668, 0.01114112, 0.00743248,\n",
       "        0.01694149, 0.00449417, 0.01104511, 0.00466437, 0.03670045,\n",
       "        0.00954531]),\n",
       " Index(['age', 'job', 'marital', 'education', 'default', 'balance', 'housing',\n",
       "        'loan', 'contact', 'day', 'month', 'duration', 'campaign', 'pdays',\n",
       "        'previous', 'poutcome', 'y'],\n",
       "       dtype='object'))"
      ]
     },
     "execution_count": 72,
     "metadata": {},
     "output_type": "execute_result"
    }
   ],
   "source": [
    "rf.feature_importances_, df.columns"
   ]
  },
  {
   "cell_type": "code",
   "execution_count": 75,
   "metadata": {},
   "outputs": [
    {
     "data": {
      "text/plain": [
       "<BarContainer object of 81 artists>"
      ]
     },
     "execution_count": 75,
     "metadata": {},
     "output_type": "execute_result"
    },
    {
     "data": {
      "image/png": "[encoded data removed]",
      "text/plain": [
       "<Figure size 720x720 with 1 Axes>"
      ]
     },
     "metadata": {
      "needs_background": "light"
     },
     "output_type": "display_data"
    }
   ],
   "source": [
    "plt.figure(figsize=(10,10))\n",
    "plt.barh(X_train.columns, rf.feature_importances_)"
   ]
  },
  {
   "cell_type": "code",
   "execution_count": 74,
   "metadata": {},
   "outputs": [
    {
     "data": {
      "image/svg+xml": [
       "<?xml version=\"1.0\" encoding=\"UTF-8\" standalone=\"no\"?>\r\n",
       "<!DOCTYPE svg PUBLIC \"-//W3C//DTD SVG 1.1//EN\"\r\n",
       " \"http://www.w3.org/Graphics/SVG/1.1/DTD/svg11.dtd\">\r\n",
       "<!-- Generated by graphviz version 2.38.0 (20140413.2041)\r\n",
       " -->\r\n",
       "<!-- Title: Tree Pages: 1 -->\r\n",
       "<svg width=\"990pt\" height=\"373pt\"\r\n",
       " viewBox=\"0.00 0.00 990.00 373.00\" xmlns=\"http://www.w3.org/2000/svg\" xmlns:xlink=\"http://www.w3.org/1999/xlink\">\r\n",
       "<g id=\"graph0\" class=\"graph\" transform=\"scale(1 1) rotate(0) translate(4 369)\">\r\n",
       "<title>Tree</title>\r\n",
       "<polygon fill=\"white\" stroke=\"none\" points=\"-4,4 -4,-369 986,-369 986,4 -4,4\"/>\r\n",
       "<!-- 0 -->\r\n",
       "<g id=\"node1\" class=\"node\"><title>0</title>\r\n",
       "<polygon fill=\"#e58139\" fill-opacity=\"0.866667\" stroke=\"black\" points=\"565.5,-365 440.5,-365 440.5,-297 565.5,-297 565.5,-365\"/>\r\n",
       "<text text-anchor=\"middle\" x=\"503\" y=\"-349.8\" font-family=\"Times New Roman,serif\" font-size=\"14.00\">duration &lt;= 561.0</text>\r\n",
       "<text text-anchor=\"middle\" x=\"503\" y=\"-334.8\" font-family=\"Times New Roman,serif\" font-size=\"14.00\">samples = 3390</text>\r\n",
       "<text text-anchor=\"middle\" x=\"503\" y=\"-319.8\" font-family=\"Times New Roman,serif\" font-size=\"14.00\">value = [2994, 396]</text>\r\n",
       "<text text-anchor=\"middle\" x=\"503\" y=\"-304.8\" font-family=\"Times New Roman,serif\" font-size=\"14.00\">class = Y</text>\r\n",
       "</g>\r\n",
       "<!-- 1 -->\r\n",
       "<g id=\"node2\" class=\"node\"><title>1</title>\r\n",
       "<polygon fill=\"#e58139\" fill-opacity=\"0.913725\" stroke=\"black\" points=\"488,-261 322,-261 322,-193 488,-193 488,-261\"/>\r\n",
       "<text text-anchor=\"middle\" x=\"405\" y=\"-245.8\" font-family=\"Times New Roman,serif\" font-size=\"14.00\">poutcome_success &lt;= 0.5</text>\r\n",
       "<text text-anchor=\"middle\" x=\"405\" y=\"-230.8\" font-family=\"Times New Roman,serif\" font-size=\"14.00\">samples = 3029</text>\r\n",
       "<text text-anchor=\"middle\" x=\"405\" y=\"-215.8\" font-family=\"Times New Roman,serif\" font-size=\"14.00\">value = [2793, 236]</text>\r\n",
       "<text text-anchor=\"middle\" x=\"405\" y=\"-200.8\" font-family=\"Times New Roman,serif\" font-size=\"14.00\">class = Y</text>\r\n",
       "</g>\r\n",
       "<!-- 0&#45;&gt;1 -->\r\n",
       "<g id=\"edge1\" class=\"edge\"><title>0&#45;&gt;1</title>\r\n",
       "<path fill=\"none\" stroke=\"black\" d=\"M471.182,-296.884C462.539,-287.887 453.078,-278.041 444.083,-268.678\"/>\r\n",
       "<polygon fill=\"black\" stroke=\"black\" points=\"446.446,-266.086 436.994,-261.299 441.398,-270.935 446.446,-266.086\"/>\r\n",
       "<text text-anchor=\"middle\" x=\"436.494\" y=\"-282.594\" font-family=\"Times New Roman,serif\" font-size=\"14.00\">True</text>\r\n",
       "</g>\r\n",
       "<!-- 8 -->\r\n",
       "<g id=\"node9\" class=\"node\"><title>8</title>\r\n",
       "<polygon fill=\"#e58139\" fill-opacity=\"0.203922\" stroke=\"black\" points=\"660,-261 542,-261 542,-193 660,-193 660,-261\"/>\r\n",
       "<text text-anchor=\"middle\" x=\"601\" y=\"-245.8\" font-family=\"Times New Roman,serif\" font-size=\"14.00\">duration &lt;= 764.5</text>\r\n",
       "<text text-anchor=\"middle\" x=\"601\" y=\"-230.8\" font-family=\"Times New Roman,serif\" font-size=\"14.00\">samples = 361</text>\r\n",
       "<text text-anchor=\"middle\" x=\"601\" y=\"-215.8\" font-family=\"Times New Roman,serif\" font-size=\"14.00\">value = [201, 160]</text>\r\n",
       "<text text-anchor=\"middle\" x=\"601\" y=\"-200.8\" font-family=\"Times New Roman,serif\" font-size=\"14.00\">class = Y</text>\r\n",
       "</g>\r\n",
       "<!-- 0&#45;&gt;8 -->\r\n",
       "<g id=\"edge8\" class=\"edge\"><title>0&#45;&gt;8</title>\r\n",
       "<path fill=\"none\" stroke=\"black\" d=\"M534.818,-296.884C543.461,-287.887 552.922,-278.041 561.917,-268.678\"/>\r\n",
       "<polygon fill=\"black\" stroke=\"black\" points=\"564.602,-270.935 569.006,-261.299 559.554,-266.086 564.602,-270.935\"/>\r\n",
       "<text text-anchor=\"middle\" x=\"569.506\" y=\"-282.594\" font-family=\"Times New Roman,serif\" font-size=\"14.00\">False</text>\r\n",
       "</g>\r\n",
       "<!-- 2 -->\r\n",
       "<g id=\"node3\" class=\"node\"><title>2</title>\r\n",
       "<polygon fill=\"#e58139\" fill-opacity=\"0.933333\" stroke=\"black\" points=\"257.5,-157 132.5,-157 132.5,-89 257.5,-89 257.5,-157\"/>\r\n",
       "<text text-anchor=\"middle\" x=\"195\" y=\"-141.8\" font-family=\"Times New Roman,serif\" font-size=\"14.00\">duration &lt;= 222.5</text>\r\n",
       "<text text-anchor=\"middle\" x=\"195\" y=\"-126.8\" font-family=\"Times New Roman,serif\" font-size=\"14.00\">samples = 2945</text>\r\n",
       "<text text-anchor=\"middle\" x=\"195\" y=\"-111.8\" font-family=\"Times New Roman,serif\" font-size=\"14.00\">value = [2764, 181]</text>\r\n",
       "<text text-anchor=\"middle\" x=\"195\" y=\"-96.8\" font-family=\"Times New Roman,serif\" font-size=\"14.00\">class = Y</text>\r\n",
       "</g>\r\n",
       "<!-- 1&#45;&gt;2 -->\r\n",
       "<g id=\"edge2\" class=\"edge\"><title>1&#45;&gt;2</title>\r\n",
       "<path fill=\"none\" stroke=\"black\" d=\"M336.819,-192.884C314.399,-181.994 289.414,-169.858 266.737,-158.844\"/>\r\n",
       "<polygon fill=\"black\" stroke=\"black\" points=\"268.033,-155.582 257.508,-154.361 264.974,-161.879 268.033,-155.582\"/>\r\n",
       "</g>\r\n",
       "<!-- 5 -->\r\n",
       "<g id=\"node6\" class=\"node\"><title>5</title>\r\n",
       "<polygon fill=\"#399de5\" fill-opacity=\"0.474510\" stroke=\"black\" points=\"463.5,-157 346.5,-157 346.5,-89 463.5,-89 463.5,-157\"/>\r\n",
       "<text text-anchor=\"middle\" x=\"405\" y=\"-141.8\" font-family=\"Times New Roman,serif\" font-size=\"14.00\">duration &lt;= 146.5</text>\r\n",
       "<text text-anchor=\"middle\" x=\"405\" y=\"-126.8\" font-family=\"Times New Roman,serif\" font-size=\"14.00\">samples = 84</text>\r\n",
       "<text text-anchor=\"middle\" x=\"405\" y=\"-111.8\" font-family=\"Times New Roman,serif\" font-size=\"14.00\">value = [29, 55]</text>\r\n",
       "<text text-anchor=\"middle\" x=\"405\" y=\"-96.8\" font-family=\"Times New Roman,serif\" font-size=\"14.00\">class = N</text>\r\n",
       "</g>\r\n",
       "<!-- 1&#45;&gt;5 -->\r\n",
       "<g id=\"edge5\" class=\"edge\"><title>1&#45;&gt;5</title>\r\n",
       "<path fill=\"none\" stroke=\"black\" d=\"M405,-192.884C405,-184.778 405,-175.982 405,-167.472\"/>\r\n",
       "<polygon fill=\"black\" stroke=\"black\" points=\"408.5,-167.299 405,-157.299 401.5,-167.299 408.5,-167.299\"/>\r\n",
       "</g>\r\n",
       "<!-- 3 -->\r\n",
       "<g id=\"node4\" class=\"node\"><title>3</title>\r\n",
       "<polygon fill=\"#e58139\" fill-opacity=\"0.972549\" stroke=\"black\" points=\"118,-53 0,-53 0,-0 118,-0 118,-53\"/>\r\n",
       "<text text-anchor=\"middle\" x=\"59\" y=\"-37.8\" font-family=\"Times New Roman,serif\" font-size=\"14.00\">samples = 1967</text>\r\n",
       "<text text-anchor=\"middle\" x=\"59\" y=\"-22.8\" font-family=\"Times New Roman,serif\" font-size=\"14.00\">value = [1915, 52]</text>\r\n",
       "<text text-anchor=\"middle\" x=\"59\" y=\"-7.8\" font-family=\"Times New Roman,serif\" font-size=\"14.00\">class = Y</text>\r\n",
       "</g>\r\n",
       "<!-- 2&#45;&gt;3 -->\r\n",
       "<g id=\"edge3\" class=\"edge\"><title>2&#45;&gt;3</title>\r\n",
       "<path fill=\"none\" stroke=\"black\" d=\"M147.434,-88.9485C133.478,-79.2516 118.257,-68.6752 104.438,-59.073\"/>\r\n",
       "<polygon fill=\"black\" stroke=\"black\" points=\"106.248,-56.0687 96.0391,-53.2367 102.254,-61.8172 106.248,-56.0687\"/>\r\n",
       "</g>\r\n",
       "<!-- 4 -->\r\n",
       "<g id=\"node5\" class=\"node\"><title>4</title>\r\n",
       "<polygon fill=\"#e58139\" fill-opacity=\"0.847059\" stroke=\"black\" points=\"254,-53 136,-53 136,-0 254,-0 254,-53\"/>\r\n",
       "<text text-anchor=\"middle\" x=\"195\" y=\"-37.8\" font-family=\"Times New Roman,serif\" font-size=\"14.00\">samples = 978</text>\r\n",
       "<text text-anchor=\"middle\" x=\"195\" y=\"-22.8\" font-family=\"Times New Roman,serif\" font-size=\"14.00\">value = [849, 129]</text>\r\n",
       "<text text-anchor=\"middle\" x=\"195\" y=\"-7.8\" font-family=\"Times New Roman,serif\" font-size=\"14.00\">class = Y</text>\r\n",
       "</g>\r\n",
       "<!-- 2&#45;&gt;4 -->\r\n",
       "<g id=\"edge4\" class=\"edge\"><title>2&#45;&gt;4</title>\r\n",
       "<path fill=\"none\" stroke=\"black\" d=\"M195,-88.9485C195,-80.7153 195,-71.848 195,-63.4814\"/>\r\n",
       "<polygon fill=\"black\" stroke=\"black\" points=\"198.5,-63.2367 195,-53.2367 191.5,-63.2367 198.5,-63.2367\"/>\r\n",
       "</g>\r\n",
       "<!-- 6 -->\r\n",
       "<g id=\"node7\" class=\"node\"><title>6</title>\r\n",
       "<polygon fill=\"#e58139\" fill-opacity=\"0.800000\" stroke=\"black\" points=\"370,-53 272,-53 272,-0 370,-0 370,-53\"/>\r\n",
       "<text text-anchor=\"middle\" x=\"321\" y=\"-37.8\" font-family=\"Times New Roman,serif\" font-size=\"14.00\">samples = 12</text>\r\n",
       "<text text-anchor=\"middle\" x=\"321\" y=\"-22.8\" font-family=\"Times New Roman,serif\" font-size=\"14.00\">value = [10, 2]</text>\r\n",
       "<text text-anchor=\"middle\" x=\"321\" y=\"-7.8\" font-family=\"Times New Roman,serif\" font-size=\"14.00\">class = Y</text>\r\n",
       "</g>\r\n",
       "<!-- 5&#45;&gt;6 -->\r\n",
       "<g id=\"edge6\" class=\"edge\"><title>5&#45;&gt;6</title>\r\n",
       "<path fill=\"none\" stroke=\"black\" d=\"M375.621,-88.9485C367.489,-79.8005 358.662,-69.8697 350.522,-60.7126\"/>\r\n",
       "<polygon fill=\"black\" stroke=\"black\" points=\"353.137,-58.3855 343.877,-53.2367 347.905,-63.0361 353.137,-58.3855\"/>\r\n",
       "</g>\r\n",
       "<!-- 7 -->\r\n",
       "<g id=\"node8\" class=\"node\"><title>7</title>\r\n",
       "<polygon fill=\"#399de5\" fill-opacity=\"0.643137\" stroke=\"black\" points=\"492,-53 388,-53 388,-0 492,-0 492,-53\"/>\r\n",
       "<text text-anchor=\"middle\" x=\"440\" y=\"-37.8\" font-family=\"Times New Roman,serif\" font-size=\"14.00\">samples = 72</text>\r\n",
       "<text text-anchor=\"middle\" x=\"440\" y=\"-22.8\" font-family=\"Times New Roman,serif\" font-size=\"14.00\">value = [19, 53]</text>\r\n",
       "<text text-anchor=\"middle\" x=\"440\" y=\"-7.8\" font-family=\"Times New Roman,serif\" font-size=\"14.00\">class = N</text>\r\n",
       "</g>\r\n",
       "<!-- 5&#45;&gt;7 -->\r\n",
       "<g id=\"edge7\" class=\"edge\"><title>5&#45;&gt;7</title>\r\n",
       "<path fill=\"none\" stroke=\"black\" d=\"M417.241,-88.9485C420.392,-80.4408 423.794,-71.2562 426.983,-62.6464\"/>\r\n",
       "<polygon fill=\"black\" stroke=\"black\" points=\"430.277,-63.8298 430.468,-53.2367 423.713,-61.3986 430.277,-63.8298\"/>\r\n",
       "</g>\r\n",
       "<!-- 9 -->\r\n",
       "<g id=\"node10\" class=\"node\"><title>9</title>\r\n",
       "<polygon fill=\"#e58139\" fill-opacity=\"0.494118\" stroke=\"black\" points=\"656.5,-157 545.5,-157 545.5,-89 656.5,-89 656.5,-157\"/>\r\n",
       "<text text-anchor=\"middle\" x=\"601\" y=\"-141.8\" font-family=\"Times New Roman,serif\" font-size=\"14.00\">day_18 &lt;= 0.5</text>\r\n",
       "<text text-anchor=\"middle\" x=\"601\" y=\"-126.8\" font-family=\"Times New Roman,serif\" font-size=\"14.00\">samples = 196</text>\r\n",
       "<text text-anchor=\"middle\" x=\"601\" y=\"-111.8\" font-family=\"Times New Roman,serif\" font-size=\"14.00\">value = [130, 66]</text>\r\n",
       "<text text-anchor=\"middle\" x=\"601\" y=\"-96.8\" font-family=\"Times New Roman,serif\" font-size=\"14.00\">class = Y</text>\r\n",
       "</g>\r\n",
       "<!-- 8&#45;&gt;9 -->\r\n",
       "<g id=\"edge9\" class=\"edge\"><title>8&#45;&gt;9</title>\r\n",
       "<path fill=\"none\" stroke=\"black\" d=\"M601,-192.884C601,-184.778 601,-175.982 601,-167.472\"/>\r\n",
       "<polygon fill=\"black\" stroke=\"black\" points=\"604.5,-167.299 601,-157.299 597.5,-167.299 604.5,-167.299\"/>\r\n",
       "</g>\r\n",
       "<!-- 12 -->\r\n",
       "<g id=\"node13\" class=\"node\"><title>12</title>\r\n",
       "<polygon fill=\"#399de5\" fill-opacity=\"0.243137\" stroke=\"black\" points=\"870,-157 746,-157 746,-89 870,-89 870,-157\"/>\r\n",
       "<text text-anchor=\"middle\" x=\"808\" y=\"-141.8\" font-family=\"Times New Roman,serif\" font-size=\"14.00\">month_may &lt;= 0.5</text>\r\n",
       "<text text-anchor=\"middle\" x=\"808\" y=\"-126.8\" font-family=\"Times New Roman,serif\" font-size=\"14.00\">samples = 165</text>\r\n",
       "<text text-anchor=\"middle\" x=\"808\" y=\"-111.8\" font-family=\"Times New Roman,serif\" font-size=\"14.00\">value = [71, 94]</text>\r\n",
       "<text text-anchor=\"middle\" x=\"808\" y=\"-96.8\" font-family=\"Times New Roman,serif\" font-size=\"14.00\">class = N</text>\r\n",
       "</g>\r\n",
       "<!-- 8&#45;&gt;12 -->\r\n",
       "<g id=\"edge12\" class=\"edge\"><title>8&#45;&gt;12</title>\r\n",
       "<path fill=\"none\" stroke=\"black\" d=\"M660.041,-196.907C683.987,-185.108 711.854,-171.376 736.904,-159.033\"/>\r\n",
       "<polygon fill=\"black\" stroke=\"black\" points=\"738.57,-162.114 745.993,-154.554 735.476,-155.835 738.57,-162.114\"/>\r\n",
       "</g>\r\n",
       "<!-- 10 -->\r\n",
       "<g id=\"node11\" class=\"node\"><title>10</title>\r\n",
       "<polygon fill=\"#e58139\" fill-opacity=\"0.560784\" stroke=\"black\" points=\"621.5,-53 510.5,-53 510.5,-0 621.5,-0 621.5,-53\"/>\r\n",
       "<text text-anchor=\"middle\" x=\"566\" y=\"-37.8\" font-family=\"Times New Roman,serif\" font-size=\"14.00\">samples = 180</text>\r\n",
       "<text text-anchor=\"middle\" x=\"566\" y=\"-22.8\" font-family=\"Times New Roman,serif\" font-size=\"14.00\">value = [125, 55]</text>\r\n",
       "<text text-anchor=\"middle\" x=\"566\" y=\"-7.8\" font-family=\"Times New Roman,serif\" font-size=\"14.00\">class = Y</text>\r\n",
       "</g>\r\n",
       "<!-- 9&#45;&gt;10 -->\r\n",
       "<g id=\"edge10\" class=\"edge\"><title>9&#45;&gt;10</title>\r\n",
       "<path fill=\"none\" stroke=\"black\" d=\"M588.759,-88.9485C585.608,-80.4408 582.206,-71.2562 579.017,-62.6464\"/>\r\n",
       "<polygon fill=\"black\" stroke=\"black\" points=\"582.287,-61.3986 575.532,-53.2367 575.723,-63.8298 582.287,-61.3986\"/>\r\n",
       "</g>\r\n",
       "<!-- 11 -->\r\n",
       "<g id=\"node12\" class=\"node\"><title>11</title>\r\n",
       "<polygon fill=\"#399de5\" fill-opacity=\"0.545098\" stroke=\"black\" points=\"738,-53 640,-53 640,-0 738,-0 738,-53\"/>\r\n",
       "<text text-anchor=\"middle\" x=\"689\" y=\"-37.8\" font-family=\"Times New Roman,serif\" font-size=\"14.00\">samples = 16</text>\r\n",
       "<text text-anchor=\"middle\" x=\"689\" y=\"-22.8\" font-family=\"Times New Roman,serif\" font-size=\"14.00\">value = [5, 11]</text>\r\n",
       "<text text-anchor=\"middle\" x=\"689\" y=\"-7.8\" font-family=\"Times New Roman,serif\" font-size=\"14.00\">class = N</text>\r\n",
       "</g>\r\n",
       "<!-- 9&#45;&gt;11 -->\r\n",
       "<g id=\"edge11\" class=\"edge\"><title>9&#45;&gt;11</title>\r\n",
       "<path fill=\"none\" stroke=\"black\" d=\"M631.778,-88.9485C640.297,-79.8005 649.545,-69.8697 658.072,-60.7126\"/>\r\n",
       "<polygon fill=\"black\" stroke=\"black\" points=\"660.78,-62.9402 665.034,-53.2367 655.657,-58.1698 660.78,-62.9402\"/>\r\n",
       "</g>\r\n",
       "<!-- 13 -->\r\n",
       "<g id=\"node14\" class=\"node\"><title>13</title>\r\n",
       "<polygon fill=\"#399de5\" fill-opacity=\"0.419608\" stroke=\"black\" points=\"860,-53 756,-53 756,-0 860,-0 860,-53\"/>\r\n",
       "<text text-anchor=\"middle\" x=\"808\" y=\"-37.8\" font-family=\"Times New Roman,serif\" font-size=\"14.00\">samples = 117</text>\r\n",
       "<text text-anchor=\"middle\" x=\"808\" y=\"-22.8\" font-family=\"Times New Roman,serif\" font-size=\"14.00\">value = [43, 74]</text>\r\n",
       "<text text-anchor=\"middle\" x=\"808\" y=\"-7.8\" font-family=\"Times New Roman,serif\" font-size=\"14.00\">class = N</text>\r\n",
       "</g>\r\n",
       "<!-- 12&#45;&gt;13 -->\r\n",
       "<g id=\"edge13\" class=\"edge\"><title>12&#45;&gt;13</title>\r\n",
       "<path fill=\"none\" stroke=\"black\" d=\"M808,-88.9485C808,-80.7153 808,-71.848 808,-63.4814\"/>\r\n",
       "<polygon fill=\"black\" stroke=\"black\" points=\"811.5,-63.2367 808,-53.2367 804.5,-63.2367 811.5,-63.2367\"/>\r\n",
       "</g>\r\n",
       "<!-- 14 -->\r\n",
       "<g id=\"node15\" class=\"node\"><title>14</title>\r\n",
       "<polygon fill=\"#e58139\" fill-opacity=\"0.286275\" stroke=\"black\" points=\"982,-53 878,-53 878,-0 982,-0 982,-53\"/>\r\n",
       "<text text-anchor=\"middle\" x=\"930\" y=\"-37.8\" font-family=\"Times New Roman,serif\" font-size=\"14.00\">samples = 48</text>\r\n",
       "<text text-anchor=\"middle\" x=\"930\" y=\"-22.8\" font-family=\"Times New Roman,serif\" font-size=\"14.00\">value = [28, 20]</text>\r\n",
       "<text text-anchor=\"middle\" x=\"930\" y=\"-7.8\" font-family=\"Times New Roman,serif\" font-size=\"14.00\">class = Y</text>\r\n",
       "</g>\r\n",
       "<!-- 12&#45;&gt;14 -->\r\n",
       "<g id=\"edge14\" class=\"edge\"><title>12&#45;&gt;14</title>\r\n",
       "<path fill=\"none\" stroke=\"black\" d=\"M850.67,-88.9485C862.952,-79.4346 876.328,-69.074 888.536,-59.6175\"/>\r\n",
       "<polygon fill=\"black\" stroke=\"black\" points=\"891.011,-62.1274 896.774,-53.2367 886.725,-56.5934 891.011,-62.1274\"/>\r\n",
       "</g>\r\n",
       "</g>\r\n",
       "</svg>\r\n"
      ],
      "text/plain": [
       "<graphviz.files.Source at 0x212a742b438>"
      ]
     },
     "metadata": {},
     "output_type": "display_data"
    }
   ],
   "source": [
    "export_graphviz(model, out_file='loan.dot', class_names=['Y','N'], feature_names=X.columns, impurity=False, filled=True)\n",
    "with open('loan.dot') as f:\n",
    "    dot_graph = f.read()\n",
    "g = graphviz.Source(dot_graph)\n",
    "display(g)"
   ]
  },
  {
   "cell_type": "code",
   "execution_count": null,
   "metadata": {},
   "outputs": [],
   "source": []
  },
  {
   "cell_type": "markdown",
   "metadata": {},
   "source": [
    "3. credit card froud detection > clustering\n",
    "   input : 검색\n",
    "   - https://www.kaggle.com/mlg-ulb/creditcardfraud/downloads/creditcardfraud.zip/3\n",
    "   - v1 ~ v28은 민감정보로 보여짐..\n",
    "   - may be result of a PCA Dimensionality reduction to protect user identities and sensitive features(v1-v28)"
   ]
  },
  {
   "cell_type": "code",
   "execution_count": 7,
   "metadata": {},
   "outputs": [],
   "source": [
    "folder = 'creditcardfraud/'\n",
    "file = 'creditcard.csv'"
   ]
  },
  {
   "cell_type": "code",
   "execution_count": 8,
   "metadata": {},
   "outputs": [],
   "source": [
    "fraud = pd.read_csv(folder + file)"
   ]
  },
  {
   "cell_type": "code",
   "execution_count": 10,
   "metadata": {},
   "outputs": [
    {
     "name": "stdout",
     "output_type": "stream",
     "text": [
      "<class 'pandas.core.frame.DataFrame'>\n",
      "RangeIndex: 284807 entries, 0 to 284806\n",
      "Data columns (total 31 columns):\n",
      "Time      284807 non-null float64\n",
      "V1        284807 non-null float64\n",
      "V2        284807 non-null float64\n",
      "V3        284807 non-null float64\n",
      "V4        284807 non-null float64\n",
      "V5        284807 non-null float64\n",
      "V6        284807 non-null float64\n",
      "V7        284807 non-null float64\n",
      "V8        284807 non-null float64\n",
      "V9        284807 non-null float64\n",
      "V10       284807 non-null float64\n",
      "V11       284807 non-null float64\n",
      "V12       284807 non-null float64\n",
      "V13       284807 non-null float64\n",
      "V14       284807 non-null float64\n",
      "V15       284807 non-null float64\n",
      "V16       284807 non-null float64\n",
      "V17       284807 non-null float64\n",
      "V18       284807 non-null float64\n",
      "V19       284807 non-null float64\n",
      "V20       284807 non-null float64\n",
      "V21       284807 non-null float64\n",
      "V22       284807 non-null float64\n",
      "V23       284807 non-null float64\n",
      "V24       284807 non-null float64\n",
      "V25       284807 non-null float64\n",
      "V26       284807 non-null float64\n",
      "V27       284807 non-null float64\n",
      "V28       284807 non-null float64\n",
      "Amount    284807 non-null float64\n",
      "Class     284807 non-null int64\n",
      "dtypes: float64(30), int64(1)\n",
      "memory usage: 67.4 MB\n"
     ]
    },
    {
     "data": {
      "text/plain": [
       "(   Time        V1        V2        V3        V4        V5        V6        V7  \\\n",
       " 0   0.0 -1.359807 -0.072781  2.536347  1.378155 -0.338321  0.462388  0.239599   \n",
       " 1   0.0  1.191857  0.266151  0.166480  0.448154  0.060018 -0.082361 -0.078803   \n",
       " 2   1.0 -1.358354 -1.340163  1.773209  0.379780 -0.503198  1.800499  0.791461   \n",
       " 3   1.0 -0.966272 -0.185226  1.792993 -0.863291 -0.010309  1.247203  0.237609   \n",
       " 4   2.0 -1.158233  0.877737  1.548718  0.403034 -0.407193  0.095921  0.592941   \n",
       " \n",
       "          V8        V9  ...       V21       V22       V23       V24       V25  \\\n",
       " 0  0.098698  0.363787  ... -0.018307  0.277838 -0.110474  0.066928  0.128539   \n",
       " 1  0.085102 -0.255425  ... -0.225775 -0.638672  0.101288 -0.339846  0.167170   \n",
       " 2  0.247676 -1.514654  ...  0.247998  0.771679  0.909412 -0.689281 -0.327642   \n",
       " 3  0.377436 -1.387024  ... -0.108300  0.005274 -0.190321 -1.175575  0.647376   \n",
       " 4 -0.270533  0.817739  ... -0.009431  0.798278 -0.137458  0.141267 -0.206010   \n",
       " \n",
       "         V26       V27       V28  Amount  Class  \n",
       " 0 -0.189115  0.133558 -0.021053  149.62      0  \n",
       " 1  0.125895 -0.008983  0.014724    2.69      0  \n",
       " 2 -0.139097 -0.055353 -0.059752  378.66      0  \n",
       " 3 -0.221929  0.062723  0.061458  123.50      0  \n",
       " 4  0.502292  0.219422  0.215153   69.99      0  \n",
       " \n",
       " [5 rows x 31 columns], None)"
      ]
     },
     "execution_count": 10,
     "metadata": {},
     "output_type": "execute_result"
    }
   ],
   "source": [
    "fraud.head(), fraud.info()"
   ]
  },
  {
   "cell_type": "code",
   "execution_count": 11,
   "metadata": {},
   "outputs": [],
   "source": [
    "# 데이터가 많아 일단 10000개로만\n",
    "fraud = fraud.iloc[:10000]"
   ]
  },
  {
   "cell_type": "code",
   "execution_count": 18,
   "metadata": {},
   "outputs": [
    {
     "name": "stdout",
     "output_type": "stream",
     "text": [
      "<class 'pandas.core.frame.DataFrame'>\n",
      "RangeIndex: 10000 entries, 0 to 9999\n",
      "Data columns (total 31 columns):\n",
      "Time      10000 non-null float64\n",
      "V1        10000 non-null float64\n",
      "V2        10000 non-null float64\n",
      "V3        10000 non-null float64\n",
      "V4        10000 non-null float64\n",
      "V5        10000 non-null float64\n",
      "V6        10000 non-null float64\n",
      "V7        10000 non-null float64\n",
      "V8        10000 non-null float64\n",
      "V9        10000 non-null float64\n",
      "V10       10000 non-null float64\n",
      "V11       10000 non-null float64\n",
      "V12       10000 non-null float64\n",
      "V13       10000 non-null float64\n",
      "V14       10000 non-null float64\n",
      "V15       10000 non-null float64\n",
      "V16       10000 non-null float64\n",
      "V17       10000 non-null float64\n",
      "V18       10000 non-null float64\n",
      "V19       10000 non-null float64\n",
      "V20       10000 non-null float64\n",
      "V21       10000 non-null float64\n",
      "V22       10000 non-null float64\n",
      "V23       10000 non-null float64\n",
      "V24       10000 non-null float64\n",
      "V25       10000 non-null float64\n",
      "V26       10000 non-null float64\n",
      "V27       10000 non-null float64\n",
      "V28       10000 non-null float64\n",
      "Amount    10000 non-null float64\n",
      "Class     10000 non-null int64\n",
      "dtypes: float64(30), int64(1)\n",
      "memory usage: 2.4 MB\n"
     ]
    },
    {
     "data": {
      "text/plain": [
       "(None,\n",
       "          Time        V1        V2        V3        V4        V5        V6  \\\n",
       " 9980  14940.0  0.509465  1.906159 -2.579983  1.502234  1.395695 -0.798737   \n",
       " 9981  14941.0 -0.619870  1.077871  1.721085 -0.386582  0.148880 -0.701113   \n",
       " 9982  14951.0  1.113690  0.761906  1.071124  2.757166 -0.101429 -0.306094   \n",
       " 9983  14964.0  0.989131 -0.413148  1.213739  0.746907 -0.739761  0.880300   \n",
       " 9984  14973.0 -1.468494 -0.386998  2.532221  1.455805 -0.779682  0.223008   \n",
       " 9985  14981.0 -1.372980  1.779108  0.994216  0.290827 -0.849137 -1.171900   \n",
       " 9986  14988.0 -1.010979  0.956151  2.080257  0.287531 -0.531395  0.303162   \n",
       " 9987  14989.0 -1.978648  1.866610  0.288459 -0.078206 -0.031190  0.004884   \n",
       " 9988  14989.0  1.214663  0.637900  0.156007  1.329216  0.216616 -0.842642   \n",
       " 9989  14989.0  0.973806  0.711426  1.328342  3.790438  0.011453  0.634382   \n",
       " 9990  14993.0 -0.379366  1.168437 -0.702738  0.566445  1.952919  4.638911   \n",
       " 9991  14993.0  1.040248  0.288967  1.637475  2.943149 -0.687621  0.236391   \n",
       " 9992  14994.0 -1.316901  1.120667  2.358632  1.906761 -0.555747  1.116259   \n",
       " 9993  14995.0 -1.605263  0.242387  0.969782  0.830207 -0.040003 -0.218581   \n",
       " 9994  14997.0  1.057155  0.495355  1.212903  2.548761 -0.105953  0.562292   \n",
       " 9995  15001.0  1.178755  0.596025  0.074131  2.542393  0.450685 -0.179355   \n",
       " 9996  15004.0  1.228455  0.049488  1.022099  0.386471 -0.973228 -1.067822   \n",
       " 9997  15008.0 -0.971734  0.744625  2.334822 -0.408046 -0.999231 -0.629294   \n",
       " 9998  15010.0 -1.529666  1.475870  1.507624 -0.662935 -1.037152 -1.159860   \n",
       " 9999  15012.0 -1.181721  1.485264  1.958715  2.587943 -0.504092 -0.126697   \n",
       " \n",
       "             V7        V8        V9  ...       V21       V22       V23  \\\n",
       " 9980  0.337192  0.328046  0.684846  ... -0.296997 -0.547298 -0.020865   \n",
       " 9981  0.832275 -1.252840  1.041694  ...  0.324220 -1.164163  0.191585   \n",
       " 9982  0.041462 -0.157943  0.344612  ... -0.147852 -0.132536  0.116497   \n",
       " 9983 -1.008515  0.439847  2.027509  ...  0.061873  0.467610 -0.016111   \n",
       " 9984  0.728022 -0.252374  1.606087  ... -0.008112  0.407956  0.029477   \n",
       " 9985 -0.114772  0.704321  0.754796  ... -0.307072 -0.785944  0.137961   \n",
       " 9986  2.224426 -0.731310  1.036223  ... -0.162913  0.198497 -0.293112   \n",
       " 9987 -0.159329  0.634279  0.995529  ...  0.071763  0.129845 -0.112518   \n",
       " 9988  0.447672 -0.368069  0.847978  ... -0.088491  0.126292 -0.074118   \n",
       " 9989 -0.239932  0.184802 -0.205546  ... -0.135772 -0.301673  0.115582   \n",
       " 9990 -1.343602 -2.386661  1.256653  ...  2.713638 -1.681712 -0.059282   \n",
       " 9991 -0.527593  0.021167  1.253196  ... -0.198565 -0.231080  0.006074   \n",
       " 9992 -1.119159 -2.084095  2.143139  ...  1.799586 -1.491249 -0.398756   \n",
       " 9993 -0.469863  0.368113  1.325824  ... -0.092426  0.043721 -0.606645   \n",
       " 9994 -0.414434  0.135318  0.412228  ...  0.089113  0.515654 -0.053050   \n",
       " 9995  0.326365 -0.234949  0.473040  ... -0.228112 -0.561559 -0.182781   \n",
       " 9996 -0.383162 -0.205407  1.699304  ... -0.322912 -0.730294  0.205601   \n",
       " 9997 -0.377212  0.481230  1.599496  ... -0.116821 -0.141219 -0.026115   \n",
       " 9998 -0.303219  0.745766  0.946896  ... -0.197993 -0.634088  0.100631   \n",
       " 9999  0.939038  0.175638 -0.756318  ... -0.010641 -0.191361  0.204004   \n",
       " \n",
       "            V24       V25       V26       V27       V28  Amount  Class  \n",
       " 9980 -1.453961 -0.325941 -0.368778  0.095842 -0.081444    3.99      0  \n",
       " 9981  0.296788 -0.672392 -0.181071 -0.046963 -0.085052   43.98      0  \n",
       " 9982  0.549449  0.293446 -0.119362 -0.010643  0.022410    3.00      0  \n",
       " 9983 -0.316893  0.071272  0.575763 -0.007936  0.004978   50.00      0  \n",
       " 9984  0.336830  0.348735 -0.192956 -0.156246 -0.065935  266.30      0  \n",
       " 9985  0.622579 -0.171850  0.022442  0.106223  0.035918   11.28      0  \n",
       " 9986  0.339782  0.412994 -0.514475 -0.408902 -0.478214  250.00      0  \n",
       " 9987 -0.795549  0.052309  0.373194 -0.759522  0.044774   10.92      0  \n",
       " 9988  0.384059  0.742769 -0.328457 -0.012039  0.006305    1.55      0  \n",
       " 9989  0.126218  0.114643 -0.178601 -0.015711  0.021720   34.06      0  \n",
       " 9990  0.926187  1.123673 -0.157778  0.325793  0.215789   59.00      0  \n",
       " 9991  0.353146  0.288217 -0.090202  0.013341  0.039351   46.43      0  \n",
       " 9992  0.336695 -0.443955 -0.459070  0.399453  0.142167   76.22      0  \n",
       " 9993  0.051769 -0.545443  0.468257 -0.186451 -0.197872   33.35      0  \n",
       " 9994 -0.014731  0.340114  0.066419  0.003253  0.014148   17.44      0  \n",
       " 9995 -0.523241  0.667142  0.015699 -0.067238  0.008709   53.19      0  \n",
       " 9996  0.686302 -0.071008  0.729846 -0.092276  0.012277   12.18      0  \n",
       " 9997  0.712719 -0.372964  0.750323 -0.107875  0.031272    4.05      0  \n",
       " 9998  0.669449 -0.269750  0.611964 -0.169789  0.007846    4.05      0  \n",
       " 9999  0.663928  0.288780 -0.033612 -0.142682  0.028149  159.28      0  \n",
       " \n",
       " [20 rows x 31 columns])"
      ]
     },
     "execution_count": 18,
     "metadata": {},
     "output_type": "execute_result"
    }
   ],
   "source": [
    "fraud.info(), fraud.tail(20)"
   ]
  },
  {
   "cell_type": "code",
   "execution_count": 13,
   "metadata": {},
   "outputs": [
    {
     "data": {
      "text/plain": [
       "0"
      ]
     },
     "execution_count": 13,
     "metadata": {},
     "output_type": "execute_result"
    }
   ],
   "source": [
    "fraud.isna().sum().sum()"
   ]
  },
  {
   "cell_type": "code",
   "execution_count": 17,
   "metadata": {},
   "outputs": [
    {
     "data": {
      "text/plain": [
       "Index(['Time', 'V1', 'V2', 'V3', 'V4', 'V5', 'V6', 'V7', 'V8', 'V9', 'V10',\n",
       "       'V11', 'V12', 'V13', 'V14', 'V15', 'V16', 'V17', 'V18', 'V19', 'V20',\n",
       "       'V21', 'V22', 'V23', 'V24', 'V25', 'V26', 'V27', 'V28', 'Amount',\n",
       "       'Class'],\n",
       "      dtype='object')"
      ]
     },
     "execution_count": 17,
     "metadata": {},
     "output_type": "execute_result"
    }
   ],
   "source": [
    "fraud.columns"
   ]
  },
  {
   "cell_type": "code",
   "execution_count": 20,
   "metadata": {},
   "outputs": [],
   "source": [
    "fraud2 = fraud.set_index('Time')"
   ]
  },
  {
   "cell_type": "code",
   "execution_count": 26,
   "metadata": {},
   "outputs": [],
   "source": [
    "fraud2 = fraud2.drop(columns='Class')"
   ]
  },
  {
   "cell_type": "code",
   "execution_count": 32,
   "metadata": {},
   "outputs": [
    {
     "data": {
      "text/plain": [
       "Index(['V1', 'V2', 'V3', 'V4', 'V5', 'V6', 'V7', 'V8', 'V9', 'V10', 'V11',\n",
       "       'V12', 'V13', 'V14', 'V15', 'V16', 'V17', 'V18', 'V19', 'V20', 'V21',\n",
       "       'V22', 'V23', 'V24', 'V25', 'V26', 'V27', 'V28', 'Amount'],\n",
       "      dtype='object')"
      ]
     },
     "execution_count": 32,
     "metadata": {},
     "output_type": "execute_result"
    }
   ],
   "source": [
    "fraud2.columns"
   ]
  },
  {
   "cell_type": "code",
   "execution_count": 27,
   "metadata": {},
   "outputs": [],
   "source": [
    "pca = PCA(n_components=2).fit(fraud2)"
   ]
  },
  {
   "cell_type": "code",
   "execution_count": 28,
   "metadata": {},
   "outputs": [],
   "source": [
    "x_pca = pca.transform(fraud2)"
   ]
  },
  {
   "cell_type": "code",
   "execution_count": 29,
   "metadata": {},
   "outputs": [
    {
     "data": {
      "image/png": "[encoded data removed]",
      "text/plain": [
       "<Figure size 432x288 with 1 Axes>"
      ]
     },
     "metadata": {
      "needs_background": "light"
     },
     "output_type": "display_data"
    }
   ],
   "source": [
    "# 1. means\n",
    "km = KMeans(n_clusters=2).fit(x_pca) # 2개로 그룹화\n",
    "p1 = km.predict(x_pca)\n",
    "l = mglearn.discrete_scatter(x_pca[:,0],x_pca[:,1], p1)"
   ]
  },
  {
   "cell_type": "code",
   "execution_count": 34,
   "metadata": {},
   "outputs": [
    {
     "data": {
      "image/png": "[encoded data removed]",
      "text/plain": [
       "<Figure size 432x288 with 1 Axes>"
      ]
     },
     "metadata": {
      "needs_background": "light"
     },
     "output_type": "display_data"
    }
   ],
   "source": [
    "# 2. 병합군집\n",
    "model1 = AgglomerativeClustering(n_clusters=2)\n",
    "p2 = model1.fit_predict(x_pca)\n",
    "l = mglearn.discrete_scatter(x_pca[:,0],x_pca[:,1], p2)"
   ]
  },
  {
   "cell_type": "code",
   "execution_count": 38,
   "metadata": {},
   "outputs": [
    {
     "data": {
      "image/png": "[encoded data removed]",
      "text/plain": [
       "<Figure size 432x288 with 1 Axes>"
      ]
     },
     "metadata": {
      "needs_background": "light"
     },
     "output_type": "display_data"
    }
   ],
   "source": [
    "#3. DBSCAN\n",
    "p3 = DBSCAN(eps=2, min_samples=5).fit_predict(x_pca)\n",
    "l = mglearn.discrete_scatter(x_pca[:,0],x_pca[:,1], p3)"
   ]
  },
  {
   "cell_type": "code",
   "execution_count": 39,
   "metadata": {},
   "outputs": [
    {
     "data": {
      "image/png": "[encoded data removed]",
      "text/plain": [
       "<Figure size 432x288 with 1 Axes>"
      ]
     },
     "metadata": {
      "needs_background": "light"
     },
     "output_type": "display_data"
    }
   ],
   "source": [
    "# 정답\n",
    "l = mglearn.discrete_scatter(x_pca[:,0],x_pca[:,1], fraud.iloc[:,-1])"
   ]
  },
  {
   "cell_type": "code",
   "execution_count": 40,
   "metadata": {},
   "outputs": [
    {
     "data": {
      "text/plain": [
       "(            V1        V2        V3        V4        V5        V6        V7  \\\n",
       " Time                                                                         \n",
       " 0.0  -1.359807 -0.072781  2.536347  1.378155 -0.338321  0.462388  0.239599   \n",
       " 0.0   1.191857  0.266151  0.166480  0.448154  0.060018 -0.082361 -0.078803   \n",
       " 1.0  -1.358354 -1.340163  1.773209  0.379780 -0.503198  1.800499  0.791461   \n",
       " 1.0  -0.966272 -0.185226  1.792993 -0.863291 -0.010309  1.247203  0.237609   \n",
       " 2.0  -1.158233  0.877737  1.548718  0.403034 -0.407193  0.095921  0.592941   \n",
       " \n",
       "             V8        V9       V10  ...       V20       V21       V22  \\\n",
       " Time                                ...                                 \n",
       " 0.0   0.098698  0.363787  0.090794  ...  0.251412 -0.018307  0.277838   \n",
       " 0.0   0.085102 -0.255425 -0.166974  ... -0.069083 -0.225775 -0.638672   \n",
       " 1.0   0.247676 -1.514654  0.207643  ...  0.524980  0.247998  0.771679   \n",
       " 1.0   0.377436 -1.387024 -0.054952  ... -0.208038 -0.108300  0.005274   \n",
       " 2.0  -0.270533  0.817739  0.753074  ...  0.408542 -0.009431  0.798278   \n",
       " \n",
       "            V23       V24       V25       V26       V27       V28  Amount  \n",
       " Time                                                                      \n",
       " 0.0  -0.110474  0.066928  0.128539 -0.189115  0.133558 -0.021053  149.62  \n",
       " 0.0   0.101288 -0.339846  0.167170  0.125895 -0.008983  0.014724    2.69  \n",
       " 1.0   0.909412 -0.689281 -0.327642 -0.139097 -0.055353 -0.059752  378.66  \n",
       " 1.0  -0.190321 -1.175575  0.647376 -0.221929  0.062723  0.061458  123.50  \n",
       " 2.0  -0.137458  0.141267 -0.206010  0.502292  0.219422  0.215153   69.99  \n",
       " \n",
       " [5 rows x 29 columns], 0    0\n",
       " 1    0\n",
       " 2    0\n",
       " 3    0\n",
       " 4    0\n",
       " Name: Class, dtype: int64)"
      ]
     },
     "execution_count": 40,
     "metadata": {},
     "output_type": "execute_result"
    }
   ],
   "source": [
    "X = fraud2\n",
    "y = fraud.iloc[:,-1]\n",
    "X.head(), y.head()"
   ]
  },
  {
   "cell_type": "code",
   "execution_count": 41,
   "metadata": {},
   "outputs": [
    {
     "data": {
      "text/plain": [
       "((7500, 29), (2500, 29), (7500,), (2500,))"
      ]
     },
     "execution_count": 41,
     "metadata": {},
     "output_type": "execute_result"
    }
   ],
   "source": [
    "X_train, X_test, y_train, y_test = train_test_split(X,y)\n",
    "X_train.shape, X_test.shape, y_train.shape, y_test.shape"
   ]
  },
  {
   "cell_type": "code",
   "execution_count": 42,
   "metadata": {},
   "outputs": [],
   "source": [
    "model = DecisionTreeClassifier(max_depth=5).fit(X_train,y_train)"
   ]
  },
  {
   "cell_type": "code",
   "execution_count": 43,
   "metadata": {},
   "outputs": [
    {
     "data": {
      "text/plain": [
       "(1.0, 0.9996)"
      ]
     },
     "execution_count": 43,
     "metadata": {},
     "output_type": "execute_result"
    }
   ],
   "source": [
    "model.score(X_train, y_train), model.score(X_test, y_test)"
   ]
  },
  {
   "cell_type": "code",
   "execution_count": 44,
   "metadata": {},
   "outputs": [
    {
     "data": {
      "text/plain": [
       "<BarContainer object of 29 artists>"
      ]
     },
     "execution_count": 44,
     "metadata": {},
     "output_type": "execute_result"
    },
    {
     "data": {
      "image/png": "[encoded data removed]",
      "text/plain": [
       "<Figure size 720x720 with 1 Axes>"
      ]
     },
     "metadata": {
      "needs_background": "light"
     },
     "output_type": "display_data"
    }
   ],
   "source": [
    "plt.figure(figsize=(10,10))\n",
    "plt.barh(X_train.columns, model.feature_importances_)"
   ]
  },
  {
   "cell_type": "code",
   "execution_count": null,
   "metadata": {},
   "outputs": [],
   "source": []
  }
 ],
 "metadata": {
  "kernelspec": {
   "display_name": "Python 3",
   "language": "python",
   "name": "python3"
  },
  "language_info": {
   "codemirror_mode": {
    "name": "ipython",
    "version": 3
   },
   "file_extension": ".py",
   "mimetype": "text/x-python",
   "name": "python",
   "nbconvert_exporter": "python",
   "pygments_lexer": "ipython3",
   "version": "3.7.3"
  }
 },
 "nbformat": 4,
 "nbformat_minor": 2
}
