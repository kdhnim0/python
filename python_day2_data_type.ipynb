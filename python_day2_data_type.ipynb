{
 "cells": [
  {
   "cell_type": "markdown",
   "metadata": {},
   "source": [
    "M은 markdown\n",
    "Y는 Code 셀모드"
   ]
  },
  {
   "cell_type": "code",
   "execution_count": 2,
   "metadata": {},
   "outputs": [
    {
     "data": {
      "text/plain": [
       "(1, 2, 3, 'a', 'bb')"
      ]
     },
     "execution_count": 2,
     "metadata": {},
     "output_type": "execute_result"
    }
   ],
   "source": [
    "# 튜플 (요소, 요소, ......), 특징 : 수정불가능\n",
    "# 용도, 함수의 리턴이 복수개일때 튜플로 반환됩니다.\n",
    "t = (1,2,3, 'a', 'bb')\n",
    "t"
   ]
  },
  {
   "cell_type": "code",
   "execution_count": 5,
   "metadata": {},
   "outputs": [
    {
     "data": {
      "text/plain": [
       "3"
      ]
     },
     "execution_count": 5,
     "metadata": {},
     "output_type": "execute_result"
    }
   ],
   "source": [
    "t.index('a') # a가 어디에 있는가"
   ]
  },
  {
   "cell_type": "code",
   "execution_count": 4,
   "metadata": {},
   "outputs": [
    {
     "data": {
      "text/plain": [
       "1"
      ]
     },
     "execution_count": 4,
     "metadata": {},
     "output_type": "execute_result"
    }
   ],
   "source": [
    "t.count(1) # 1이 몇개 있는"
   ]
  },
  {
   "cell_type": "code",
   "execution_count": 6,
   "metadata": {},
   "outputs": [
    {
     "data": {
      "text/plain": [
       "{1, 2, 3, 'a', 'bb'}"
      ]
     },
     "execution_count": 6,
     "metadata": {},
     "output_type": "execute_result"
    }
   ],
   "source": [
    "# set 중복, 순서가 없다. value 없는 map과 비슷\n",
    "s = set(t) # t를 set으로 변환해라\n",
    "s"
   ]
  },
  {
   "cell_type": "code",
   "execution_count": 7,
   "metadata": {},
   "outputs": [
    {
     "data": {
      "text/plain": [
       "{1, 2, 3, 'a', 'bb'}"
      ]
     },
     "execution_count": 7,
     "metadata": {},
     "output_type": "execute_result"
    }
   ],
   "source": [
    "s.add(1)\n",
    "s\n"
   ]
  },
  {
   "cell_type": "code",
   "execution_count": 8,
   "metadata": {},
   "outputs": [
    {
     "data": {
      "text/plain": [
       "[1, 2, 3, 'bb', 'a']"
      ]
     },
     "execution_count": 8,
     "metadata": {},
     "output_type": "execute_result"
    }
   ],
   "source": [
    "l = list(s) # list로 변환해라\n",
    "l"
   ]
  },
  {
   "cell_type": "code",
   "execution_count": 42,
   "metadata": {},
   "outputs": [
    {
     "name": "stdout",
     "output_type": "stream",
     "text": [
      "6\n",
      "abbccc\n"
     ]
    }
   ],
   "source": [
    "#def 함수명(): \n",
    "#       코드\n",
    "def add_3(a,b=10,c=1): #기본값 인\n",
    "    '''\n",
    "    add function (문서화 : 이 함수는 값 3개를 더해서 리터합니다.)\n",
    "    작성자 : fs 2019.06.12\n",
    "    '''\n",
    "    return a+b+c\n",
    "print(add_3(1,2,3))\n",
    "print(add_3('a','bb','ccc'))"
   ]
  },
  {
   "cell_type": "code",
   "execution_count": 43,
   "metadata": {},
   "outputs": [],
   "source": [
    "# return이 없는 함수\n",
    "import math\n",
    "def check_nan(x):\n",
    "    if math.isnan(x): # nan : not a number 숫자가 아니라. 0으로 나누거나 할때 발생\n",
    "        print(x, '는 nan입네다')\n",
    "    else:\n",
    "        print(x, '는 숫자입니더')\n"
   ]
  },
  {
   "cell_type": "code",
   "execution_count": 44,
   "metadata": {},
   "outputs": [
    {
     "name": "stdout",
     "output_type": "stream",
     "text": [
      "100 는 숫자입니더\n"
     ]
    }
   ],
   "source": [
    "check_nan(100)"
   ]
  },
  {
   "cell_type": "code",
   "execution_count": 45,
   "metadata": {},
   "outputs": [
    {
     "data": {
      "text/plain": [
       "(int, float, str)"
      ]
     },
     "execution_count": 45,
     "metadata": {},
     "output_type": "execute_result"
    }
   ],
   "source": [
    "type(3), type(3.14), type('aa')"
   ]
  },
  {
   "cell_type": "code",
   "execution_count": 46,
   "metadata": {},
   "outputs": [
    {
     "data": {
      "text/plain": [
       "array([6, 7, 8, 9])"
      ]
     },
     "execution_count": 46,
     "metadata": {},
     "output_type": "execute_result"
    }
   ],
   "source": [
    "import numpy as np\n",
    "add_3(1,2,np.array([3,4,5,6]))"
   ]
  },
  {
   "cell_type": "code",
   "execution_count": 47,
   "metadata": {},
   "outputs": [
    {
     "data": {
      "text/plain": [
       "31"
      ]
     },
     "execution_count": 47,
     "metadata": {},
     "output_type": "execute_result"
    }
   ],
   "source": [
    "add_3(10,20)"
   ]
  },
  {
   "cell_type": "code",
   "execution_count": 48,
   "metadata": {},
   "outputs": [
    {
     "data": {
      "text/plain": [
       "16"
      ]
     },
     "execution_count": 48,
     "metadata": {},
     "output_type": "execute_result"
    }
   ],
   "source": [
    "add_3(5) # 기본값인자는 뒷쪽부터 놓을수 있다."
   ]
  },
  {
   "cell_type": "code",
   "execution_count": 49,
   "metadata": {},
   "outputs": [
    {
     "data": {
      "text/plain": [
       "(111, 31)"
      ]
     },
     "execution_count": 49,
     "metadata": {},
     "output_type": "execute_result"
    }
   ],
   "source": [
    "add_3(a=100), add_3(a=10, b=20) # 가독성"
   ]
  },
  {
   "cell_type": "code",
   "execution_count": 145,
   "metadata": {},
   "outputs": [],
   "source": [
    "import random\n",
    "class Lotto:\n",
    "    '''\n",
    "    45개 전후의 숫자 중 6개를 맞추는 게임 : 1등 1~45의 숫\n",
    "    '''\n",
    "    def __init__(self): # 함수의 첫번째 인자로 self를 넣어줍니다. JAVA의 this에 해당\n",
    "        print(\"로또 정답 생성자\")\n",
    "        self.target = []\n",
    "        self.back = []\n",
    "        for i in range(5):\n",
    "            v = random.randint(1,45) #중복 번호가 나오면 다시 뽑기를 구현해주세요\n",
    "            while(v in self.target):\n",
    "                print(\"중복\",v)\n",
    "                v = random.randint(1,45)\n",
    "            self.target.append(v)\n",
    "            self.back.append(v)\n",
    "            print(v)\n",
    "        print(self.target)\n",
    "                \n",
    "\n",
    "    def select(self, nums):\n",
    "        print('정답', self.target, '예측', nums)\n",
    "        k=0\n",
    "        for i in range(5):\n",
    "                if nums[i] in self.target:\n",
    "                    k += 1 # 파이썬은 ++, -- 증감연산자가 없습니다.\n",
    "        if k==5:\n",
    "            print('1등 당첨되셨습니다')\n",
    "        elif k>=1:\n",
    "            print('축하합니다',k,'개 맞췄습니다.')\n",
    "        else:\n",
    "            print(\"꽝입니다. 하나도 못맞췄습니다.\")"
   ]
  },
  {
   "cell_type": "code",
   "execution_count": 146,
   "metadata": {},
   "outputs": [
    {
     "name": "stdout",
     "output_type": "stream",
     "text": [
      "로또 정답 생성자\n",
      "7\n",
      "22\n",
      "19\n",
      "2\n",
      "44\n",
      "[7, 22, 19, 2, 44]\n",
      "<__main__.Lotto object at 0x000001BBC998EA20>\n"
     ]
    }
   ],
   "source": [
    "#객체(인스턴스) 생성 방법 : 클래스이름()\n",
    "lotto1 = Lotto()\n",
    "print(lotto1)\n",
    "\n",
    "\n"
   ]
  },
  {
   "cell_type": "code",
   "execution_count": 147,
   "metadata": {},
   "outputs": [
    {
     "name": "stdout",
     "output_type": "stream",
     "text": [
      "정답 [7, 22, 19, 2, 44] 예측 [7, 22, 19, 2, 44]\n",
      "1등 당첨되셨습니다\n",
      "None\n",
      "[7, 22, 19, 2, 44]\n"
     ]
    }
   ],
   "source": [
    "#게임참여. 내가 숫자 5개를 선택하면 축하합니다. x개를 맞췄습니다. 꽝입니다. 하나도 못맞춤\n",
    "print(lotto1.select(lotto1.target))\n",
    "print(lotto1.back)"
   ]
  },
  {
   "cell_type": "code",
   "execution_count": 148,
   "metadata": {},
   "outputs": [],
   "source": [
    "my_nums=[[33,9,44,5,13], [10,20,30,40,33], [1,2,3,4,5], [6,7,8,9,10]]\n",
    "len(my_nums), my_nums[0] # len만큼 반복해서 lotto1.select 함수를 호출\n",
    "my_nums.append(lotto1.back)"
   ]
  },
  {
   "cell_type": "code",
   "execution_count": 149,
   "metadata": {},
   "outputs": [
    {
     "name": "stdout",
     "output_type": "stream",
     "text": [
      "정답 [7, 22, 19, 2, 44] 예측 [33, 9, 44, 5, 13]\n",
      "축하합니다 1 개 맞췄습니다.\n",
      "정답 [7, 22, 19, 2, 44] 예측 [10, 20, 30, 40, 33]\n",
      "꽝입니다. 하나도 못맞췄습니다.\n",
      "정답 [7, 22, 19, 2, 44] 예측 [1, 2, 3, 4, 5]\n",
      "축하합니다 1 개 맞췄습니다.\n",
      "정답 [7, 22, 19, 2, 44] 예측 [6, 7, 8, 9, 10]\n",
      "축하합니다 1 개 맞췄습니다.\n",
      "정답 [7, 22, 19, 2, 44] 예측 [7, 22, 19, 2, 44]\n",
      "1등 당첨되셨습니다\n"
     ]
    }
   ],
   "source": [
    "for i in range(len(my_nums)):\n",
    "    lotto1.select(my_nums[i])"
   ]
  },
  {
   "cell_type": "code",
   "execution_count": null,
   "metadata": {},
   "outputs": [],
   "source": []
  }
 ],
 "metadata": {
  "kernelspec": {
   "display_name": "Python 3",
   "language": "python",
   "name": "python3"
  },
  "language_info": {
   "codemirror_mode": {
    "name": "ipython",
    "version": 3
   },
   "file_extension": ".py",
   "mimetype": "text/x-python",
   "name": "python",
   "nbconvert_exporter": "python",
   "pygments_lexer": "ipython3",
   "version": "3.7.3"
  }
 },
 "nbformat": 4,
 "nbformat_minor": 2
}
