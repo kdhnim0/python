{
 "cells": [
  {
   "cell_type": "markdown",
   "metadata": {},
   "source": [
    "- 단축키 esc / enter : 명령 모드/수정모드\n",
    "- RUN : ctrl/shift/alr + enter\n",
    "- 셀 지우기 : x\n",
    "- 코드 : Y, 마크업 : M"
   ]
  },
  {
   "cell_type": "markdown",
   "metadata": {},
   "source": [
    "파이썬 특징\n",
    "- 빌드 없이 바로 실행하는 인터프리터, 스크립트"
   ]
  },
  {
   "cell_type": "markdown",
   "metadata": {},
   "source": [
    "연산자\n",
    " : + - * /\n",
    " \n",
    " "
   ]
  },
  {
   "cell_type": "code",
   "execution_count": 35,
   "metadata": {},
   "outputs": [
    {
     "data": {
      "text/plain": [
       "(4, 3, 1, 1.5, 1, 27)"
      ]
     },
     "execution_count": 35,
     "metadata": {},
     "output_type": "execute_result"
    }
   ],
   "source": [
    "# // 몫만 정수로 , ** 승수\n",
    "1+3, 1*3, 2-1, 3/2, 3//3, 3**3"
   ]
  },
  {
   "cell_type": "code",
   "execution_count": 36,
   "metadata": {},
   "outputs": [
    {
     "data": {
      "text/plain": [
       "True"
      ]
     },
     "execution_count": 36,
     "metadata": {},
     "output_type": "execute_result"
    }
   ],
   "source": [
    "# 논리연산자\n",
    "# 여러줄 주석 '''''', \"\"\"\"\"\"\n",
    "'''\n",
    "&& and\n",
    "|| or\n",
    "! not\n",
    "'''\n",
    "True or False\n"
   ]
  },
  {
   "cell_type": "code",
   "execution_count": 37,
   "metadata": {},
   "outputs": [
    {
     "name": "stdout",
     "output_type": "stream",
     "text": [
      "5>3\n",
      "5>3\n"
     ]
    }
   ],
   "source": [
    "#조건문, 보통 소괄호 없이 사용합니다, \n",
    "if 5>3:\n",
    "    print('5>3')\n",
    "if (5>3):\n",
    "    print('5>3')"
   ]
  },
  {
   "cell_type": "code",
   "execution_count": 38,
   "metadata": {},
   "outputs": [
    {
     "name": "stdout",
     "output_type": "stream",
     "text": [
      "0\n",
      "1\n",
      "2\n"
     ]
    }
   ],
   "source": [
    "#반복문 기존 : 3항 연산자 반홍문이 없다!1\n",
    "# for (int i=0; i<3; i++){}\n",
    "for i in range(3): # 향상된 for문이라고 불리던 반복문\n",
    "    print(i)"
   ]
  },
  {
   "cell_type": "code",
   "execution_count": 39,
   "metadata": {},
   "outputs": [
    {
     "name": "stdout",
     "output_type": "stream",
     "text": [
      "0.225870864561873\n",
      "0.36995183380380336\n",
      "0.5744865566681415\n",
      "0.7460676773846733\n",
      "0.672908970079472\n",
      "0.8057141796623151\n",
      "0.5661621855081764\n",
      "0.9594525109464055\n",
      "0.1552801387562347\n",
      "0.5183872522529672\n",
      "0.6933502737555842\n",
      "0.7725607611487266\n",
      "0.47813819919299205\n",
      "0.8236279451375442\n",
      "0.13502490060484518\n",
      "0.2546997626551145\n",
      "0.1756508185265444\n",
      "0.3095341552369275\n",
      "0.40713449690823567\n",
      "0.5769878703937895\n",
      "0.39927944562644124\n",
      "0.32451646513170407\n",
      "0.8253642625791227\n",
      "0.44846275534890223\n",
      "0.2046406547232451\n",
      "0.6853888874709246\n",
      "0.4374405247880767\n",
      "0.9404976231136116\n",
      "0.9464672398289221\n",
      "0.07660343445355189\n"
     ]
    }
   ],
   "source": [
    "# for 지정된 횟수만큼 반복 while 조건을 만족할때까지 반복\n",
    "import random\n",
    "# 0~1 랜덤값을 생성하는데 0.1보다 작은 값을 얻겠다.\n",
    "while (True):\n",
    "    v = random.random()\n",
    "    print(v)\n",
    "    if v<0.1:\n",
    "        break"
   ]
  },
  {
   "cell_type": "code",
   "execution_count": 40,
   "metadata": {},
   "outputs": [],
   "source": [
    "#함수\n",
    "'''\n",
    "기존\n",
    "int add(int a, int b){\n",
    "    return a+b;\n",
    "}\n",
    "string add(string a, string b){\n",
    "    return string.fromat('{0}{1}',a,b);\n",
    "}\n",
    "'''\n",
    "# 셀 하나에 함수를 정의하는 것이 깨끗합니다.\n",
    "def add(a,b):\n",
    "    return a+b"
   ]
  },
  {
   "cell_type": "code",
   "execution_count": 41,
   "metadata": {},
   "outputs": [
    {
     "data": {
      "text/plain": [
       "(4, 4.8, 'abc123')"
      ]
     },
     "execution_count": 41,
     "metadata": {},
     "output_type": "execute_result"
    }
   ],
   "source": [
    "add(1,3), add(1.5, 3.3), add('abc','123')"
   ]
  },
  {
   "cell_type": "code",
   "execution_count": 42,
   "metadata": {},
   "outputs": [],
   "source": [
    "#클래스, 셀 하나에 정의하세요\n",
    "class Lotto:\n",
    "    def __init__(self, k): # 생성자\n",
    "        #nums = [] # 지역변수(함수 실행 완료되면 사라집니다.)\n",
    "        self.nums = [] # 클래스변수\n",
    "        for i in range(k):\n",
    "            self.nums.append(random.randint(1,45))\n",
    "        print(self.nums)"
   ]
  },
  {
   "cell_type": "code",
   "execution_count": 43,
   "metadata": {},
   "outputs": [
    {
     "name": "stdout",
     "output_type": "stream",
     "text": [
      "[28, 25, 23]\n",
      "[9, 22, 25, 11, 39]\n"
     ]
    }
   ],
   "source": [
    "# 객체 생성\n",
    "lotto1 = Lotto(3)\n",
    "lotto2 = Lotto(5)"
   ]
  },
  {
   "cell_type": "code",
   "execution_count": 44,
   "metadata": {},
   "outputs": [
    {
     "data": {
      "text/plain": [
       "[9, 22, 25, 11, 39]"
      ]
     },
     "execution_count": 44,
     "metadata": {},
     "output_type": "execute_result"
    }
   ],
   "source": [
    "#클래스 변수를 .으로 접근해서 사용할 수 있습니다.\n",
    "lotto2.nums"
   ]
  },
  {
   "cell_type": "markdown",
   "metadata": {},
   "source": [
    "데이터 타입,\n",
    "- 딕셔너리 {키:값, 키:값...}       ! 엑셀의 컬럼 이름:키, 컬럼의 값들:값\n",
    "- 리스트 [값, 값, 값...] 수정가능  ! 언제든지 편리하게 데이터를 저장\n",
    "- 튜플 (값, 값, 값) 수정불가능     ! 함수에서 값들을 여러개 리턴할때"
   ]
  },
  {
   "cell_type": "code",
   "execution_count": 45,
   "metadata": {},
   "outputs": [
    {
     "data": {
      "text/plain": [
       "({'age': 30, 'city': 'Seoul'},\n",
       " [10, 'a', 'city', [1, 2, 3]],\n",
       " (10, 'a', 'city', [1, 2, 3]))"
      ]
     },
     "execution_count": 45,
     "metadata": {},
     "output_type": "execute_result"
    }
   ],
   "source": [
    "d = {'age':30, 'city':'Seoul'}\n",
    "l = [10, 'a', 'city', [1,2,3]]\n",
    "t = (10, 'a', 'city', [1,2,3])\n",
    "d, l, t"
   ]
  },
  {
   "cell_type": "code",
   "execution_count": 46,
   "metadata": {},
   "outputs": [
    {
     "data": {
      "text/plain": [
       "(10, 10, [1, 2, 3], ['a', 'city'])"
      ]
     },
     "execution_count": 46,
     "metadata": {},
     "output_type": "execute_result"
    }
   ],
   "source": [
    "# 인덱스 ,인덱싱\n",
    "# 0을 인덱스라고 하고 반드시 정수여야 합니다.\n",
    "# 인덱스로 값을 꺼내는 것을 인덱싱한다고 함니다.\n",
    "# -1 뒤에서 첫번째 위치\n",
    "# [시작위치 : 끝 위치(전까지)], [생략:생략]\n",
    "l[0], t[0], l[-1], l[1:3]"
   ]
  },
  {
   "cell_type": "code",
   "execution_count": null,
   "metadata": {},
   "outputs": [],
   "source": []
  }
 ],
 "metadata": {
  "kernelspec": {
   "display_name": "Python 3",
   "language": "python",
   "name": "python3"
  },
  "language_info": {
   "codemirror_mode": {
    "name": "ipython",
    "version": 3
   },
   "file_extension": ".py",
   "mimetype": "text/x-python",
   "name": "python",
   "nbconvert_exporter": "python",
   "pygments_lexer": "ipython3",
   "version": "3.7.3"
  }
 },
 "nbformat": 4,
 "nbformat_minor": 2
}
