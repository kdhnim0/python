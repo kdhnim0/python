{
 "cells": [
  {
   "cell_type": "code",
   "execution_count": 1,
   "metadata": {},
   "outputs": [],
   "source": [
    "import numpy as np\n",
    "import pandas as pd\n",
    "import matplotlib.pyplot as plt\n",
    "import mglearn\n",
    "\n",
    "from sklearn.model_selection import train_test_split \n",
    "\n",
    "from sklearn.neighbors import KNeighborsClassifier\n",
    "from sklearn.linear_model import LinearRegression, LogisticRegression ,Ridge #  LinearRegression, Ridge 예측, LogisticRegression 분류\n",
    "\n",
    "from sklearn.tree import DecisionTreeClassifier\n",
    "from sklearn.ensemble import RandomForestClassifier, GradientBoostingClassifier\n",
    "from sklearn.svm import SVC, SVR #분류/예측\n",
    "\n",
    "from sklearn.manifold import TSNE\n",
    "from sklearn.decomposition import PCA\n",
    "from sklearn.cluster import AgglomerativeClustering, KMeans, DBSCAN\n",
    "\n",
    "from sklearn.model_selection import cross_val_score, cross_validate, GridSearchCV\n",
    "from sklearn.metrics import classification_report, confusion_matrix \n",
    "\n",
    "\n",
    "from sklearn.tree import export_graphviz\n",
    "import graphviz\n",
    "import os\n",
    "os.environ['PATH'] += os.pathsep + 'C:\\\\Program Files (x86)\\\\Graphviz2.38\\\\bin\\\\'"
   ]
  },
  {
   "cell_type": "markdown",
   "metadata": {},
   "source": [
    "1. stock market prediction > regression\n",
    "   input : 한국 KOSPI + 미국 DJIA 검색\n",
    "   output : KOSPI 미래의 1개월간(1일)의 종가 예측\n",
    "   - KOSPI : https://finance.naver.com/sise/sise_index_day.nhn?code=KOSPI&page=##\n",
    "   - DJIA : https://finance.yahoo.com/quote/%5EDJI/history?period1=1531810422&period2=1563346422&interval=1d&filter=history&frequency=1d\n",
    "      > 다운로드 받아서 사용으로 대체\n",
    "   - 2018.07.17 ~ 현재까지 1년치 데이터 사용"
   ]
  },
  {
   "cell_type": "code",
   "execution_count": 2,
   "metadata": {},
   "outputs": [],
   "source": [
    "kospi_url='https://finance.naver.com/sise/sise_index_day.nhn?code=KOSPI&page='"
   ]
  },
  {
   "cell_type": "code",
   "execution_count": 3,
   "metadata": {},
   "outputs": [
    {
     "data": {
      "text/html": [
       "<div>\n",
       "<style scoped>\n",
       "    .dataframe tbody tr th:only-of-type {\n",
       "        vertical-align: middle;\n",
       "    }\n",
       "\n",
       "    .dataframe tbody tr th {\n",
       "        vertical-align: top;\n",
       "    }\n",
       "\n",
       "    .dataframe thead th {\n",
       "        text-align: right;\n",
       "    }\n",
       "</style>\n",
       "<table border=\"1\" class=\"dataframe\">\n",
       "  <thead>\n",
       "    <tr style=\"text-align: right;\">\n",
       "      <th></th>\n",
       "      <th>날짜</th>\n",
       "      <th>체결가</th>\n",
       "      <th>전일비</th>\n",
       "      <th>등락률</th>\n",
       "      <th>거래량(천주)</th>\n",
       "      <th>거래대금(백만)</th>\n",
       "    </tr>\n",
       "  </thead>\n",
       "  <tbody>\n",
       "    <tr>\n",
       "      <th>0</th>\n",
       "      <td>NaN</td>\n",
       "      <td>NaN</td>\n",
       "      <td>NaN</td>\n",
       "      <td>NaN</td>\n",
       "      <td>NaN</td>\n",
       "      <td>NaN</td>\n",
       "    </tr>\n",
       "    <tr>\n",
       "      <th>1</th>\n",
       "      <td>2019.07.17</td>\n",
       "      <td>2072.92</td>\n",
       "      <td>18.95</td>\n",
       "      <td>-0.91%</td>\n",
       "      <td>752119.0</td>\n",
       "      <td>4549215.0</td>\n",
       "    </tr>\n",
       "    <tr>\n",
       "      <th>2</th>\n",
       "      <td>2019.07.16</td>\n",
       "      <td>2091.87</td>\n",
       "      <td>9.39</td>\n",
       "      <td>+0.45%</td>\n",
       "      <td>674500.0</td>\n",
       "      <td>5158374.0</td>\n",
       "    </tr>\n",
       "    <tr>\n",
       "      <th>3</th>\n",
       "      <td>2019.07.15</td>\n",
       "      <td>2082.48</td>\n",
       "      <td>4.18</td>\n",
       "      <td>-0.20%</td>\n",
       "      <td>455075.0</td>\n",
       "      <td>3656611.0</td>\n",
       "    </tr>\n",
       "    <tr>\n",
       "      <th>4</th>\n",
       "      <td>NaN</td>\n",
       "      <td>NaN</td>\n",
       "      <td>NaN</td>\n",
       "      <td>NaN</td>\n",
       "      <td>NaN</td>\n",
       "      <td>NaN</td>\n",
       "    </tr>\n",
       "    <tr>\n",
       "      <th>5</th>\n",
       "      <td>NaN</td>\n",
       "      <td>NaN</td>\n",
       "      <td>NaN</td>\n",
       "      <td>NaN</td>\n",
       "      <td>NaN</td>\n",
       "      <td>NaN</td>\n",
       "    </tr>\n",
       "    <tr>\n",
       "      <th>6</th>\n",
       "      <td>NaN</td>\n",
       "      <td>NaN</td>\n",
       "      <td>NaN</td>\n",
       "      <td>NaN</td>\n",
       "      <td>NaN</td>\n",
       "      <td>NaN</td>\n",
       "    </tr>\n",
       "    <tr>\n",
       "      <th>7</th>\n",
       "      <td>NaN</td>\n",
       "      <td>NaN</td>\n",
       "      <td>NaN</td>\n",
       "      <td>NaN</td>\n",
       "      <td>NaN</td>\n",
       "      <td>NaN</td>\n",
       "    </tr>\n",
       "    <tr>\n",
       "      <th>8</th>\n",
       "      <td>2019.07.12</td>\n",
       "      <td>2086.66</td>\n",
       "      <td>6.08</td>\n",
       "      <td>+0.29%</td>\n",
       "      <td>398353.0</td>\n",
       "      <td>3714594.0</td>\n",
       "    </tr>\n",
       "    <tr>\n",
       "      <th>9</th>\n",
       "      <td>2019.07.11</td>\n",
       "      <td>2080.58</td>\n",
       "      <td>21.80</td>\n",
       "      <td>+1.06%</td>\n",
       "      <td>368242.0</td>\n",
       "      <td>4934006.0</td>\n",
       "    </tr>\n",
       "    <tr>\n",
       "      <th>10</th>\n",
       "      <td>2019.07.10</td>\n",
       "      <td>2058.78</td>\n",
       "      <td>6.75</td>\n",
       "      <td>+0.33%</td>\n",
       "      <td>350018.0</td>\n",
       "      <td>3867014.0</td>\n",
       "    </tr>\n",
       "    <tr>\n",
       "      <th>11</th>\n",
       "      <td>NaN</td>\n",
       "      <td>NaN</td>\n",
       "      <td>NaN</td>\n",
       "      <td>NaN</td>\n",
       "      <td>NaN</td>\n",
       "      <td>NaN</td>\n",
       "    </tr>\n",
       "    <tr>\n",
       "      <th>12</th>\n",
       "      <td>NaN</td>\n",
       "      <td>NaN</td>\n",
       "      <td>NaN</td>\n",
       "      <td>NaN</td>\n",
       "      <td>NaN</td>\n",
       "      <td>NaN</td>\n",
       "    </tr>\n",
       "  </tbody>\n",
       "</table>\n",
       "</div>"
      ],
      "text/plain": [
       "            날짜      체결가    전일비     등락률   거래량(천주)   거래대금(백만)\n",
       "0          NaN      NaN    NaN     NaN       NaN        NaN\n",
       "1   2019.07.17  2072.92  18.95  -0.91%  752119.0  4549215.0\n",
       "2   2019.07.16  2091.87   9.39  +0.45%  674500.0  5158374.0\n",
       "3   2019.07.15  2082.48   4.18  -0.20%  455075.0  3656611.0\n",
       "4          NaN      NaN    NaN     NaN       NaN        NaN\n",
       "5          NaN      NaN    NaN     NaN       NaN        NaN\n",
       "6          NaN      NaN    NaN     NaN       NaN        NaN\n",
       "7          NaN      NaN    NaN     NaN       NaN        NaN\n",
       "8   2019.07.12  2086.66   6.08  +0.29%  398353.0  3714594.0\n",
       "9   2019.07.11  2080.58  21.80  +1.06%  368242.0  4934006.0\n",
       "10  2019.07.10  2058.78   6.75  +0.33%  350018.0  3867014.0\n",
       "11         NaN      NaN    NaN     NaN       NaN        NaN\n",
       "12         NaN      NaN    NaN     NaN       NaN        NaN"
      ]
     },
     "execution_count": 3,
     "metadata": {},
     "output_type": "execute_result"
    }
   ],
   "source": [
    "tables = pd.read_html(kospi_url+'1')\n",
    "tables[0]"
   ]
  },
  {
   "cell_type": "code",
   "execution_count": 4,
   "metadata": {},
   "outputs": [
    {
     "data": {
      "text/plain": [
       "41"
      ]
     },
     "execution_count": 4,
     "metadata": {},
     "output_type": "execute_result"
    }
   ],
   "source": [
    "kospis = []\n",
    "max_num = 42\n",
    "for i in range(1,max_num):\n",
    "    tables = pd.read_html(kospi_url+str(i))\n",
    "    kospi = tables[0]\n",
    "    kospis.append(kospi)\n",
    "len(kospis)"
   ]
  },
  {
   "cell_type": "code",
   "execution_count": 5,
   "metadata": {},
   "outputs": [
    {
     "data": {
      "text/plain": [
       "(533, 6)"
      ]
     },
     "execution_count": 5,
     "metadata": {},
     "output_type": "execute_result"
    }
   ],
   "source": [
    "kospi = pd.concat(kospis, axis=0)\n",
    "kospi.shape"
   ]
  },
  {
   "cell_type": "code",
   "execution_count": 6,
   "metadata": {},
   "outputs": [
    {
     "data": {
      "text/html": [
       "<div>\n",
       "<style scoped>\n",
       "    .dataframe tbody tr th:only-of-type {\n",
       "        vertical-align: middle;\n",
       "    }\n",
       "\n",
       "    .dataframe tbody tr th {\n",
       "        vertical-align: top;\n",
       "    }\n",
       "\n",
       "    .dataframe thead th {\n",
       "        text-align: right;\n",
       "    }\n",
       "</style>\n",
       "<table border=\"1\" class=\"dataframe\">\n",
       "  <thead>\n",
       "    <tr style=\"text-align: right;\">\n",
       "      <th></th>\n",
       "      <th>날짜</th>\n",
       "      <th>체결가</th>\n",
       "      <th>전일비</th>\n",
       "      <th>등락률</th>\n",
       "      <th>거래량(천주)</th>\n",
       "      <th>거래대금(백만)</th>\n",
       "    </tr>\n",
       "  </thead>\n",
       "  <tbody>\n",
       "    <tr>\n",
       "      <th>3</th>\n",
       "      <td>2018.07.20</td>\n",
       "      <td>2289.19</td>\n",
       "      <td>6.90</td>\n",
       "      <td>+0.30%</td>\n",
       "      <td>346880.0</td>\n",
       "      <td>4839036.0</td>\n",
       "    </tr>\n",
       "    <tr>\n",
       "      <th>4</th>\n",
       "      <td>NaN</td>\n",
       "      <td>NaN</td>\n",
       "      <td>NaN</td>\n",
       "      <td>NaN</td>\n",
       "      <td>NaN</td>\n",
       "      <td>NaN</td>\n",
       "    </tr>\n",
       "    <tr>\n",
       "      <th>5</th>\n",
       "      <td>NaN</td>\n",
       "      <td>NaN</td>\n",
       "      <td>NaN</td>\n",
       "      <td>NaN</td>\n",
       "      <td>NaN</td>\n",
       "      <td>NaN</td>\n",
       "    </tr>\n",
       "    <tr>\n",
       "      <th>6</th>\n",
       "      <td>NaN</td>\n",
       "      <td>NaN</td>\n",
       "      <td>NaN</td>\n",
       "      <td>NaN</td>\n",
       "      <td>NaN</td>\n",
       "      <td>NaN</td>\n",
       "    </tr>\n",
       "    <tr>\n",
       "      <th>7</th>\n",
       "      <td>NaN</td>\n",
       "      <td>NaN</td>\n",
       "      <td>NaN</td>\n",
       "      <td>NaN</td>\n",
       "      <td>NaN</td>\n",
       "      <td>NaN</td>\n",
       "    </tr>\n",
       "    <tr>\n",
       "      <th>8</th>\n",
       "      <td>2018.07.19</td>\n",
       "      <td>2282.29</td>\n",
       "      <td>7.82</td>\n",
       "      <td>-0.34%</td>\n",
       "      <td>458752.0</td>\n",
       "      <td>5346881.0</td>\n",
       "    </tr>\n",
       "    <tr>\n",
       "      <th>9</th>\n",
       "      <td>2018.07.18</td>\n",
       "      <td>2290.11</td>\n",
       "      <td>7.81</td>\n",
       "      <td>-0.34%</td>\n",
       "      <td>395774.0</td>\n",
       "      <td>4838320.0</td>\n",
       "    </tr>\n",
       "    <tr>\n",
       "      <th>10</th>\n",
       "      <td>2018.07.17</td>\n",
       "      <td>2297.92</td>\n",
       "      <td>4.07</td>\n",
       "      <td>-0.18%</td>\n",
       "      <td>365351.0</td>\n",
       "      <td>4696497.0</td>\n",
       "    </tr>\n",
       "    <tr>\n",
       "      <th>11</th>\n",
       "      <td>NaN</td>\n",
       "      <td>NaN</td>\n",
       "      <td>NaN</td>\n",
       "      <td>NaN</td>\n",
       "      <td>NaN</td>\n",
       "      <td>NaN</td>\n",
       "    </tr>\n",
       "    <tr>\n",
       "      <th>12</th>\n",
       "      <td>NaN</td>\n",
       "      <td>NaN</td>\n",
       "      <td>NaN</td>\n",
       "      <td>NaN</td>\n",
       "      <td>NaN</td>\n",
       "      <td>NaN</td>\n",
       "    </tr>\n",
       "  </tbody>\n",
       "</table>\n",
       "</div>"
      ],
      "text/plain": [
       "            날짜      체결가   전일비     등락률   거래량(천주)   거래대금(백만)\n",
       "3   2018.07.20  2289.19  6.90  +0.30%  346880.0  4839036.0\n",
       "4          NaN      NaN   NaN     NaN       NaN        NaN\n",
       "5          NaN      NaN   NaN     NaN       NaN        NaN\n",
       "6          NaN      NaN   NaN     NaN       NaN        NaN\n",
       "7          NaN      NaN   NaN     NaN       NaN        NaN\n",
       "8   2018.07.19  2282.29  7.82  -0.34%  458752.0  5346881.0\n",
       "9   2018.07.18  2290.11  7.81  -0.34%  395774.0  4838320.0\n",
       "10  2018.07.17  2297.92  4.07  -0.18%  365351.0  4696497.0\n",
       "11         NaN      NaN   NaN     NaN       NaN        NaN\n",
       "12         NaN      NaN   NaN     NaN       NaN        NaN"
      ]
     },
     "execution_count": 6,
     "metadata": {},
     "output_type": "execute_result"
    }
   ],
   "source": [
    "kospi.tail(10)"
   ]
  },
  {
   "cell_type": "code",
   "execution_count": 7,
   "metadata": {},
   "outputs": [],
   "source": [
    "kospi = kospi.set_index('날짜')"
   ]
  },
  {
   "cell_type": "code",
   "execution_count": 8,
   "metadata": {},
   "outputs": [],
   "source": [
    "#1년치 url이 잘 되지 않으므로 다운로드 후 read!!\n",
    "#djia_url = 'https://finance.yahoo.com/quote/%5EDJI/history?period1=1531810422&period2=1563346422&interval=1d&filter=history&frequency=1d'\n"
   ]
  },
  {
   "cell_type": "code",
   "execution_count": 9,
   "metadata": {},
   "outputs": [],
   "source": [
    "#tables = pd.read_html(djia_url)\n",
    "#len(tables)"
   ]
  },
  {
   "cell_type": "code",
   "execution_count": 10,
   "metadata": {},
   "outputs": [],
   "source": [
    "#tables[0].head(), tables[0].info()"
   ]
  },
  {
   "cell_type": "code",
   "execution_count": 11,
   "metadata": {},
   "outputs": [],
   "source": [
    "#djia=tables[0]"
   ]
  },
  {
   "cell_type": "code",
   "execution_count": 12,
   "metadata": {},
   "outputs": [],
   "source": [
    "djia = pd.read_csv('^DJI.csv')"
   ]
  },
  {
   "cell_type": "code",
   "execution_count": 13,
   "metadata": {},
   "outputs": [
    {
     "data": {
      "text/html": [
       "<div>\n",
       "<style scoped>\n",
       "    .dataframe tbody tr th:only-of-type {\n",
       "        vertical-align: middle;\n",
       "    }\n",
       "\n",
       "    .dataframe tbody tr th {\n",
       "        vertical-align: top;\n",
       "    }\n",
       "\n",
       "    .dataframe thead th {\n",
       "        text-align: right;\n",
       "    }\n",
       "</style>\n",
       "<table border=\"1\" class=\"dataframe\">\n",
       "  <thead>\n",
       "    <tr style=\"text-align: right;\">\n",
       "      <th></th>\n",
       "      <th>Date</th>\n",
       "      <th>Open</th>\n",
       "      <th>High</th>\n",
       "      <th>Low</th>\n",
       "      <th>Close</th>\n",
       "      <th>Adj Close</th>\n",
       "      <th>Volume</th>\n",
       "    </tr>\n",
       "  </thead>\n",
       "  <tbody>\n",
       "    <tr>\n",
       "      <th>246</th>\n",
       "      <td>2019-07-10</td>\n",
       "      <td>26851.960938</td>\n",
       "      <td>26983.449219</td>\n",
       "      <td>26813.109375</td>\n",
       "      <td>26860.199219</td>\n",
       "      <td>26860.199219</td>\n",
       "      <td>207990000</td>\n",
       "    </tr>\n",
       "    <tr>\n",
       "      <th>247</th>\n",
       "      <td>2019-07-11</td>\n",
       "      <td>26950.160156</td>\n",
       "      <td>27088.449219</td>\n",
       "      <td>26916.320313</td>\n",
       "      <td>27088.080078</td>\n",
       "      <td>27088.080078</td>\n",
       "      <td>252300000</td>\n",
       "    </tr>\n",
       "    <tr>\n",
       "      <th>248</th>\n",
       "      <td>2019-07-12</td>\n",
       "      <td>27139.490234</td>\n",
       "      <td>27333.789063</td>\n",
       "      <td>27135.449219</td>\n",
       "      <td>27332.029297</td>\n",
       "      <td>27332.029297</td>\n",
       "      <td>248390000</td>\n",
       "    </tr>\n",
       "    <tr>\n",
       "      <th>249</th>\n",
       "      <td>2019-07-15</td>\n",
       "      <td>27364.689453</td>\n",
       "      <td>27364.689453</td>\n",
       "      <td>27294.169922</td>\n",
       "      <td>27359.160156</td>\n",
       "      <td>27359.160156</td>\n",
       "      <td>199730000</td>\n",
       "    </tr>\n",
       "    <tr>\n",
       "      <th>250</th>\n",
       "      <td>2019-07-16</td>\n",
       "      <td>27349.320313</td>\n",
       "      <td>27398.679688</td>\n",
       "      <td>27290.240234</td>\n",
       "      <td>27335.630859</td>\n",
       "      <td>27335.630859</td>\n",
       "      <td>223850000</td>\n",
       "    </tr>\n",
       "  </tbody>\n",
       "</table>\n",
       "</div>"
      ],
      "text/plain": [
       "           Date          Open          High           Low         Close  \\\n",
       "246  2019-07-10  26851.960938  26983.449219  26813.109375  26860.199219   \n",
       "247  2019-07-11  26950.160156  27088.449219  26916.320313  27088.080078   \n",
       "248  2019-07-12  27139.490234  27333.789063  27135.449219  27332.029297   \n",
       "249  2019-07-15  27364.689453  27364.689453  27294.169922  27359.160156   \n",
       "250  2019-07-16  27349.320313  27398.679688  27290.240234  27335.630859   \n",
       "\n",
       "        Adj Close     Volume  \n",
       "246  26860.199219  207990000  \n",
       "247  27088.080078  252300000  \n",
       "248  27332.029297  248390000  \n",
       "249  27359.160156  199730000  \n",
       "250  27335.630859  223850000  "
      ]
     },
     "execution_count": 13,
     "metadata": {},
     "output_type": "execute_result"
    }
   ],
   "source": [
    "djia.tail()"
   ]
  },
  {
   "cell_type": "code",
   "execution_count": 14,
   "metadata": {},
   "outputs": [],
   "source": [
    "#djia = djia.iloc[:-1,:]"
   ]
  },
  {
   "cell_type": "code",
   "execution_count": 15,
   "metadata": {},
   "outputs": [],
   "source": [
    "#djia.tail()"
   ]
  },
  {
   "cell_type": "code",
   "execution_count": 16,
   "metadata": {},
   "outputs": [],
   "source": [
    "djia = djia.set_index('Date')"
   ]
  },
  {
   "cell_type": "code",
   "execution_count": 17,
   "metadata": {},
   "outputs": [
    {
     "data": {
      "text/plain": [
       "(Index([         nan, '2019.07.17', '2019.07.16', '2019.07.15',          nan,\n",
       "                 nan,          nan,          nan, '2019.07.12', '2019.07.11',\n",
       "        ...\n",
       "        '2018.07.20',          nan,          nan,          nan,          nan,\n",
       "        '2018.07.19', '2018.07.18', '2018.07.17',          nan,          nan],\n",
       "       dtype='object', name='날짜', length=533),\n",
       " Index(['2018-07-17', '2018-07-18', '2018-07-19', '2018-07-20', '2018-07-23',\n",
       "        '2018-07-24', '2018-07-25', '2018-07-26', '2018-07-27', '2018-07-30',\n",
       "        ...\n",
       "        '2019-07-02', '2019-07-03', '2019-07-05', '2019-07-08', '2019-07-09',\n",
       "        '2019-07-10', '2019-07-11', '2019-07-12', '2019-07-15', '2019-07-16'],\n",
       "       dtype='object', name='Date', length=251))"
      ]
     },
     "execution_count": 17,
     "metadata": {},
     "output_type": "execute_result"
    }
   ],
   "source": [
    "kospi.index, djia.index"
   ]
  },
  {
   "cell_type": "code",
   "execution_count": 18,
   "metadata": {},
   "outputs": [],
   "source": [
    "kospi.index = pd.to_datetime(kospi.index)"
   ]
  },
  {
   "cell_type": "code",
   "execution_count": 19,
   "metadata": {},
   "outputs": [
    {
     "data": {
      "text/plain": [
       "Index(['2018-07-17', '2018-07-18', '2018-07-19', '2018-07-20', '2018-07-23',\n",
       "       '2018-07-24', '2018-07-25', '2018-07-26', '2018-07-27', '2018-07-30',\n",
       "       ...\n",
       "       '2019-07-02', '2019-07-03', '2019-07-05', '2019-07-08', '2019-07-09',\n",
       "       '2019-07-10', '2019-07-11', '2019-07-12', '2019-07-15', '2019-07-16'],\n",
       "      dtype='object', name='Date', length=251)"
      ]
     },
     "execution_count": 19,
     "metadata": {},
     "output_type": "execute_result"
    }
   ],
   "source": [
    "djia.index"
   ]
  },
  {
   "cell_type": "code",
   "execution_count": 20,
   "metadata": {},
   "outputs": [],
   "source": [
    "djia.index = pd.to_datetime(djia.index)"
   ]
  },
  {
   "cell_type": "code",
   "execution_count": 21,
   "metadata": {},
   "outputs": [
    {
     "data": {
      "text/plain": [
       "(237, 11)"
      ]
     },
     "execution_count": 21,
     "metadata": {},
     "output_type": "execute_result"
    }
   ],
   "source": [
    "df = pd.concat((kospi, djia), axis=1).dropna()\n",
    "df.shape"
   ]
  },
  {
   "cell_type": "code",
   "execution_count": 22,
   "metadata": {},
   "outputs": [
    {
     "data": {
      "text/plain": [
       "체결가          float64\n",
       "전일비          float64\n",
       "등락률           object\n",
       "거래량(천주)      float64\n",
       "거래대금(백만)     float64\n",
       "Open         float64\n",
       "High         float64\n",
       "Low          float64\n",
       "Close        float64\n",
       "Adj Close    float64\n",
       "Volume       float64\n",
       "dtype: object"
      ]
     },
     "execution_count": 22,
     "metadata": {},
     "output_type": "execute_result"
    }
   ],
   "source": [
    "df.dtypes"
   ]
  },
  {
   "cell_type": "code",
   "execution_count": 23,
   "metadata": {},
   "outputs": [],
   "source": [
    "df = df.replace('%','',regex=True)"
   ]
  },
  {
   "cell_type": "code",
   "execution_count": 24,
   "metadata": {},
   "outputs": [
    {
     "data": {
      "text/plain": [
       "체결가          float64\n",
       "전일비          float64\n",
       "등락률          float64\n",
       "거래량(천주)      float64\n",
       "거래대금(백만)     float64\n",
       "Open         float64\n",
       "High         float64\n",
       "Low          float64\n",
       "Close        float64\n",
       "Adj Close    float64\n",
       "Volume       float64\n",
       "dtype: object"
      ]
     },
     "execution_count": 24,
     "metadata": {},
     "output_type": "execute_result"
    }
   ],
   "source": [
    "df['등락률'] = df['등락률'].astype(np.float)\n",
    "df.dtypes"
   ]
  },
  {
   "cell_type": "code",
   "execution_count": 25,
   "metadata": {},
   "outputs": [
    {
     "data": {
      "text/plain": [
       "체결가          5.124601e+05\n",
       "전일비          3.163870e+03\n",
       "등락률         -8.300000e+00\n",
       "거래량(천주)      9.248564e+07\n",
       "거래대금(백만)     1.231396e+09\n",
       "Open         6.049191e+06\n",
       "High         6.080727e+06\n",
       "Low          6.015552e+06\n",
       "Close        6.050631e+06\n",
       "Adj Close    6.050631e+06\n",
       "Volume       7.334145e+10\n",
       "dtype: float64"
      ]
     },
     "execution_count": 25,
     "metadata": {},
     "output_type": "execute_result"
    }
   ],
   "source": [
    "df.sum()"
   ]
  },
  {
   "cell_type": "code",
   "execution_count": 26,
   "metadata": {},
   "outputs": [
    {
     "data": {
      "text/plain": [
       "체결가          2.162279e+03\n",
       "전일비          1.334966e+01\n",
       "등락률         -3.502110e-02\n",
       "거래량(천주)      3.902347e+05\n",
       "거래대금(백만)     5.195765e+06\n",
       "Open         2.552401e+04\n",
       "High         2.565708e+04\n",
       "Low          2.538207e+04\n",
       "Close        2.553009e+04\n",
       "Adj Close    2.553009e+04\n",
       "Volume       3.094576e+08\n",
       "dtype: float64"
      ]
     },
     "execution_count": 26,
     "metadata": {},
     "output_type": "execute_result"
    }
   ],
   "source": [
    "df.mean()"
   ]
  },
  {
   "cell_type": "code",
   "execution_count": 27,
   "metadata": {},
   "outputs": [
    {
     "data": {
      "text/html": [
       "<div>\n",
       "<style scoped>\n",
       "    .dataframe tbody tr th:only-of-type {\n",
       "        vertical-align: middle;\n",
       "    }\n",
       "\n",
       "    .dataframe tbody tr th {\n",
       "        vertical-align: top;\n",
       "    }\n",
       "\n",
       "    .dataframe thead th {\n",
       "        text-align: right;\n",
       "    }\n",
       "</style>\n",
       "<table border=\"1\" class=\"dataframe\">\n",
       "  <thead>\n",
       "    <tr style=\"text-align: right;\">\n",
       "      <th></th>\n",
       "      <th>체결가</th>\n",
       "      <th>전일비</th>\n",
       "      <th>등락률</th>\n",
       "      <th>거래량(천주)</th>\n",
       "      <th>거래대금(백만)</th>\n",
       "      <th>Open</th>\n",
       "      <th>High</th>\n",
       "      <th>Low</th>\n",
       "      <th>Close</th>\n",
       "      <th>Adj Close</th>\n",
       "      <th>Volume</th>\n",
       "    </tr>\n",
       "  </thead>\n",
       "  <tbody>\n",
       "    <tr>\n",
       "      <th>count</th>\n",
       "      <td>237.000000</td>\n",
       "      <td>237.000000</td>\n",
       "      <td>237.000000</td>\n",
       "      <td>237.000000</td>\n",
       "      <td>2.370000e+02</td>\n",
       "      <td>237.000000</td>\n",
       "      <td>237.000000</td>\n",
       "      <td>237.000000</td>\n",
       "      <td>237.000000</td>\n",
       "      <td>237.000000</td>\n",
       "      <td>2.370000e+02</td>\n",
       "    </tr>\n",
       "    <tr>\n",
       "      <th>mean</th>\n",
       "      <td>2162.278945</td>\n",
       "      <td>13.349662</td>\n",
       "      <td>-0.035021</td>\n",
       "      <td>390234.746835</td>\n",
       "      <td>5.195765e+06</td>\n",
       "      <td>25524.010903</td>\n",
       "      <td>25657.076848</td>\n",
       "      <td>25382.074334</td>\n",
       "      <td>25530.089201</td>\n",
       "      <td>25530.089201</td>\n",
       "      <td>3.094576e+08</td>\n",
       "    </tr>\n",
       "    <tr>\n",
       "      <th>std</th>\n",
       "      <td>90.511149</td>\n",
       "      <td>13.100090</td>\n",
       "      <td>0.870284</td>\n",
       "      <td>120570.850480</td>\n",
       "      <td>9.041988e+05</td>\n",
       "      <td>927.343090</td>\n",
       "      <td>877.991781</td>\n",
       "      <td>983.145520</td>\n",
       "      <td>932.734799</td>\n",
       "      <td>932.734799</td>\n",
       "      <td>8.910159e+07</td>\n",
       "    </tr>\n",
       "    <tr>\n",
       "      <th>min</th>\n",
       "      <td>1993.700000</td>\n",
       "      <td>0.000000</td>\n",
       "      <td>-4.440000</td>\n",
       "      <td>202744.000000</td>\n",
       "      <td>3.656611e+06</td>\n",
       "      <td>21857.730469</td>\n",
       "      <td>22339.869141</td>\n",
       "      <td>21712.529297</td>\n",
       "      <td>21792.199219</td>\n",
       "      <td>21792.199219</td>\n",
       "      <td>1.498400e+08</td>\n",
       "    </tr>\n",
       "    <tr>\n",
       "      <th>25%</th>\n",
       "      <td>2082.580000</td>\n",
       "      <td>4.180000</td>\n",
       "      <td>-0.430000</td>\n",
       "      <td>303503.000000</td>\n",
       "      <td>4.558330e+06</td>\n",
       "      <td>25133.789063</td>\n",
       "      <td>25306.230469</td>\n",
       "      <td>24983.330078</td>\n",
       "      <td>25115.759766</td>\n",
       "      <td>25115.759766</td>\n",
       "      <td>2.521700e+08</td>\n",
       "    </tr>\n",
       "    <tr>\n",
       "      <th>50%</th>\n",
       "      <td>2148.410000</td>\n",
       "      <td>9.210000</td>\n",
       "      <td>0.030000</td>\n",
       "      <td>368242.000000</td>\n",
       "      <td>5.052457e+06</td>\n",
       "      <td>25657.990234</td>\n",
       "      <td>25762.560547</td>\n",
       "      <td>25521.660156</td>\n",
       "      <td>25656.980469</td>\n",
       "      <td>25656.980469</td>\n",
       "      <td>2.896000e+08</td>\n",
       "    </tr>\n",
       "    <tr>\n",
       "      <th>75%</th>\n",
       "      <td>2232.560000</td>\n",
       "      <td>18.720000</td>\n",
       "      <td>0.420000</td>\n",
       "      <td>439541.000000</td>\n",
       "      <td>5.767600e+06</td>\n",
       "      <td>26126.150391</td>\n",
       "      <td>26210.609375</td>\n",
       "      <td>26049.800781</td>\n",
       "      <td>26112.529297</td>\n",
       "      <td>26112.529297</td>\n",
       "      <td>3.396900e+08</td>\n",
       "    </tr>\n",
       "    <tr>\n",
       "      <th>max</th>\n",
       "      <td>2355.430000</td>\n",
       "      <td>98.940000</td>\n",
       "      <td>3.530000</td>\n",
       "      <td>996213.000000</td>\n",
       "      <td>8.196792e+06</td>\n",
       "      <td>27364.689453</td>\n",
       "      <td>27398.679688</td>\n",
       "      <td>27294.169922</td>\n",
       "      <td>27359.160156</td>\n",
       "      <td>27359.160156</td>\n",
       "      <td>9.005100e+08</td>\n",
       "    </tr>\n",
       "  </tbody>\n",
       "</table>\n",
       "</div>"
      ],
      "text/plain": [
       "               체결가         전일비         등락률        거래량(천주)      거래대금(백만)  \\\n",
       "count   237.000000  237.000000  237.000000     237.000000  2.370000e+02   \n",
       "mean   2162.278945   13.349662   -0.035021  390234.746835  5.195765e+06   \n",
       "std      90.511149   13.100090    0.870284  120570.850480  9.041988e+05   \n",
       "min    1993.700000    0.000000   -4.440000  202744.000000  3.656611e+06   \n",
       "25%    2082.580000    4.180000   -0.430000  303503.000000  4.558330e+06   \n",
       "50%    2148.410000    9.210000    0.030000  368242.000000  5.052457e+06   \n",
       "75%    2232.560000   18.720000    0.420000  439541.000000  5.767600e+06   \n",
       "max    2355.430000   98.940000    3.530000  996213.000000  8.196792e+06   \n",
       "\n",
       "               Open          High           Low         Close     Adj Close  \\\n",
       "count    237.000000    237.000000    237.000000    237.000000    237.000000   \n",
       "mean   25524.010903  25657.076848  25382.074334  25530.089201  25530.089201   \n",
       "std      927.343090    877.991781    983.145520    932.734799    932.734799   \n",
       "min    21857.730469  22339.869141  21712.529297  21792.199219  21792.199219   \n",
       "25%    25133.789063  25306.230469  24983.330078  25115.759766  25115.759766   \n",
       "50%    25657.990234  25762.560547  25521.660156  25656.980469  25656.980469   \n",
       "75%    26126.150391  26210.609375  26049.800781  26112.529297  26112.529297   \n",
       "max    27364.689453  27398.679688  27294.169922  27359.160156  27359.160156   \n",
       "\n",
       "             Volume  \n",
       "count  2.370000e+02  \n",
       "mean   3.094576e+08  \n",
       "std    8.910159e+07  \n",
       "min    1.498400e+08  \n",
       "25%    2.521700e+08  \n",
       "50%    2.896000e+08  \n",
       "75%    3.396900e+08  \n",
       "max    9.005100e+08  "
      ]
     },
     "execution_count": 27,
     "metadata": {},
     "output_type": "execute_result"
    }
   ],
   "source": [
    "df.describe()"
   ]
  },
  {
   "cell_type": "code",
   "execution_count": 28,
   "metadata": {},
   "outputs": [
    {
     "data": {
      "text/plain": [
       "0"
      ]
     },
     "execution_count": 28,
     "metadata": {},
     "output_type": "execute_result"
    }
   ],
   "source": [
    "df.isna().sum().sum()"
   ]
  },
  {
   "cell_type": "code",
   "execution_count": 29,
   "metadata": {},
   "outputs": [
    {
     "data": {
      "text/html": [
       "<div>\n",
       "<style scoped>\n",
       "    .dataframe tbody tr th:only-of-type {\n",
       "        vertical-align: middle;\n",
       "    }\n",
       "\n",
       "    .dataframe tbody tr th {\n",
       "        vertical-align: top;\n",
       "    }\n",
       "\n",
       "    .dataframe thead th {\n",
       "        text-align: right;\n",
       "    }\n",
       "</style>\n",
       "<table border=\"1\" class=\"dataframe\">\n",
       "  <thead>\n",
       "    <tr style=\"text-align: right;\">\n",
       "      <th></th>\n",
       "      <th>체결가</th>\n",
       "      <th>전일비</th>\n",
       "      <th>등락률</th>\n",
       "      <th>거래량(천주)</th>\n",
       "      <th>거래대금(백만)</th>\n",
       "      <th>Open</th>\n",
       "      <th>High</th>\n",
       "      <th>Low</th>\n",
       "      <th>Close</th>\n",
       "      <th>Adj Close</th>\n",
       "      <th>Volume</th>\n",
       "    </tr>\n",
       "  </thead>\n",
       "  <tbody>\n",
       "    <tr>\n",
       "      <th>체결가</th>\n",
       "      <td>8.192268e+03</td>\n",
       "      <td>-1.725646e+02</td>\n",
       "      <td>6.897209e+00</td>\n",
       "      <td>-3.696152e+06</td>\n",
       "      <td>1.484091e+07</td>\n",
       "      <td>3.628056e+04</td>\n",
       "      <td>3.281300e+04</td>\n",
       "      <td>4.068264e+04</td>\n",
       "      <td>3.644199e+04</td>\n",
       "      <td>3.644199e+04</td>\n",
       "      <td>-2.556096e+09</td>\n",
       "    </tr>\n",
       "    <tr>\n",
       "      <th>전일비</th>\n",
       "      <td>-1.725646e+02</td>\n",
       "      <td>1.716124e+02</td>\n",
       "      <td>-3.014382e+00</td>\n",
       "      <td>7.964623e+04</td>\n",
       "      <td>3.993637e+06</td>\n",
       "      <td>-1.300455e+03</td>\n",
       "      <td>-1.174580e+03</td>\n",
       "      <td>-1.715958e+03</td>\n",
       "      <td>-1.379758e+03</td>\n",
       "      <td>-1.379758e+03</td>\n",
       "      <td>2.682567e+08</td>\n",
       "    </tr>\n",
       "    <tr>\n",
       "      <th>등락률</th>\n",
       "      <td>6.897209e+00</td>\n",
       "      <td>-3.014382e+00</td>\n",
       "      <td>7.573937e-01</td>\n",
       "      <td>-8.759362e+03</td>\n",
       "      <td>-1.061737e+05</td>\n",
       "      <td>-8.815850e+00</td>\n",
       "      <td>-3.113980e+00</td>\n",
       "      <td>3.112240e+01</td>\n",
       "      <td>1.578501e+01</td>\n",
       "      <td>1.578501e+01</td>\n",
       "      <td>-7.380555e+06</td>\n",
       "    </tr>\n",
       "    <tr>\n",
       "      <th>거래량(천주)</th>\n",
       "      <td>-3.696152e+06</td>\n",
       "      <td>7.964623e+04</td>\n",
       "      <td>-8.759362e+03</td>\n",
       "      <td>1.453733e+10</td>\n",
       "      <td>1.151682e+10</td>\n",
       "      <td>2.024009e+07</td>\n",
       "      <td>1.995826e+07</td>\n",
       "      <td>2.083558e+07</td>\n",
       "      <td>2.063566e+07</td>\n",
       "      <td>2.063566e+07</td>\n",
       "      <td>1.330953e+11</td>\n",
       "    </tr>\n",
       "    <tr>\n",
       "      <th>거래대금(백만)</th>\n",
       "      <td>1.484091e+07</td>\n",
       "      <td>3.993637e+06</td>\n",
       "      <td>-1.061737e+05</td>\n",
       "      <td>1.151682e+10</td>\n",
       "      <td>8.175755e+11</td>\n",
       "      <td>-2.974689e+07</td>\n",
       "      <td>-2.138452e+07</td>\n",
       "      <td>-4.667198e+07</td>\n",
       "      <td>-3.760432e+07</td>\n",
       "      <td>-3.760432e+07</td>\n",
       "      <td>2.705570e+13</td>\n",
       "    </tr>\n",
       "    <tr>\n",
       "      <th>Open</th>\n",
       "      <td>3.628056e+04</td>\n",
       "      <td>-1.300455e+03</td>\n",
       "      <td>-8.815850e+00</td>\n",
       "      <td>2.024009e+07</td>\n",
       "      <td>-2.974689e+07</td>\n",
       "      <td>8.599652e+05</td>\n",
       "      <td>8.077041e+05</td>\n",
       "      <td>8.999231e+05</td>\n",
       "      <td>8.436521e+05</td>\n",
       "      <td>8.436521e+05</td>\n",
       "      <td>-3.509032e+10</td>\n",
       "    </tr>\n",
       "    <tr>\n",
       "      <th>High</th>\n",
       "      <td>3.281300e+04</td>\n",
       "      <td>-1.174580e+03</td>\n",
       "      <td>-3.113980e+00</td>\n",
       "      <td>1.995826e+07</td>\n",
       "      <td>-2.138452e+07</td>\n",
       "      <td>8.077041e+05</td>\n",
       "      <td>7.708696e+05</td>\n",
       "      <td>8.518471e+05</td>\n",
       "      <td>8.086877e+05</td>\n",
       "      <td>8.086877e+05</td>\n",
       "      <td>-3.164448e+10</td>\n",
       "    </tr>\n",
       "    <tr>\n",
       "      <th>Low</th>\n",
       "      <td>4.068264e+04</td>\n",
       "      <td>-1.715958e+03</td>\n",
       "      <td>3.112240e+01</td>\n",
       "      <td>2.083558e+07</td>\n",
       "      <td>-4.667198e+07</td>\n",
       "      <td>8.999231e+05</td>\n",
       "      <td>8.518471e+05</td>\n",
       "      <td>9.665751e+05</td>\n",
       "      <td>9.083785e+05</td>\n",
       "      <td>9.083785e+05</td>\n",
       "      <td>-4.193539e+10</td>\n",
       "    </tr>\n",
       "    <tr>\n",
       "      <th>Close</th>\n",
       "      <td>3.644199e+04</td>\n",
       "      <td>-1.379758e+03</td>\n",
       "      <td>1.578501e+01</td>\n",
       "      <td>2.063566e+07</td>\n",
       "      <td>-3.760432e+07</td>\n",
       "      <td>8.436521e+05</td>\n",
       "      <td>8.086877e+05</td>\n",
       "      <td>9.083785e+05</td>\n",
       "      <td>8.699942e+05</td>\n",
       "      <td>8.699942e+05</td>\n",
       "      <td>-3.849726e+10</td>\n",
       "    </tr>\n",
       "    <tr>\n",
       "      <th>Adj Close</th>\n",
       "      <td>3.644199e+04</td>\n",
       "      <td>-1.379758e+03</td>\n",
       "      <td>1.578501e+01</td>\n",
       "      <td>2.063566e+07</td>\n",
       "      <td>-3.760432e+07</td>\n",
       "      <td>8.436521e+05</td>\n",
       "      <td>8.086877e+05</td>\n",
       "      <td>9.083785e+05</td>\n",
       "      <td>8.699942e+05</td>\n",
       "      <td>8.699942e+05</td>\n",
       "      <td>-3.849726e+10</td>\n",
       "    </tr>\n",
       "    <tr>\n",
       "      <th>Volume</th>\n",
       "      <td>-2.556096e+09</td>\n",
       "      <td>2.682567e+08</td>\n",
       "      <td>-7.380555e+06</td>\n",
       "      <td>1.330953e+11</td>\n",
       "      <td>2.705570e+13</td>\n",
       "      <td>-3.509032e+10</td>\n",
       "      <td>-3.164448e+10</td>\n",
       "      <td>-4.193539e+10</td>\n",
       "      <td>-3.849726e+10</td>\n",
       "      <td>-3.849726e+10</td>\n",
       "      <td>7.939094e+15</td>\n",
       "    </tr>\n",
       "  </tbody>\n",
       "</table>\n",
       "</div>"
      ],
      "text/plain": [
       "                    체결가           전일비           등락률       거래량(천주)  \\\n",
       "체결가        8.192268e+03 -1.725646e+02  6.897209e+00 -3.696152e+06   \n",
       "전일비       -1.725646e+02  1.716124e+02 -3.014382e+00  7.964623e+04   \n",
       "등락률        6.897209e+00 -3.014382e+00  7.573937e-01 -8.759362e+03   \n",
       "거래량(천주)   -3.696152e+06  7.964623e+04 -8.759362e+03  1.453733e+10   \n",
       "거래대금(백만)   1.484091e+07  3.993637e+06 -1.061737e+05  1.151682e+10   \n",
       "Open       3.628056e+04 -1.300455e+03 -8.815850e+00  2.024009e+07   \n",
       "High       3.281300e+04 -1.174580e+03 -3.113980e+00  1.995826e+07   \n",
       "Low        4.068264e+04 -1.715958e+03  3.112240e+01  2.083558e+07   \n",
       "Close      3.644199e+04 -1.379758e+03  1.578501e+01  2.063566e+07   \n",
       "Adj Close  3.644199e+04 -1.379758e+03  1.578501e+01  2.063566e+07   \n",
       "Volume    -2.556096e+09  2.682567e+08 -7.380555e+06  1.330953e+11   \n",
       "\n",
       "               거래대금(백만)          Open          High           Low  \\\n",
       "체결가        1.484091e+07  3.628056e+04  3.281300e+04  4.068264e+04   \n",
       "전일비        3.993637e+06 -1.300455e+03 -1.174580e+03 -1.715958e+03   \n",
       "등락률       -1.061737e+05 -8.815850e+00 -3.113980e+00  3.112240e+01   \n",
       "거래량(천주)    1.151682e+10  2.024009e+07  1.995826e+07  2.083558e+07   \n",
       "거래대금(백만)   8.175755e+11 -2.974689e+07 -2.138452e+07 -4.667198e+07   \n",
       "Open      -2.974689e+07  8.599652e+05  8.077041e+05  8.999231e+05   \n",
       "High      -2.138452e+07  8.077041e+05  7.708696e+05  8.518471e+05   \n",
       "Low       -4.667198e+07  8.999231e+05  8.518471e+05  9.665751e+05   \n",
       "Close     -3.760432e+07  8.436521e+05  8.086877e+05  9.083785e+05   \n",
       "Adj Close -3.760432e+07  8.436521e+05  8.086877e+05  9.083785e+05   \n",
       "Volume     2.705570e+13 -3.509032e+10 -3.164448e+10 -4.193539e+10   \n",
       "\n",
       "                  Close     Adj Close        Volume  \n",
       "체결가        3.644199e+04  3.644199e+04 -2.556096e+09  \n",
       "전일비       -1.379758e+03 -1.379758e+03  2.682567e+08  \n",
       "등락률        1.578501e+01  1.578501e+01 -7.380555e+06  \n",
       "거래량(천주)    2.063566e+07  2.063566e+07  1.330953e+11  \n",
       "거래대금(백만)  -3.760432e+07 -3.760432e+07  2.705570e+13  \n",
       "Open       8.436521e+05  8.436521e+05 -3.509032e+10  \n",
       "High       8.086877e+05  8.086877e+05 -3.164448e+10  \n",
       "Low        9.083785e+05  9.083785e+05 -4.193539e+10  \n",
       "Close      8.699942e+05  8.699942e+05 -3.849726e+10  \n",
       "Adj Close  8.699942e+05  8.699942e+05 -3.849726e+10  \n",
       "Volume    -3.849726e+10 -3.849726e+10  7.939094e+15  "
      ]
     },
     "execution_count": 29,
     "metadata": {},
     "output_type": "execute_result"
    }
   ],
   "source": [
    "df.cov()"
   ]
  },
  {
   "cell_type": "code",
   "execution_count": 30,
   "metadata": {},
   "outputs": [],
   "source": [
    "코스변화 = df['전일비']\n",
    "다우변화 = df['Open'] - df['Close']\n",
    "과거의코스변화 = 코스변화.iloc[:-1]\n",
    "과거의다우변화 = 다우변화.iloc[:-1]\n",
    "다음날코스변화 = 코스변화.iloc[1:]"
   ]
  },
  {
   "cell_type": "code",
   "execution_count": 31,
   "metadata": {},
   "outputs": [
    {
     "data": {
      "image/png": "[encoded data removed]",
      "text/plain": [
       "<Figure size 432x288 with 1 Axes>"
      ]
     },
     "metadata": {
      "needs_background": "light"
     },
     "output_type": "display_data"
    }
   ],
   "source": [
    "p = plt.scatter(과거의코스변화, 다음날코스변화)"
   ]
  },
  {
   "cell_type": "code",
   "execution_count": 32,
   "metadata": {},
   "outputs": [
    {
     "data": {
      "image/png": "[encoded data removed]",
      "text/plain": [
       "<Figure size 432x288 with 1 Axes>"
      ]
     },
     "metadata": {
      "needs_background": "light"
     },
     "output_type": "display_data"
    }
   ],
   "source": [
    "p = plt.scatter(과거의다우변화, 다음날코스변화)"
   ]
  },
  {
   "cell_type": "code",
   "execution_count": 33,
   "metadata": {},
   "outputs": [
    {
     "data": {
      "text/plain": [
       "array([[1.        , 0.01574767],\n",
       "       [0.01574767, 1.        ]])"
      ]
     },
     "execution_count": 33,
     "metadata": {},
     "output_type": "execute_result"
    }
   ],
   "source": [
    "np.corrcoef(과거의코스변화, 다음날코스변화)"
   ]
  },
  {
   "cell_type": "code",
   "execution_count": 34,
   "metadata": {},
   "outputs": [
    {
     "data": {
      "text/plain": [
       "array([[1.        , 0.21239088],\n",
       "       [0.21239088, 1.        ]])"
      ]
     },
     "execution_count": 34,
     "metadata": {},
     "output_type": "execute_result"
    }
   ],
   "source": [
    "np.corrcoef(과거의다우변화, 다음날코스변화)"
   ]
  },
  {
   "cell_type": "code",
   "execution_count": 35,
   "metadata": {},
   "outputs": [
    {
     "data": {
      "text/plain": [
       "(237, 148)"
      ]
     },
     "execution_count": 35,
     "metadata": {},
     "output_type": "execute_result"
    }
   ],
   "source": [
    "input_seq = 60 #window\n",
    "output_seq = 30\n",
    "m = len(df) - (input_seq + output_seq) + 1\n",
    "len(df), m"
   ]
  },
  {
   "cell_type": "code",
   "execution_count": 36,
   "metadata": {},
   "outputs": [],
   "source": [
    "df = (df - df.min()) / (df.max() - df.min()) #min_max정규화\n",
    "x_list = []\n",
    "y_list = []"
   ]
  },
  {
   "cell_type": "code",
   "execution_count": 37,
   "metadata": {},
   "outputs": [],
   "source": [
    "for i in range(m):\n",
    "    x = df.iloc[i:i+input_seq]\n",
    "    y = df.iloc[i+input_seq:i+input_seq+output_seq][['체결가','Close']] # 여러개를 꺼내고 싶으면 대괄호로 묶으면 된다.\n",
    "    # print(x.shape, y.shape)\n",
    "    x_list.append(x)\n",
    "    y_list.append(y)"
   ]
  },
  {
   "cell_type": "code",
   "execution_count": 38,
   "metadata": {},
   "outputs": [
    {
     "data": {
      "text/plain": [
       "(148, list)"
      ]
     },
     "execution_count": 38,
     "metadata": {},
     "output_type": "execute_result"
    }
   ],
   "source": [
    "len(x_list), type(x_list)"
   ]
  },
  {
   "cell_type": "code",
   "execution_count": 39,
   "metadata": {},
   "outputs": [
    {
     "data": {
      "text/plain": [
       "(148, 60, 11)"
      ]
     },
     "execution_count": 39,
     "metadata": {},
     "output_type": "execute_result"
    }
   ],
   "source": [
    "np.stack(x_list, axis=0).shape"
   ]
  },
  {
   "cell_type": "code",
   "execution_count": 40,
   "metadata": {},
   "outputs": [],
   "source": [
    "x_3d=np.stack(x_list, axis=0)\n",
    "y_3d=np.stack(y_list, axis=0)"
   ]
  },
  {
   "cell_type": "code",
   "execution_count": 41,
   "metadata": {},
   "outputs": [
    {
     "data": {
      "text/plain": [
       "((148, 60, 11), (148, 30, 2))"
      ]
     },
     "execution_count": 41,
     "metadata": {},
     "output_type": "execute_result"
    }
   ],
   "source": [
    "x_3d.shape, y_3d.shape"
   ]
  },
  {
   "cell_type": "code",
   "execution_count": 42,
   "metadata": {},
   "outputs": [
    {
     "data": {
      "text/plain": [
       "14"
      ]
     },
     "execution_count": 42,
     "metadata": {},
     "output_type": "execute_result"
    }
   ],
   "source": [
    "test_ratio=0.1\n",
    "test_m = int(len(x_3d)*test_ratio)\n",
    "test_m"
   ]
  },
  {
   "cell_type": "code",
   "execution_count": 43,
   "metadata": {},
   "outputs": [],
   "source": [
    "m = len(x_3d)\n",
    "x_2d = np.reshape(x_3d, [m,-1])\n",
    "y_2d = np.reshape(y_3d, [m,-1])\n",
    "x_test = x_2d[:test_m]\n",
    "x_train = x_2d[test_m:]\n",
    "y_test = y_2d[:test_m]\n",
    "y_train = y_2d[test_m:]"
   ]
  },
  {
   "cell_type": "code",
   "execution_count": 44,
   "metadata": {},
   "outputs": [],
   "source": [
    "model = Ridge(normalize=True, solver='lsqr').fit(x_train, y_train) # 2차원 이하만 가능"
   ]
  },
  {
   "cell_type": "code",
   "execution_count": 45,
   "metadata": {},
   "outputs": [
    {
     "data": {
      "text/plain": [
       "(0.9863776513097169, -1.3382740062215221)"
      ]
     },
     "execution_count": 45,
     "metadata": {},
     "output_type": "execute_result"
    }
   ],
   "source": [
    "model.score(x_train, y_train), model.score(x_test, y_test)"
   ]
  },
  {
   "cell_type": "code",
   "execution_count": 46,
   "metadata": {},
   "outputs": [
    {
     "data": {
      "text/plain": [
       "(60, 11)"
      ]
     },
     "execution_count": 46,
     "metadata": {},
     "output_type": "execute_result"
    }
   ],
   "source": [
    "recent = df.iloc[-input_seq:]\n",
    "recent.shape"
   ]
  },
  {
   "cell_type": "code",
   "execution_count": 47,
   "metadata": {},
   "outputs": [
    {
     "data": {
      "text/plain": [
       "(1, 660)"
      ]
     },
     "execution_count": 47,
     "metadata": {},
     "output_type": "execute_result"
    }
   ],
   "source": [
    "recent = np.reshape(np.array(recent), [1,-1])\n",
    "recent.shape"
   ]
  },
  {
   "cell_type": "code",
   "execution_count": 48,
   "metadata": {},
   "outputs": [
    {
     "data": {
      "text/plain": [
       "array([[0.70475216, 0.05811603, 0.58971142, 0.45204413, 0.71322311]])"
      ]
     },
     "execution_count": 48,
     "metadata": {},
     "output_type": "execute_result"
    }
   ],
   "source": [
    "recent[:,:5]"
   ]
  },
  {
   "cell_type": "code",
   "execution_count": 49,
   "metadata": {},
   "outputs": [
    {
     "data": {
      "text/plain": [
       "(30, 2)"
      ]
     },
     "execution_count": 49,
     "metadata": {},
     "output_type": "execute_result"
    }
   ],
   "source": [
    "p = model.predict(recent)#미래 예측\n",
    "p = np.reshape(p, [output_seq, -1])\n",
    "p.shape"
   ]
  },
  {
   "cell_type": "code",
   "execution_count": 50,
   "metadata": {},
   "outputs": [
    {
     "data": {
      "text/plain": [
       "<matplotlib.legend.Legend at 0x1f7a6a7d048>"
      ]
     },
     "execution_count": 50,
     "metadata": {},
     "output_type": "execute_result"
    },
    {
     "data": {
      "image/png": "[encoded data removed]",
      "text/plain": [
       "<Figure size 432x288 with 1 Axes>"
      ]
     },
     "metadata": {
      "needs_background": "light"
     },
     "output_type": "display_data"
    }
   ],
   "source": [
    "xm = len(df)\n",
    "plt.plot(np.arange(xm), df['체결가'].values)\n",
    "plt.plot(np.arange(xm), df['Close'].values)\n",
    "plt.plot(np.arange(xm,xm+output_seq), p[:,0], label='KOSPI')\n",
    "plt.plot(np.arange(xm,xm+output_seq), p[:,1], label='DJIA')\n",
    "plt.legend()"
   ]
  },
  {
   "cell_type": "code",
   "execution_count": 96,
   "metadata": {},
   "outputs": [
    {
     "data": {
      "text/plain": [
       "array([[0.41095064, 0.70057866],\n",
       "       [0.41280455, 0.70445665],\n",
       "       [0.41354179, 0.69711017],\n",
       "       [0.40314939, 0.72346772],\n",
       "       [0.40622195, 0.71721421],\n",
       "       [0.39888283, 0.75887239],\n",
       "       [0.35916026, 0.75447382],\n",
       "       [0.36257151, 0.779054  ],\n",
       "       [0.3183537 , 0.79049738],\n",
       "       [0.27563229, 0.78743867],\n",
       "       [0.25080323, 0.79399128],\n",
       "       [0.21879579, 0.77743875],\n",
       "       [0.20726628, 0.76772015],\n",
       "       [0.18563152, 0.74523363],\n",
       "       [0.16672882, 0.74518893],\n",
       "       [0.19000099, 0.72327639],\n",
       "       [0.18738905, 0.73258704],\n",
       "       [0.21211984, 0.74344849],\n",
       "       [0.24487268, 0.77654865],\n",
       "       [0.23601322, 0.80332667],\n",
       "       [0.22949581, 0.81344432],\n",
       "       [0.1815556 , 0.84252413],\n",
       "       [0.1986439 , 0.90367572],\n",
       "       [0.17556061, 0.92242985],\n",
       "       [0.17074646, 0.95543117],\n",
       "       [0.16333438, 0.99809683],\n",
       "       [0.18832165, 1.05670003],\n",
       "       [0.24550404, 1.12052531],\n",
       "       [0.2882066 , 1.18197972],\n",
       "       [0.35405585, 1.20217159]])"
      ]
     },
     "execution_count": 96,
     "metadata": {},
     "output_type": "execute_result"
    }
   ],
   "source": [
    "p"
   ]
  },
  {
   "cell_type": "markdown",
   "metadata": {},
   "source": [
    "2. loan default prediction > classfication\n",
    "   input : 검색\n",
    "   - bank 예제 사용"
   ]
  },
  {
   "cell_type": "code",
   "execution_count": 51,
   "metadata": {},
   "outputs": [],
   "source": [
    "df = pd.read_csv('bank/bank.csv',sep=';')"
   ]
  },
  {
   "cell_type": "code",
   "execution_count": 52,
   "metadata": {},
   "outputs": [
    {
     "name": "stdout",
     "output_type": "stream",
     "text": [
      "<class 'pandas.core.frame.DataFrame'>\n",
      "RangeIndex: 4521 entries, 0 to 4520\n",
      "Data columns (total 17 columns):\n",
      "age          4521 non-null int64\n",
      "job          4521 non-null object\n",
      "marital      4521 non-null object\n",
      "education    4521 non-null object\n",
      "default      4521 non-null object\n",
      "balance      4521 non-null int64\n",
      "housing      4521 non-null object\n",
      "loan         4521 non-null object\n",
      "contact      4521 non-null object\n",
      "day          4521 non-null int64\n",
      "month        4521 non-null object\n",
      "duration     4521 non-null int64\n",
      "campaign     4521 non-null int64\n",
      "pdays        4521 non-null int64\n",
      "previous     4521 non-null int64\n",
      "poutcome     4521 non-null object\n",
      "y            4521 non-null object\n",
      "dtypes: int64(7), object(10)\n",
      "memory usage: 600.5+ KB\n"
     ]
    },
    {
     "data": {
      "text/plain": [
       "(   age          job  marital  education default  balance housing loan  \\\n",
       " 0   30   unemployed  married    primary      no     1787      no   no   \n",
       " 1   33     services  married  secondary      no     4789     yes  yes   \n",
       " 2   35   management   single   tertiary      no     1350     yes   no   \n",
       " 3   30   management  married   tertiary      no     1476     yes  yes   \n",
       " 4   59  blue-collar  married  secondary      no        0     yes   no   \n",
       " \n",
       "     contact  day month  duration  campaign  pdays  previous poutcome   y  \n",
       " 0  cellular   19   oct        79         1     -1         0  unknown  no  \n",
       " 1  cellular   11   may       220         1    339         4  failure  no  \n",
       " 2  cellular   16   apr       185         1    330         1  failure  no  \n",
       " 3   unknown    3   jun       199         4     -1         0  unknown  no  \n",
       " 4   unknown    5   may       226         1     -1         0  unknown  no  ,\n",
       " None)"
      ]
     },
     "execution_count": 52,
     "metadata": {},
     "output_type": "execute_result"
    }
   ],
   "source": [
    "df.head(), df.info()"
   ]
  },
  {
   "cell_type": "code",
   "execution_count": 53,
   "metadata": {},
   "outputs": [
    {
     "data": {
      "text/plain": [
       "0"
      ]
     },
     "execution_count": 53,
     "metadata": {},
     "output_type": "execute_result"
    }
   ],
   "source": [
    "df.isna().sum().sum()"
   ]
  },
  {
   "cell_type": "code",
   "execution_count": 54,
   "metadata": {},
   "outputs": [
    {
     "data": {
      "text/plain": [
       "management       969\n",
       "blue-collar      946\n",
       "technician       768\n",
       "admin.           478\n",
       "services         417\n",
       "retired          230\n",
       "self-employed    183\n",
       "entrepreneur     168\n",
       "unemployed       128\n",
       "housemaid        112\n",
       "student           84\n",
       "unknown           38\n",
       "Name: job, dtype: int64"
      ]
     },
     "execution_count": 54,
     "metadata": {},
     "output_type": "execute_result"
    }
   ],
   "source": [
    "# EDM\n",
    "j= df['job']\n",
    "j.value_counts()"
   ]
  },
  {
   "cell_type": "code",
   "execution_count": 55,
   "metadata": {},
   "outputs": [
    {
     "data": {
      "text/plain": [
       "<matplotlib.axes._subplots.AxesSubplot at 0x1f7a92c0eb8>"
      ]
     },
     "execution_count": 55,
     "metadata": {},
     "output_type": "execute_result"
    },
    {
     "data": {
      "image/png": "[encoded data removed]",
      "text/plain": [
       "<Figure size 432x288 with 1 Axes>"
      ]
     },
     "metadata": {
      "needs_background": "light"
     },
     "output_type": "display_data"
    }
   ],
   "source": [
    "j.value_counts().plot.bar()"
   ]
  },
  {
   "cell_type": "code",
   "execution_count": 56,
   "metadata": {},
   "outputs": [
    {
     "data": {
      "text/plain": [
       "<matplotlib.axes._subplots.AxesSubplot at 0x1f7a931ab70>"
      ]
     },
     "execution_count": 56,
     "metadata": {},
     "output_type": "execute_result"
    },
    {
     "data": {
      "image/png": "[encoded data removed]",
      "text/plain": [
       "<Figure size 432x288 with 1 Axes>"
      ]
     },
     "metadata": {
      "needs_background": "light"
     },
     "output_type": "display_data"
    }
   ],
   "source": [
    "df.marital.value_counts().plot.barh()"
   ]
  },
  {
   "cell_type": "code",
   "execution_count": 57,
   "metadata": {},
   "outputs": [
    {
     "data": {
      "text/plain": [
       "0.11523999115239991"
      ]
     },
     "execution_count": 57,
     "metadata": {},
     "output_type": "execute_result"
    }
   ],
   "source": [
    "(df['y']=='yes').mean()"
   ]
  },
  {
   "cell_type": "code",
   "execution_count": 58,
   "metadata": {},
   "outputs": [
    {
     "data": {
      "text/plain": [
       "<matplotlib.axes._subplots.AxesSubplot at 0x1f7a9398b00>"
      ]
     },
     "execution_count": 58,
     "metadata": {},
     "output_type": "execute_result"
    },
    {
     "data": {
      "image/png": "[encoded data removed]",
      "text/plain": [
       "<Figure size 432x288 with 1 Axes>"
      ]
     },
     "metadata": {
      "needs_background": "light"
     },
     "output_type": "display_data"
    }
   ],
   "source": [
    "df['age'].hist()"
   ]
  },
  {
   "cell_type": "code",
   "execution_count": 59,
   "metadata": {},
   "outputs": [
    {
     "data": {
      "text/plain": [
       "<matplotlib.axes._subplots.AxesSubplot at 0x1f7a94155f8>"
      ]
     },
     "execution_count": 59,
     "metadata": {},
     "output_type": "execute_result"
    },
    {
     "data": {
      "image/png": "[encoded data removed]",
      "text/plain": [
       "<Figure size 432x288 with 1 Axes>"
      ]
     },
     "metadata": {
      "needs_background": "light"
     },
     "output_type": "display_data"
    }
   ],
   "source": [
    "df[df.balance <20000].balance.hist(bins=20)"
   ]
  },
  {
   "cell_type": "code",
   "execution_count": 60,
   "metadata": {},
   "outputs": [],
   "source": [
    "df2 = df.iloc[:,:-1]"
   ]
  },
  {
   "cell_type": "code",
   "execution_count": 61,
   "metadata": {},
   "outputs": [
    {
     "name": "stdout",
     "output_type": "stream",
     "text": [
      "<class 'pandas.core.frame.DataFrame'>\n",
      "RangeIndex: 4521 entries, 0 to 4520\n",
      "Data columns (total 16 columns):\n",
      "age          4521 non-null int64\n",
      "job          4521 non-null object\n",
      "marital      4521 non-null object\n",
      "education    4521 non-null object\n",
      "default      4521 non-null object\n",
      "balance      4521 non-null int64\n",
      "housing      4521 non-null object\n",
      "loan         4521 non-null object\n",
      "contact      4521 non-null object\n",
      "day          4521 non-null object\n",
      "month        4521 non-null object\n",
      "duration     4521 non-null int64\n",
      "campaign     4521 non-null int64\n",
      "pdays        4521 non-null int64\n",
      "previous     4521 non-null int64\n",
      "poutcome     4521 non-null object\n",
      "dtypes: int64(6), object(10)\n",
      "memory usage: 565.2+ KB\n"
     ]
    },
    {
     "data": {
      "text/plain": [
       "(   age          job  marital  education default  balance housing loan  \\\n",
       " 0   30   unemployed  married    primary      no     1787      no   no   \n",
       " 1   33     services  married  secondary      no     4789     yes  yes   \n",
       " 2   35   management   single   tertiary      no     1350     yes   no   \n",
       " 3   30   management  married   tertiary      no     1476     yes  yes   \n",
       " 4   59  blue-collar  married  secondary      no        0     yes   no   \n",
       " \n",
       "     contact day month  duration  campaign  pdays  previous poutcome  \n",
       " 0  cellular  19   oct        79         1     -1         0  unknown  \n",
       " 1  cellular  11   may       220         1    339         4  failure  \n",
       " 2  cellular  16   apr       185         1    330         1  failure  \n",
       " 3   unknown   3   jun       199         4     -1         0  unknown  \n",
       " 4   unknown   5   may       226         1     -1         0  unknown  , None)"
      ]
     },
     "execution_count": 61,
     "metadata": {},
     "output_type": "execute_result"
    }
   ],
   "source": [
    "# 원핫 인코딩 준비\n",
    "# day는 int가 아닌 object여야 한다.\n",
    "df2['day'] = df2['day'].astype('object')\n",
    "df2.head(), df2.info()"
   ]
  },
  {
   "cell_type": "code",
   "execution_count": 62,
   "metadata": {},
   "outputs": [],
   "source": [
    "df_hot = pd.get_dummies(df2)"
   ]
  },
  {
   "cell_type": "code",
   "execution_count": 63,
   "metadata": {},
   "outputs": [],
   "source": [
    "#원 핫 인코딩\n",
    "df_hot = pd.get_dummies(df2)"
   ]
  },
  {
   "cell_type": "code",
   "execution_count": 64,
   "metadata": {},
   "outputs": [
    {
     "data": {
      "text/plain": [
       "Index(['age', 'balance', 'duration', 'campaign', 'pdays', 'previous',\n",
       "       'job_admin.', 'job_blue-collar', 'job_entrepreneur', 'job_housemaid',\n",
       "       'job_management', 'job_retired', 'job_self-employed', 'job_services',\n",
       "       'job_student', 'job_technician', 'job_unemployed', 'job_unknown',\n",
       "       'marital_divorced', 'marital_married', 'marital_single',\n",
       "       'education_primary', 'education_secondary', 'education_tertiary',\n",
       "       'education_unknown', 'default_no', 'default_yes', 'housing_no',\n",
       "       'housing_yes', 'loan_no', 'loan_yes', 'contact_cellular',\n",
       "       'contact_telephone', 'contact_unknown', 'day_1', 'day_2', 'day_3',\n",
       "       'day_4', 'day_5', 'day_6', 'day_7', 'day_8', 'day_9', 'day_10',\n",
       "       'day_11', 'day_12', 'day_13', 'day_14', 'day_15', 'day_16', 'day_17',\n",
       "       'day_18', 'day_19', 'day_20', 'day_21', 'day_22', 'day_23', 'day_24',\n",
       "       'day_25', 'day_26', 'day_27', 'day_28', 'day_29', 'day_30', 'day_31',\n",
       "       'month_apr', 'month_aug', 'month_dec', 'month_feb', 'month_jan',\n",
       "       'month_jul', 'month_jun', 'month_mar', 'month_may', 'month_nov',\n",
       "       'month_oct', 'month_sep', 'poutcome_failure', 'poutcome_other',\n",
       "       'poutcome_success', 'poutcome_unknown'],\n",
       "      dtype='object')"
      ]
     },
     "execution_count": 64,
     "metadata": {},
     "output_type": "execute_result"
    }
   ],
   "source": [
    "df_hot.columns"
   ]
  },
  {
   "cell_type": "code",
   "execution_count": 65,
   "metadata": {},
   "outputs": [
    {
     "data": {
      "text/plain": [
       "(   age  balance  duration  campaign  pdays  previous  job_admin.  \\\n",
       " 0   30     1787        79         1     -1         0           0   \n",
       " 1   33     4789       220         1    339         4           0   \n",
       " 2   35     1350       185         1    330         1           0   \n",
       " 3   30     1476       199         4     -1         0           0   \n",
       " 4   59        0       226         1     -1         0           0   \n",
       " \n",
       "    job_blue-collar  job_entrepreneur  job_housemaid  ...  month_jun  \\\n",
       " 0                0                 0              0  ...          0   \n",
       " 1                0                 0              0  ...          0   \n",
       " 2                0                 0              0  ...          0   \n",
       " 3                0                 0              0  ...          1   \n",
       " 4                1                 0              0  ...          0   \n",
       " \n",
       "    month_mar  month_may  month_nov  month_oct  month_sep  poutcome_failure  \\\n",
       " 0          0          0          0          1          0                 0   \n",
       " 1          0          1          0          0          0                 1   \n",
       " 2          0          0          0          0          0                 1   \n",
       " 3          0          0          0          0          0                 0   \n",
       " 4          0          1          0          0          0                 0   \n",
       " \n",
       "    poutcome_other  poutcome_success  poutcome_unknown  \n",
       " 0               0                 0                 1  \n",
       " 1               0                 0                 0  \n",
       " 2               0                 0                 0  \n",
       " 3               0                 0                 1  \n",
       " 4               0                 0                 1  \n",
       " \n",
       " [5 rows x 81 columns], 0    no\n",
       " 1    no\n",
       " 2    no\n",
       " 3    no\n",
       " 4    no\n",
       " Name: y, dtype: object)"
      ]
     },
     "execution_count": 65,
     "metadata": {},
     "output_type": "execute_result"
    }
   ],
   "source": [
    "X = df_hot\n",
    "y = df.iloc[:,-1]\n",
    "X.head(), y.head()"
   ]
  },
  {
   "cell_type": "code",
   "execution_count": 66,
   "metadata": {},
   "outputs": [],
   "source": [
    "X_train, X_test, y_train, y_test = train_test_split(X,y, test_size = 0.25, random_state=42) # test_size = 0.25, random_state=42"
   ]
  },
  {
   "cell_type": "code",
   "execution_count": 67,
   "metadata": {},
   "outputs": [
    {
     "data": {
      "text/plain": [
       "((3390, 81), (1131, 81), (3390,), (1131,))"
      ]
     },
     "execution_count": 67,
     "metadata": {},
     "output_type": "execute_result"
    }
   ],
   "source": [
    "X_train.shape, X_test.shape, y_train.shape, y_test.shape"
   ]
  },
  {
   "cell_type": "code",
   "execution_count": 68,
   "metadata": {},
   "outputs": [
    {
     "data": {
      "text/plain": [
       "0.883289124668435"
      ]
     },
     "execution_count": 68,
     "metadata": {},
     "output_type": "execute_result"
    }
   ],
   "source": [
    "knn = KNeighborsClassifier(n_neighbors=3)\n",
    "knn.fit(X_train, y_train)\n",
    "knn.score(X_test, y_test)"
   ]
  },
  {
   "cell_type": "code",
   "execution_count": 69,
   "metadata": {},
   "outputs": [
    {
     "name": "stderr",
     "output_type": "stream",
     "text": [
      "C:\\Users\\wtime\\Anaconda3\\lib\\site-packages\\sklearn\\linear_model\\logistic.py:433: FutureWarning: Default solver will be changed to 'lbfgs' in 0.22. Specify a solver to silence this warning.\n",
      "  FutureWarning)\n"
     ]
    },
    {
     "data": {
      "text/plain": [
       "0.8983200707338639"
      ]
     },
     "execution_count": 69,
     "metadata": {},
     "output_type": "execute_result"
    }
   ],
   "source": [
    "lr = LogisticRegression()\n",
    "lr.fit(X_train,y_train)\n",
    "lr.score(X_test, y_test)"
   ]
  },
  {
   "cell_type": "code",
   "execution_count": 70,
   "metadata": {},
   "outputs": [
    {
     "data": {
      "text/plain": [
       "0.8983200707338639"
      ]
     },
     "execution_count": 70,
     "metadata": {},
     "output_type": "execute_result"
    }
   ],
   "source": [
    "model = DecisionTreeClassifier(max_depth=3).fit(X_train,y_train)\n",
    "model.score(X_test, y_test)"
   ]
  },
  {
   "cell_type": "code",
   "execution_count": 71,
   "metadata": {},
   "outputs": [
    {
     "data": {
      "text/plain": [
       "0.9018567639257294"
      ]
     },
     "execution_count": 71,
     "metadata": {},
     "output_type": "execute_result"
    }
   ],
   "source": [
    "rf = RandomForestClassifier(n_estimators=100).fit(X_train,y_train)\n",
    "rf.score(X_test,y_test)"
   ]
  },
  {
   "cell_type": "code",
   "execution_count": 72,
   "metadata": {},
   "outputs": [
    {
     "data": {
      "text/plain": [
       "(array([0.08229273, 0.07621958, 0.22873266, 0.03403555, 0.03632812,\n",
       "        0.02322306, 0.00884848, 0.00973125, 0.00279932, 0.00472441,\n",
       "        0.01077008, 0.00808761, 0.00378   , 0.00560435, 0.00429029,\n",
       "        0.01135288, 0.00222003, 0.00218032, 0.00855309, 0.01238242,\n",
       "        0.01020902, 0.0076964 , 0.0127817 , 0.01199516, 0.00565178,\n",
       "        0.00204303, 0.00246779, 0.01255823, 0.01075441, 0.00654592,\n",
       "        0.00656714, 0.00923235, 0.00549593, 0.00904859, 0.00450344,\n",
       "        0.00480789, 0.00373652, 0.00172666, 0.00645832, 0.00476885,\n",
       "        0.00401267, 0.00365928, 0.00467844, 0.00403041, 0.00393622,\n",
       "        0.00713267, 0.00528487, 0.00564174, 0.00486771, 0.00659839,\n",
       "        0.00383238, 0.00809133, 0.00281416, 0.00471301, 0.00618307,\n",
       "        0.00390817, 0.00325164, 0.00312342, 0.00247658, 0.00397633,\n",
       "        0.00468559, 0.0039253 , 0.00282263, 0.00795129, 0.00082261,\n",
       "        0.01307114, 0.00933592, 0.00319725, 0.0065301 , 0.00295806,\n",
       "        0.0083947 , 0.01127654, 0.01247767, 0.01082511, 0.00759832,\n",
       "        0.01725507, 0.00498268, 0.00992528, 0.00447401, 0.04105232,\n",
       "        0.00902056]),\n",
       " Index(['age', 'job', 'marital', 'education', 'default', 'balance', 'housing',\n",
       "        'loan', 'contact', 'day', 'month', 'duration', 'campaign', 'pdays',\n",
       "        'previous', 'poutcome', 'y'],\n",
       "       dtype='object'))"
      ]
     },
     "execution_count": 72,
     "metadata": {},
     "output_type": "execute_result"
    }
   ],
   "source": [
    "rf.feature_importances_, df.columns"
   ]
  },
  {
   "cell_type": "code",
   "execution_count": 73,
   "metadata": {},
   "outputs": [
    {
     "data": {
      "text/plain": [
       "<BarContainer object of 81 artists>"
      ]
     },
     "execution_count": 73,
     "metadata": {},
     "output_type": "execute_result"
    },
    {
     "data": {
      "image/png": "[encoded data removed]",
      "text/plain": [
       "<Figure size 720x720 with 1 Axes>"
      ]
     },
     "metadata": {
      "needs_background": "light"
     },
     "output_type": "display_data"
    }
   ],
   "source": [
    "plt.figure(figsize=(10,10))\n",
    "plt.barh(X_train.columns, rf.feature_importances_)"
   ]
  },
  {
   "cell_type": "code",
   "execution_count": 74,
   "metadata": {},
   "outputs": [
    {
     "data": {
      "image/svg+xml": [
       "<?xml version=\"1.0\" encoding=\"UTF-8\" standalone=\"no\"?>\r\n",
       "<!DOCTYPE svg PUBLIC \"-//W3C//DTD SVG 1.1//EN\"\r\n",
       " \"http://www.w3.org/Graphics/SVG/1.1/DTD/svg11.dtd\">\r\n",
       "<!-- Generated by graphviz version 2.38.0 (20140413.2041)\r\n",
       " -->\r\n",
       "<!-- Title: Tree Pages: 1 -->\r\n",
       "<svg width=\"990pt\" height=\"373pt\"\r\n",
       " viewBox=\"0.00 0.00 990.00 373.00\" xmlns=\"http://www.w3.org/2000/svg\" xmlns:xlink=\"http://www.w3.org/1999/xlink\">\r\n",
       "<g id=\"graph0\" class=\"graph\" transform=\"scale(1 1) rotate(0) translate(4 369)\">\r\n",
       "<title>Tree</title>\r\n",
       "<polygon fill=\"white\" stroke=\"none\" points=\"-4,4 -4,-369 986,-369 986,4 -4,4\"/>\r\n",
       "<!-- 0 -->\r\n",
       "<g id=\"node1\" class=\"node\"><title>0</title>\r\n",
       "<polygon fill=\"#e58139\" fill-opacity=\"0.866667\" stroke=\"black\" points=\"565.5,-365 440.5,-365 440.5,-297 565.5,-297 565.5,-365\"/>\r\n",
       "<text text-anchor=\"middle\" x=\"503\" y=\"-349.8\" font-family=\"Times New Roman,serif\" font-size=\"14.00\">duration &lt;= 561.0</text>\r\n",
       "<text text-anchor=\"middle\" x=\"503\" y=\"-334.8\" font-family=\"Times New Roman,serif\" font-size=\"14.00\">samples = 3390</text>\r\n",
       "<text text-anchor=\"middle\" x=\"503\" y=\"-319.8\" font-family=\"Times New Roman,serif\" font-size=\"14.00\">value = [2994, 396]</text>\r\n",
       "<text text-anchor=\"middle\" x=\"503\" y=\"-304.8\" font-family=\"Times New Roman,serif\" font-size=\"14.00\">class = Y</text>\r\n",
       "</g>\r\n",
       "<!-- 1 -->\r\n",
       "<g id=\"node2\" class=\"node\"><title>1</title>\r\n",
       "<polygon fill=\"#e58139\" fill-opacity=\"0.913725\" stroke=\"black\" points=\"488,-261 322,-261 322,-193 488,-193 488,-261\"/>\r\n",
       "<text text-anchor=\"middle\" x=\"405\" y=\"-245.8\" font-family=\"Times New Roman,serif\" font-size=\"14.00\">poutcome_success &lt;= 0.5</text>\r\n",
       "<text text-anchor=\"middle\" x=\"405\" y=\"-230.8\" font-family=\"Times New Roman,serif\" font-size=\"14.00\">samples = 3029</text>\r\n",
       "<text text-anchor=\"middle\" x=\"405\" y=\"-215.8\" font-family=\"Times New Roman,serif\" font-size=\"14.00\">value = [2793, 236]</text>\r\n",
       "<text text-anchor=\"middle\" x=\"405\" y=\"-200.8\" font-family=\"Times New Roman,serif\" font-size=\"14.00\">class = Y</text>\r\n",
       "</g>\r\n",
       "<!-- 0&#45;&gt;1 -->\r\n",
       "<g id=\"edge1\" class=\"edge\"><title>0&#45;&gt;1</title>\r\n",
       "<path fill=\"none\" stroke=\"black\" d=\"M471.182,-296.884C462.539,-287.887 453.078,-278.041 444.083,-268.678\"/>\r\n",
       "<polygon fill=\"black\" stroke=\"black\" points=\"446.446,-266.086 436.994,-261.299 441.398,-270.935 446.446,-266.086\"/>\r\n",
       "<text text-anchor=\"middle\" x=\"436.494\" y=\"-282.594\" font-family=\"Times New Roman,serif\" font-size=\"14.00\">True</text>\r\n",
       "</g>\r\n",
       "<!-- 8 -->\r\n",
       "<g id=\"node9\" class=\"node\"><title>8</title>\r\n",
       "<polygon fill=\"#e58139\" fill-opacity=\"0.203922\" stroke=\"black\" points=\"660,-261 542,-261 542,-193 660,-193 660,-261\"/>\r\n",
       "<text text-anchor=\"middle\" x=\"601\" y=\"-245.8\" font-family=\"Times New Roman,serif\" font-size=\"14.00\">duration &lt;= 764.5</text>\r\n",
       "<text text-anchor=\"middle\" x=\"601\" y=\"-230.8\" font-family=\"Times New Roman,serif\" font-size=\"14.00\">samples = 361</text>\r\n",
       "<text text-anchor=\"middle\" x=\"601\" y=\"-215.8\" font-family=\"Times New Roman,serif\" font-size=\"14.00\">value = [201, 160]</text>\r\n",
       "<text text-anchor=\"middle\" x=\"601\" y=\"-200.8\" font-family=\"Times New Roman,serif\" font-size=\"14.00\">class = Y</text>\r\n",
       "</g>\r\n",
       "<!-- 0&#45;&gt;8 -->\r\n",
       "<g id=\"edge8\" class=\"edge\"><title>0&#45;&gt;8</title>\r\n",
       "<path fill=\"none\" stroke=\"black\" d=\"M534.818,-296.884C543.461,-287.887 552.922,-278.041 561.917,-268.678\"/>\r\n",
       "<polygon fill=\"black\" stroke=\"black\" points=\"564.602,-270.935 569.006,-261.299 559.554,-266.086 564.602,-270.935\"/>\r\n",
       "<text text-anchor=\"middle\" x=\"569.506\" y=\"-282.594\" font-family=\"Times New Roman,serif\" font-size=\"14.00\">False</text>\r\n",
       "</g>\r\n",
       "<!-- 2 -->\r\n",
       "<g id=\"node3\" class=\"node\"><title>2</title>\r\n",
       "<polygon fill=\"#e58139\" fill-opacity=\"0.933333\" stroke=\"black\" points=\"257.5,-157 132.5,-157 132.5,-89 257.5,-89 257.5,-157\"/>\r\n",
       "<text text-anchor=\"middle\" x=\"195\" y=\"-141.8\" font-family=\"Times New Roman,serif\" font-size=\"14.00\">duration &lt;= 222.5</text>\r\n",
       "<text text-anchor=\"middle\" x=\"195\" y=\"-126.8\" font-family=\"Times New Roman,serif\" font-size=\"14.00\">samples = 2945</text>\r\n",
       "<text text-anchor=\"middle\" x=\"195\" y=\"-111.8\" font-family=\"Times New Roman,serif\" font-size=\"14.00\">value = [2764, 181]</text>\r\n",
       "<text text-anchor=\"middle\" x=\"195\" y=\"-96.8\" font-family=\"Times New Roman,serif\" font-size=\"14.00\">class = Y</text>\r\n",
       "</g>\r\n",
       "<!-- 1&#45;&gt;2 -->\r\n",
       "<g id=\"edge2\" class=\"edge\"><title>1&#45;&gt;2</title>\r\n",
       "<path fill=\"none\" stroke=\"black\" d=\"M336.819,-192.884C314.399,-181.994 289.414,-169.858 266.737,-158.844\"/>\r\n",
       "<polygon fill=\"black\" stroke=\"black\" points=\"268.033,-155.582 257.508,-154.361 264.974,-161.879 268.033,-155.582\"/>\r\n",
       "</g>\r\n",
       "<!-- 5 -->\r\n",
       "<g id=\"node6\" class=\"node\"><title>5</title>\r\n",
       "<polygon fill=\"#399de5\" fill-opacity=\"0.474510\" stroke=\"black\" points=\"463.5,-157 346.5,-157 346.5,-89 463.5,-89 463.5,-157\"/>\r\n",
       "<text text-anchor=\"middle\" x=\"405\" y=\"-141.8\" font-family=\"Times New Roman,serif\" font-size=\"14.00\">duration &lt;= 146.5</text>\r\n",
       "<text text-anchor=\"middle\" x=\"405\" y=\"-126.8\" font-family=\"Times New Roman,serif\" font-size=\"14.00\">samples = 84</text>\r\n",
       "<text text-anchor=\"middle\" x=\"405\" y=\"-111.8\" font-family=\"Times New Roman,serif\" font-size=\"14.00\">value = [29, 55]</text>\r\n",
       "<text text-anchor=\"middle\" x=\"405\" y=\"-96.8\" font-family=\"Times New Roman,serif\" font-size=\"14.00\">class = N</text>\r\n",
       "</g>\r\n",
       "<!-- 1&#45;&gt;5 -->\r\n",
       "<g id=\"edge5\" class=\"edge\"><title>1&#45;&gt;5</title>\r\n",
       "<path fill=\"none\" stroke=\"black\" d=\"M405,-192.884C405,-184.778 405,-175.982 405,-167.472\"/>\r\n",
       "<polygon fill=\"black\" stroke=\"black\" points=\"408.5,-167.299 405,-157.299 401.5,-167.299 408.5,-167.299\"/>\r\n",
       "</g>\r\n",
       "<!-- 3 -->\r\n",
       "<g id=\"node4\" class=\"node\"><title>3</title>\r\n",
       "<polygon fill=\"#e58139\" fill-opacity=\"0.972549\" stroke=\"black\" points=\"118,-53 0,-53 0,-0 118,-0 118,-53\"/>\r\n",
       "<text text-anchor=\"middle\" x=\"59\" y=\"-37.8\" font-family=\"Times New Roman,serif\" font-size=\"14.00\">samples = 1967</text>\r\n",
       "<text text-anchor=\"middle\" x=\"59\" y=\"-22.8\" font-family=\"Times New Roman,serif\" font-size=\"14.00\">value = [1915, 52]</text>\r\n",
       "<text text-anchor=\"middle\" x=\"59\" y=\"-7.8\" font-family=\"Times New Roman,serif\" font-size=\"14.00\">class = Y</text>\r\n",
       "</g>\r\n",
       "<!-- 2&#45;&gt;3 -->\r\n",
       "<g id=\"edge3\" class=\"edge\"><title>2&#45;&gt;3</title>\r\n",
       "<path fill=\"none\" stroke=\"black\" d=\"M147.434,-88.9485C133.478,-79.2516 118.257,-68.6752 104.438,-59.073\"/>\r\n",
       "<polygon fill=\"black\" stroke=\"black\" points=\"106.248,-56.0687 96.0391,-53.2367 102.254,-61.8172 106.248,-56.0687\"/>\r\n",
       "</g>\r\n",
       "<!-- 4 -->\r\n",
       "<g id=\"node5\" class=\"node\"><title>4</title>\r\n",
       "<polygon fill=\"#e58139\" fill-opacity=\"0.847059\" stroke=\"black\" points=\"254,-53 136,-53 136,-0 254,-0 254,-53\"/>\r\n",
       "<text text-anchor=\"middle\" x=\"195\" y=\"-37.8\" font-family=\"Times New Roman,serif\" font-size=\"14.00\">samples = 978</text>\r\n",
       "<text text-anchor=\"middle\" x=\"195\" y=\"-22.8\" font-family=\"Times New Roman,serif\" font-size=\"14.00\">value = [849, 129]</text>\r\n",
       "<text text-anchor=\"middle\" x=\"195\" y=\"-7.8\" font-family=\"Times New Roman,serif\" font-size=\"14.00\">class = Y</text>\r\n",
       "</g>\r\n",
       "<!-- 2&#45;&gt;4 -->\r\n",
       "<g id=\"edge4\" class=\"edge\"><title>2&#45;&gt;4</title>\r\n",
       "<path fill=\"none\" stroke=\"black\" d=\"M195,-88.9485C195,-80.7153 195,-71.848 195,-63.4814\"/>\r\n",
       "<polygon fill=\"black\" stroke=\"black\" points=\"198.5,-63.2367 195,-53.2367 191.5,-63.2367 198.5,-63.2367\"/>\r\n",
       "</g>\r\n",
       "<!-- 6 -->\r\n",
       "<g id=\"node7\" class=\"node\"><title>6</title>\r\n",
       "<polygon fill=\"#e58139\" fill-opacity=\"0.800000\" stroke=\"black\" points=\"370,-53 272,-53 272,-0 370,-0 370,-53\"/>\r\n",
       "<text text-anchor=\"middle\" x=\"321\" y=\"-37.8\" font-family=\"Times New Roman,serif\" font-size=\"14.00\">samples = 12</text>\r\n",
       "<text text-anchor=\"middle\" x=\"321\" y=\"-22.8\" font-family=\"Times New Roman,serif\" font-size=\"14.00\">value = [10, 2]</text>\r\n",
       "<text text-anchor=\"middle\" x=\"321\" y=\"-7.8\" font-family=\"Times New Roman,serif\" font-size=\"14.00\">class = Y</text>\r\n",
       "</g>\r\n",
       "<!-- 5&#45;&gt;6 -->\r\n",
       "<g id=\"edge6\" class=\"edge\"><title>5&#45;&gt;6</title>\r\n",
       "<path fill=\"none\" stroke=\"black\" d=\"M375.621,-88.9485C367.489,-79.8005 358.662,-69.8697 350.522,-60.7126\"/>\r\n",
       "<polygon fill=\"black\" stroke=\"black\" points=\"353.137,-58.3855 343.877,-53.2367 347.905,-63.0361 353.137,-58.3855\"/>\r\n",
       "</g>\r\n",
       "<!-- 7 -->\r\n",
       "<g id=\"node8\" class=\"node\"><title>7</title>\r\n",
       "<polygon fill=\"#399de5\" fill-opacity=\"0.643137\" stroke=\"black\" points=\"492,-53 388,-53 388,-0 492,-0 492,-53\"/>\r\n",
       "<text text-anchor=\"middle\" x=\"440\" y=\"-37.8\" font-family=\"Times New Roman,serif\" font-size=\"14.00\">samples = 72</text>\r\n",
       "<text text-anchor=\"middle\" x=\"440\" y=\"-22.8\" font-family=\"Times New Roman,serif\" font-size=\"14.00\">value = [19, 53]</text>\r\n",
       "<text text-anchor=\"middle\" x=\"440\" y=\"-7.8\" font-family=\"Times New Roman,serif\" font-size=\"14.00\">class = N</text>\r\n",
       "</g>\r\n",
       "<!-- 5&#45;&gt;7 -->\r\n",
       "<g id=\"edge7\" class=\"edge\"><title>5&#45;&gt;7</title>\r\n",
       "<path fill=\"none\" stroke=\"black\" d=\"M417.241,-88.9485C420.392,-80.4408 423.794,-71.2562 426.983,-62.6464\"/>\r\n",
       "<polygon fill=\"black\" stroke=\"black\" points=\"430.277,-63.8298 430.468,-53.2367 423.713,-61.3986 430.277,-63.8298\"/>\r\n",
       "</g>\r\n",
       "<!-- 9 -->\r\n",
       "<g id=\"node10\" class=\"node\"><title>9</title>\r\n",
       "<polygon fill=\"#e58139\" fill-opacity=\"0.494118\" stroke=\"black\" points=\"656.5,-157 545.5,-157 545.5,-89 656.5,-89 656.5,-157\"/>\r\n",
       "<text text-anchor=\"middle\" x=\"601\" y=\"-141.8\" font-family=\"Times New Roman,serif\" font-size=\"14.00\">day_18 &lt;= 0.5</text>\r\n",
       "<text text-anchor=\"middle\" x=\"601\" y=\"-126.8\" font-family=\"Times New Roman,serif\" font-size=\"14.00\">samples = 196</text>\r\n",
       "<text text-anchor=\"middle\" x=\"601\" y=\"-111.8\" font-family=\"Times New Roman,serif\" font-size=\"14.00\">value = [130, 66]</text>\r\n",
       "<text text-anchor=\"middle\" x=\"601\" y=\"-96.8\" font-family=\"Times New Roman,serif\" font-size=\"14.00\">class = Y</text>\r\n",
       "</g>\r\n",
       "<!-- 8&#45;&gt;9 -->\r\n",
       "<g id=\"edge9\" class=\"edge\"><title>8&#45;&gt;9</title>\r\n",
       "<path fill=\"none\" stroke=\"black\" d=\"M601,-192.884C601,-184.778 601,-175.982 601,-167.472\"/>\r\n",
       "<polygon fill=\"black\" stroke=\"black\" points=\"604.5,-167.299 601,-157.299 597.5,-167.299 604.5,-167.299\"/>\r\n",
       "</g>\r\n",
       "<!-- 12 -->\r\n",
       "<g id=\"node13\" class=\"node\"><title>12</title>\r\n",
       "<polygon fill=\"#399de5\" fill-opacity=\"0.243137\" stroke=\"black\" points=\"870,-157 746,-157 746,-89 870,-89 870,-157\"/>\r\n",
       "<text text-anchor=\"middle\" x=\"808\" y=\"-141.8\" font-family=\"Times New Roman,serif\" font-size=\"14.00\">month_may &lt;= 0.5</text>\r\n",
       "<text text-anchor=\"middle\" x=\"808\" y=\"-126.8\" font-family=\"Times New Roman,serif\" font-size=\"14.00\">samples = 165</text>\r\n",
       "<text text-anchor=\"middle\" x=\"808\" y=\"-111.8\" font-family=\"Times New Roman,serif\" font-size=\"14.00\">value = [71, 94]</text>\r\n",
       "<text text-anchor=\"middle\" x=\"808\" y=\"-96.8\" font-family=\"Times New Roman,serif\" font-size=\"14.00\">class = N</text>\r\n",
       "</g>\r\n",
       "<!-- 8&#45;&gt;12 -->\r\n",
       "<g id=\"edge12\" class=\"edge\"><title>8&#45;&gt;12</title>\r\n",
       "<path fill=\"none\" stroke=\"black\" d=\"M660.041,-196.907C683.987,-185.108 711.854,-171.376 736.904,-159.033\"/>\r\n",
       "<polygon fill=\"black\" stroke=\"black\" points=\"738.57,-162.114 745.993,-154.554 735.476,-155.835 738.57,-162.114\"/>\r\n",
       "</g>\r\n",
       "<!-- 10 -->\r\n",
       "<g id=\"node11\" class=\"node\"><title>10</title>\r\n",
       "<polygon fill=\"#e58139\" fill-opacity=\"0.560784\" stroke=\"black\" points=\"621.5,-53 510.5,-53 510.5,-0 621.5,-0 621.5,-53\"/>\r\n",
       "<text text-anchor=\"middle\" x=\"566\" y=\"-37.8\" font-family=\"Times New Roman,serif\" font-size=\"14.00\">samples = 180</text>\r\n",
       "<text text-anchor=\"middle\" x=\"566\" y=\"-22.8\" font-family=\"Times New Roman,serif\" font-size=\"14.00\">value = [125, 55]</text>\r\n",
       "<text text-anchor=\"middle\" x=\"566\" y=\"-7.8\" font-family=\"Times New Roman,serif\" font-size=\"14.00\">class = Y</text>\r\n",
       "</g>\r\n",
       "<!-- 9&#45;&gt;10 -->\r\n",
       "<g id=\"edge10\" class=\"edge\"><title>9&#45;&gt;10</title>\r\n",
       "<path fill=\"none\" stroke=\"black\" d=\"M588.759,-88.9485C585.608,-80.4408 582.206,-71.2562 579.017,-62.6464\"/>\r\n",
       "<polygon fill=\"black\" stroke=\"black\" points=\"582.287,-61.3986 575.532,-53.2367 575.723,-63.8298 582.287,-61.3986\"/>\r\n",
       "</g>\r\n",
       "<!-- 11 -->\r\n",
       "<g id=\"node12\" class=\"node\"><title>11</title>\r\n",
       "<polygon fill=\"#399de5\" fill-opacity=\"0.545098\" stroke=\"black\" points=\"738,-53 640,-53 640,-0 738,-0 738,-53\"/>\r\n",
       "<text text-anchor=\"middle\" x=\"689\" y=\"-37.8\" font-family=\"Times New Roman,serif\" font-size=\"14.00\">samples = 16</text>\r\n",
       "<text text-anchor=\"middle\" x=\"689\" y=\"-22.8\" font-family=\"Times New Roman,serif\" font-size=\"14.00\">value = [5, 11]</text>\r\n",
       "<text text-anchor=\"middle\" x=\"689\" y=\"-7.8\" font-family=\"Times New Roman,serif\" font-size=\"14.00\">class = N</text>\r\n",
       "</g>\r\n",
       "<!-- 9&#45;&gt;11 -->\r\n",
       "<g id=\"edge11\" class=\"edge\"><title>9&#45;&gt;11</title>\r\n",
       "<path fill=\"none\" stroke=\"black\" d=\"M631.778,-88.9485C640.297,-79.8005 649.545,-69.8697 658.072,-60.7126\"/>\r\n",
       "<polygon fill=\"black\" stroke=\"black\" points=\"660.78,-62.9402 665.034,-53.2367 655.657,-58.1698 660.78,-62.9402\"/>\r\n",
       "</g>\r\n",
       "<!-- 13 -->\r\n",
       "<g id=\"node14\" class=\"node\"><title>13</title>\r\n",
       "<polygon fill=\"#399de5\" fill-opacity=\"0.419608\" stroke=\"black\" points=\"860,-53 756,-53 756,-0 860,-0 860,-53\"/>\r\n",
       "<text text-anchor=\"middle\" x=\"808\" y=\"-37.8\" font-family=\"Times New Roman,serif\" font-size=\"14.00\">samples = 117</text>\r\n",
       "<text text-anchor=\"middle\" x=\"808\" y=\"-22.8\" font-family=\"Times New Roman,serif\" font-size=\"14.00\">value = [43, 74]</text>\r\n",
       "<text text-anchor=\"middle\" x=\"808\" y=\"-7.8\" font-family=\"Times New Roman,serif\" font-size=\"14.00\">class = N</text>\r\n",
       "</g>\r\n",
       "<!-- 12&#45;&gt;13 -->\r\n",
       "<g id=\"edge13\" class=\"edge\"><title>12&#45;&gt;13</title>\r\n",
       "<path fill=\"none\" stroke=\"black\" d=\"M808,-88.9485C808,-80.7153 808,-71.848 808,-63.4814\"/>\r\n",
       "<polygon fill=\"black\" stroke=\"black\" points=\"811.5,-63.2367 808,-53.2367 804.5,-63.2367 811.5,-63.2367\"/>\r\n",
       "</g>\r\n",
       "<!-- 14 -->\r\n",
       "<g id=\"node15\" class=\"node\"><title>14</title>\r\n",
       "<polygon fill=\"#e58139\" fill-opacity=\"0.286275\" stroke=\"black\" points=\"982,-53 878,-53 878,-0 982,-0 982,-53\"/>\r\n",
       "<text text-anchor=\"middle\" x=\"930\" y=\"-37.8\" font-family=\"Times New Roman,serif\" font-size=\"14.00\">samples = 48</text>\r\n",
       "<text text-anchor=\"middle\" x=\"930\" y=\"-22.8\" font-family=\"Times New Roman,serif\" font-size=\"14.00\">value = [28, 20]</text>\r\n",
       "<text text-anchor=\"middle\" x=\"930\" y=\"-7.8\" font-family=\"Times New Roman,serif\" font-size=\"14.00\">class = Y</text>\r\n",
       "</g>\r\n",
       "<!-- 12&#45;&gt;14 -->\r\n",
       "<g id=\"edge14\" class=\"edge\"><title>12&#45;&gt;14</title>\r\n",
       "<path fill=\"none\" stroke=\"black\" d=\"M850.67,-88.9485C862.952,-79.4346 876.328,-69.074 888.536,-59.6175\"/>\r\n",
       "<polygon fill=\"black\" stroke=\"black\" points=\"891.011,-62.1274 896.774,-53.2367 886.725,-56.5934 891.011,-62.1274\"/>\r\n",
       "</g>\r\n",
       "</g>\r\n",
       "</svg>\r\n"
      ],
      "text/plain": [
       "<graphviz.files.Source at 0x1f7aacd76d8>"
      ]
     },
     "metadata": {},
     "output_type": "display_data"
    }
   ],
   "source": [
    "export_graphviz(model, out_file='loan.dot', class_names=['Y','N'], feature_names=X.columns, impurity=False, filled=True)\n",
    "with open('loan.dot') as f:\n",
    "    dot_graph = f.read()\n",
    "g = graphviz.Source(dot_graph)\n",
    "display(g)"
   ]
  },
  {
   "cell_type": "code",
   "execution_count": null,
   "metadata": {},
   "outputs": [],
   "source": []
  },
  {
   "cell_type": "markdown",
   "metadata": {},
   "source": [
    "3. credit card froud detection > clustering\n",
    "   input : 검색\n",
    "   - https://www.kaggle.com/mlg-ulb/creditcardfraud/downloads/creditcardfraud.zip/3\n",
    "   - v1 ~ v28은 민감정보로 보여짐..\n",
    "   - may be result of a PCA Dimensionality reduction to protect user identities and sensitive features(v1-v28)"
   ]
  },
  {
   "cell_type": "code",
   "execution_count": 75,
   "metadata": {},
   "outputs": [],
   "source": [
    "folder = 'creditcardfraud/'\n",
    "file = 'creditcard.csv'"
   ]
  },
  {
   "cell_type": "code",
   "execution_count": 76,
   "metadata": {},
   "outputs": [],
   "source": [
    "fraud = pd.read_csv(folder + file)"
   ]
  },
  {
   "cell_type": "code",
   "execution_count": 77,
   "metadata": {},
   "outputs": [
    {
     "name": "stdout",
     "output_type": "stream",
     "text": [
      "<class 'pandas.core.frame.DataFrame'>\n",
      "RangeIndex: 284807 entries, 0 to 284806\n",
      "Data columns (total 31 columns):\n",
      "Time      284807 non-null float64\n",
      "V1        284807 non-null float64\n",
      "V2        284807 non-null float64\n",
      "V3        284807 non-null float64\n",
      "V4        284807 non-null float64\n",
      "V5        284807 non-null float64\n",
      "V6        284807 non-null float64\n",
      "V7        284807 non-null float64\n",
      "V8        284807 non-null float64\n",
      "V9        284807 non-null float64\n",
      "V10       284807 non-null float64\n",
      "V11       284807 non-null float64\n",
      "V12       284807 non-null float64\n",
      "V13       284807 non-null float64\n",
      "V14       284807 non-null float64\n",
      "V15       284807 non-null float64\n",
      "V16       284807 non-null float64\n",
      "V17       284807 non-null float64\n",
      "V18       284807 non-null float64\n",
      "V19       284807 non-null float64\n",
      "V20       284807 non-null float64\n",
      "V21       284807 non-null float64\n",
      "V22       284807 non-null float64\n",
      "V23       284807 non-null float64\n",
      "V24       284807 non-null float64\n",
      "V25       284807 non-null float64\n",
      "V26       284807 non-null float64\n",
      "V27       284807 non-null float64\n",
      "V28       284807 non-null float64\n",
      "Amount    284807 non-null float64\n",
      "Class     284807 non-null int64\n",
      "dtypes: float64(30), int64(1)\n",
      "memory usage: 67.4 MB\n"
     ]
    },
    {
     "data": {
      "text/plain": [
       "(   Time        V1        V2        V3        V4        V5        V6        V7  \\\n",
       " 0   0.0 -1.359807 -0.072781  2.536347  1.378155 -0.338321  0.462388  0.239599   \n",
       " 1   0.0  1.191857  0.266151  0.166480  0.448154  0.060018 -0.082361 -0.078803   \n",
       " 2   1.0 -1.358354 -1.340163  1.773209  0.379780 -0.503198  1.800499  0.791461   \n",
       " 3   1.0 -0.966272 -0.185226  1.792993 -0.863291 -0.010309  1.247203  0.237609   \n",
       " 4   2.0 -1.158233  0.877737  1.548718  0.403034 -0.407193  0.095921  0.592941   \n",
       " \n",
       "          V8        V9  ...       V21       V22       V23       V24       V25  \\\n",
       " 0  0.098698  0.363787  ... -0.018307  0.277838 -0.110474  0.066928  0.128539   \n",
       " 1  0.085102 -0.255425  ... -0.225775 -0.638672  0.101288 -0.339846  0.167170   \n",
       " 2  0.247676 -1.514654  ...  0.247998  0.771679  0.909412 -0.689281 -0.327642   \n",
       " 3  0.377436 -1.387024  ... -0.108300  0.005274 -0.190321 -1.175575  0.647376   \n",
       " 4 -0.270533  0.817739  ... -0.009431  0.798278 -0.137458  0.141267 -0.206010   \n",
       " \n",
       "         V26       V27       V28  Amount  Class  \n",
       " 0 -0.189115  0.133558 -0.021053  149.62      0  \n",
       " 1  0.125895 -0.008983  0.014724    2.69      0  \n",
       " 2 -0.139097 -0.055353 -0.059752  378.66      0  \n",
       " 3 -0.221929  0.062723  0.061458  123.50      0  \n",
       " 4  0.502292  0.219422  0.215153   69.99      0  \n",
       " \n",
       " [5 rows x 31 columns], None)"
      ]
     },
     "execution_count": 77,
     "metadata": {},
     "output_type": "execute_result"
    }
   ],
   "source": [
    "fraud.head(), fraud.info()"
   ]
  },
  {
   "cell_type": "code",
   "execution_count": 78,
   "metadata": {},
   "outputs": [],
   "source": [
    "# 데이터가 많아 일단 10000개로만 TEST\n",
    "# 전체 데이터로 테스트 하려고 하였으나, memory error로 다시 축소하여 진행 > MemoryError:\n",
    "fraud = fraud.iloc[:10000]\n",
    "#fraud = fraud.iloc[:30000]"
   ]
  },
  {
   "cell_type": "code",
   "execution_count": 79,
   "metadata": {},
   "outputs": [
    {
     "name": "stdout",
     "output_type": "stream",
     "text": [
      "<class 'pandas.core.frame.DataFrame'>\n",
      "RangeIndex: 10000 entries, 0 to 9999\n",
      "Data columns (total 31 columns):\n",
      "Time      10000 non-null float64\n",
      "V1        10000 non-null float64\n",
      "V2        10000 non-null float64\n",
      "V3        10000 non-null float64\n",
      "V4        10000 non-null float64\n",
      "V5        10000 non-null float64\n",
      "V6        10000 non-null float64\n",
      "V7        10000 non-null float64\n",
      "V8        10000 non-null float64\n",
      "V9        10000 non-null float64\n",
      "V10       10000 non-null float64\n",
      "V11       10000 non-null float64\n",
      "V12       10000 non-null float64\n",
      "V13       10000 non-null float64\n",
      "V14       10000 non-null float64\n",
      "V15       10000 non-null float64\n",
      "V16       10000 non-null float64\n",
      "V17       10000 non-null float64\n",
      "V18       10000 non-null float64\n",
      "V19       10000 non-null float64\n",
      "V20       10000 non-null float64\n",
      "V21       10000 non-null float64\n",
      "V22       10000 non-null float64\n",
      "V23       10000 non-null float64\n",
      "V24       10000 non-null float64\n",
      "V25       10000 non-null float64\n",
      "V26       10000 non-null float64\n",
      "V27       10000 non-null float64\n",
      "V28       10000 non-null float64\n",
      "Amount    10000 non-null float64\n",
      "Class     10000 non-null int64\n",
      "dtypes: float64(30), int64(1)\n",
      "memory usage: 2.4 MB\n"
     ]
    },
    {
     "data": {
      "text/plain": [
       "(None,\n",
       "          Time        V1        V2        V3        V4        V5        V6  \\\n",
       " 9980  14940.0  0.509465  1.906159 -2.579983  1.502234  1.395695 -0.798737   \n",
       " 9981  14941.0 -0.619870  1.077871  1.721085 -0.386582  0.148880 -0.701113   \n",
       " 9982  14951.0  1.113690  0.761906  1.071124  2.757166 -0.101429 -0.306094   \n",
       " 9983  14964.0  0.989131 -0.413148  1.213739  0.746907 -0.739761  0.880300   \n",
       " 9984  14973.0 -1.468494 -0.386998  2.532221  1.455805 -0.779682  0.223008   \n",
       " 9985  14981.0 -1.372980  1.779108  0.994216  0.290827 -0.849137 -1.171900   \n",
       " 9986  14988.0 -1.010979  0.956151  2.080257  0.287531 -0.531395  0.303162   \n",
       " 9987  14989.0 -1.978648  1.866610  0.288459 -0.078206 -0.031190  0.004884   \n",
       " 9988  14989.0  1.214663  0.637900  0.156007  1.329216  0.216616 -0.842642   \n",
       " 9989  14989.0  0.973806  0.711426  1.328342  3.790438  0.011453  0.634382   \n",
       " 9990  14993.0 -0.379366  1.168437 -0.702738  0.566445  1.952919  4.638911   \n",
       " 9991  14993.0  1.040248  0.288967  1.637475  2.943149 -0.687621  0.236391   \n",
       " 9992  14994.0 -1.316901  1.120667  2.358632  1.906761 -0.555747  1.116259   \n",
       " 9993  14995.0 -1.605263  0.242387  0.969782  0.830207 -0.040003 -0.218581   \n",
       " 9994  14997.0  1.057155  0.495355  1.212903  2.548761 -0.105953  0.562292   \n",
       " 9995  15001.0  1.178755  0.596025  0.074131  2.542393  0.450685 -0.179355   \n",
       " 9996  15004.0  1.228455  0.049488  1.022099  0.386471 -0.973228 -1.067822   \n",
       " 9997  15008.0 -0.971734  0.744625  2.334822 -0.408046 -0.999231 -0.629294   \n",
       " 9998  15010.0 -1.529666  1.475870  1.507624 -0.662935 -1.037152 -1.159860   \n",
       " 9999  15012.0 -1.181721  1.485264  1.958715  2.587943 -0.504092 -0.126697   \n",
       " \n",
       "             V7        V8        V9  ...       V21       V22       V23  \\\n",
       " 9980  0.337192  0.328046  0.684846  ... -0.296997 -0.547298 -0.020865   \n",
       " 9981  0.832275 -1.252840  1.041694  ...  0.324220 -1.164163  0.191585   \n",
       " 9982  0.041462 -0.157943  0.344612  ... -0.147852 -0.132536  0.116497   \n",
       " 9983 -1.008515  0.439847  2.027509  ...  0.061873  0.467610 -0.016111   \n",
       " 9984  0.728022 -0.252374  1.606087  ... -0.008112  0.407956  0.029477   \n",
       " 9985 -0.114772  0.704321  0.754796  ... -0.307072 -0.785944  0.137961   \n",
       " 9986  2.224426 -0.731310  1.036223  ... -0.162913  0.198497 -0.293112   \n",
       " 9987 -0.159329  0.634279  0.995529  ...  0.071763  0.129845 -0.112518   \n",
       " 9988  0.447672 -0.368069  0.847978  ... -0.088491  0.126292 -0.074118   \n",
       " 9989 -0.239932  0.184802 -0.205546  ... -0.135772 -0.301673  0.115582   \n",
       " 9990 -1.343602 -2.386661  1.256653  ...  2.713638 -1.681712 -0.059282   \n",
       " 9991 -0.527593  0.021167  1.253196  ... -0.198565 -0.231080  0.006074   \n",
       " 9992 -1.119159 -2.084095  2.143139  ...  1.799586 -1.491249 -0.398756   \n",
       " 9993 -0.469863  0.368113  1.325824  ... -0.092426  0.043721 -0.606645   \n",
       " 9994 -0.414434  0.135318  0.412228  ...  0.089113  0.515654 -0.053050   \n",
       " 9995  0.326365 -0.234949  0.473040  ... -0.228112 -0.561559 -0.182781   \n",
       " 9996 -0.383162 -0.205407  1.699304  ... -0.322912 -0.730294  0.205601   \n",
       " 9997 -0.377212  0.481230  1.599496  ... -0.116821 -0.141219 -0.026115   \n",
       " 9998 -0.303219  0.745766  0.946896  ... -0.197993 -0.634088  0.100631   \n",
       " 9999  0.939038  0.175638 -0.756318  ... -0.010641 -0.191361  0.204004   \n",
       " \n",
       "            V24       V25       V26       V27       V28  Amount  Class  \n",
       " 9980 -1.453961 -0.325941 -0.368778  0.095842 -0.081444    3.99      0  \n",
       " 9981  0.296788 -0.672392 -0.181071 -0.046963 -0.085052   43.98      0  \n",
       " 9982  0.549449  0.293446 -0.119362 -0.010643  0.022410    3.00      0  \n",
       " 9983 -0.316893  0.071272  0.575763 -0.007936  0.004978   50.00      0  \n",
       " 9984  0.336830  0.348735 -0.192956 -0.156246 -0.065935  266.30      0  \n",
       " 9985  0.622579 -0.171850  0.022442  0.106223  0.035918   11.28      0  \n",
       " 9986  0.339782  0.412994 -0.514475 -0.408902 -0.478214  250.00      0  \n",
       " 9987 -0.795549  0.052309  0.373194 -0.759522  0.044774   10.92      0  \n",
       " 9988  0.384059  0.742769 -0.328457 -0.012039  0.006305    1.55      0  \n",
       " 9989  0.126218  0.114643 -0.178601 -0.015711  0.021720   34.06      0  \n",
       " 9990  0.926187  1.123673 -0.157778  0.325793  0.215789   59.00      0  \n",
       " 9991  0.353146  0.288217 -0.090202  0.013341  0.039351   46.43      0  \n",
       " 9992  0.336695 -0.443955 -0.459070  0.399453  0.142167   76.22      0  \n",
       " 9993  0.051769 -0.545443  0.468257 -0.186451 -0.197872   33.35      0  \n",
       " 9994 -0.014731  0.340114  0.066419  0.003253  0.014148   17.44      0  \n",
       " 9995 -0.523241  0.667142  0.015699 -0.067238  0.008709   53.19      0  \n",
       " 9996  0.686302 -0.071008  0.729846 -0.092276  0.012277   12.18      0  \n",
       " 9997  0.712719 -0.372964  0.750323 -0.107875  0.031272    4.05      0  \n",
       " 9998  0.669449 -0.269750  0.611964 -0.169789  0.007846    4.05      0  \n",
       " 9999  0.663928  0.288780 -0.033612 -0.142682  0.028149  159.28      0  \n",
       " \n",
       " [20 rows x 31 columns])"
      ]
     },
     "execution_count": 79,
     "metadata": {},
     "output_type": "execute_result"
    }
   ],
   "source": [
    "fraud.info(), fraud.tail(20)"
   ]
  },
  {
   "cell_type": "code",
   "execution_count": 80,
   "metadata": {},
   "outputs": [
    {
     "data": {
      "text/plain": [
       "0"
      ]
     },
     "execution_count": 80,
     "metadata": {},
     "output_type": "execute_result"
    }
   ],
   "source": [
    "fraud.isna().sum().sum()"
   ]
  },
  {
   "cell_type": "code",
   "execution_count": 81,
   "metadata": {},
   "outputs": [
    {
     "data": {
      "text/plain": [
       "Index(['Time', 'V1', 'V2', 'V3', 'V4', 'V5', 'V6', 'V7', 'V8', 'V9', 'V10',\n",
       "       'V11', 'V12', 'V13', 'V14', 'V15', 'V16', 'V17', 'V18', 'V19', 'V20',\n",
       "       'V21', 'V22', 'V23', 'V24', 'V25', 'V26', 'V27', 'V28', 'Amount',\n",
       "       'Class'],\n",
       "      dtype='object')"
      ]
     },
     "execution_count": 81,
     "metadata": {},
     "output_type": "execute_result"
    }
   ],
   "source": [
    "fraud.columns"
   ]
  },
  {
   "cell_type": "code",
   "execution_count": 82,
   "metadata": {},
   "outputs": [],
   "source": [
    "fraud2 = fraud.set_index('Time')"
   ]
  },
  {
   "cell_type": "code",
   "execution_count": 83,
   "metadata": {},
   "outputs": [],
   "source": [
    "fraud2 = fraud2.drop(columns='Class')"
   ]
  },
  {
   "cell_type": "code",
   "execution_count": 84,
   "metadata": {},
   "outputs": [
    {
     "data": {
      "text/plain": [
       "Index(['V1', 'V2', 'V3', 'V4', 'V5', 'V6', 'V7', 'V8', 'V9', 'V10', 'V11',\n",
       "       'V12', 'V13', 'V14', 'V15', 'V16', 'V17', 'V18', 'V19', 'V20', 'V21',\n",
       "       'V22', 'V23', 'V24', 'V25', 'V26', 'V27', 'V28', 'Amount'],\n",
       "      dtype='object')"
      ]
     },
     "execution_count": 84,
     "metadata": {},
     "output_type": "execute_result"
    }
   ],
   "source": [
    "fraud2.columns"
   ]
  },
  {
   "cell_type": "code",
   "execution_count": 85,
   "metadata": {},
   "outputs": [],
   "source": [
    "pca = PCA(n_components=2).fit(fraud2)"
   ]
  },
  {
   "cell_type": "code",
   "execution_count": 86,
   "metadata": {},
   "outputs": [],
   "source": [
    "x_pca = pca.transform(fraud2)"
   ]
  },
  {
   "cell_type": "code",
   "execution_count": 87,
   "metadata": {},
   "outputs": [
    {
     "data": {
      "image/png": "[encoded data removed]",
      "text/plain": [
       "<Figure size 432x288 with 1 Axes>"
      ]
     },
     "metadata": {
      "needs_background": "light"
     },
     "output_type": "display_data"
    }
   ],
   "source": [
    "# 1. means\n",
    "km = KMeans(n_clusters=2).fit(x_pca) # 2개로 그룹화\n",
    "p1 = km.predict(x_pca)\n",
    "l = mglearn.discrete_scatter(x_pca[:,0],x_pca[:,1], p1)"
   ]
  },
  {
   "cell_type": "code",
   "execution_count": 88,
   "metadata": {},
   "outputs": [
    {
     "data": {
      "image/png": "[encoded data removed]",
      "text/plain": [
       "<Figure size 432x288 with 1 Axes>"
      ]
     },
     "metadata": {
      "needs_background": "light"
     },
     "output_type": "display_data"
    }
   ],
   "source": [
    "# 2. 병합군집\n",
    "model1 = AgglomerativeClustering(n_clusters=2)\n",
    "p2 = model1.fit_predict(x_pca)\n",
    "l = mglearn.discrete_scatter(x_pca[:,0],x_pca[:,1], p2)"
   ]
  },
  {
   "cell_type": "code",
   "execution_count": 89,
   "metadata": {},
   "outputs": [
    {
     "data": {
      "image/png": "[encoded data removed]",
      "text/plain": [
       "<Figure size 432x288 with 1 Axes>"
      ]
     },
     "metadata": {
      "needs_background": "light"
     },
     "output_type": "display_data"
    }
   ],
   "source": [
    "#3. DBSCAN\n",
    "p3 = DBSCAN(eps=2, min_samples=5).fit_predict(x_pca)\n",
    "l = mglearn.discrete_scatter(x_pca[:,0],x_pca[:,1], p3)"
   ]
  },
  {
   "cell_type": "code",
   "execution_count": 90,
   "metadata": {},
   "outputs": [
    {
     "data": {
      "image/png": "[encoded data removed]",
      "text/plain": [
       "<Figure size 432x288 with 1 Axes>"
      ]
     },
     "metadata": {
      "needs_background": "light"
     },
     "output_type": "display_data"
    }
   ],
   "source": [
    "# 정답\n",
    "l = mglearn.discrete_scatter(x_pca[:,0],x_pca[:,1], fraud.iloc[:,-1])"
   ]
  },
  {
   "cell_type": "code",
   "execution_count": 91,
   "metadata": {},
   "outputs": [
    {
     "data": {
      "text/plain": [
       "(            V1        V2        V3        V4        V5        V6        V7  \\\n",
       " Time                                                                         \n",
       " 0.0  -1.359807 -0.072781  2.536347  1.378155 -0.338321  0.462388  0.239599   \n",
       " 0.0   1.191857  0.266151  0.166480  0.448154  0.060018 -0.082361 -0.078803   \n",
       " 1.0  -1.358354 -1.340163  1.773209  0.379780 -0.503198  1.800499  0.791461   \n",
       " 1.0  -0.966272 -0.185226  1.792993 -0.863291 -0.010309  1.247203  0.237609   \n",
       " 2.0  -1.158233  0.877737  1.548718  0.403034 -0.407193  0.095921  0.592941   \n",
       " \n",
       "             V8        V9       V10  ...       V20       V21       V22  \\\n",
       " Time                                ...                                 \n",
       " 0.0   0.098698  0.363787  0.090794  ...  0.251412 -0.018307  0.277838   \n",
       " 0.0   0.085102 -0.255425 -0.166974  ... -0.069083 -0.225775 -0.638672   \n",
       " 1.0   0.247676 -1.514654  0.207643  ...  0.524980  0.247998  0.771679   \n",
       " 1.0   0.377436 -1.387024 -0.054952  ... -0.208038 -0.108300  0.005274   \n",
       " 2.0  -0.270533  0.817739  0.753074  ...  0.408542 -0.009431  0.798278   \n",
       " \n",
       "            V23       V24       V25       V26       V27       V28  Amount  \n",
       " Time                                                                      \n",
       " 0.0  -0.110474  0.066928  0.128539 -0.189115  0.133558 -0.021053  149.62  \n",
       " 0.0   0.101288 -0.339846  0.167170  0.125895 -0.008983  0.014724    2.69  \n",
       " 1.0   0.909412 -0.689281 -0.327642 -0.139097 -0.055353 -0.059752  378.66  \n",
       " 1.0  -0.190321 -1.175575  0.647376 -0.221929  0.062723  0.061458  123.50  \n",
       " 2.0  -0.137458  0.141267 -0.206010  0.502292  0.219422  0.215153   69.99  \n",
       " \n",
       " [5 rows x 29 columns], 0    0\n",
       " 1    0\n",
       " 2    0\n",
       " 3    0\n",
       " 4    0\n",
       " Name: Class, dtype: int64)"
      ]
     },
     "execution_count": 91,
     "metadata": {},
     "output_type": "execute_result"
    }
   ],
   "source": [
    "X = fraud2\n",
    "y = fraud.iloc[:,-1]\n",
    "X.head(), y.head()"
   ]
  },
  {
   "cell_type": "code",
   "execution_count": 92,
   "metadata": {},
   "outputs": [
    {
     "data": {
      "text/plain": [
       "((7500, 29), (2500, 29), (7500,), (2500,))"
      ]
     },
     "execution_count": 92,
     "metadata": {},
     "output_type": "execute_result"
    }
   ],
   "source": [
    "X_train, X_test, y_train, y_test = train_test_split(X,y)\n",
    "X_train.shape, X_test.shape, y_train.shape, y_test.shape"
   ]
  },
  {
   "cell_type": "code",
   "execution_count": 93,
   "metadata": {},
   "outputs": [],
   "source": [
    "model = DecisionTreeClassifier(max_depth=5).fit(X_train,y_train)"
   ]
  },
  {
   "cell_type": "code",
   "execution_count": 94,
   "metadata": {},
   "outputs": [
    {
     "data": {
      "text/plain": [
       "(1.0, 0.9984)"
      ]
     },
     "execution_count": 94,
     "metadata": {},
     "output_type": "execute_result"
    }
   ],
   "source": [
    "model.score(X_train, y_train), model.score(X_test, y_test)"
   ]
  },
  {
   "cell_type": "code",
   "execution_count": 95,
   "metadata": {},
   "outputs": [
    {
     "data": {
      "text/plain": [
       "<BarContainer object of 29 artists>"
      ]
     },
     "execution_count": 95,
     "metadata": {},
     "output_type": "execute_result"
    },
    {
     "data": {
      "image/png": "[encoded data removed]",
      "text/plain": [
       "<Figure size 720x720 with 1 Axes>"
      ]
     },
     "metadata": {
      "needs_background": "light"
     },
     "output_type": "display_data"
    }
   ],
   "source": [
    "plt.figure(figsize=(10,10))\n",
    "plt.barh(X_train.columns, model.feature_importances_)"
   ]
  },
  {
   "cell_type": "code",
   "execution_count": null,
   "metadata": {},
   "outputs": [],
   "source": []
  }
 ],
 "metadata": {
  "kernelspec": {
   "display_name": "Python 3",
   "language": "python",
   "name": "python3"
  },
  "language_info": {
   "codemirror_mode": {
    "name": "ipython",
    "version": 3
   },
   "file_extension": ".py",
   "mimetype": "text/x-python",
   "name": "python",
   "nbconvert_exporter": "python",
   "pygments_lexer": "ipython3",
   "version": "3.7.3"
  }
 },
 "nbformat": 4,
 "nbformat_minor": 2
}
