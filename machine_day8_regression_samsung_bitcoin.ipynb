{
 "cells": [
  {
   "cell_type": "markdown",
   "metadata": {},
   "source": [
    "삼성전자주식과 비트코인 상관관계 및 미래 예측(다음달-회귀)\n",
    "1. 목표 설정\n",
    "  1. Y : 미래 30일의 국내 특정 주식과 비트코인의 종가\n",
    "  1. X : 최근 60일간의 데이터\n",
    "    1. step : 하루 간격\n",
    "    1. 양 : 1년(2018년 6월 ~ 2019년 6월)\n",
    "1. 데이터 획득\n",
    "  1. 국내 기업 1개, 비트코인\n",
    "1. 데이터 정제 \n",
    "  1. 누락\n",
    "1. 데이터 전처리\n",
    "  1. 주의 : 주식분할\n",
    "  1. 특수기호, 문자>수치 변환\n",
    "  1. 두 데이터를 날짜 기준으로 통합(날짜를 인덱스로-왼쪽오른쪽으로니까 축axis=1)\n",
    "    1. 외국(2018-01-01), 국내(2018.1.1),(18.1.1)\n",
    "    1. 날짜 포맷을 (YYYY-MM-DD)으로 변환 후 통합\n",
    "1. 비트코인 가격 변화와 주가와의 상관관계(correlaion)\n",
    "  1. cov()\n",
    "1. 입력x/ 출력y 분리\n",
    "  1. m개의 x,y쌍\n",
    "  1. X(m, 60,10~15) (국내증시컬럼 + 비트코인컬럼) > reshape > (m, 60 * 15)\n",
    "  1. y(m, 30, 2 ) == (m,30*2)\n",
    "1. 학습용/검증용(test) 분리\n",
    "  1. 섞으면 안되므로 직접 분리\n",
    "  1. 가장 과거의 데이터를 10%를 검증용으로 사용\n",
    "1. 모델 선정\n",
    "  1. Ridge모델, 학습용 데이터로 학습\n",
    "  1. 성능 측정\n",
    "1. 그래프로 시각화\n",
    "  1. 과거\n",
    "  1. 미래의 예측 predict ( x (1,60*15) ) > return > y_hat(1,30*2)\n",
    "    1. 미래 예측(1,30*2) > (30,2) > 국내(30), 비트코인(30) > 그래프로 그리기"
   ]
  },
  {
   "cell_type": "code",
   "execution_count": 13,
   "metadata": {},
   "outputs": [],
   "source": [
    "import numpy as np\n",
    "import pandas as pd\n",
    "import matplotlib.pyplot as plt"
   ]
  },
  {
   "cell_type": "code",
   "execution_count": 25,
   "metadata": {},
   "outputs": [],
   "source": [
    "samsung_url='http://finance.naver.com/item/sise_day.nhn?code=005930&page='    "
   ]
  },
  {
   "cell_type": "code",
   "execution_count": 26,
   "metadata": {},
   "outputs": [
    {
     "data": {
      "text/plain": [
       "27"
      ]
     },
     "execution_count": 26,
     "metadata": {},
     "output_type": "execute_result"
    }
   ],
   "source": [
    "samsungs = []\n",
    "max_num = 28\n",
    "for i in range(1,max_num):\n",
    "    tables = pd.read_html(samsung_url+str(i))\n",
    "    samsung = tables[0]\n",
    "    samsungs.append(samsung)\n",
    "len(samsungs)"
   ]
  },
  {
   "cell_type": "code",
   "execution_count": 27,
   "metadata": {},
   "outputs": [
    {
     "data": {
      "text/plain": [
       "(405, 7)"
      ]
     },
     "execution_count": 27,
     "metadata": {},
     "output_type": "execute_result"
    }
   ],
   "source": [
    "samsung = pd.concat(samsungs, axis=0)\n",
    "samsung.shape"
   ]
  },
  {
   "cell_type": "code",
   "execution_count": 28,
   "metadata": {},
   "outputs": [
    {
     "data": {
      "text/html": [
       "<div>\n",
       "<style scoped>\n",
       "    .dataframe tbody tr th:only-of-type {\n",
       "        vertical-align: middle;\n",
       "    }\n",
       "\n",
       "    .dataframe tbody tr th {\n",
       "        vertical-align: top;\n",
       "    }\n",
       "\n",
       "    .dataframe thead th {\n",
       "        text-align: right;\n",
       "    }\n",
       "</style>\n",
       "<table border=\"1\" class=\"dataframe\">\n",
       "  <thead>\n",
       "    <tr style=\"text-align: right;\">\n",
       "      <th></th>\n",
       "      <th>날짜</th>\n",
       "      <th>종가</th>\n",
       "      <th>전일비</th>\n",
       "      <th>시가</th>\n",
       "      <th>고가</th>\n",
       "      <th>저가</th>\n",
       "      <th>거래량</th>\n",
       "    </tr>\n",
       "  </thead>\n",
       "  <tbody>\n",
       "    <tr>\n",
       "      <th>10</th>\n",
       "      <td>2018.05.31</td>\n",
       "      <td>50700.0</td>\n",
       "      <td>1200.0</td>\n",
       "      <td>50400.0</td>\n",
       "      <td>50800.0</td>\n",
       "      <td>49850.0</td>\n",
       "      <td>63491109.0</td>\n",
       "    </tr>\n",
       "    <tr>\n",
       "      <th>11</th>\n",
       "      <td>2018.05.30</td>\n",
       "      <td>49500.0</td>\n",
       "      <td>1800.0</td>\n",
       "      <td>51300.0</td>\n",
       "      <td>51500.0</td>\n",
       "      <td>49100.0</td>\n",
       "      <td>20498098.0</td>\n",
       "    </tr>\n",
       "    <tr>\n",
       "      <th>12</th>\n",
       "      <td>2018.05.29</td>\n",
       "      <td>51300.0</td>\n",
       "      <td>1000.0</td>\n",
       "      <td>52200.0</td>\n",
       "      <td>52500.0</td>\n",
       "      <td>51300.0</td>\n",
       "      <td>8480437.0</td>\n",
       "    </tr>\n",
       "    <tr>\n",
       "      <th>13</th>\n",
       "      <td>2018.05.28</td>\n",
       "      <td>52300.0</td>\n",
       "      <td>400.0</td>\n",
       "      <td>52500.0</td>\n",
       "      <td>53000.0</td>\n",
       "      <td>52000.0</td>\n",
       "      <td>9787820.0</td>\n",
       "    </tr>\n",
       "    <tr>\n",
       "      <th>14</th>\n",
       "      <td>NaN</td>\n",
       "      <td>NaN</td>\n",
       "      <td>NaN</td>\n",
       "      <td>NaN</td>\n",
       "      <td>NaN</td>\n",
       "      <td>NaN</td>\n",
       "      <td>NaN</td>\n",
       "    </tr>\n",
       "  </tbody>\n",
       "</table>\n",
       "</div>"
      ],
      "text/plain": [
       "            날짜       종가     전일비       시가       고가       저가         거래량\n",
       "10  2018.05.31  50700.0  1200.0  50400.0  50800.0  49850.0  63491109.0\n",
       "11  2018.05.30  49500.0  1800.0  51300.0  51500.0  49100.0  20498098.0\n",
       "12  2018.05.29  51300.0  1000.0  52200.0  52500.0  51300.0   8480437.0\n",
       "13  2018.05.28  52300.0   400.0  52500.0  53000.0  52000.0   9787820.0\n",
       "14         NaN      NaN     NaN      NaN      NaN      NaN         NaN"
      ]
     },
     "execution_count": 28,
     "metadata": {},
     "output_type": "execute_result"
    }
   ],
   "source": [
    "samsung.tail()"
   ]
  },
  {
   "cell_type": "code",
   "execution_count": 46,
   "metadata": {},
   "outputs": [
    {
     "data": {
      "text/plain": [
       "2"
      ]
     },
     "execution_count": 46,
     "metadata": {},
     "output_type": "execute_result"
    }
   ],
   "source": [
    "bitcoin_url='https://coinmarketcap.com/currencies/bitcoin/historical-data/?start=20180601&end=20190601'\n",
    "tables = pd.read_html(bitcoin_url)\n",
    "len(tables)\n"
   ]
  },
  {
   "cell_type": "code",
   "execution_count": 48,
   "metadata": {},
   "outputs": [
    {
     "data": {
      "text/html": [
       "<div>\n",
       "<style scoped>\n",
       "    .dataframe tbody tr th:only-of-type {\n",
       "        vertical-align: middle;\n",
       "    }\n",
       "\n",
       "    .dataframe tbody tr th {\n",
       "        vertical-align: top;\n",
       "    }\n",
       "\n",
       "    .dataframe thead th {\n",
       "        text-align: right;\n",
       "    }\n",
       "</style>\n",
       "<table border=\"1\" class=\"dataframe\">\n",
       "  <thead>\n",
       "    <tr style=\"text-align: right;\">\n",
       "      <th></th>\n",
       "      <th>Date</th>\n",
       "      <th>Open*</th>\n",
       "      <th>High</th>\n",
       "      <th>Low</th>\n",
       "      <th>Close**</th>\n",
       "      <th>Volume</th>\n",
       "      <th>Market Cap</th>\n",
       "    </tr>\n",
       "  </thead>\n",
       "  <tbody>\n",
       "    <tr>\n",
       "      <th>0</th>\n",
       "      <td>Jun 01, 2019</td>\n",
       "      <td>8573.84</td>\n",
       "      <td>8625.60</td>\n",
       "      <td>8481.58</td>\n",
       "      <td>8564.02</td>\n",
       "      <td>22488303544</td>\n",
       "      <td>151890214310</td>\n",
       "    </tr>\n",
       "    <tr>\n",
       "      <th>1</th>\n",
       "      <td>May 31, 2019</td>\n",
       "      <td>8320.29</td>\n",
       "      <td>8586.66</td>\n",
       "      <td>8172.55</td>\n",
       "      <td>8574.50</td>\n",
       "      <td>25365190957</td>\n",
       "      <td>152059886414</td>\n",
       "    </tr>\n",
       "    <tr>\n",
       "      <th>2</th>\n",
       "      <td>May 30, 2019</td>\n",
       "      <td>8661.76</td>\n",
       "      <td>9008.31</td>\n",
       "      <td>8221.27</td>\n",
       "      <td>8319.47</td>\n",
       "      <td>29246528551</td>\n",
       "      <td>147525141134</td>\n",
       "    </tr>\n",
       "    <tr>\n",
       "      <th>3</th>\n",
       "      <td>May 29, 2019</td>\n",
       "      <td>8718.59</td>\n",
       "      <td>8755.85</td>\n",
       "      <td>8482.73</td>\n",
       "      <td>8659.49</td>\n",
       "      <td>23473479966</td>\n",
       "      <td>153537047655</td>\n",
       "    </tr>\n",
       "    <tr>\n",
       "      <th>4</th>\n",
       "      <td>May 28, 2019</td>\n",
       "      <td>8802.76</td>\n",
       "      <td>8807.02</td>\n",
       "      <td>8634.72</td>\n",
       "      <td>8719.96</td>\n",
       "      <td>24226919267</td>\n",
       "      <td>154590202287</td>\n",
       "    </tr>\n",
       "  </tbody>\n",
       "</table>\n",
       "</div>"
      ],
      "text/plain": [
       "           Date    Open*     High      Low  Close**       Volume    Market Cap\n",
       "0  Jun 01, 2019  8573.84  8625.60  8481.58  8564.02  22488303544  151890214310\n",
       "1  May 31, 2019  8320.29  8586.66  8172.55  8574.50  25365190957  152059886414\n",
       "2  May 30, 2019  8661.76  9008.31  8221.27  8319.47  29246528551  147525141134\n",
       "3  May 29, 2019  8718.59  8755.85  8482.73  8659.49  23473479966  153537047655\n",
       "4  May 28, 2019  8802.76  8807.02  8634.72  8719.96  24226919267  154590202287"
      ]
     },
     "execution_count": 48,
     "metadata": {},
     "output_type": "execute_result"
    }
   ],
   "source": [
    "bitcoin = tables[0]\n",
    "bitcoin.head()"
   ]
  },
  {
   "cell_type": "code",
   "execution_count": 51,
   "metadata": {},
   "outputs": [
    {
     "data": {
      "text/plain": [
       "((366, 7), (405, 7))"
      ]
     },
     "execution_count": 51,
     "metadata": {},
     "output_type": "execute_result"
    }
   ],
   "source": [
    "bitcoin.shape, samsung.shape"
   ]
  },
  {
   "cell_type": "code",
   "execution_count": 53,
   "metadata": {},
   "outputs": [],
   "source": [
    "# 날짜를 인덱스로\n",
    "samsung = samsung.set_index('날짜')"
   ]
  },
  {
   "cell_type": "code",
   "execution_count": 54,
   "metadata": {},
   "outputs": [],
   "source": [
    "bitcoin = bitcoin.set_index('Date')"
   ]
  },
  {
   "cell_type": "code",
   "execution_count": 57,
   "metadata": {},
   "outputs": [
    {
     "data": {
      "text/plain": [
       "(Index(['Jun 01, 2019', 'May 31, 2019', 'May 30, 2019', 'May 29, 2019',\n",
       "        'May 28, 2019', 'May 27, 2019', 'May 26, 2019', 'May 25, 2019',\n",
       "        'May 24, 2019', 'May 23, 2019',\n",
       "        ...\n",
       "        'Jun 10, 2018', 'Jun 09, 2018', 'Jun 08, 2018', 'Jun 07, 2018',\n",
       "        'Jun 06, 2018', 'Jun 05, 2018', 'Jun 04, 2018', 'Jun 03, 2018',\n",
       "        'Jun 02, 2018', 'Jun 01, 2018'],\n",
       "       dtype='object', name='Date', length=366),\n",
       " Index([         nan, '2019.07.03', '2019.07.02', '2019.07.01', '2019.06.28',\n",
       "        '2019.06.27',          nan,          nan,          nan, '2019.06.26',\n",
       "        ...\n",
       "        '2018.06.04',          nan,          nan,          nan, '2018.06.01',\n",
       "        '2018.05.31', '2018.05.30', '2018.05.29', '2018.05.28',          nan],\n",
       "       dtype='object', name='날짜', length=405))"
      ]
     },
     "execution_count": 57,
     "metadata": {},
     "output_type": "execute_result"
    }
   ],
   "source": [
    "bitcoin.index, samsung.index # 둘다 인덱스 타입이 object로 잡힘"
   ]
  },
  {
   "cell_type": "code",
   "execution_count": 58,
   "metadata": {},
   "outputs": [
    {
     "data": {
      "text/plain": [
       "DatetimeIndex(['2019-06-01', '2019-05-31', '2019-05-30', '2019-05-29',\n",
       "               '2019-05-28', '2019-05-27', '2019-05-26', '2019-05-25',\n",
       "               '2019-05-24', '2019-05-23',\n",
       "               ...\n",
       "               '2018-06-10', '2018-06-09', '2018-06-08', '2018-06-07',\n",
       "               '2018-06-06', '2018-06-05', '2018-06-04', '2018-06-03',\n",
       "               '2018-06-02', '2018-06-01'],\n",
       "              dtype='datetime64[ns]', name='Date', length=366, freq=None)"
      ]
     },
     "execution_count": 58,
     "metadata": {},
     "output_type": "execute_result"
    }
   ],
   "source": [
    "pd.to_datetime(bitcoin.index) # 비트코인의 인덱스를 날짜로 바꾸기"
   ]
  },
  {
   "cell_type": "code",
   "execution_count": 60,
   "metadata": {},
   "outputs": [
    {
     "data": {
      "text/plain": [
       "DatetimeIndex([       'NaT', '2019-07-03', '2019-07-02', '2019-07-01',\n",
       "               '2019-06-28', '2019-06-27',        'NaT',        'NaT',\n",
       "                      'NaT', '2019-06-26',\n",
       "               ...\n",
       "               '2018-06-04',        'NaT',        'NaT',        'NaT',\n",
       "               '2018-06-01', '2018-05-31', '2018-05-30', '2018-05-29',\n",
       "               '2018-05-28',        'NaT'],\n",
       "              dtype='datetime64[ns]', name='날짜', length=405, freq=None)"
      ]
     },
     "execution_count": 60,
     "metadata": {},
     "output_type": "execute_result"
    }
   ],
   "source": [
    "pd.to_datetime(samsung.index)"
   ]
  },
  {
   "cell_type": "code",
   "execution_count": 62,
   "metadata": {},
   "outputs": [],
   "source": [
    "bitcoin.index = pd.to_datetime(bitcoin.index)\n",
    "samsung.index = pd.to_datetime(samsung.index)"
   ]
  },
  {
   "cell_type": "code",
   "execution_count": 63,
   "metadata": {},
   "outputs": [
    {
     "data": {
      "text/plain": [
       "(DatetimeIndex(['2019-06-01', '2019-05-31', '2019-05-30', '2019-05-29',\n",
       "                '2019-05-28', '2019-05-27', '2019-05-26', '2019-05-25',\n",
       "                '2019-05-24', '2019-05-23',\n",
       "                ...\n",
       "                '2018-06-10', '2018-06-09', '2018-06-08', '2018-06-07',\n",
       "                '2018-06-06', '2018-06-05', '2018-06-04', '2018-06-03',\n",
       "                '2018-06-02', '2018-06-01'],\n",
       "               dtype='datetime64[ns]', name='Date', length=366, freq=None),\n",
       " DatetimeIndex([       'NaT', '2019-07-03', '2019-07-02', '2019-07-01',\n",
       "                '2019-06-28', '2019-06-27',        'NaT',        'NaT',\n",
       "                       'NaT', '2019-06-26',\n",
       "                ...\n",
       "                '2018-06-04',        'NaT',        'NaT',        'NaT',\n",
       "                '2018-06-01', '2018-05-31', '2018-05-30', '2018-05-29',\n",
       "                '2018-05-28',        'NaT'],\n",
       "               dtype='datetime64[ns]', name='날짜', length=405, freq=None))"
      ]
     },
     "execution_count": 63,
     "metadata": {},
     "output_type": "execute_result"
    }
   ],
   "source": [
    "bitcoin.index, samsung.index"
   ]
  },
  {
   "cell_type": "code",
   "execution_count": 66,
   "metadata": {},
   "outputs": [
    {
     "data": {
      "text/plain": [
       "(244, 12)"
      ]
     },
     "execution_count": 66,
     "metadata": {},
     "output_type": "execute_result"
    }
   ],
   "source": [
    "df = pd.concat((samsung, bitcoin), axis=1).dropna()\n",
    "df.shape"
   ]
  },
  {
   "cell_type": "code",
   "execution_count": 67,
   "metadata": {},
   "outputs": [
    {
     "data": {
      "text/plain": [
       "종가            float64\n",
       "전일비           float64\n",
       "시가            float64\n",
       "고가            float64\n",
       "저가            float64\n",
       "거래량           float64\n",
       "Open*         float64\n",
       "High          float64\n",
       "Low           float64\n",
       "Close**       float64\n",
       "Volume        float64\n",
       "Market Cap    float64\n",
       "dtype: object"
      ]
     },
     "execution_count": 67,
     "metadata": {},
     "output_type": "execute_result"
    }
   ],
   "source": [
    "df.dtypes"
   ]
  },
  {
   "cell_type": "code",
   "execution_count": 68,
   "metadata": {},
   "outputs": [
    {
     "data": {
      "text/plain": [
       "종가            1.086810e+07\n",
       "전일비           1.280000e+05\n",
       "시가            1.086810e+07\n",
       "고가            1.097580e+07\n",
       "저가            1.075555e+07\n",
       "거래량           2.750724e+09\n",
       "Open*         1.366062e+06\n",
       "High          1.392758e+06\n",
       "Low           1.339061e+06\n",
       "Close**       1.365799e+06\n",
       "Volume        1.973326e+12\n",
       "Market Cap    2.374280e+13\n",
       "dtype: float64"
      ]
     },
     "execution_count": 68,
     "metadata": {},
     "output_type": "execute_result"
    }
   ],
   "source": [
    "df.sum() # 누락데이터가 있는지 체크"
   ]
  },
  {
   "cell_type": "code",
   "execution_count": 69,
   "metadata": {},
   "outputs": [
    {
     "data": {
      "text/plain": [
       "종가            4.454139e+04\n",
       "전일비           5.245902e+02\n",
       "시가            4.454139e+04\n",
       "고가            4.498279e+04\n",
       "저가            4.408012e+04\n",
       "거래량           1.127346e+07\n",
       "Open*         5.598615e+03\n",
       "High          5.708023e+03\n",
       "Low           5.487953e+03\n",
       "Close**       5.597538e+03\n",
       "Volume        8.087400e+09\n",
       "Market Cap    9.730654e+10\n",
       "dtype: float64"
      ]
     },
     "execution_count": 69,
     "metadata": {},
     "output_type": "execute_result"
    }
   ],
   "source": [
    "df.mean()"
   ]
  },
  {
   "cell_type": "code",
   "execution_count": 70,
   "metadata": {},
   "outputs": [
    {
     "data": {
      "text/html": [
       "<div>\n",
       "<style scoped>\n",
       "    .dataframe tbody tr th:only-of-type {\n",
       "        vertical-align: middle;\n",
       "    }\n",
       "\n",
       "    .dataframe tbody tr th {\n",
       "        vertical-align: top;\n",
       "    }\n",
       "\n",
       "    .dataframe thead th {\n",
       "        text-align: right;\n",
       "    }\n",
       "</style>\n",
       "<table border=\"1\" class=\"dataframe\">\n",
       "  <thead>\n",
       "    <tr style=\"text-align: right;\">\n",
       "      <th></th>\n",
       "      <th>종가</th>\n",
       "      <th>전일비</th>\n",
       "      <th>시가</th>\n",
       "      <th>고가</th>\n",
       "      <th>저가</th>\n",
       "      <th>거래량</th>\n",
       "      <th>Open*</th>\n",
       "      <th>High</th>\n",
       "      <th>Low</th>\n",
       "      <th>Close**</th>\n",
       "      <th>Volume</th>\n",
       "      <th>Market Cap</th>\n",
       "    </tr>\n",
       "  </thead>\n",
       "  <tbody>\n",
       "    <tr>\n",
       "      <th>count</th>\n",
       "      <td>244.000000</td>\n",
       "      <td>244.000000</td>\n",
       "      <td>244.000000</td>\n",
       "      <td>244.000000</td>\n",
       "      <td>244.000000</td>\n",
       "      <td>2.440000e+02</td>\n",
       "      <td>244.000000</td>\n",
       "      <td>244.000000</td>\n",
       "      <td>244.000000</td>\n",
       "      <td>244.000000</td>\n",
       "      <td>2.440000e+02</td>\n",
       "      <td>2.440000e+02</td>\n",
       "    </tr>\n",
       "    <tr>\n",
       "      <th>mean</th>\n",
       "      <td>44541.393443</td>\n",
       "      <td>524.590164</td>\n",
       "      <td>44541.393443</td>\n",
       "      <td>44982.786885</td>\n",
       "      <td>44080.122951</td>\n",
       "      <td>1.127346e+07</td>\n",
       "      <td>5598.614672</td>\n",
       "      <td>5708.022869</td>\n",
       "      <td>5487.953197</td>\n",
       "      <td>5597.538361</td>\n",
       "      <td>8.087400e+09</td>\n",
       "      <td>9.730654e+10</td>\n",
       "    </tr>\n",
       "    <tr>\n",
       "      <th>std</th>\n",
       "      <td>2616.501077</td>\n",
       "      <td>445.496251</td>\n",
       "      <td>2663.568359</td>\n",
       "      <td>2616.332608</td>\n",
       "      <td>2605.084532</td>\n",
       "      <td>3.923683e+06</td>\n",
       "      <td>1514.608753</td>\n",
       "      <td>1542.730010</td>\n",
       "      <td>1476.931675</td>\n",
       "      <td>1512.541132</td>\n",
       "      <td>6.225952e+09</td>\n",
       "      <td>2.597773e+10</td>\n",
       "    </tr>\n",
       "    <tr>\n",
       "      <th>min</th>\n",
       "      <td>37450.000000</td>\n",
       "      <td>0.000000</td>\n",
       "      <td>37450.000000</td>\n",
       "      <td>37600.000000</td>\n",
       "      <td>36850.000000</td>\n",
       "      <td>4.762460e+06</td>\n",
       "      <td>3253.120000</td>\n",
       "      <td>3329.560000</td>\n",
       "      <td>3206.540000</td>\n",
       "      <td>3242.480000</td>\n",
       "      <td>3.230550e+09</td>\n",
       "      <td>5.649438e+10</td>\n",
       "    </tr>\n",
       "    <tr>\n",
       "      <th>25%</th>\n",
       "      <td>43012.500000</td>\n",
       "      <td>200.000000</td>\n",
       "      <td>43012.500000</td>\n",
       "      <td>43437.500000</td>\n",
       "      <td>42400.000000</td>\n",
       "      <td>8.298381e+06</td>\n",
       "      <td>3957.602500</td>\n",
       "      <td>4031.850000</td>\n",
       "      <td>3899.502500</td>\n",
       "      <td>3956.197500</td>\n",
       "      <td>4.324805e+09</td>\n",
       "      <td>6.936442e+10</td>\n",
       "    </tr>\n",
       "    <tr>\n",
       "      <th>50%</th>\n",
       "      <td>44975.000000</td>\n",
       "      <td>400.000000</td>\n",
       "      <td>44925.000000</td>\n",
       "      <td>45500.000000</td>\n",
       "      <td>44500.000000</td>\n",
       "      <td>1.079669e+07</td>\n",
       "      <td>6205.425000</td>\n",
       "      <td>6300.355000</td>\n",
       "      <td>6029.725000</td>\n",
       "      <td>6179.620000</td>\n",
       "      <td>5.304537e+09</td>\n",
       "      <td>1.064328e+11</td>\n",
       "    </tr>\n",
       "    <tr>\n",
       "      <th>75%</th>\n",
       "      <td>46362.500000</td>\n",
       "      <td>762.500000</td>\n",
       "      <td>46462.500000</td>\n",
       "      <td>46850.000000</td>\n",
       "      <td>46000.000000</td>\n",
       "      <td>1.305694e+07</td>\n",
       "      <td>6599.830000</td>\n",
       "      <td>6743.025000</td>\n",
       "      <td>6498.092500</td>\n",
       "      <td>6601.707500</td>\n",
       "      <td>9.347169e+09</td>\n",
       "      <td>1.140496e+11</td>\n",
       "    </tr>\n",
       "    <tr>\n",
       "      <th>max</th>\n",
       "      <td>51300.000000</td>\n",
       "      <td>2200.000000</td>\n",
       "      <td>51800.000000</td>\n",
       "      <td>51800.000000</td>\n",
       "      <td>50700.000000</td>\n",
       "      <td>2.625465e+07</td>\n",
       "      <td>8802.760000</td>\n",
       "      <td>9008.310000</td>\n",
       "      <td>8668.700000</td>\n",
       "      <td>8805.780000</td>\n",
       "      <td>3.316720e+10</td>\n",
       "      <td>1.560938e+11</td>\n",
       "    </tr>\n",
       "  </tbody>\n",
       "</table>\n",
       "</div>"
      ],
      "text/plain": [
       "                 종가          전일비            시가            고가            저가  \\\n",
       "count    244.000000   244.000000    244.000000    244.000000    244.000000   \n",
       "mean   44541.393443   524.590164  44541.393443  44982.786885  44080.122951   \n",
       "std     2616.501077   445.496251   2663.568359   2616.332608   2605.084532   \n",
       "min    37450.000000     0.000000  37450.000000  37600.000000  36850.000000   \n",
       "25%    43012.500000   200.000000  43012.500000  43437.500000  42400.000000   \n",
       "50%    44975.000000   400.000000  44925.000000  45500.000000  44500.000000   \n",
       "75%    46362.500000   762.500000  46462.500000  46850.000000  46000.000000   \n",
       "max    51300.000000  2200.000000  51800.000000  51800.000000  50700.000000   \n",
       "\n",
       "                거래량        Open*         High          Low      Close**  \\\n",
       "count  2.440000e+02   244.000000   244.000000   244.000000   244.000000   \n",
       "mean   1.127346e+07  5598.614672  5708.022869  5487.953197  5597.538361   \n",
       "std    3.923683e+06  1514.608753  1542.730010  1476.931675  1512.541132   \n",
       "min    4.762460e+06  3253.120000  3329.560000  3206.540000  3242.480000   \n",
       "25%    8.298381e+06  3957.602500  4031.850000  3899.502500  3956.197500   \n",
       "50%    1.079669e+07  6205.425000  6300.355000  6029.725000  6179.620000   \n",
       "75%    1.305694e+07  6599.830000  6743.025000  6498.092500  6601.707500   \n",
       "max    2.625465e+07  8802.760000  9008.310000  8668.700000  8805.780000   \n",
       "\n",
       "             Volume    Market Cap  \n",
       "count  2.440000e+02  2.440000e+02  \n",
       "mean   8.087400e+09  9.730654e+10  \n",
       "std    6.225952e+09  2.597773e+10  \n",
       "min    3.230550e+09  5.649438e+10  \n",
       "25%    4.324805e+09  6.936442e+10  \n",
       "50%    5.304537e+09  1.064328e+11  \n",
       "75%    9.347169e+09  1.140496e+11  \n",
       "max    3.316720e+10  1.560938e+11  "
      ]
     },
     "execution_count": 70,
     "metadata": {},
     "output_type": "execute_result"
    }
   ],
   "source": [
    "df.describe()"
   ]
  },
  {
   "cell_type": "code",
   "execution_count": 72,
   "metadata": {},
   "outputs": [
    {
     "data": {
      "text/plain": [
       "0"
      ]
     },
     "execution_count": 72,
     "metadata": {},
     "output_type": "execute_result"
    }
   ],
   "source": [
    "df.isna().sum().sum() # 누락값 없다."
   ]
  },
  {
   "cell_type": "code",
   "execution_count": 73,
   "metadata": {},
   "outputs": [
    {
     "data": {
      "text/html": [
       "<div>\n",
       "<style scoped>\n",
       "    .dataframe tbody tr th:only-of-type {\n",
       "        vertical-align: middle;\n",
       "    }\n",
       "\n",
       "    .dataframe tbody tr th {\n",
       "        vertical-align: top;\n",
       "    }\n",
       "\n",
       "    .dataframe thead th {\n",
       "        text-align: right;\n",
       "    }\n",
       "</style>\n",
       "<table border=\"1\" class=\"dataframe\">\n",
       "  <thead>\n",
       "    <tr style=\"text-align: right;\">\n",
       "      <th></th>\n",
       "      <th>종가</th>\n",
       "      <th>전일비</th>\n",
       "      <th>시가</th>\n",
       "      <th>고가</th>\n",
       "      <th>저가</th>\n",
       "      <th>거래량</th>\n",
       "      <th>Open*</th>\n",
       "      <th>High</th>\n",
       "      <th>Low</th>\n",
       "      <th>Close**</th>\n",
       "      <th>Volume</th>\n",
       "      <th>Market Cap</th>\n",
       "    </tr>\n",
       "  </thead>\n",
       "  <tbody>\n",
       "    <tr>\n",
       "      <th>종가</th>\n",
       "      <td>6.846078e+06</td>\n",
       "      <td>-1.755498e+04</td>\n",
       "      <td>6.807220e+06</td>\n",
       "      <td>6.780417e+06</td>\n",
       "      <td>6.748902e+06</td>\n",
       "      <td>-1.768174e+09</td>\n",
       "      <td>1.509873e+06</td>\n",
       "      <td>1.509372e+06</td>\n",
       "      <td>1.519761e+06</td>\n",
       "      <td>1.530810e+06</td>\n",
       "      <td>-1.766514e+12</td>\n",
       "      <td>2.530176e+13</td>\n",
       "    </tr>\n",
       "    <tr>\n",
       "      <th>전일비</th>\n",
       "      <td>-1.755498e+04</td>\n",
       "      <td>1.984669e+05</td>\n",
       "      <td>-1.146445e+04</td>\n",
       "      <td>2.638181e+04</td>\n",
       "      <td>-4.971497e+04</td>\n",
       "      <td>8.561799e+08</td>\n",
       "      <td>-1.569126e+04</td>\n",
       "      <td>-2.158713e+04</td>\n",
       "      <td>-1.742792e+04</td>\n",
       "      <td>-2.561715e+04</td>\n",
       "      <td>-1.813583e+11</td>\n",
       "      <td>-4.628508e+11</td>\n",
       "    </tr>\n",
       "    <tr>\n",
       "      <th>시가</th>\n",
       "      <td>6.807220e+06</td>\n",
       "      <td>-1.146445e+04</td>\n",
       "      <td>7.094596e+06</td>\n",
       "      <td>6.898380e+06</td>\n",
       "      <td>6.874931e+06</td>\n",
       "      <td>-1.543646e+09</td>\n",
       "      <td>1.544614e+06</td>\n",
       "      <td>1.544355e+06</td>\n",
       "      <td>1.547371e+06</td>\n",
       "      <td>1.560183e+06</td>\n",
       "      <td>-1.646136e+12</td>\n",
       "      <td>2.579749e+13</td>\n",
       "    </tr>\n",
       "    <tr>\n",
       "      <th>고가</th>\n",
       "      <td>6.780417e+06</td>\n",
       "      <td>2.638181e+04</td>\n",
       "      <td>6.898380e+06</td>\n",
       "      <td>6.845196e+06</td>\n",
       "      <td>6.757650e+06</td>\n",
       "      <td>-1.307755e+09</td>\n",
       "      <td>1.532320e+06</td>\n",
       "      <td>1.531849e+06</td>\n",
       "      <td>1.541699e+06</td>\n",
       "      <td>1.551951e+06</td>\n",
       "      <td>-1.657222e+12</td>\n",
       "      <td>2.567207e+13</td>\n",
       "    </tr>\n",
       "    <tr>\n",
       "      <th>저가</th>\n",
       "      <td>6.748902e+06</td>\n",
       "      <td>-4.971497e+04</td>\n",
       "      <td>6.874931e+06</td>\n",
       "      <td>6.757650e+06</td>\n",
       "      <td>6.786465e+06</td>\n",
       "      <td>-1.902252e+09</td>\n",
       "      <td>1.518191e+06</td>\n",
       "      <td>1.521359e+06</td>\n",
       "      <td>1.524395e+06</td>\n",
       "      <td>1.540312e+06</td>\n",
       "      <td>-1.758229e+12</td>\n",
       "      <td>2.544846e+13</td>\n",
       "    </tr>\n",
       "    <tr>\n",
       "      <th>거래량</th>\n",
       "      <td>-1.768174e+09</td>\n",
       "      <td>8.561799e+08</td>\n",
       "      <td>-1.543646e+09</td>\n",
       "      <td>-1.307755e+09</td>\n",
       "      <td>-1.902252e+09</td>\n",
       "      <td>1.539529e+13</td>\n",
       "      <td>-6.895658e+08</td>\n",
       "      <td>-7.620610e+08</td>\n",
       "      <td>-6.713624e+08</td>\n",
       "      <td>-7.452021e+08</td>\n",
       "      <td>8.860541e+14</td>\n",
       "      <td>-1.248894e+16</td>\n",
       "    </tr>\n",
       "    <tr>\n",
       "      <th>Open*</th>\n",
       "      <td>1.509873e+06</td>\n",
       "      <td>-1.569126e+04</td>\n",
       "      <td>1.544614e+06</td>\n",
       "      <td>1.532320e+06</td>\n",
       "      <td>1.518191e+06</td>\n",
       "      <td>-6.895658e+08</td>\n",
       "      <td>2.294040e+06</td>\n",
       "      <td>2.326722e+06</td>\n",
       "      <td>2.226557e+06</td>\n",
       "      <td>2.271367e+06</td>\n",
       "      <td>1.577697e+12</td>\n",
       "      <td>3.895097e+13</td>\n",
       "    </tr>\n",
       "    <tr>\n",
       "      <th>High</th>\n",
       "      <td>1.509372e+06</td>\n",
       "      <td>-2.158713e+04</td>\n",
       "      <td>1.544355e+06</td>\n",
       "      <td>1.531849e+06</td>\n",
       "      <td>1.521359e+06</td>\n",
       "      <td>-7.620610e+08</td>\n",
       "      <td>2.326722e+06</td>\n",
       "      <td>2.380016e+06</td>\n",
       "      <td>2.264298e+06</td>\n",
       "      <td>2.324452e+06</td>\n",
       "      <td>1.850203e+12</td>\n",
       "      <td>3.988235e+13</td>\n",
       "    </tr>\n",
       "    <tr>\n",
       "      <th>Low</th>\n",
       "      <td>1.519761e+06</td>\n",
       "      <td>-1.742792e+04</td>\n",
       "      <td>1.547371e+06</td>\n",
       "      <td>1.541699e+06</td>\n",
       "      <td>1.524395e+06</td>\n",
       "      <td>-6.713624e+08</td>\n",
       "      <td>2.226557e+06</td>\n",
       "      <td>2.264298e+06</td>\n",
       "      <td>2.181327e+06</td>\n",
       "      <td>2.226544e+06</td>\n",
       "      <td>1.453797e+12</td>\n",
       "      <td>3.818191e+13</td>\n",
       "    </tr>\n",
       "    <tr>\n",
       "      <th>Close**</th>\n",
       "      <td>1.530810e+06</td>\n",
       "      <td>-2.561715e+04</td>\n",
       "      <td>1.560183e+06</td>\n",
       "      <td>1.551951e+06</td>\n",
       "      <td>1.540312e+06</td>\n",
       "      <td>-7.452021e+08</td>\n",
       "      <td>2.271367e+06</td>\n",
       "      <td>2.324452e+06</td>\n",
       "      <td>2.226544e+06</td>\n",
       "      <td>2.287781e+06</td>\n",
       "      <td>1.706507e+12</td>\n",
       "      <td>3.925147e+13</td>\n",
       "    </tr>\n",
       "    <tr>\n",
       "      <th>Volume</th>\n",
       "      <td>-1.766514e+12</td>\n",
       "      <td>-1.813583e+11</td>\n",
       "      <td>-1.646136e+12</td>\n",
       "      <td>-1.657222e+12</td>\n",
       "      <td>-1.758229e+12</td>\n",
       "      <td>8.860541e+14</td>\n",
       "      <td>1.577697e+12</td>\n",
       "      <td>1.850203e+12</td>\n",
       "      <td>1.453797e+12</td>\n",
       "      <td>1.706507e+12</td>\n",
       "      <td>3.876248e+19</td>\n",
       "      <td>3.587102e+19</td>\n",
       "    </tr>\n",
       "    <tr>\n",
       "      <th>Market Cap</th>\n",
       "      <td>2.530176e+13</td>\n",
       "      <td>-4.628508e+11</td>\n",
       "      <td>2.579749e+13</td>\n",
       "      <td>2.567207e+13</td>\n",
       "      <td>2.544846e+13</td>\n",
       "      <td>-1.248894e+16</td>\n",
       "      <td>3.895097e+13</td>\n",
       "      <td>3.988235e+13</td>\n",
       "      <td>3.818191e+13</td>\n",
       "      <td>3.925147e+13</td>\n",
       "      <td>3.587102e+19</td>\n",
       "      <td>6.748424e+20</td>\n",
       "    </tr>\n",
       "  </tbody>\n",
       "</table>\n",
       "</div>"
      ],
      "text/plain": [
       "                      종가           전일비            시가            고가  \\\n",
       "종가          6.846078e+06 -1.755498e+04  6.807220e+06  6.780417e+06   \n",
       "전일비        -1.755498e+04  1.984669e+05 -1.146445e+04  2.638181e+04   \n",
       "시가          6.807220e+06 -1.146445e+04  7.094596e+06  6.898380e+06   \n",
       "고가          6.780417e+06  2.638181e+04  6.898380e+06  6.845196e+06   \n",
       "저가          6.748902e+06 -4.971497e+04  6.874931e+06  6.757650e+06   \n",
       "거래량        -1.768174e+09  8.561799e+08 -1.543646e+09 -1.307755e+09   \n",
       "Open*       1.509873e+06 -1.569126e+04  1.544614e+06  1.532320e+06   \n",
       "High        1.509372e+06 -2.158713e+04  1.544355e+06  1.531849e+06   \n",
       "Low         1.519761e+06 -1.742792e+04  1.547371e+06  1.541699e+06   \n",
       "Close**     1.530810e+06 -2.561715e+04  1.560183e+06  1.551951e+06   \n",
       "Volume     -1.766514e+12 -1.813583e+11 -1.646136e+12 -1.657222e+12   \n",
       "Market Cap  2.530176e+13 -4.628508e+11  2.579749e+13  2.567207e+13   \n",
       "\n",
       "                      저가           거래량         Open*          High  \\\n",
       "종가          6.748902e+06 -1.768174e+09  1.509873e+06  1.509372e+06   \n",
       "전일비        -4.971497e+04  8.561799e+08 -1.569126e+04 -2.158713e+04   \n",
       "시가          6.874931e+06 -1.543646e+09  1.544614e+06  1.544355e+06   \n",
       "고가          6.757650e+06 -1.307755e+09  1.532320e+06  1.531849e+06   \n",
       "저가          6.786465e+06 -1.902252e+09  1.518191e+06  1.521359e+06   \n",
       "거래량        -1.902252e+09  1.539529e+13 -6.895658e+08 -7.620610e+08   \n",
       "Open*       1.518191e+06 -6.895658e+08  2.294040e+06  2.326722e+06   \n",
       "High        1.521359e+06 -7.620610e+08  2.326722e+06  2.380016e+06   \n",
       "Low         1.524395e+06 -6.713624e+08  2.226557e+06  2.264298e+06   \n",
       "Close**     1.540312e+06 -7.452021e+08  2.271367e+06  2.324452e+06   \n",
       "Volume     -1.758229e+12  8.860541e+14  1.577697e+12  1.850203e+12   \n",
       "Market Cap  2.544846e+13 -1.248894e+16  3.895097e+13  3.988235e+13   \n",
       "\n",
       "                     Low       Close**        Volume    Market Cap  \n",
       "종가          1.519761e+06  1.530810e+06 -1.766514e+12  2.530176e+13  \n",
       "전일비        -1.742792e+04 -2.561715e+04 -1.813583e+11 -4.628508e+11  \n",
       "시가          1.547371e+06  1.560183e+06 -1.646136e+12  2.579749e+13  \n",
       "고가          1.541699e+06  1.551951e+06 -1.657222e+12  2.567207e+13  \n",
       "저가          1.524395e+06  1.540312e+06 -1.758229e+12  2.544846e+13  \n",
       "거래량        -6.713624e+08 -7.452021e+08  8.860541e+14 -1.248894e+16  \n",
       "Open*       2.226557e+06  2.271367e+06  1.577697e+12  3.895097e+13  \n",
       "High        2.264298e+06  2.324452e+06  1.850203e+12  3.988235e+13  \n",
       "Low         2.181327e+06  2.226544e+06  1.453797e+12  3.818191e+13  \n",
       "Close**     2.226544e+06  2.287781e+06  1.706507e+12  3.925147e+13  \n",
       "Volume      1.453797e+12  1.706507e+12  3.876248e+19  3.587102e+19  \n",
       "Market Cap  3.818191e+13  3.925147e+13  3.587102e+19  6.748424e+20  "
      ]
     },
     "execution_count": 73,
     "metadata": {},
     "output_type": "execute_result"
    }
   ],
   "source": [
    "df.cov() # 상관관계"
   ]
  },
  {
   "cell_type": "code",
   "execution_count": 75,
   "metadata": {},
   "outputs": [],
   "source": [
    "비트코인변화 = df['Open*'] - df['Close**']\n",
    "주가변화 = df['시가'] - df['종가']\n",
    "과거의비트코인변화 = 비트코인변화.iloc[:-1]\n",
    "다음날주가변화 = 주가변화.iloc[1:]"
   ]
  },
  {
   "cell_type": "code",
   "execution_count": 77,
   "metadata": {},
   "outputs": [
    {
     "data": {
      "image/png": "[encoded data removed]",
      "text/plain": [
       "<Figure size 432x288 with 1 Axes>"
      ]
     },
     "metadata": {
      "needs_background": "light"
     },
     "output_type": "display_data"
    }
   ],
   "source": [
    "p = plt.scatter(과거의비트코인변화, 다음날주가변화)"
   ]
  },
  {
   "cell_type": "code",
   "execution_count": 81,
   "metadata": {},
   "outputs": [
    {
     "data": {
      "image/png": "[encoded data removed]",
      "text/plain": [
       "<Figure size 432x288 with 1 Axes>"
      ]
     },
     "metadata": {
      "needs_background": "light"
     },
     "output_type": "display_data"
    }
   ],
   "source": [
    "p = plt.scatter(비트코인변화, 주가변화)"
   ]
  },
  {
   "cell_type": "code",
   "execution_count": 82,
   "metadata": {},
   "outputs": [
    {
     "data": {
      "text/plain": [
       "array([[ 1.        , -0.07316871],\n",
       "       [-0.07316871,  1.        ]])"
      ]
     },
     "execution_count": 82,
     "metadata": {},
     "output_type": "execute_result"
    }
   ],
   "source": [
    "np.corrcoef(과거의비트코인변화, 다음날주가변화) # 0에 가까우므로 거의 영향 없다."
   ]
  },
  {
   "cell_type": "code",
   "execution_count": 87,
   "metadata": {},
   "outputs": [
    {
     "data": {
      "text/plain": [
       "(244, 155)"
      ]
     },
     "execution_count": 87,
     "metadata": {},
     "output_type": "execute_result"
    }
   ],
   "source": [
    "input_seq = 60 #window\n",
    "output_seq = 30\n",
    "m = len(df) - (input_seq + output_seq) + 1\n",
    "len(df), m"
   ]
  },
  {
   "cell_type": "code",
   "execution_count": 138,
   "metadata": {},
   "outputs": [],
   "source": [
    "#df = df/df.sum() # max 정규화\n",
    "df = (df - df.min()) / (df.max() - df.min()) #min_max정규화\n",
    "x_list = []\n",
    "y_list = []\n",
    "for i in range(m):\n",
    "    x = df.iloc[i:i+input_seq]\n",
    "    y = df.iloc[i+input_seq:i+input_seq+output_seq][['종가', 'Close**']] # 여러개를 꺼내고 싶으면 대괄호로 묶으면 된다.\n",
    "    # print(x.shape, y.shape)\n",
    "    x_list.append(x)\n",
    "    y_list.append(y)"
   ]
  },
  {
   "cell_type": "code",
   "execution_count": 156,
   "metadata": {},
   "outputs": [],
   "source": [
    "비트코인변화2 = df['Open*'] - df['Close**']\n",
    "주가변화2 = df['시가'] - df['종가']\n",
    "과거의비트코인변화2 = 비트코인변화2.iloc[:-1]\n",
    "다음날주가변화2 = 주가변화2.iloc[1:]"
   ]
  },
  {
   "cell_type": "code",
   "execution_count": 139,
   "metadata": {},
   "outputs": [
    {
     "data": {
      "text/plain": [
       "(155, list)"
      ]
     },
     "execution_count": 139,
     "metadata": {},
     "output_type": "execute_result"
    }
   ],
   "source": [
    "len(x_list), type(x_list) # (155, 60, 12) 배열이 아니라 리스트이기 때문에 변환!! numpy array\n"
   ]
  },
  {
   "cell_type": "code",
   "execution_count": 140,
   "metadata": {},
   "outputs": [
    {
     "data": {
      "text/plain": [
       "(155, 60, 12)"
      ]
     },
     "execution_count": 140,
     "metadata": {},
     "output_type": "execute_result"
    }
   ],
   "source": [
    "np.stack(x_list, axis=0).shape # 축0으로 쌓는다."
   ]
  },
  {
   "cell_type": "code",
   "execution_count": 141,
   "metadata": {},
   "outputs": [],
   "source": [
    "x_3d=np.stack(x_list, axis=0)\n",
    "y_3d=np.stack(y_list, axis=0)"
   ]
  },
  {
   "cell_type": "code",
   "execution_count": 142,
   "metadata": {},
   "outputs": [
    {
     "data": {
      "text/plain": [
       "((155, 60, 12), (155, 30, 2))"
      ]
     },
     "execution_count": 142,
     "metadata": {},
     "output_type": "execute_result"
    }
   ],
   "source": [
    "x_3d.shape, y_3d.shape"
   ]
  },
  {
   "cell_type": "code",
   "execution_count": 143,
   "metadata": {},
   "outputs": [
    {
     "data": {
      "text/plain": [
       "15"
      ]
     },
     "execution_count": 143,
     "metadata": {},
     "output_type": "execute_result"
    }
   ],
   "source": [
    "test_ratio=0.1\n",
    "test_m = int(len(x_3d)*test_ratio)\n",
    "test_m"
   ]
  },
  {
   "cell_type": "code",
   "execution_count": 144,
   "metadata": {},
   "outputs": [],
   "source": [
    "m = len(x_3d)\n",
    "x_2d = np.reshape(x_3d, [m,-1])\n",
    "y_2d = np.reshape(y_3d, [m,-1])\n",
    "x_test = x_2d[:test_m]\n",
    "x_train = x_2d[test_m:]\n",
    "y_test = y_2d[:test_m]\n",
    "y_train = y_2d[test_m:]"
   ]
  },
  {
   "cell_type": "code",
   "execution_count": 145,
   "metadata": {},
   "outputs": [],
   "source": [
    "#model 가중치를 작게 제약시킨다 > 모든 정보를 활용해서 예측\n",
    "from sklearn.linear_model import Ridge"
   ]
  },
  {
   "cell_type": "code",
   "execution_count": 146,
   "metadata": {},
   "outputs": [],
   "source": [
    "model = Ridge(normalize=True, solver='lsqr').fit(x_train, y_train) # 2차원 이하만 가능"
   ]
  },
  {
   "cell_type": "code",
   "execution_count": 147,
   "metadata": {},
   "outputs": [
    {
     "data": {
      "text/plain": [
       "(0.9767361862972054, -14.854996557273719)"
      ]
     },
     "execution_count": 147,
     "metadata": {},
     "output_type": "execute_result"
    }
   ],
   "source": [
    "model.score(x_train, y_train), model.score(x_test, y_test) #과적합 발생"
   ]
  },
  {
   "cell_type": "code",
   "execution_count": 148,
   "metadata": {},
   "outputs": [],
   "source": [
    "korea_close_index=0\n",
    "bitcoin_close_index=9"
   ]
  },
  {
   "cell_type": "code",
   "execution_count": 149,
   "metadata": {},
   "outputs": [
    {
     "data": {
      "text/plain": [
       "(60, 12)"
      ]
     },
     "execution_count": 149,
     "metadata": {},
     "output_type": "execute_result"
    }
   ],
   "source": [
    "# 가장 최근 데이터\n",
    "recent = df.iloc[-input_seq:]\n",
    "recent.shape"
   ]
  },
  {
   "cell_type": "code",
   "execution_count": 150,
   "metadata": {},
   "outputs": [
    {
     "data": {
      "text/plain": [
       "(1, 720)"
      ]
     },
     "execution_count": 150,
     "metadata": {},
     "output_type": "execute_result"
    }
   ],
   "source": [
    "recent = np.reshape(np.array(recent), [1,-1])\n",
    "recent.shape\n"
   ]
  },
  {
   "cell_type": "code",
   "execution_count": 151,
   "metadata": {},
   "outputs": [
    {
     "data": {
      "text/plain": [
       "array([[0.50541516, 0.20454545, 0.41463415, 0.51760563, 0.47292419]])"
      ]
     },
     "execution_count": 151,
     "metadata": {},
     "output_type": "execute_result"
    }
   ],
   "source": [
    "recent[:,:5]"
   ]
  },
  {
   "cell_type": "code",
   "execution_count": 152,
   "metadata": {},
   "outputs": [
    {
     "data": {
      "text/plain": [
       "(30, 2)"
      ]
     },
     "execution_count": 152,
     "metadata": {},
     "output_type": "execute_result"
    }
   ],
   "source": [
    "p = model.predict(recent)#미래 예측\n",
    "p = np.reshape(p, [output_seq, -1])\n",
    "p.shape"
   ]
  },
  {
   "cell_type": "code",
   "execution_count": 153,
   "metadata": {},
   "outputs": [
    {
     "data": {
      "text/plain": [
       "array([[0.82846606, 0.85197675],\n",
       "       [0.83686755, 0.84454567],\n",
       "       [0.80535445, 0.83870967],\n",
       "       [0.74785701, 0.86159543],\n",
       "       [0.70322264, 0.88806056],\n",
       "       [0.65517003, 0.83242864],\n",
       "       [0.68295159, 0.79393146],\n",
       "       [0.74717617, 0.74057111],\n",
       "       [0.77644706, 0.6960331 ],\n",
       "       [0.82169161, 0.70066397],\n",
       "       [0.82342871, 0.7103672 ],\n",
       "       [0.79052933, 0.70498656],\n",
       "       [0.78019502, 0.72642521],\n",
       "       [0.71785633, 0.7441244 ],\n",
       "       [0.68633352, 0.76431732],\n",
       "       [0.69877174, 0.93280537],\n",
       "       [0.67496745, 1.06475134],\n",
       "       [0.64249303, 1.17156201],\n",
       "       [0.5562043 , 1.19012915],\n",
       "       [0.45246021, 1.14376287],\n",
       "       [0.38502142, 1.15684837],\n",
       "       [0.41042091, 1.15851444],\n",
       "       [0.42164824, 1.10447593],\n",
       "       [0.43112005, 1.06191723],\n",
       "       [0.39601188, 1.00411933],\n",
       "       [0.35215686, 1.04104412],\n",
       "       [0.33439696, 1.05649162],\n",
       "       [0.27436681, 1.0515339 ],\n",
       "       [0.2375275 , 1.02892778],\n",
       "       [0.18932426, 1.01890334]])"
      ]
     },
     "execution_count": 153,
     "metadata": {},
     "output_type": "execute_result"
    }
   ],
   "source": [
    "p"
   ]
  },
  {
   "cell_type": "code",
   "execution_count": 154,
   "metadata": {},
   "outputs": [
    {
     "data": {
      "text/plain": [
       "<matplotlib.legend.Legend at 0x166033188d0>"
      ]
     },
     "execution_count": 154,
     "metadata": {},
     "output_type": "execute_result"
    },
    {
     "data": {
      "image/png": "[encoded data removed]",
      "text/plain": [
       "<Figure size 432x288 with 1 Axes>"
      ]
     },
     "metadata": {
      "needs_background": "light"
     },
     "output_type": "display_data"
    }
   ],
   "source": [
    "plt.plot(df['종가'].values)\n",
    "plt.plot(df['Close**'].values)\n",
    "plt.plot(p[:,0], label='samsung')\n",
    "plt.plot(p[:,1], label='bitcoin')\n",
    "plt.legend()"
   ]
  },
  {
   "cell_type": "code",
   "execution_count": 155,
   "metadata": {},
   "outputs": [
    {
     "data": {
      "text/plain": [
       "<matplotlib.legend.Legend at 0x1660769fd30>"
      ]
     },
     "execution_count": 155,
     "metadata": {},
     "output_type": "execute_result"
    },
    {
     "data": {
      "image/png": "[encoded data removed]",
      "text/plain": [
       "<Figure size 432x288 with 1 Axes>"
      ]
     },
     "metadata": {
      "needs_background": "light"
     },
     "output_type": "display_data"
    }
   ],
   "source": [
    "xm = len(df)\n",
    "plt.plot(np.arange(xm), df['종가'].values)\n",
    "plt.plot(np.arange(xm), df['Close**'].values)\n",
    "plt.plot(np.arange(xm,xm+output_seq), p[:,0], label='samsung')\n",
    "plt.plot(np.arange(xm,xm+output_seq), p[:,1], label='bitcoin')\n",
    "plt.legend()"
   ]
  },
  {
   "cell_type": "code",
   "execution_count": null,
   "metadata": {},
   "outputs": [],
   "source": []
  }
 ],
 "metadata": {
  "kernelspec": {
   "display_name": "Python 3",
   "language": "python",
   "name": "python3"
  },
  "language_info": {
   "codemirror_mode": {
    "name": "ipython",
    "version": 3
   },
   "file_extension": ".py",
   "mimetype": "text/x-python",
   "name": "python",
   "nbconvert_exporter": "python",
   "pygments_lexer": "ipython3",
   "version": "3.7.3"
  }
 },
 "nbformat": 4,
 "nbformat_minor": 2
}
