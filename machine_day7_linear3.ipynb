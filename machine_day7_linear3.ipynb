{
 "cells": [
  {
   "cell_type": "code",
   "execution_count": 1,
   "metadata": {},
   "outputs": [],
   "source": [
    "import numpy as np\n",
    "import pandas as pd\n",
    "import matplotlib.pyplot as plt"
   ]
  },
  {
   "cell_type": "code",
   "execution_count": 11,
   "metadata": {},
   "outputs": [
    {
     "data": {
      "text/plain": [
       "(494, 8)"
      ]
     },
     "execution_count": 11,
     "metadata": {},
     "output_type": "execute_result"
    }
   ],
   "source": [
    "f = '_기간별평균환율조회(월별)_20190702.xls'\n",
    "f = 'japan_money.csv'\n",
    "df = pd.read_csv(f, encoding='cp949', index_col=0, header=1)\n",
    "df.shape\n"
   ]
  },
  {
   "cell_type": "code",
   "execution_count": 12,
   "metadata": {},
   "outputs": [
    {
     "data": {
      "text/html": [
       "<div>\n",
       "<style scoped>\n",
       "    .dataframe tbody tr th:only-of-type {\n",
       "        vertical-align: middle;\n",
       "    }\n",
       "\n",
       "    .dataframe tbody tr th {\n",
       "        vertical-align: top;\n",
       "    }\n",
       "\n",
       "    .dataframe thead th {\n",
       "        text-align: right;\n",
       "    }\n",
       "</style>\n",
       "<table border=\"1\" class=\"dataframe\">\n",
       "  <thead>\n",
       "    <tr style=\"text-align: right;\">\n",
       "      <th></th>\n",
       "      <th>보내실때</th>\n",
       "      <th>받으실때</th>\n",
       "      <th>사실때</th>\n",
       "      <th>파실때</th>\n",
       "      <th>Unnamed: 5</th>\n",
       "      <th>(전일대비)</th>\n",
       "      <th>Unnamed: 7</th>\n",
       "      <th>Unnamed: 8</th>\n",
       "    </tr>\n",
       "  </thead>\n",
       "  <tbody>\n",
       "    <tr>\n",
       "      <th>2019.07.02</th>\n",
       "      <td>1,087.53</td>\n",
       "      <td>1,066.65</td>\n",
       "      <td>1,095.93</td>\n",
       "      <td>1,058.25</td>\n",
       "      <td>1,090.01/td&gt;</td>\n",
       "      <td>1,077.09</td>\n",
       "      <td>1,066.80</td>\n",
       "      <td>0.92</td>\n",
       "    </tr>\n",
       "    <tr>\n",
       "      <th>NaN</th>\n",
       "      <td>NaN</td>\n",
       "      <td>NaN</td>\n",
       "      <td>NaN</td>\n",
       "      <td>NaN</td>\n",
       "      <td>NaN</td>\n",
       "      <td>상승2.87</td>\n",
       "      <td>NaN</td>\n",
       "      <td>NaN</td>\n",
       "    </tr>\n",
       "    <tr>\n",
       "      <th>2019.07.01</th>\n",
       "      <td>1,084.63</td>\n",
       "      <td>1,063.81</td>\n",
       "      <td>1,093.01</td>\n",
       "      <td>1,055.43</td>\n",
       "      <td>1,087.11/td&gt;</td>\n",
       "      <td>1,074.22</td>\n",
       "      <td>1,066.74</td>\n",
       "      <td>0.92</td>\n",
       "    </tr>\n",
       "    <tr>\n",
       "      <th>NaN</th>\n",
       "      <td>NaN</td>\n",
       "      <td>NaN</td>\n",
       "      <td>NaN</td>\n",
       "      <td>NaN</td>\n",
       "      <td>NaN</td>\n",
       "      <td>상승1.42</td>\n",
       "      <td>NaN</td>\n",
       "      <td>NaN</td>\n",
       "    </tr>\n",
       "    <tr>\n",
       "      <th>2019.06.28</th>\n",
       "      <td>1,083.20</td>\n",
       "      <td>1,062.40</td>\n",
       "      <td>1,091.57</td>\n",
       "      <td>1,054.03</td>\n",
       "      <td>1,085.67/td&gt;</td>\n",
       "      <td>1,072.80</td>\n",
       "      <td>1,073.35</td>\n",
       "      <td>0.92</td>\n",
       "    </tr>\n",
       "  </tbody>\n",
       "</table>\n",
       "</div>"
      ],
      "text/plain": [
       "                보내실때      받으실때       사실때       파실때    Unnamed: 5    (전일대비)  \\\n",
       "2019.07.02  1,087.53  1,066.65  1,095.93  1,058.25  1,090.01/td>  1,077.09   \n",
       "NaN              NaN       NaN       NaN       NaN           NaN    상승2.87   \n",
       "2019.07.01  1,084.63  1,063.81  1,093.01  1,055.43  1,087.11/td>  1,074.22   \n",
       "NaN              NaN       NaN       NaN       NaN           NaN    상승1.42   \n",
       "2019.06.28  1,083.20  1,062.40  1,091.57  1,054.03  1,085.67/td>  1,072.80   \n",
       "\n",
       "           Unnamed: 7  Unnamed: 8  \n",
       "2019.07.02   1,066.80        0.92  \n",
       "NaN               NaN         NaN  \n",
       "2019.07.01   1,066.74        0.92  \n",
       "NaN               NaN         NaN  \n",
       "2019.06.28   1,073.35        0.92  "
      ]
     },
     "execution_count": 12,
     "metadata": {},
     "output_type": "execute_result"
    }
   ],
   "source": [
    "df.head()"
   ]
  },
  {
   "cell_type": "code",
   "execution_count": 15,
   "metadata": {},
   "outputs": [
    {
     "data": {
      "text/html": [
       "<div>\n",
       "<style scoped>\n",
       "    .dataframe tbody tr th:only-of-type {\n",
       "        vertical-align: middle;\n",
       "    }\n",
       "\n",
       "    .dataframe tbody tr th {\n",
       "        vertical-align: top;\n",
       "    }\n",
       "\n",
       "    .dataframe thead th {\n",
       "        text-align: right;\n",
       "    }\n",
       "</style>\n",
       "<table border=\"1\" class=\"dataframe\">\n",
       "  <thead>\n",
       "    <tr style=\"text-align: right;\">\n",
       "      <th></th>\n",
       "      <th>보내실때</th>\n",
       "      <th>받으실때</th>\n",
       "      <th>사실때</th>\n",
       "      <th>파실때</th>\n",
       "    </tr>\n",
       "  </thead>\n",
       "  <tbody>\n",
       "    <tr>\n",
       "      <th>2019.07.02</th>\n",
       "      <td>1,087.53</td>\n",
       "      <td>1,066.65</td>\n",
       "      <td>1,095.93</td>\n",
       "      <td>1,058.25</td>\n",
       "    </tr>\n",
       "    <tr>\n",
       "      <th>NaN</th>\n",
       "      <td>NaN</td>\n",
       "      <td>NaN</td>\n",
       "      <td>NaN</td>\n",
       "      <td>NaN</td>\n",
       "    </tr>\n",
       "    <tr>\n",
       "      <th>2019.07.01</th>\n",
       "      <td>1,084.63</td>\n",
       "      <td>1,063.81</td>\n",
       "      <td>1,093.01</td>\n",
       "      <td>1,055.43</td>\n",
       "    </tr>\n",
       "    <tr>\n",
       "      <th>NaN</th>\n",
       "      <td>NaN</td>\n",
       "      <td>NaN</td>\n",
       "      <td>NaN</td>\n",
       "      <td>NaN</td>\n",
       "    </tr>\n",
       "    <tr>\n",
       "      <th>2019.06.28</th>\n",
       "      <td>1,083.20</td>\n",
       "      <td>1,062.40</td>\n",
       "      <td>1,091.57</td>\n",
       "      <td>1,054.03</td>\n",
       "    </tr>\n",
       "  </tbody>\n",
       "</table>\n",
       "</div>"
      ],
      "text/plain": [
       "                보내실때      받으실때       사실때       파실때\n",
       "2019.07.02  1,087.53  1,066.65  1,095.93  1,058.25\n",
       "NaN              NaN       NaN       NaN       NaN\n",
       "2019.07.01  1,084.63  1,063.81  1,093.01  1,055.43\n",
       "NaN              NaN       NaN       NaN       NaN\n",
       "2019.06.28  1,083.20  1,062.40  1,091.57  1,054.03"
      ]
     },
     "execution_count": 15,
     "metadata": {},
     "output_type": "execute_result"
    }
   ],
   "source": [
    "#데이터 정제\n",
    "df4 = df.iloc[:,:4]\n",
    "df4.head()"
   ]
  },
  {
   "cell_type": "code",
   "execution_count": 16,
   "metadata": {},
   "outputs": [
    {
     "data": {
      "text/html": [
       "<div>\n",
       "<style scoped>\n",
       "    .dataframe tbody tr th:only-of-type {\n",
       "        vertical-align: middle;\n",
       "    }\n",
       "\n",
       "    .dataframe tbody tr th {\n",
       "        vertical-align: top;\n",
       "    }\n",
       "\n",
       "    .dataframe thead th {\n",
       "        text-align: right;\n",
       "    }\n",
       "</style>\n",
       "<table border=\"1\" class=\"dataframe\">\n",
       "  <thead>\n",
       "    <tr style=\"text-align: right;\">\n",
       "      <th></th>\n",
       "      <th>보내실때</th>\n",
       "      <th>받으실때</th>\n",
       "      <th>사실때</th>\n",
       "      <th>파실때</th>\n",
       "    </tr>\n",
       "  </thead>\n",
       "  <tbody>\n",
       "    <tr>\n",
       "      <th>2019.07.02</th>\n",
       "      <td>1,087.53</td>\n",
       "      <td>1,066.65</td>\n",
       "      <td>1,095.93</td>\n",
       "      <td>1,058.25</td>\n",
       "    </tr>\n",
       "    <tr>\n",
       "      <th>2019.07.01</th>\n",
       "      <td>1,084.63</td>\n",
       "      <td>1,063.81</td>\n",
       "      <td>1,093.01</td>\n",
       "      <td>1,055.43</td>\n",
       "    </tr>\n",
       "    <tr>\n",
       "      <th>2019.06.28</th>\n",
       "      <td>1,083.20</td>\n",
       "      <td>1,062.40</td>\n",
       "      <td>1,091.57</td>\n",
       "      <td>1,054.03</td>\n",
       "    </tr>\n",
       "    <tr>\n",
       "      <th>2019.06.27</th>\n",
       "      <td>1,082.90</td>\n",
       "      <td>1,062.10</td>\n",
       "      <td>1,091.26</td>\n",
       "      <td>1,053.74</td>\n",
       "    </tr>\n",
       "    <tr>\n",
       "      <th>2019.06.26</th>\n",
       "      <td>1,086.17</td>\n",
       "      <td>1,065.31</td>\n",
       "      <td>1,094.56</td>\n",
       "      <td>1,056.92</td>\n",
       "    </tr>\n",
       "  </tbody>\n",
       "</table>\n",
       "</div>"
      ],
      "text/plain": [
       "                보내실때      받으실때       사실때       파실때\n",
       "2019.07.02  1,087.53  1,066.65  1,095.93  1,058.25\n",
       "2019.07.01  1,084.63  1,063.81  1,093.01  1,055.43\n",
       "2019.06.28  1,083.20  1,062.40  1,091.57  1,054.03\n",
       "2019.06.27  1,082.90  1,062.10  1,091.26  1,053.74\n",
       "2019.06.26  1,086.17  1,065.31  1,094.56  1,056.92"
      ]
     },
     "execution_count": 16,
     "metadata": {},
     "output_type": "execute_result"
    }
   ],
   "source": [
    "df4 = df4.dropna()\n",
    "df4.head()"
   ]
  },
  {
   "cell_type": "code",
   "execution_count": 17,
   "metadata": {},
   "outputs": [
    {
     "name": "stdout",
     "output_type": "stream",
     "text": [
      "<class 'pandas.core.frame.DataFrame'>\n",
      "Index: 248 entries, 2019.07.02 to 2018.06.29\n",
      "Data columns (total 4 columns):\n",
      "보내실때    248 non-null object\n",
      "받으실때    248 non-null object\n",
      "사실때     248 non-null object\n",
      "파실때     248 non-null object\n",
      "dtypes: object(4)\n",
      "memory usage: 9.7+ KB\n"
     ]
    }
   ],
   "source": [
    "df4.info()"
   ]
  },
  {
   "cell_type": "code",
   "execution_count": 20,
   "metadata": {},
   "outputs": [
    {
     "name": "stdout",
     "output_type": "stream",
     "text": [
      "<class 'pandas.core.frame.DataFrame'>\n",
      "Index: 248 entries, 2019.07.02 to 2018.06.29\n",
      "Data columns (total 4 columns):\n",
      "보내실때    248 non-null float64\n",
      "받으실때    248 non-null float64\n",
      "사실때     248 non-null float64\n",
      "파실때     248 non-null float64\n",
      "dtypes: float64(4)\n",
      "memory usage: 9.7+ KB\n"
     ]
    }
   ],
   "source": [
    "# 전처리 (문자 > 숫자) preprocessing\n",
    "df4 = df4.replace(',','',regex=True)\n",
    "df4 = df4.astype(np.float)\n",
    "df4.info()"
   ]
  },
  {
   "cell_type": "code",
   "execution_count": 23,
   "metadata": {},
   "outputs": [
    {
     "data": {
      "text/plain": [
       "<matplotlib.axes._subplots.AxesSubplot at 0x194e5667320>"
      ]
     },
     "execution_count": 23,
     "metadata": {},
     "output_type": "execute_result"
    },
    {
     "data": {
      "image/png": "[encoded data removed]",
      "text/plain": [
       "<Figure size 432x288 with 1 Axes>"
      ]
     },
     "metadata": {
      "needs_background": "light"
     },
     "output_type": "display_data"
    }
   ],
   "source": [
    "plt.rc('font', family='Malgun Gothic')\n",
    "df4.iloc[::-1].plot()"
   ]
  },
  {
   "cell_type": "code",
   "execution_count": 42,
   "metadata": {},
   "outputs": [
    {
     "data": {
      "text/html": [
       "<div>\n",
       "<style scoped>\n",
       "    .dataframe tbody tr th:only-of-type {\n",
       "        vertical-align: middle;\n",
       "    }\n",
       "\n",
       "    .dataframe tbody tr th {\n",
       "        vertical-align: top;\n",
       "    }\n",
       "\n",
       "    .dataframe thead th {\n",
       "        text-align: right;\n",
       "    }\n",
       "</style>\n",
       "<table border=\"1\" class=\"dataframe\">\n",
       "  <thead>\n",
       "    <tr style=\"text-align: right;\">\n",
       "      <th></th>\n",
       "      <th>원자료</th>\n",
       "      <th>원자료.1</th>\n",
       "    </tr>\n",
       "    <tr>\n",
       "      <th>변환</th>\n",
       "      <th></th>\n",
       "      <th></th>\n",
       "    </tr>\n",
       "  </thead>\n",
       "  <tbody>\n",
       "    <tr>\n",
       "      <th>2018/06/29</th>\n",
       "      <td>1,121.70</td>\n",
       "      <td>1,014.79</td>\n",
       "    </tr>\n",
       "    <tr>\n",
       "      <th>2018/07/02</th>\n",
       "      <td>1,117.20</td>\n",
       "      <td>1,009.26</td>\n",
       "    </tr>\n",
       "    <tr>\n",
       "      <th>2018/07/03</th>\n",
       "      <td>1,117.40</td>\n",
       "      <td>1,008.26</td>\n",
       "    </tr>\n",
       "    <tr>\n",
       "      <th>2018/07/04</th>\n",
       "      <td>1,121.10</td>\n",
       "      <td>1,014.34</td>\n",
       "    </tr>\n",
       "    <tr>\n",
       "      <th>2018/07/05</th>\n",
       "      <td>1,115.30</td>\n",
       "      <td>1,009.55</td>\n",
       "    </tr>\n",
       "  </tbody>\n",
       "</table>\n",
       "</div>"
      ],
      "text/plain": [
       "                 원자료     원자료.1\n",
       "변환                            \n",
       "2018/06/29  1,121.70  1,014.79\n",
       "2018/07/02  1,117.20  1,009.26\n",
       "2018/07/03  1,117.40  1,008.26\n",
       "2018/07/04  1,121.10  1,014.34\n",
       "2018/07/05  1,115.30  1,009.55"
      ]
     },
     "execution_count": 42,
     "metadata": {},
     "output_type": "execute_result"
    }
   ],
   "source": [
    "f2 = '8.8.1.1 주요국통화의 대원화 환.csv'\n",
    "df2 = pd.read_csv(f2, encoding='cp949', index_col=0, header=3)\n",
    "df2 = df2.dropna()\n",
    "df2.head()"
   ]
  },
  {
   "cell_type": "code",
   "execution_count": 71,
   "metadata": {},
   "outputs": [],
   "source": [
    "df2 = df2.replace(',','',regex=True).astype(np.float)"
   ]
  },
  {
   "cell_type": "code",
   "execution_count": 72,
   "metadata": {},
   "outputs": [
    {
     "data": {
      "text/plain": [
       "20"
      ]
     },
     "execution_count": 72,
     "metadata": {},
     "output_type": "execute_result"
    }
   ],
   "source": [
    "window_week=4\n",
    "window_day=window_week * 5 # 5일\n",
    "predict_day = 5\n",
    "window_day"
   ]
  },
  {
   "cell_type": "markdown",
   "metadata": {},
   "source": [
    "X, Y 갯수 체크\n",
    "- 데이터가 30개 있으면? 20개로부터 5일 예측하므로 (20+5)=1샘플, 총 5샘플\n",
    "- 현재 데이터 248ㄱ 샘플, 총 224 쌍의 X,Y를 만들어야 합니다."
   ]
  },
  {
   "cell_type": "code",
   "execution_count": 73,
   "metadata": {},
   "outputs": [
    {
     "data": {
      "text/plain": [
       "(248, 25, 224)"
      ]
     },
     "execution_count": 73,
     "metadata": {},
     "output_type": "execute_result"
    }
   ],
   "source": [
    "len(df2), window_day+predict_day, len(df2) - (window_day+predict_day-1)\n",
    "# x : 과거의 2일치\n",
    "# y : 미래의 2일치\n",
    "# data : 1,2,3,4,5일\n",
    "# X : 1,2, - Y,3,4"
   ]
  },
  {
   "cell_type": "code",
   "execution_count": 74,
   "metadata": {},
   "outputs": [
    {
     "data": {
      "text/plain": [
       "(24, 224)"
      ]
     },
     "execution_count": 74,
     "metadata": {},
     "output_type": "execute_result"
    }
   ],
   "source": [
    "offset = window_day+predict_day-1\n",
    "offset, len(df2)-offset"
   ]
  },
  {
   "cell_type": "code",
   "execution_count": 75,
   "metadata": {},
   "outputs": [
    {
     "data": {
      "text/plain": [
       "((224, 2), (224, 2))"
      ]
     },
     "execution_count": 75,
     "metadata": {},
     "output_type": "execute_result"
    }
   ],
   "source": [
    "X = df2.iloc[offset:] # 최근 데이터 24개 빼고\n",
    "y= df2.iloc[offset:] #과거 데이터 24개 빼고\n",
    "X.shape, y.shape\n"
   ]
  },
  {
   "cell_type": "code",
   "execution_count": 76,
   "metadata": {},
   "outputs": [
    {
     "data": {
      "text/plain": [
       "((243, 2), (228, 2))"
      ]
     },
     "execution_count": 76,
     "metadata": {},
     "output_type": "execute_result"
    }
   ],
   "source": [
    "before = df2.iloc[:-predict_day] # 최근 데이터 5개 빼고\n",
    "later = df2.iloc[window_day:] # 과거 데이터 20개 빼고\n",
    "before.shape, later.shape"
   ]
  },
  {
   "cell_type": "markdown",
   "metadata": {},
   "source": [
    "- x[224, 2*20], y[224, 2*5]"
   ]
  },
  {
   "cell_type": "code",
   "execution_count": 77,
   "metadata": {},
   "outputs": [
    {
     "data": {
      "text/plain": [
       "224"
      ]
     },
     "execution_count": 77,
     "metadata": {},
     "output_type": "execute_result"
    }
   ],
   "source": [
    "m = len(df2) - (predict_day + window_day -1)\n",
    "m"
   ]
  },
  {
   "cell_type": "code",
   "execution_count": 78,
   "metadata": {},
   "outputs": [],
   "source": [
    "x_list = []\n",
    "y_list = []\n",
    "for i in range(m):\n",
    "    x = df2.iloc[i:i+window_day] # 1 to 21 ... 20일간의 데이터\n",
    "    y = df2.iloc[i+window_day:i+window_day+predict_day] # 그다음 5일간의 데이터\n",
    "    x_list.append(x.values) # 날짜 인덱스 빼고 값만 저장\n",
    "    y_list.append(y.values)"
   ]
  },
  {
   "cell_type": "code",
   "execution_count": 79,
   "metadata": {},
   "outputs": [
    {
     "data": {
      "text/plain": [
       "((224, 20, 2), (224, 5, 2))"
      ]
     },
     "execution_count": 79,
     "metadata": {},
     "output_type": "execute_result"
    }
   ],
   "source": [
    "X = np.array(x_list)\n",
    "y = np.array(y_list)\n",
    "X.shape, y.shape # (m-instance, day, 특징 수(달러, 엔화))"
   ]
  },
  {
   "cell_type": "code",
   "execution_count": 80,
   "metadata": {},
   "outputs": [
    {
     "data": {
      "text/plain": [
       "((224, 40), (224, 10))"
      ]
     },
     "execution_count": 80,
     "metadata": {},
     "output_type": "execute_result"
    }
   ],
   "source": [
    "X = np.reshape(X, [m,-1])\n",
    "y = np.reshape(y, [m,-1])\n",
    "X.shape, y.shape # 달러, 엔화, 달러, 엔화..."
   ]
  },
  {
   "cell_type": "code",
   "execution_count": null,
   "metadata": {},
   "outputs": [],
   "source": []
  },
  {
   "cell_type": "code",
   "execution_count": 81,
   "metadata": {},
   "outputs": [
    {
     "data": {
      "text/plain": [
       "((194, 40), (30, 40), (194, 10), (30, 10))"
      ]
     },
     "execution_count": 81,
     "metadata": {},
     "output_type": "execute_result"
    }
   ],
   "source": [
    "# train / test 분리\n",
    "offset = 30 # 테스트셋\n",
    "X_train = X[offset:]\n",
    "X_test = X[:offset]\n",
    "y_train = y[offset:]\n",
    "y_test = y[:offset]\n",
    "X_train.shape, X_test.shape, y_train.shape, y_test.shape"
   ]
  },
  {
   "cell_type": "code",
   "execution_count": 83,
   "metadata": {},
   "outputs": [
    {
     "data": {
      "text/plain": [
       "array([[1119.6 , 1006.52, 1120.  , ..., 1000.22, 1119.3 , 1002.51],\n",
       "       [1120.  , 1009.46, 1116.7 , ..., 1002.51, 1122.6 , 1005.6 ],\n",
       "       [1116.7 , 1005.95, 1117.9 , ..., 1005.6 , 1128.1 , 1014.16],\n",
       "       ...,\n",
       "       [1162.  , 1082.19, 1157.9 , ..., 1075.  , 1156.8 , 1073.35],\n",
       "       [1157.9 , 1078.97, 1154.7 , ..., 1073.35, 1156.4 , 1066.74],\n",
       "       [1154.7 , 1077.35, 1158.2 , ..., 1066.74, 1155.4 , 1066.8 ]])"
      ]
     },
     "execution_count": 83,
     "metadata": {},
     "output_type": "execute_result"
    }
   ],
   "source": [
    "y"
   ]
  },
  {
   "cell_type": "code",
   "execution_count": 84,
   "metadata": {},
   "outputs": [],
   "source": [
    "from sklearn.linear_model import LinearRegression, Ridge\n",
    "lr = Ridge().fit(X_train, y_train)"
   ]
  },
  {
   "cell_type": "code",
   "execution_count": 85,
   "metadata": {},
   "outputs": [
    {
     "data": {
      "text/plain": [
       "(0.9205409191491469, -0.6542108232125314)"
      ]
     },
     "execution_count": 85,
     "metadata": {},
     "output_type": "execute_result"
    }
   ],
   "source": [
    "lr.score(X_train, y_train), lr.score(X_test, y_test)"
   ]
  },
  {
   "cell_type": "code",
   "execution_count": 86,
   "metadata": {},
   "outputs": [
    {
     "data": {
      "text/plain": [
       "array([[1128.00560624, 1016.29562308, 1128.46735425, 1015.50289483,\n",
       "        1128.52122243, 1014.28682673, 1129.86431378, 1015.37692653,\n",
       "        1132.9745746 , 1017.5184348 ],\n",
       "       [1119.45404447, 1006.1940508 , 1120.20580579, 1004.89124899,\n",
       "        1120.57491748, 1004.40123283, 1125.57089001, 1007.91727823,\n",
       "        1124.11213516, 1005.86215353],\n",
       "       [1120.60966618, 1008.55027052, 1120.72254546, 1007.75605251,\n",
       "        1125.59943393, 1011.91303991, 1124.37528524, 1009.50997562,\n",
       "        1129.44554272, 1013.46790252],\n",
       "       [1117.19809504, 1006.46075222, 1121.4465924 , 1009.79587075,\n",
       "        1119.98187531, 1008.37422672, 1124.69818496, 1010.7093664 ,\n",
       "        1130.94288178, 1016.19873811],\n",
       "       [1121.99871564, 1002.6584493 , 1120.47341727, 1001.83406024,\n",
       "        1125.37554226, 1003.43495265, 1131.77966314, 1010.5982368 ,\n",
       "        1135.88141516, 1016.19062144],\n",
       "       [1118.28589558, 1003.21079606, 1122.55899248, 1004.03472994,\n",
       "        1128.75254144, 1012.41476134, 1132.5173882 , 1016.43010008,\n",
       "        1131.96089678, 1014.55826784],\n",
       "       [1127.57895565, 1006.10904333, 1134.11583824, 1015.38276958,\n",
       "        1138.31449391, 1018.94324166, 1137.29143866, 1018.06460895,\n",
       "        1135.00661226, 1015.04634811],\n",
       "       [1133.41032874, 1022.45276769, 1138.08449808, 1025.65734593,\n",
       "        1136.74427562, 1024.44297967, 1135.26923417, 1020.67921577,\n",
       "        1136.92946669, 1022.93577414],\n",
       "       [1128.11197175, 1013.33251061, 1127.07289213, 1011.7257687 ,\n",
       "        1124.80444199, 1006.96991212, 1127.46667919, 1009.68832296,\n",
       "        1124.61321425, 1005.80942827],\n",
       "       [1126.11708565, 1011.74982374, 1123.11214408, 1007.05686386,\n",
       "        1125.24322062, 1010.42753532, 1123.01965955, 1006.8967363 ,\n",
       "        1123.80537566, 1009.3933246 ],\n",
       "       [1116.56020699, 1006.66668863, 1118.68621552, 1009.3437521 ,\n",
       "        1115.61397909, 1006.11296807, 1117.09855039, 1007.54558892,\n",
       "        1113.41007437, 1002.64620138],\n",
       "       [1119.51072488, 1007.23663293, 1116.72215631, 1004.42891282,\n",
       "        1118.29845327, 1005.13131912, 1114.97445572, 1001.39794577,\n",
       "        1115.76379902, 1002.46880945],\n",
       "       [1124.03297237, 1015.59427166, 1125.09105227, 1016.15842489,\n",
       "        1122.415537  , 1014.08552762, 1121.88722168, 1013.75598918,\n",
       "        1122.11756734, 1014.26503971],\n",
       "       [1134.63372607, 1023.7520293 , 1132.05151258, 1022.68789327,\n",
       "        1132.15792608, 1022.55227558, 1132.44565271, 1025.1443833 ,\n",
       "        1131.153983  , 1024.11099568],\n",
       "       [1129.33928404, 1022.41776   , 1129.61494089, 1021.80575057,\n",
       "        1129.8039632 , 1024.42096596, 1128.23387191, 1022.18318786,\n",
       "        1125.4145505 , 1018.47455705],\n",
       "       [1131.01169087, 1017.81141056, 1131.42120075, 1020.86536497,\n",
       "        1130.21601911, 1018.25607956, 1127.03068805, 1015.60648802,\n",
       "        1127.23331529, 1016.2045272 ],\n",
       "       [1125.07142702, 1021.44284127, 1123.99299121, 1017.35429622,\n",
       "        1120.6028112 , 1015.27963347, 1120.17414487, 1012.6897309 ,\n",
       "        1120.60246283, 1011.32222277],\n",
       "       [1119.52601609, 1015.47485273, 1116.96444246, 1013.38018385,\n",
       "        1115.94459706, 1009.5357823 , 1117.88166403, 1009.1417537 ,\n",
       "        1120.84244655, 1014.39531005],\n",
       "       [1116.00571712, 1014.77132707, 1113.87564801, 1009.98032609,\n",
       "        1115.79769472, 1011.39932602, 1118.09058824, 1014.82406847,\n",
       "        1121.46047448, 1017.01926364],\n",
       "       [1116.98920216, 1006.52904452, 1119.00500074, 1008.80662959,\n",
       "        1121.661604  , 1011.57412578, 1124.78304424, 1015.24883194,\n",
       "        1125.58780934, 1015.71173704],\n",
       "       [1122.39962885, 1007.30338033, 1125.1783649 , 1010.96295953,\n",
       "        1128.48438786, 1013.66554291, 1129.83207193, 1016.05282724,\n",
       "        1130.84901357, 1015.664967  ],\n",
       "       [1124.33245448, 1011.6582208 , 1127.63359078, 1013.87058988,\n",
       "        1129.14679718, 1016.67328396, 1129.48768732, 1015.00200636,\n",
       "        1128.91032407, 1013.56797864],\n",
       "       [1116.41690036, 1004.62428396, 1118.71626572, 1006.96613984,\n",
       "        1117.93474148, 1003.51540923, 1119.32097201, 1002.56083644,\n",
       "        1117.78980698,  999.28335557],\n",
       "       [1112.79331897, 1002.63575107, 1111.9768403 ,  998.9790729 ,\n",
       "        1112.53203589,  997.71865471, 1112.21216565,  994.88961191,\n",
       "        1111.95454287,  995.36376334],\n",
       "       [1109.11340261,  990.11782808, 1109.63726104,  989.39772132,\n",
       "        1108.99547825,  985.89733282, 1109.24311248,  988.00162105,\n",
       "        1108.72081523,  987.20915219],\n",
       "       [1108.28117578,  998.04156975, 1107.35841362,  993.16761592,\n",
       "        1107.49223223,  996.84192133, 1106.76482815,  993.51264754,\n",
       "        1110.65571269,  998.90413576],\n",
       "       [1113.36305685,  997.62377775, 1112.86428447, 1001.45813268,\n",
       "        1112.7430612 ,  999.55546833, 1115.4877296 , 1004.79887033,\n",
       "        1115.90989803, 1004.33791068],\n",
       "       [1111.61017485, 1004.74655131, 1111.5838746 , 1002.23589985,\n",
       "        1114.27238046, 1007.440023  , 1114.80683035, 1005.63680516,\n",
       "        1114.70098956, 1004.75814085],\n",
       "       [1115.78844987,  997.74211728, 1118.15148681, 1004.0300023 ,\n",
       "        1119.07544283, 1002.07144441, 1118.44003561, 1002.98760507,\n",
       "        1117.36803592, 1001.86903141],\n",
       "       [1118.49926665, 1006.62622904, 1120.10349153, 1004.52385964,\n",
       "        1119.67414751, 1004.82200901, 1118.5880598 , 1003.31249787,\n",
       "        1116.33286848,  999.51268569]])"
      ]
     },
     "execution_count": 86,
     "metadata": {},
     "output_type": "execute_result"
    }
   ],
   "source": [
    "lr.predict(X_test)"
   ]
  },
  {
   "cell_type": "code",
   "execution_count": 112,
   "metadata": {},
   "outputs": [
    {
     "data": {
      "text/plain": [
       "(5, 2)"
      ]
     },
     "execution_count": 112,
     "metadata": {},
     "output_type": "execute_result"
    }
   ],
   "source": [
    "# 미래의 환률그래프 시각화\n",
    "최근20일데이터 = df2.iloc[-window_day:].values.reshape(1, -1)\n",
    "미래의5일예측 = lr.predict(최근20일데이터)\n",
    "미래의5일예측2 = np.reshape(미래의5일예측, [predict_day, 2]) # 다시 3차원으로\n",
    "미래의5일예측2.shape"
   ]
  },
  {
   "cell_type": "code",
   "execution_count": 113,
   "metadata": {},
   "outputs": [
    {
     "data": {
      "image/png": "[encoded data removed]",
      "text/plain": [
       "<Figure size 432x288 with 1 Axes>"
      ]
     },
     "metadata": {
      "needs_background": "light"
     },
     "output_type": "display_data"
    }
   ],
   "source": [
    "p = plt.plot(미래의5일예측2)"
   ]
  },
  {
   "cell_type": "code",
   "execution_count": 114,
   "metadata": {},
   "outputs": [
    {
     "data": {
      "text/plain": [
       "array([[1153.97892309, 1066.84107246],\n",
       "       [1154.39307339, 1064.3510122 ],\n",
       "       [1152.98395508, 1064.80831854],\n",
       "       [1151.52830773, 1062.33486002],\n",
       "       [1148.51799407, 1060.0881306 ]])"
      ]
     },
     "execution_count": 114,
     "metadata": {},
     "output_type": "execute_result"
    }
   ],
   "source": [
    "미래의5일예측2"
   ]
  },
  {
   "cell_type": "code",
   "execution_count": 128,
   "metadata": {},
   "outputs": [
    {
     "data": {
      "text/plain": [
       "[<matplotlib.lines.Line2D at 0x194eaecff28>]"
      ]
     },
     "execution_count": 128,
     "metadata": {},
     "output_type": "execute_result"
    },
    {
     "data": {
      "image/png": "[encoded data removed]",
      "text/plain": [
       "<Figure size 2880x720 with 1 Axes>"
      ]
     },
     "metadata": {
      "needs_background": "light"
     },
     "output_type": "display_data"
    }
   ],
   "source": [
    "usa = df2.iloc[:,0].values\n",
    "japan = df2.iloc[:,1].values\n",
    "x_num = np.arange(len(usa))\n",
    "x_num2 = np.arange(len(usa), len(usa)+len(미래의5일예측2))\n",
    "plt.figure(figsize=(40,10))\n",
    "plt.plot(x_num, usa)\n",
    "plt.plot(x_num, japan)\n",
    "plt.plot(x_num2, 미래의5일예측2[:,0])\n",
    "plt.plot(x_num2, 미래의5일예측2[:,1])\n"
   ]
  },
  {
   "cell_type": "code",
   "execution_count": null,
   "metadata": {},
   "outputs": [],
   "source": []
  }
 ],
 "metadata": {
  "kernelspec": {
   "display_name": "Python 3",
   "language": "python",
   "name": "python3"
  },
  "language_info": {
   "codemirror_mode": {
    "name": "ipython",
    "version": 3
   },
   "file_extension": ".py",
   "mimetype": "text/x-python",
   "name": "python",
   "nbconvert_exporter": "python",
   "pygments_lexer": "ipython3",
   "version": "3.7.3"
  }
 },
 "nbformat": 4,
 "nbformat_minor": 2
}
