{
 "cells": [
  {
   "cell_type": "code",
   "execution_count": 1,
   "metadata": {},
   "outputs": [
    {
     "data": {
      "text/plain": [
       "[1, 2, 3, 4, 5, 6]"
      ]
     },
     "execution_count": 1,
     "metadata": {},
     "output_type": "execute_result"
    }
   ],
   "source": [
    "#요소들끼리 더하고 싶다 : element wise add\n",
    "[1,2,3]+[4,5,6]"
   ]
  },
  {
   "cell_type": "code",
   "execution_count": 2,
   "metadata": {},
   "outputs": [
    {
     "data": {
      "text/plain": [
       "(1, 2, 3, 7, 4, 5)"
      ]
     },
     "execution_count": 2,
     "metadata": {},
     "output_type": "execute_result"
    }
   ],
   "source": [
    "(1,2,3)+(7,4,5)"
   ]
  },
  {
   "cell_type": "markdown",
   "metadata": {},
   "source": [
    "Lit, Dict, Set 연산용으로 사용이 불가능, 메모리 사용량이 크고 느립니다."
   ]
  },
  {
   "cell_type": "code",
   "execution_count": 7,
   "metadata": {},
   "outputs": [],
   "source": [
    "import numpy as np"
   ]
  },
  {
   "cell_type": "code",
   "execution_count": 8,
   "metadata": {},
   "outputs": [
    {
     "data": {
      "text/plain": [
       "(array([1, 2, 3, 4, 5, 6, 7, 8, 9]), array([1, 3, 5, 7, 9]))"
      ]
     },
     "execution_count": 8,
     "metadata": {},
     "output_type": "execute_result"
    }
   ],
   "source": [
    "#배열 만들기\n",
    "# 함수 사용시 shift + tab으로 설명을 봅니다.\n",
    "numpy.arange(1,10), numpy.arange(1,10,2)"
   ]
  },
  {
   "cell_type": "code",
   "execution_count": 9,
   "metadata": {},
   "outputs": [
    {
     "data": {
      "text/plain": [
       "array([5, 7, 9])"
      ]
     },
     "execution_count": 9,
     "metadata": {},
     "output_type": "execute_result"
    }
   ],
   "source": [
    "np.array([1,2,3]) + np.array([4,5,6])"
   ]
  },
  {
   "cell_type": "markdown",
   "metadata": {},
   "source": [
    "야후 파이낸스의 SP500 주식 데이터를 읽습니다.\n",
    "csv 혹은 pandas로 읽을 수 있습니다."
   ]
  },
  {
   "cell_type": "code",
   "execution_count": 10,
   "metadata": {},
   "outputs": [],
   "source": [
    "import pandas"
   ]
  },
  {
   "cell_type": "code",
   "execution_count": 11,
   "metadata": {},
   "outputs": [
    {
     "data": {
      "text/plain": [
       "(20, 7)"
      ]
     },
     "execution_count": 11,
     "metadata": {},
     "output_type": "execute_result"
    }
   ],
   "source": [
    "stock = pandas.read_csv('^GSPC.csv')\n",
    "stock.shape"
   ]
  },
  {
   "cell_type": "code",
   "execution_count": 12,
   "metadata": {},
   "outputs": [
    {
     "data": {
      "text/html": [
       "<div>\n",
       "<style scoped>\n",
       "    .dataframe tbody tr th:only-of-type {\n",
       "        vertical-align: middle;\n",
       "    }\n",
       "\n",
       "    .dataframe tbody tr th {\n",
       "        vertical-align: top;\n",
       "    }\n",
       "\n",
       "    .dataframe thead th {\n",
       "        text-align: right;\n",
       "    }\n",
       "</style>\n",
       "<table border=\"1\" class=\"dataframe\">\n",
       "  <thead>\n",
       "    <tr style=\"text-align: right;\">\n",
       "      <th></th>\n",
       "      <th>Date</th>\n",
       "      <th>Open</th>\n",
       "      <th>High</th>\n",
       "      <th>Low</th>\n",
       "      <th>Close</th>\n",
       "      <th>Adj Close</th>\n",
       "      <th>Volume</th>\n",
       "    </tr>\n",
       "  </thead>\n",
       "  <tbody>\n",
       "    <tr>\n",
       "      <th>0</th>\n",
       "      <td>2019-05-20</td>\n",
       "      <td>2841.939941</td>\n",
       "      <td>2853.860107</td>\n",
       "      <td>2831.290039</td>\n",
       "      <td>2840.229980</td>\n",
       "      <td>2840.229980</td>\n",
       "      <td>3288870000</td>\n",
       "    </tr>\n",
       "    <tr>\n",
       "      <th>1</th>\n",
       "      <td>2019-05-21</td>\n",
       "      <td>2854.020020</td>\n",
       "      <td>2868.879883</td>\n",
       "      <td>2854.020020</td>\n",
       "      <td>2864.360107</td>\n",
       "      <td>2864.360107</td>\n",
       "      <td>3218700000</td>\n",
       "    </tr>\n",
       "    <tr>\n",
       "      <th>2</th>\n",
       "      <td>2019-05-22</td>\n",
       "      <td>2856.060059</td>\n",
       "      <td>2865.469971</td>\n",
       "      <td>2851.110107</td>\n",
       "      <td>2856.270020</td>\n",
       "      <td>2856.270020</td>\n",
       "      <td>3192510000</td>\n",
       "    </tr>\n",
       "    <tr>\n",
       "      <th>3</th>\n",
       "      <td>2019-05-23</td>\n",
       "      <td>2836.699951</td>\n",
       "      <td>2836.699951</td>\n",
       "      <td>2805.489990</td>\n",
       "      <td>2822.239990</td>\n",
       "      <td>2822.239990</td>\n",
       "      <td>3891980000</td>\n",
       "    </tr>\n",
       "    <tr>\n",
       "      <th>4</th>\n",
       "      <td>2019-05-24</td>\n",
       "      <td>2832.409912</td>\n",
       "      <td>2841.360107</td>\n",
       "      <td>2820.189941</td>\n",
       "      <td>2826.060059</td>\n",
       "      <td>2826.060059</td>\n",
       "      <td>2887390000</td>\n",
       "    </tr>\n",
       "    <tr>\n",
       "      <th>5</th>\n",
       "      <td>2019-05-28</td>\n",
       "      <td>2830.030029</td>\n",
       "      <td>2840.510010</td>\n",
       "      <td>2801.580078</td>\n",
       "      <td>2802.389893</td>\n",
       "      <td>2802.389893</td>\n",
       "      <td>4121410000</td>\n",
       "    </tr>\n",
       "    <tr>\n",
       "      <th>6</th>\n",
       "      <td>2019-05-29</td>\n",
       "      <td>2790.250000</td>\n",
       "      <td>2792.030029</td>\n",
       "      <td>2766.060059</td>\n",
       "      <td>2783.020020</td>\n",
       "      <td>2783.020020</td>\n",
       "      <td>3700050000</td>\n",
       "    </tr>\n",
       "    <tr>\n",
       "      <th>7</th>\n",
       "      <td>2019-05-30</td>\n",
       "      <td>2786.939941</td>\n",
       "      <td>2799.000000</td>\n",
       "      <td>2776.739990</td>\n",
       "      <td>2788.860107</td>\n",
       "      <td>2788.860107</td>\n",
       "      <td>3273790000</td>\n",
       "    </tr>\n",
       "    <tr>\n",
       "      <th>8</th>\n",
       "      <td>2019-05-31</td>\n",
       "      <td>2766.149902</td>\n",
       "      <td>2768.979980</td>\n",
       "      <td>2750.520020</td>\n",
       "      <td>2752.060059</td>\n",
       "      <td>2752.060059</td>\n",
       "      <td>3981020000</td>\n",
       "    </tr>\n",
       "    <tr>\n",
       "      <th>9</th>\n",
       "      <td>2019-06-03</td>\n",
       "      <td>2751.530029</td>\n",
       "      <td>2763.070068</td>\n",
       "      <td>2728.810059</td>\n",
       "      <td>2744.449951</td>\n",
       "      <td>2744.449951</td>\n",
       "      <td>3943810000</td>\n",
       "    </tr>\n",
       "    <tr>\n",
       "      <th>10</th>\n",
       "      <td>2019-06-04</td>\n",
       "      <td>2762.639893</td>\n",
       "      <td>2804.489990</td>\n",
       "      <td>2762.639893</td>\n",
       "      <td>2803.270020</td>\n",
       "      <td>2803.270020</td>\n",
       "      <td>3810430000</td>\n",
       "    </tr>\n",
       "    <tr>\n",
       "      <th>11</th>\n",
       "      <td>2019-06-05</td>\n",
       "      <td>2818.090088</td>\n",
       "      <td>2827.280029</td>\n",
       "      <td>2800.919922</td>\n",
       "      <td>2826.149902</td>\n",
       "      <td>2826.149902</td>\n",
       "      <td>3548830000</td>\n",
       "    </tr>\n",
       "    <tr>\n",
       "      <th>12</th>\n",
       "      <td>2019-06-06</td>\n",
       "      <td>2828.510010</td>\n",
       "      <td>2852.100098</td>\n",
       "      <td>2822.449951</td>\n",
       "      <td>2843.489990</td>\n",
       "      <td>2843.489990</td>\n",
       "      <td>3396410000</td>\n",
       "    </tr>\n",
       "    <tr>\n",
       "      <th>13</th>\n",
       "      <td>2019-06-07</td>\n",
       "      <td>2852.870117</td>\n",
       "      <td>2884.969971</td>\n",
       "      <td>2852.870117</td>\n",
       "      <td>2873.340088</td>\n",
       "      <td>2873.340088</td>\n",
       "      <td>3220250000</td>\n",
       "    </tr>\n",
       "    <tr>\n",
       "      <th>14</th>\n",
       "      <td>2019-06-10</td>\n",
       "      <td>2885.830078</td>\n",
       "      <td>2904.770020</td>\n",
       "      <td>2885.510010</td>\n",
       "      <td>2886.729980</td>\n",
       "      <td>2886.729980</td>\n",
       "      <td>3209210000</td>\n",
       "    </tr>\n",
       "    <tr>\n",
       "      <th>15</th>\n",
       "      <td>2019-06-11</td>\n",
       "      <td>2903.270020</td>\n",
       "      <td>2910.610107</td>\n",
       "      <td>2878.530029</td>\n",
       "      <td>2885.719971</td>\n",
       "      <td>2885.719971</td>\n",
       "      <td>3548420000</td>\n",
       "    </tr>\n",
       "    <tr>\n",
       "      <th>16</th>\n",
       "      <td>2019-06-12</td>\n",
       "      <td>2882.729980</td>\n",
       "      <td>2888.570068</td>\n",
       "      <td>2874.679932</td>\n",
       "      <td>2879.840088</td>\n",
       "      <td>2879.840088</td>\n",
       "      <td>3034130000</td>\n",
       "    </tr>\n",
       "    <tr>\n",
       "      <th>17</th>\n",
       "      <td>2019-06-13</td>\n",
       "      <td>2886.239990</td>\n",
       "      <td>2895.239990</td>\n",
       "      <td>2881.989990</td>\n",
       "      <td>2891.639893</td>\n",
       "      <td>2891.639893</td>\n",
       "      <td>3069810000</td>\n",
       "    </tr>\n",
       "    <tr>\n",
       "      <th>18</th>\n",
       "      <td>2019-06-14</td>\n",
       "      <td>2886.820068</td>\n",
       "      <td>2894.449951</td>\n",
       "      <td>2879.620117</td>\n",
       "      <td>2886.979980</td>\n",
       "      <td>2886.979980</td>\n",
       "      <td>2922330000</td>\n",
       "    </tr>\n",
       "    <tr>\n",
       "      <th>19</th>\n",
       "      <td>2019-06-17</td>\n",
       "      <td>2889.750000</td>\n",
       "      <td>2897.270020</td>\n",
       "      <td>2887.300049</td>\n",
       "      <td>2889.669922</td>\n",
       "      <td>2889.669922</td>\n",
       "      <td>1579314342</td>\n",
       "    </tr>\n",
       "  </tbody>\n",
       "</table>\n",
       "</div>"
      ],
      "text/plain": [
       "          Date         Open         High          Low        Close  \\\n",
       "0   2019-05-20  2841.939941  2853.860107  2831.290039  2840.229980   \n",
       "1   2019-05-21  2854.020020  2868.879883  2854.020020  2864.360107   \n",
       "2   2019-05-22  2856.060059  2865.469971  2851.110107  2856.270020   \n",
       "3   2019-05-23  2836.699951  2836.699951  2805.489990  2822.239990   \n",
       "4   2019-05-24  2832.409912  2841.360107  2820.189941  2826.060059   \n",
       "5   2019-05-28  2830.030029  2840.510010  2801.580078  2802.389893   \n",
       "6   2019-05-29  2790.250000  2792.030029  2766.060059  2783.020020   \n",
       "7   2019-05-30  2786.939941  2799.000000  2776.739990  2788.860107   \n",
       "8   2019-05-31  2766.149902  2768.979980  2750.520020  2752.060059   \n",
       "9   2019-06-03  2751.530029  2763.070068  2728.810059  2744.449951   \n",
       "10  2019-06-04  2762.639893  2804.489990  2762.639893  2803.270020   \n",
       "11  2019-06-05  2818.090088  2827.280029  2800.919922  2826.149902   \n",
       "12  2019-06-06  2828.510010  2852.100098  2822.449951  2843.489990   \n",
       "13  2019-06-07  2852.870117  2884.969971  2852.870117  2873.340088   \n",
       "14  2019-06-10  2885.830078  2904.770020  2885.510010  2886.729980   \n",
       "15  2019-06-11  2903.270020  2910.610107  2878.530029  2885.719971   \n",
       "16  2019-06-12  2882.729980  2888.570068  2874.679932  2879.840088   \n",
       "17  2019-06-13  2886.239990  2895.239990  2881.989990  2891.639893   \n",
       "18  2019-06-14  2886.820068  2894.449951  2879.620117  2886.979980   \n",
       "19  2019-06-17  2889.750000  2897.270020  2887.300049  2889.669922   \n",
       "\n",
       "      Adj Close      Volume  \n",
       "0   2840.229980  3288870000  \n",
       "1   2864.360107  3218700000  \n",
       "2   2856.270020  3192510000  \n",
       "3   2822.239990  3891980000  \n",
       "4   2826.060059  2887390000  \n",
       "5   2802.389893  4121410000  \n",
       "6   2783.020020  3700050000  \n",
       "7   2788.860107  3273790000  \n",
       "8   2752.060059  3981020000  \n",
       "9   2744.449951  3943810000  \n",
       "10  2803.270020  3810430000  \n",
       "11  2826.149902  3548830000  \n",
       "12  2843.489990  3396410000  \n",
       "13  2873.340088  3220250000  \n",
       "14  2886.729980  3209210000  \n",
       "15  2885.719971  3548420000  \n",
       "16  2879.840088  3034130000  \n",
       "17  2891.639893  3069810000  \n",
       "18  2886.979980  2922330000  \n",
       "19  2889.669922  1579314342  "
      ]
     },
     "execution_count": 12,
     "metadata": {},
     "output_type": "execute_result"
    }
   ],
   "source": [
    "stock"
   ]
  },
  {
   "cell_type": "code",
   "execution_count": 15,
   "metadata": {},
   "outputs": [
    {
     "data": {
      "text/plain": [
       "(20, 7)"
      ]
     },
     "execution_count": 15,
     "metadata": {},
     "output_type": "execute_result"
    }
   ],
   "source": [
    "arr = np.array(stock) # 배열로 전환\n",
    "arr.shape"
   ]
  },
  {
   "cell_type": "code",
   "execution_count": 21,
   "metadata": {},
   "outputs": [
    {
     "data": {
      "text/plain": [
       "(array(['2019-05-20', 2841.939941, 2853.860107, 2831.290039, 2840.22998,\n",
       "        2840.22998, 3288870000], dtype=object),\n",
       " array(['2019-05-20', 2841.939941, 2853.860107, 2831.290039, 2840.22998,\n",
       "        2840.22998, 3288870000], dtype=object))"
      ]
     },
     "execution_count": 21,
     "metadata": {},
     "output_type": "execute_result"
    }
   ],
   "source": [
    "arr[0], arr[0,:]#첫번째 행\n"
   ]
  },
  {
   "cell_type": "code",
   "execution_count": 19,
   "metadata": {},
   "outputs": [
    {
     "data": {
      "text/plain": [
       "('2019-05-20', 1579314342)"
      ]
     },
     "execution_count": 19,
     "metadata": {},
     "output_type": "execute_result"
    }
   ],
   "source": [
    "arr[0,0], arr[-1,-1] # 첫번째행의첫번째열, 마지막행의 마지막열"
   ]
  },
  {
   "cell_type": "code",
   "execution_count": 22,
   "metadata": {},
   "outputs": [
    {
     "data": {
      "text/plain": [
       "array([2841.939941, 2854.02002, 2856.060059, 2836.699951, 2832.409912,\n",
       "       2830.030029, 2790.25, 2786.939941, 2766.149902, 2751.530029,\n",
       "       2762.639893, 2818.090088, 2828.51001, 2852.8701170000004,\n",
       "       2885.830078, 2903.27002, 2882.72998, 2886.23999, 2886.820068,\n",
       "       2889.75], dtype=object)"
      ]
     },
     "execution_count": 22,
     "metadata": {},
     "output_type": "execute_result"
    }
   ],
   "source": [
    "# open만 가져오자\n",
    "o = arr[:,1]\n",
    "o"
   ]
  },
  {
   "cell_type": "code",
   "execution_count": 35,
   "metadata": {},
   "outputs": [
    {
     "data": {
      "text/plain": [
       "(2903.27002,\n",
       " 2751.530029,\n",
       " 2903.27002,\n",
       " 2751.530029,\n",
       " 2837.1390014000003,\n",
       " 2839.319946,\n",
       " 45.016996538592394)"
      ]
     },
     "execution_count": 35,
     "metadata": {},
     "output_type": "execute_result"
    }
   ],
   "source": [
    "# b(below) 이래쪽에 셀 만들기\n",
    "# open의 최대값, 최소값, 평균을 구해보자\n",
    "# 내장 함수(import 없이 바로 사용 가능한 함수)\n",
    "max(o), min(o), np.max(o), np.min(o), np.mean(o), np.median(o), np.std(o)"
   ]
  },
  {
   "cell_type": "code",
   "execution_count": 25,
   "metadata": {},
   "outputs": [
    {
     "name": "stdout",
     "output_type": "stream",
     "text": [
      "[2840.22998 2864.360107 2856.27002 2822.23999 2826.060059 2802.389893\n",
      " 2783.02002 2788.860107 2752.060059 2744.449951 2803.27002 2826.149902\n",
      " 2843.48999 2873.340088 2886.72998 2885.719971 2879.840088 2891.639893\n",
      " 2886.97998 2889.669922]\n",
      "[2840.22998 2864.360107 2856.27002 2822.23999 2826.060059 2802.389893\n",
      " 2783.02002 2788.860107 2752.060059 2744.449951 2803.27002 2826.149902\n",
      " 2843.48999 2873.340088 2886.72998 2885.719971 2879.840088 2891.639893\n",
      " 2886.97998 2889.669922]\n"
     ]
    }
   ],
   "source": [
    "# close를 가져오자\n",
    "close = arr[:,4] # 도 가능하지만\n",
    "print(close)\n",
    "close = arr[:, -3] # 이 편합니다.\n",
    "print(close)"
   ]
  },
  {
   "cell_type": "code",
   "execution_count": 38,
   "metadata": {},
   "outputs": [
    {
     "data": {
      "text/plain": [
       "array([[2841.939941, 2853.860107, 2831.290039, 2840.22998],\n",
       "       [2854.02002, 2868.8798829999996, 2854.02002, 2864.360107],\n",
       "       [2856.060059, 2865.469971, 2851.110107, 2856.27002],\n",
       "       [2836.699951, 2836.699951, 2805.48999, 2822.23999],\n",
       "       [2832.409912, 2841.360107, 2820.189941, 2826.060059],\n",
       "       [2830.030029, 2840.51001, 2801.580078, 2802.389893],\n",
       "       [2790.25, 2792.030029, 2766.060059, 2783.02002],\n",
       "       [2786.939941, 2799.0, 2776.73999, 2788.860107],\n",
       "       [2766.149902, 2768.97998, 2750.52002, 2752.060059],\n",
       "       [2751.530029, 2763.070068, 2728.810059, 2744.449951],\n",
       "       [2762.639893, 2804.48999, 2762.639893, 2803.27002],\n",
       "       [2818.090088, 2827.280029, 2800.919922, 2826.149902],\n",
       "       [2828.51001, 2852.100098, 2822.449951, 2843.48999],\n",
       "       [2852.8701170000004, 2884.969971, 2852.8701170000004, 2873.340088],\n",
       "       [2885.830078, 2904.77002, 2885.51001, 2886.72998],\n",
       "       [2903.27002, 2910.610107, 2878.530029, 2885.719971],\n",
       "       [2882.72998, 2888.570068, 2874.679932, 2879.840088],\n",
       "       [2886.23999, 2895.23999, 2881.98999, 2891.639893],\n",
       "       [2886.820068, 2894.449951, 2879.6201170000004, 2886.97998],\n",
       "       [2889.75, 2897.27002, 2887.300049, 2889.669922]], dtype=object)"
      ]
     },
     "execution_count": 38,
     "metadata": {},
     "output_type": "execute_result"
    }
   ],
   "source": [
    "# open high low close 4개의 컬럼만 뽑자\n",
    "# 시작:끝\n",
    "otoc = arr[:,1:-2] # 1:5\n",
    "otoc"
   ]
  },
  {
   "cell_type": "code",
   "execution_count": 39,
   "metadata": {},
   "outputs": [
    {
     "data": {
      "text/plain": [
       "(20, 4)"
      ]
     },
     "execution_count": 39,
     "metadata": {},
     "output_type": "execute_result"
    }
   ],
   "source": [
    "otoc.shape"
   ]
  },
  {
   "cell_type": "raw",
   "metadata": {},
   "source": [
    "축 : axis\n",
    "2차원 데이터는 2개의 축이 있습니다. 0:행축, 1:열축"
   ]
  },
  {
   "cell_type": "code",
   "execution_count": 42,
   "metadata": {},
   "outputs": [
    {
     "data": {
      "text/plain": [
       "(array([2903.27002, 2910.610107, 2887.300049, 2891.639893], dtype=object),\n",
       " array([2853.860107, 2868.8798829999996, 2865.469971, 2836.699951,\n",
       "        2841.360107, 2840.51001, 2792.030029, 2799.0, 2768.97998,\n",
       "        2763.070068, 2804.48999, 2827.280029, 2852.100098, 2884.969971,\n",
       "        2904.77002, 2910.610107, 2888.570068, 2895.23999, 2894.449951,\n",
       "        2897.27002], dtype=object))"
      ]
     },
     "execution_count": 42,
     "metadata": {},
     "output_type": "execute_result"
    }
   ],
   "source": [
    "np.max(otoc, axis=0), np.max(otoc, axis=1)"
   ]
  },
  {
   "cell_type": "code",
   "execution_count": 43,
   "metadata": {},
   "outputs": [
    {
     "data": {
      "text/plain": [
       "array([2903.27002, 2910.610107, 2887.300049, 2891.639893], dtype=object)"
      ]
     },
     "execution_count": 43,
     "metadata": {},
     "output_type": "execute_result"
    }
   ],
   "source": [
    "np.max(arr[:,1:5],axis=0)"
   ]
  },
  {
   "cell_type": "code",
   "execution_count": 46,
   "metadata": {},
   "outputs": [
    {
     "data": {
      "text/plain": [
       "(array([2841.939941, 2854.02002, 2856.060059, 2836.699951, 2832.409912,\n",
       "        2830.030029, 2790.25, 2786.939941, 2766.149902, 2751.530029,\n",
       "        2762.639893, 2818.090088, 2828.51001, 2852.8701170000004,\n",
       "        2885.830078, 2903.27002, 2882.72998, 2886.23999, 2886.820068,\n",
       "        2889.75], dtype=object), 2903.27002, 15)"
      ]
     },
     "execution_count": 46,
     "metadata": {},
     "output_type": "execute_result"
    }
   ],
   "source": [
    "# argmax, argmin 맥스값의 위치\n",
    "o, np.max(o), np.argmax(o)"
   ]
  },
  {
   "cell_type": "code",
   "execution_count": 47,
   "metadata": {},
   "outputs": [
    {
     "data": {
      "text/plain": [
       "(array([2903.27002, 2910.610107, 2887.300049, 2891.639893], dtype=object),\n",
       " array([15, 15, 19, 17], dtype=int64))"
      ]
     },
     "execution_count": 47,
     "metadata": {},
     "output_type": "execute_result"
    }
   ],
   "source": [
    "np.max(otoc, axis=0), np.argmax(otoc,axis=0)"
   ]
  },
  {
   "cell_type": "raw",
   "metadata": {},
   "source": [
    "주가가 가장 많이 상승한 날짜를 찾아보세요 ( 정답 : X 번째 행입니다.)\n",
    "종가-시작 이 가장 큰 날짜입니다."
   ]
  },
  {
   "cell_type": "code",
   "execution_count": 61,
   "metadata": {},
   "outputs": [
    {
     "data": {
      "text/plain": [
       "(array([-1.7099610000000212, 10.34008700000004, 0.20996100000002116,\n",
       "        -14.459961000000021, -6.3498530000001665, -27.640135999999984,\n",
       "        -7.229980000000069, 1.920165999999881, -14.0898430000002,\n",
       "        -7.080077999999958, 40.6301269999999, 8.059814000000188,\n",
       "        14.979980000000069, 20.469970999999532, 0.899902000000111,\n",
       "        -17.550048999999944, -2.8898920000001453, 5.399902999999995,\n",
       "        0.15991200000007666, -0.08007799999995768], dtype=object),\n",
       " 40.6301269999999,\n",
       " 10)"
      ]
     },
     "execution_count": 61,
     "metadata": {},
     "output_type": "execute_result"
    }
   ],
   "source": [
    "arr[:,5]-arr[:,1], np.max(arr[:,5]-arr[:,1]), np.argmax(arr[:,5]-arr[:,1])"
   ]
  },
  {
   "cell_type": "code",
   "execution_count": null,
   "metadata": {},
   "outputs": [],
   "source": []
  },
  {
   "cell_type": "code",
   "execution_count": 65,
   "metadata": {},
   "outputs": [
    {
     "name": "stdout",
     "output_type": "stream",
     "text": [
      "2019-06-04  이 가장 큰 날입니다.\n"
     ]
    }
   ],
   "source": [
    "print(arr[np.argmax(arr[:,5]-arr[:,1]),0], \" 이 가장 큰 날입니다.\")"
   ]
  },
  {
   "cell_type": "markdown",
   "metadata": {},
   "source": [
    "##### 데이터분석\n",
    "- 가격 상승하는 날 거래량이 많아질까?\n",
    "- 전날 가격이 상승하면 다음날 시장가격은 더 높은 가격에서 시작할까?\n",
    "- 가격 변동이 크면 거래량도 많아질까?"
   ]
  },
  {
   "cell_type": "markdown",
   "metadata": {},
   "source": [
    "###### 다음 단계 : 예측\n",
    "- 어제/오늘  현황 분석이 끝났는데 내일은 Open/Close 어떻게 될까\n",
    "- 방법 : 1. 통계적(R) 2. 머신러닝"
   ]
  },
  {
   "cell_type": "markdown",
   "metadata": {},
   "source": [
    "가격이 상승한 횟수, 가격이 하락한 횟수"
   ]
  },
  {
   "cell_type": "code",
   "execution_count": 76,
   "metadata": {},
   "outputs": [
    {
     "data": {
      "text/plain": [
       "(array([-1.7099610000000212, 10.34008700000004, 0.20996100000002116,\n",
       "        -14.459961000000021, -6.3498530000001665, -27.640135999999984,\n",
       "        -7.229980000000069, 1.920165999999881, -14.0898430000002,\n",
       "        -7.080077999999958, 40.6301269999999, 8.059814000000188,\n",
       "        14.979980000000069, 20.469970999999532, 0.899902000000111,\n",
       "        -17.550048999999944, -2.8898920000001453, 5.399902999999995,\n",
       "        0.15991200000007666, -0.08007799999995768], dtype=object),\n",
       " array([3288870000, 3218700000, 3192510000, 3891980000, 2887390000,\n",
       "        4121410000, 3700050000, 3273790000, 3981020000, 3943810000,\n",
       "        3810430000, 3548830000, 3396410000, 3220250000, 3209210000,\n",
       "        3548420000, 3034130000, 3069810000, 2922330000, 1579314342],\n",
       "       dtype=object))"
      ]
     },
     "execution_count": 76,
     "metadata": {},
     "output_type": "execute_result"
    }
   ],
   "source": [
    "gap = arr[:,5]-arr[:,1]\n",
    "vol=arr[:,-1]\n",
    "gap, vol\n"
   ]
  },
  {
   "cell_type": "code",
   "execution_count": 69,
   "metadata": {},
   "outputs": [
    {
     "data": {
      "text/plain": [
       "([10.34008700000004,\n",
       "  0.20996100000002116,\n",
       "  1.920165999999881,\n",
       "  40.6301269999999,\n",
       "  8.059814000000188,\n",
       "  14.979980000000069,\n",
       "  20.469970999999532,\n",
       "  0.899902000000111,\n",
       "  5.399902999999995,\n",
       "  0.15991200000007666],\n",
       " [-1.7099610000000212,\n",
       "  -14.459961000000021,\n",
       "  -6.3498530000001665,\n",
       "  -27.640135999999984,\n",
       "  -7.229980000000069,\n",
       "  -14.0898430000002,\n",
       "  -7.080077999999958,\n",
       "  -17.550048999999944,\n",
       "  -2.8898920000001453,\n",
       "  -0.08007799999995768])"
      ]
     },
     "execution_count": 69,
     "metadata": {},
     "output_type": "execute_result"
    }
   ],
   "source": [
    "# 가격 상승하는 날 거래량이 많아질까?\n",
    "# 상승한 날의 거래량/ 하락한 날의 거래량\n",
    "gapu=[]\n",
    "gapd=[]\n",
    "for i in gap:\n",
    "    if i>0:\n",
    "        gapu.append(i)\n",
    "    else: \n",
    "        gapd.append(i)\n",
    "gapu, gapd\n"
   ]
  },
  {
   "cell_type": "code",
   "execution_count": 71,
   "metadata": {},
   "outputs": [
    {
     "data": {
      "text/plain": [
       "array([False,  True, False,  True])"
      ]
     },
     "execution_count": 71,
     "metadata": {},
     "output_type": "execute_result"
    }
   ],
   "source": [
    "# 조건부 검색\n",
    "a=np.array([1,2,3,4])\n",
    "even = a%2==0 # 짝수값만 뽑고 싶다\n",
    "even # 불린 마스크"
   ]
  },
  {
   "cell_type": "code",
   "execution_count": 72,
   "metadata": {},
   "outputs": [
    {
     "data": {
      "text/plain": [
       "array([2, 4])"
      ]
     },
     "execution_count": 72,
     "metadata": {},
     "output_type": "execute_result"
    }
   ],
   "source": [
    "a[even] # true 인것만 출력"
   ]
  },
  {
   "cell_type": "code",
   "execution_count": 79,
   "metadata": {},
   "outputs": [
    {
     "name": "stdout",
     "output_type": "stream",
     "text": [
      "3286227000.0 3397639434.2\n"
     ]
    }
   ],
   "source": [
    "# 상승한 날의 거래량의 평균\n",
    "print(np.mean(vol[gap>0]), np.mean(vol[gap<0]))"
   ]
  },
  {
   "cell_type": "code",
   "execution_count": 78,
   "metadata": {},
   "outputs": [
    {
     "data": {
      "text/plain": [
       "False"
      ]
     },
     "execution_count": 78,
     "metadata": {},
     "output_type": "execute_result"
    }
   ],
   "source": [
    "# 상승한 날이 거래량이 더 많냐?\n",
    "np.mean(vol[gap>0]) > np.mean(vol[gap<0])"
   ]
  },
  {
   "cell_type": "code",
   "execution_count": 82,
   "metadata": {},
   "outputs": [],
   "source": [
    "a = np.array([1,2,3])"
   ]
  },
  {
   "cell_type": "code",
   "execution_count": 83,
   "metadata": {},
   "outputs": [
    {
     "data": {
      "text/plain": [
       "(array([1, 2, 3]), dtype('int32'), (3,))"
      ]
     },
     "execution_count": 83,
     "metadata": {},
     "output_type": "execute_result"
    }
   ],
   "source": [
    "a, a.dtype, a.shape"
   ]
  },
  {
   "cell_type": "code",
   "execution_count": 84,
   "metadata": {},
   "outputs": [
    {
     "data": {
      "text/plain": [
       "array([0., 0., 0.])"
      ]
     },
     "execution_count": 84,
     "metadata": {},
     "output_type": "execute_result"
    }
   ],
   "source": [
    "np.zeros((3))\n"
   ]
  },
  {
   "cell_type": "code",
   "execution_count": 86,
   "metadata": {},
   "outputs": [
    {
     "data": {
      "text/plain": [
       "array([[[0, 0, 0, 0],\n",
       "        [0, 0, 0, 0],\n",
       "        [0, 0, 0, 0]],\n",
       "\n",
       "       [[0, 0, 0, 0],\n",
       "        [0, 0, 0, 0],\n",
       "        [0, 0, 0, 0]]])"
      ]
     },
     "execution_count": 86,
     "metadata": {},
     "output_type": "execute_result"
    }
   ],
   "source": [
    "np.zeros(shape=(2,3,4), dtype=np.int)"
   ]
  },
  {
   "cell_type": "code",
   "execution_count": 90,
   "metadata": {},
   "outputs": [
    {
     "data": {
      "text/plain": [
       "array([[[1],\n",
       "        [1],\n",
       "        [1],\n",
       "        [1]],\n",
       "\n",
       "       [[1],\n",
       "        [1],\n",
       "        [1],\n",
       "        [1]],\n",
       "\n",
       "       [[1],\n",
       "        [1],\n",
       "        [1],\n",
       "        [1]]])"
      ]
     },
     "execution_count": 90,
     "metadata": {},
     "output_type": "execute_result"
    }
   ],
   "source": [
    "np.ones(shape=(3,4,1), dtype=np.int32)"
   ]
  },
  {
   "cell_type": "code",
   "execution_count": 100,
   "metadata": {},
   "outputs": [
    {
     "data": {
      "text/plain": [
       "array([[[3.14],\n",
       "        [3.14],\n",
       "        [3.14],\n",
       "        [3.14]],\n",
       "\n",
       "       [[3.14],\n",
       "        [3.14],\n",
       "        [3.14],\n",
       "        [3.14]],\n",
       "\n",
       "       [[3.14],\n",
       "        [3.14],\n",
       "        [3.14],\n",
       "        [3.14]]])"
      ]
     },
     "execution_count": 100,
     "metadata": {},
     "output_type": "execute_result"
    }
   ],
   "source": [
    "np.full((3,4,1),3.14)"
   ]
  },
  {
   "cell_type": "code",
   "execution_count": 103,
   "metadata": {},
   "outputs": [
    {
     "data": {
      "text/plain": [
       "array([0, 3, 6, 9])"
      ]
     },
     "execution_count": 103,
     "metadata": {},
     "output_type": "execute_result"
    }
   ],
   "source": [
    "#사용 빈도 순위 zeros, ones, arange\n",
    "np.arange(0,10,3)"
   ]
  },
  {
   "cell_type": "code",
   "execution_count": 105,
   "metadata": {},
   "outputs": [
    {
     "data": {
      "text/plain": [
       "array([ 1.  ,  3.25,  5.5 ,  7.75, 10.  ])"
      ]
     },
     "execution_count": 105,
     "metadata": {},
     "output_type": "execute_result"
    }
   ],
   "source": [
    "np.linspace(1,10, 5) # 시작값, 끝값, x등분"
   ]
  },
  {
   "cell_type": "code",
   "execution_count": 106,
   "metadata": {},
   "outputs": [
    {
     "data": {
      "text/plain": [
       "array([  0.        ,  33.33333333,  66.66666667, 100.        ])"
      ]
     },
     "execution_count": 106,
     "metadata": {},
     "output_type": "execute_result"
    }
   ],
   "source": [
    "# width 100M, 건물 3채\n",
    "np.linspace(0,100,3+1)"
   ]
  },
  {
   "cell_type": "code",
   "execution_count": 107,
   "metadata": {},
   "outputs": [
    {
     "data": {
      "text/plain": [
       "array([150. , 162.5, 175. , 187.5, 200. ])"
      ]
     },
     "execution_count": 107,
     "metadata": {},
     "output_type": "execute_result"
    }
   ],
   "source": [
    "np.linspace(150, 200, 5)"
   ]
  },
  {
   "cell_type": "code",
   "execution_count": 108,
   "metadata": {},
   "outputs": [
    {
     "data": {
      "text/plain": [
       "8"
      ]
     },
     "execution_count": 108,
     "metadata": {},
     "output_type": "execute_result"
    }
   ],
   "source": [
    "import random\n",
    "random.randint(1,10)"
   ]
  },
  {
   "cell_type": "code",
   "execution_count": 113,
   "metadata": {},
   "outputs": [
    {
     "data": {
      "text/plain": [
       "array([[0.92705849, 0.51628388, 0.68616476],\n",
       "       [0.11281156, 0.66710379, 0.40629298]])"
      ]
     },
     "execution_count": 113,
     "metadata": {},
     "output_type": "execute_result"
    }
   ],
   "source": [
    "np.random.rand(2,3) # 0,1"
   ]
  },
  {
   "cell_type": "code",
   "execution_count": 115,
   "metadata": {},
   "outputs": [
    {
     "data": {
      "text/plain": [
       "array([[-0.02684039,  0.86336266,  0.33977941],\n",
       "       [ 0.15921504, -0.12346244,  0.13470536]])"
      ]
     },
     "execution_count": 115,
     "metadata": {},
     "output_type": "execute_result"
    }
   ],
   "source": [
    "np.random.normal(size=(2,3))"
   ]
  },
  {
   "cell_type": "code",
   "execution_count": 116,
   "metadata": {},
   "outputs": [
    {
     "data": {
      "text/plain": [
       "array([[8, 1, 4],\n",
       "       [6, 8, 5]])"
      ]
     },
     "execution_count": 116,
     "metadata": {},
     "output_type": "execute_result"
    }
   ],
   "source": [
    "np.random.randint(low=1, high=10, size=(2,3))"
   ]
  },
  {
   "cell_type": "code",
   "execution_count": 117,
   "metadata": {},
   "outputs": [
    {
     "data": {
      "text/plain": [
       "array([[0.54079802, 0.40078633, 0.71740238],\n",
       "       [0.95592928, 0.27933842, 0.18857206]])"
      ]
     },
     "execution_count": 117,
     "metadata": {},
     "output_type": "execute_result"
    }
   ],
   "source": [
    "np.random.uniform(size=(2,3)) # 전체값에서 균등하게 뽑힙니다. 제어가능"
   ]
  },
  {
   "cell_type": "code",
   "execution_count": 118,
   "metadata": {},
   "outputs": [
    {
     "data": {
      "text/plain": [
       "array([[2., 2.],\n",
       "       [2., 2.],\n",
       "       [2., 2.]])"
      ]
     },
     "execution_count": 118,
     "metadata": {},
     "output_type": "execute_result"
    }
   ],
   "source": [
    "a = np.ones(shape=(3,2))\n",
    "b = np.ones(shape=(3,2))\n",
    "a + b"
   ]
  },
  {
   "cell_type": "code",
   "execution_count": 120,
   "metadata": {},
   "outputs": [
    {
     "data": {
      "text/plain": [
       "array([[2., 2.],\n",
       "       [2., 2.],\n",
       "       [2., 2.]])"
      ]
     },
     "execution_count": 120,
     "metadata": {},
     "output_type": "execute_result"
    }
   ],
   "source": [
    "a = np.ones(shape=(3,2))\n",
    "b = np.ones(shape=(3,1)) # broadcasting 숫자가 1일때\n",
    "a + b"
   ]
  },
  {
   "cell_type": "code",
   "execution_count": 122,
   "metadata": {},
   "outputs": [
    {
     "data": {
      "text/plain": [
       "array([[2., 2.],\n",
       "       [2., 2.],\n",
       "       [2., 2.]])"
      ]
     },
     "execution_count": 122,
     "metadata": {},
     "output_type": "execute_result"
    }
   ],
   "source": [
    "a = np.ones(shape=(3,2), dtype=np.int)\n",
    "b = np.ones(shape=(3,2), dtype=np.float)\n",
    "a + b"
   ]
  },
  {
   "cell_type": "code",
   "execution_count": 123,
   "metadata": {},
   "outputs": [
    {
     "data": {
      "text/plain": [
       "array([0, 1, 2, 3, 4, 5])"
      ]
     },
     "execution_count": 123,
     "metadata": {},
     "output_type": "execute_result"
    }
   ],
   "source": [
    "#행우선으로 저장됩니다.\n",
    "a = np.arange(6)\n",
    "a"
   ]
  },
  {
   "cell_type": "code",
   "execution_count": 138,
   "metadata": {},
   "outputs": [
    {
     "data": {
      "text/plain": [
       "array([[0, 1, 2],\n",
       "       [3, 4, 5]])"
      ]
     },
     "execution_count": 138,
     "metadata": {},
     "output_type": "execute_result"
    }
   ],
   "source": [
    "b = a.reshape(2,3)\n",
    "\n",
    "'''\n",
    "# Fortran, R 은 열단위 우선 \n",
    "array([[0, 3],\n",
    "       [1, 4], \n",
    "       [2, 5]])\n",
    "'''\n",
    "b\n",
    "\n"
   ]
  },
  {
   "cell_type": "code",
   "execution_count": 133,
   "metadata": {},
   "outputs": [
    {
     "data": {
      "text/plain": [
       "(2, (2, 3), 6, dtype('int32'), 24)"
      ]
     },
     "execution_count": 133,
     "metadata": {},
     "output_type": "execute_result"
    }
   ],
   "source": [
    "# 차원 갯수, 모양, 총 요소 갯수, 데이터 타입, 메모리 사용량\n",
    "b.ndim, b.shape, b.size, b.dtype, b.nbytes"
   ]
  },
  {
   "cell_type": "code",
   "execution_count": 134,
   "metadata": {},
   "outputs": [
    {
     "data": {
      "text/plain": [
       "array([0, 1, 2, 3, 4, 5])"
      ]
     },
     "execution_count": 134,
     "metadata": {},
     "output_type": "execute_result"
    }
   ],
   "source": [
    "b.flatten() # 1차원으로 변환 flatten:평명화"
   ]
  },
  {
   "cell_type": "code",
   "execution_count": 140,
   "metadata": {},
   "outputs": [
    {
     "data": {
      "text/plain": [
       "array([[0, 1, 2],\n",
       "       [3, 4, 5],\n",
       "       [6, 7, 8]])"
      ]
     },
     "execution_count": 140,
     "metadata": {},
     "output_type": "execute_result"
    }
   ],
   "source": [
    "# slicing : 데이터 자르기\n",
    "a = np.arange(9).reshape((3,3))\n",
    "a"
   ]
  },
  {
   "cell_type": "markdown",
   "metadata": {},
   "source": [
    "- [1,4,7]\n",
    "- [6,7,8]\n",
    "- [1,2,4,5,7,8]\n",
    "- [4,5,7,8]"
   ]
  },
  {
   "cell_type": "code",
   "execution_count": 146,
   "metadata": {},
   "outputs": [
    {
     "data": {
      "text/plain": [
       "array([1, 4, 7])"
      ]
     },
     "execution_count": 146,
     "metadata": {},
     "output_type": "execute_result"
    }
   ],
   "source": [
    "a[:,1]"
   ]
  },
  {
   "cell_type": "code",
   "execution_count": 147,
   "metadata": {},
   "outputs": [
    {
     "data": {
      "text/plain": [
       "array([6, 7, 8])"
      ]
     },
     "execution_count": 147,
     "metadata": {},
     "output_type": "execute_result"
    }
   ],
   "source": [
    "a[2]"
   ]
  },
  {
   "cell_type": "code",
   "execution_count": 158,
   "metadata": {},
   "outputs": [
    {
     "data": {
      "text/plain": [
       "array([1, 2, 4, 5, 7, 8])"
      ]
     },
     "execution_count": 158,
     "metadata": {},
     "output_type": "execute_result"
    }
   ],
   "source": [
    "a[:,1:3].flatten()"
   ]
  },
  {
   "cell_type": "code",
   "execution_count": 159,
   "metadata": {},
   "outputs": [
    {
     "data": {
      "text/plain": [
       "array([4, 5, 7, 8])"
      ]
     },
     "execution_count": 159,
     "metadata": {},
     "output_type": "execute_result"
    }
   ],
   "source": [
    "a[1:3,1:3].flatten()"
   ]
  },
  {
   "cell_type": "code",
   "execution_count": 161,
   "metadata": {},
   "outputs": [
    {
     "data": {
      "text/plain": [
       "(array([1, 4, 7]), array([6, 7, 8]), array([[1, 2],\n",
       "        [4, 5],\n",
       "        [7, 8]]), array([[4, 5],\n",
       "        [7, 8]]))"
      ]
     },
     "execution_count": 161,
     "metadata": {},
     "output_type": "execute_result"
    }
   ],
   "source": [
    "a[:,1], a[-1], a[:,1:], a[1:,1:]"
   ]
  },
  {
   "cell_type": "code",
   "execution_count": 166,
   "metadata": {},
   "outputs": [
    {
     "data": {
      "text/plain": [
       "array([[ 0,  1,  2,  3],\n",
       "       [ 4,  5,  6,  7],\n",
       "       [ 8,  9, 10, 11]])"
      ]
     },
     "execution_count": 166,
     "metadata": {},
     "output_type": "execute_result"
    }
   ],
   "source": [
    "b=np.arange(12).reshape((3,4))\n",
    "b"
   ]
  },
  {
   "cell_type": "markdown",
   "metadata": {},
   "source": [
    "b에서 아래 요소/원소(element)를 잘라(slice)주세요\n",
    "- [5,6,9,10]\n",
    "- [9,10,11]"
   ]
  },
  {
   "cell_type": "code",
   "execution_count": 173,
   "metadata": {},
   "outputs": [
    {
     "data": {
      "text/plain": [
       "array([[ 5,  6],\n",
       "       [ 9, 10]])"
      ]
     },
     "execution_count": 173,
     "metadata": {},
     "output_type": "execute_result"
    }
   ],
   "source": [
    "b[1:,1:-1]"
   ]
  },
  {
   "cell_type": "code",
   "execution_count": 171,
   "metadata": {},
   "outputs": [
    {
     "data": {
      "text/plain": [
       "array([ 9, 10, 11])"
      ]
     },
     "execution_count": 171,
     "metadata": {},
     "output_type": "execute_result"
    }
   ],
   "source": [
    "b[-1,1:]"
   ]
  },
  {
   "cell_type": "code",
   "execution_count": 203,
   "metadata": {},
   "outputs": [
    {
     "data": {
      "text/plain": [
       "array([[[ 0,  1,  2,  3],\n",
       "        [ 4,  5,  6,  7],\n",
       "        [ 8,  9, 10, 11]],\n",
       "\n",
       "       [[12, 13, 14, 15],\n",
       "        [16, 17, 18, 19],\n",
       "        [20, 21, 22, 23]]])"
      ]
     },
     "execution_count": 203,
     "metadata": {},
     "output_type": "execute_result"
    }
   ],
   "source": [
    "#3차원\n",
    "c=np.arange(2*3*4).reshape((2,3,4))\n",
    "c"
   ]
  },
  {
   "cell_type": "code",
   "execution_count": 204,
   "metadata": {},
   "outputs": [
    {
     "data": {
      "text/plain": [
       "(array([0, 1, 2, 3]),\n",
       " array([12, 13, 14, 15]),\n",
       " array([1, 5, 9]),\n",
       " array([15, 19, 23]))"
      ]
     },
     "execution_count": 204,
     "metadata": {},
     "output_type": "execute_result"
    }
   ],
   "source": [
    "c[0,0], c[1,0], c[0,:,1], c[1,:,-1]"
   ]
  },
  {
   "cell_type": "code",
   "execution_count": 205,
   "metadata": {},
   "outputs": [
    {
     "data": {
      "text/plain": [
       "(array([ 6, 10]), array([17, 18, 19]), array([[13, 14],\n",
       "        [17, 18]]))"
      ]
     },
     "execution_count": 205,
     "metadata": {},
     "output_type": "execute_result"
    }
   ],
   "source": [
    "#[6,10], [17,18,19],[13,14,17,18]\n",
    "c[0,1:,2], c[1,1,1:], c[1,:2,1:-1]"
   ]
  },
  {
   "cell_type": "code",
   "execution_count": 214,
   "metadata": {},
   "outputs": [
    {
     "data": {
      "text/plain": [
       "array([[ 0,  1,  2,  3],\n",
       "       [ 4,  5,  6,  7],\n",
       "       [ 8,  9, 10, 11],\n",
       "       [12, 13, 14, 15],\n",
       "       [16, 17, 18, 19],\n",
       "       [20, 21, 22, 23]])"
      ]
     },
     "execution_count": 214,
     "metadata": {},
     "output_type": "execute_result"
    }
   ],
   "source": [
    "\n",
    "c.reshape((6,4))\n"
   ]
  },
  {
   "cell_type": "code",
   "execution_count": 221,
   "metadata": {},
   "outputs": [
    {
     "data": {
      "text/plain": [
       "array([[ 0,  1,  2,  3],\n",
       "       [ 4,  5,  6,  7],\n",
       "       [ 8,  9, 10, 11],\n",
       "       [12, 13, 14, 15],\n",
       "       [16, 17, 18, 19],\n",
       "       [20, 21, 22, 23]])"
      ]
     },
     "execution_count": 221,
     "metadata": {},
     "output_type": "execute_result"
    }
   ],
   "source": [
    "np.reshape(c,(6,4)) # 편한대로 사용"
   ]
  },
  {
   "cell_type": "code",
   "execution_count": 222,
   "metadata": {},
   "outputs": [
    {
     "data": {
      "text/plain": [
       "array([[ 0,  1,  2,  3],\n",
       "       [ 4,  5,  6,  7],\n",
       "       [ 8,  9, 10, 11],\n",
       "       [12, 13, 14, 15],\n",
       "       [16, 17, 18, 19],\n",
       "       [20, 21, 22, 23]])"
      ]
     },
     "execution_count": 222,
     "metadata": {},
     "output_type": "execute_result"
    }
   ],
   "source": [
    "c.reshape(-1,4) # 알아서 맞춤 -1(unknown dimension) 1번만 사용"
   ]
  },
  {
   "cell_type": "code",
   "execution_count": 223,
   "metadata": {},
   "outputs": [
    {
     "data": {
      "text/plain": [
       "(array([[0, 1, 2],\n",
       "        [3, 4, 5]]), array([[ 6,  7,  8],\n",
       "        [ 9, 10, 11]]))"
      ]
     },
     "execution_count": 223,
     "metadata": {},
     "output_type": "execute_result"
    }
   ],
   "source": [
    "a = np.arange(6).reshape(2,3)\n",
    "b = np.arange(6,12).reshape(2,3)\n",
    "a, b"
   ]
  },
  {
   "cell_type": "code",
   "execution_count": 232,
   "metadata": {},
   "outputs": [
    {
     "data": {
      "text/plain": [
       "(array([[ 0,  1,  2],\n",
       "        [ 3,  4,  5],\n",
       "        [ 6,  7,  8],\n",
       "        [ 9, 10, 11],\n",
       "        [ 0,  1,  2],\n",
       "        [ 3,  4,  5],\n",
       "        [ 6,  7,  8],\n",
       "        [ 9, 10, 11]]), (8, 3), (2, 3))"
      ]
     },
     "execution_count": 232,
     "metadata": {},
     "output_type": "execute_result"
    }
   ],
   "source": [
    "# 두 배열을 붙입니다. concatenate == concat\n",
    "np.concatenate((a,b,a,b),axis=0), np.concatenate((a,b,a,b),axis=0).shape, a.shape\n",
    "# axis=0 -> shape는 앞쪽이 늘어남, 뒷쪽은 고정, 행이 늘어남 "
   ]
  },
  {
   "cell_type": "code",
   "execution_count": 230,
   "metadata": {},
   "outputs": [
    {
     "data": {
      "text/plain": [
       "(array([[ 0,  1,  2,  6,  7,  8,  0,  1,  2,  6,  7,  8],\n",
       "        [ 3,  4,  5,  9, 10, 11,  3,  4,  5,  9, 10, 11]]), (2, 12))"
      ]
     },
     "execution_count": 230,
     "metadata": {},
     "output_type": "execute_result"
    }
   ],
   "source": [
    "np.concatenate((a,b,a,b),axis=1), np.concatenate((a,b,a,b),axis=1).shape"
   ]
  },
  {
   "cell_type": "markdown",
   "metadata": {},
   "source": [
    "data0 = data1.csv\n",
    "data1 = data2.csv\n",
    "np.concatenate(data0, data1, axis=0)"
   ]
  },
  {
   "cell_type": "code",
   "execution_count": 234,
   "metadata": {},
   "outputs": [
    {
     "data": {
      "text/plain": [
       "((2, 3), (2, 3))"
      ]
     },
     "execution_count": 234,
     "metadata": {},
     "output_type": "execute_result"
    }
   ],
   "source": [
    "# stack 쌓다\n",
    "a.shape, b.shape"
   ]
  },
  {
   "cell_type": "code",
   "execution_count": 240,
   "metadata": {},
   "outputs": [
    {
     "data": {
      "text/plain": [
       "(array([[[ 0,  1,  2],\n",
       "         [ 3,  4,  5]],\n",
       " \n",
       "        [[ 6,  7,  8],\n",
       "         [ 9, 10, 11]],\n",
       " \n",
       "        [[ 0,  1,  2],\n",
       "         [ 3,  4,  5]]]), (3, 2, 3))"
      ]
     },
     "execution_count": 240,
     "metadata": {},
     "output_type": "execute_result"
    }
   ],
   "source": [
    "np.stack((a,b,a),axis=0), np.stack((a,b,a),axis=0).shape\n",
    "# concat이랑 다르게 차원이 늘어난다. axis로 지정한 곳의 차원(ex. 0)이 늘어남"
   ]
  },
  {
   "cell_type": "code",
   "execution_count": 244,
   "metadata": {},
   "outputs": [
    {
     "data": {
      "text/plain": [
       "(array([[[ 0,  1,  2],\n",
       "         [ 6,  7,  8]],\n",
       " \n",
       "        [[ 3,  4,  5],\n",
       "         [ 9, 10, 11]]]), (2, 2, 3))"
      ]
     },
     "execution_count": 244,
     "metadata": {},
     "output_type": "execute_result"
    }
   ],
   "source": [
    "np.stack((a,b),axis=1), np.stack((a,b),axis=1).shape"
   ]
  },
  {
   "cell_type": "code",
   "execution_count": 245,
   "metadata": {},
   "outputs": [
    {
     "data": {
      "text/plain": [
       "(array([[[ 0,  6],\n",
       "         [ 1,  7],\n",
       "         [ 2,  8]],\n",
       " \n",
       "        [[ 3,  9],\n",
       "         [ 4, 10],\n",
       "         [ 5, 11]]]), (2, 3, 2))"
      ]
     },
     "execution_count": 245,
     "metadata": {},
     "output_type": "execute_result"
    }
   ],
   "source": [
    "np.stack((a,b),axis=2), np.stack((a,b),axis=2).shape"
   ]
  },
  {
   "cell_type": "code",
   "execution_count": 247,
   "metadata": {},
   "outputs": [
    {
     "data": {
      "text/plain": [
       "array([[80, 70],\n",
       "       [90, 50],\n",
       "       [99, 60]])"
      ]
     },
     "execution_count": 247,
     "metadata": {},
     "output_type": "execute_result"
    }
   ],
   "source": [
    "#stack 활용 예\n",
    "#[첫번째 학생, 두번째학생, 세번째 학생]\n",
    "kor=[80,90,99]\n",
    "eng=[70,50,60]\n",
    "score = np.stack((kor,eng), axis=1)\n",
    "score\n",
    "# 학생별 성적"
   ]
  },
  {
   "cell_type": "code",
   "execution_count": 256,
   "metadata": {},
   "outputs": [
    {
     "data": {
      "text/plain": [
       "array([[20],\n",
       "       [30],\n",
       "       [40]])"
      ]
     },
     "execution_count": 256,
     "metadata": {},
     "output_type": "execute_result"
    }
   ],
   "source": [
    "math=np.array([20,30,40]).reshape((3,1))\n",
    "math\n"
   ]
  },
  {
   "cell_type": "code",
   "execution_count": 263,
   "metadata": {},
   "outputs": [
    {
     "data": {
      "text/plain": [
       "array([[80, 70, 20],\n",
       "       [90, 50, 30],\n",
       "       [99, 60, 40]])"
      ]
     },
     "execution_count": 263,
     "metadata": {},
     "output_type": "execute_result"
    }
   ],
   "source": [
    "score2 = np.concatenate((score,math),axis=1) # axis=-1 -> -1은 마지막 차원을 가리킵니다.\n",
    "score2"
   ]
  },
  {
   "cell_type": "code",
   "execution_count": 265,
   "metadata": {},
   "outputs": [],
   "source": [
    "# 4번째 학생의 국영수 점수가 추가됐습니다.\n",
    "# 모든 데이터를 하나로 통합하세요.\n",
    "score_4=np.array([100,90,90]).reshape((1,3))"
   ]
  },
  {
   "cell_type": "code",
   "execution_count": 267,
   "metadata": {},
   "outputs": [
    {
     "data": {
      "text/plain": [
       "array([[ 80,  70,  20],\n",
       "       [ 90,  50,  30],\n",
       "       [ 99,  60,  40],\n",
       "       [100,  90,  90]])"
      ]
     },
     "execution_count": 267,
     "metadata": {},
     "output_type": "execute_result"
    }
   ],
   "source": [
    "score3 = np.concatenate((score2,score_4),axis=0)\n",
    "score3"
   ]
  },
  {
   "cell_type": "code",
   "execution_count": 282,
   "metadata": {},
   "outputs": [
    {
     "data": {
      "text/plain": [
       "array([92.25, 67.5 , 45.  ])"
      ]
     },
     "execution_count": 282,
     "metadata": {},
     "output_type": "execute_result"
    }
   ],
   "source": [
    "# 각 과목별 평균\n",
    "# 시험을 가장 잘 본 학생의 평균 점수는?\n",
    "np.mean(score3, axis=0) # 열별 평균"
   ]
  },
  {
   "cell_type": "code",
   "execution_count": 303,
   "metadata": {},
   "outputs": [
    {
     "name": "stdout",
     "output_type": "stream",
     "text": [
      "4 번째 학생이 93.33333333333333 점으로 평균점수가 가장 높습니다.\n"
     ]
    }
   ],
   "source": [
    "print(np.argmax(np.mean(score3, axis=1))+1,\"번째 학생이\", np.max(np.mean(score3, axis=1)),\"점으로 평균점수가 가장 높습니다.\") \n",
    "# 행별 평균\n",
    "\n"
   ]
  },
  {
   "cell_type": "code",
   "execution_count": 306,
   "metadata": {},
   "outputs": [],
   "source": [
    "#np.save() #binary file in NumPy ''.npy\n",
    "# (%10.5f) '%.2f': 소수점 2번째 자리까지 %d 정수만\n",
    "np.savetxt('score_sample.txt',score3, '%d') #text file"
   ]
  },
  {
   "cell_type": "code",
   "execution_count": 310,
   "metadata": {},
   "outputs": [
    {
     "data": {
      "text/plain": [
       "(array([[ 80.,  70.,  20.],\n",
       "        [ 90.,  50.,  30.],\n",
       "        [ 99.,  60.,  40.],\n",
       "        [100.,  90.,  90.]]), (4, 3))"
      ]
     },
     "execution_count": 310,
     "metadata": {},
     "output_type": "execute_result"
    }
   ],
   "source": [
    "s = np.loadtxt('score_sample.txt')\n",
    "s, s.shape"
   ]
  },
  {
   "cell_type": "code",
   "execution_count": 317,
   "metadata": {},
   "outputs": [
    {
     "data": {
      "text/plain": [
       "array([[ 20.,  70.,  80.],\n",
       "       [ 30.,  50.,  90.],\n",
       "       [ 40.,  60.,  99.],\n",
       "       [ 90.,  90., 100.]])"
      ]
     },
     "execution_count": 317,
     "metadata": {},
     "output_type": "execute_result"
    }
   ],
   "source": [
    "s[:,::-1] # 시작부터 끝까지 거꾸로"
   ]
  },
  {
   "cell_type": "code",
   "execution_count": 319,
   "metadata": {},
   "outputs": [
    {
     "data": {
      "text/plain": [
       "array([[ 80.,  20.],\n",
       "       [ 90.,  30.],\n",
       "       [ 99.,  40.],\n",
       "       [100.,  90.]])"
      ]
     },
     "execution_count": 319,
     "metadata": {},
     "output_type": "execute_result"
    }
   ],
   "source": [
    "s[:,::2] # 시작부터 끝까지 스텝(간격) 2"
   ]
  },
  {
   "cell_type": "code",
   "execution_count": 325,
   "metadata": {},
   "outputs": [
    {
     "data": {
      "text/plain": [
       "array([0, 1, 2, 3, 4, 5, 6, 7, 8, 9])"
      ]
     },
     "execution_count": 325,
     "metadata": {},
     "output_type": "execute_result"
    }
   ],
   "source": [
    "a = np.arange(10)\n",
    "a"
   ]
  },
  {
   "cell_type": "code",
   "execution_count": 327,
   "metadata": {},
   "outputs": [
    {
     "data": {
      "text/plain": [
       "(array([0, 2, 4, 6, 8]), array([1, 3, 5, 7, 9]))"
      ]
     },
     "execution_count": 327,
     "metadata": {},
     "output_type": "execute_result"
    }
   ],
   "source": [
    "# 시작부터 끝까지 2칸씩 뛰면서\n",
    "#1번째 요소부터 끝까지 2칸씩 뛰면서\n",
    "a[::2], a[1::2]"
   ]
  },
  {
   "cell_type": "code",
   "execution_count": 329,
   "metadata": {},
   "outputs": [
    {
     "data": {
      "text/plain": [
       "array([2, 4])"
      ]
     },
     "execution_count": 329,
     "metadata": {},
     "output_type": "execute_result"
    }
   ],
   "source": [
    "# 2번째 요소부터 6번째 요소까지 2칸씩 뛰면서\n",
    "# [시작:끝:간격]\n",
    "a[2:6:2]"
   ]
  },
  {
   "cell_type": "code",
   "execution_count": 338,
   "metadata": {},
   "outputs": [
    {
     "data": {
      "text/plain": [
       "(array([8, 6, 4, 2, 0]), array([9, 7, 5, 3, 1]))"
      ]
     },
     "execution_count": 338,
     "metadata": {},
     "output_type": "execute_result"
    }
   ],
   "source": [
    "a[-2::-2], a[::-2]"
   ]
  },
  {
   "cell_type": "code",
   "execution_count": 340,
   "metadata": {},
   "outputs": [
    {
     "data": {
      "text/plain": [
       "[array([0, 1, 2]), array([3, 4, 5]), array([6, 7, 8, 9])]"
      ]
     },
     "execution_count": 340,
     "metadata": {},
     "output_type": "execute_result"
    }
   ],
   "source": [
    "#분리하기\n",
    "np.split(a, [3,6]) # 해당위치를 잘라라\n"
   ]
  },
  {
   "cell_type": "code",
   "execution_count": 345,
   "metadata": {},
   "outputs": [
    {
     "data": {
      "text/plain": [
       "[array([0, 1]), array([2, 3]), array([4, 5]), array([6, 7]), array([8, 9])]"
      ]
     },
     "execution_count": 345,
     "metadata": {},
     "output_type": "execute_result"
    }
   ],
   "source": [
    "#분리하기 section 갯수\n",
    "#머신러닝에서 데이터 셋을 k개 분리해서 k-fold validation set을 만듭니다.\n",
    "# k=3이라면, 데이터를 3개로 분리해서 2개 셋은 학습, 1개 셋은 테스트로 사용\n",
    "'''\n",
    "3-fold validation set\n",
    "ABC\n",
    "학습 : AB 테스트 : C\n",
    "학습 : BC 테스트 : A\n",
    "학습 : AC 테스트 : B\n",
    "'''\n",
    "np.split(a,5) # 5개로 잘라라"
   ]
  },
  {
   "cell_type": "markdown",
   "metadata": {},
   "source": [
    "##### 브로드 캐스팅\n",
    "배열의 모양이 서로 다를 때 연산이 가능하게 해주는 기능"
   ]
  },
  {
   "cell_type": "code",
   "execution_count": 347,
   "metadata": {},
   "outputs": [
    {
     "data": {
      "text/plain": [
       "array([0, 1, 2, 3, 4, 5, 6, 7, 8, 9])"
      ]
     },
     "execution_count": 347,
     "metadata": {},
     "output_type": "execute_result"
    }
   ],
   "source": [
    "a"
   ]
  },
  {
   "cell_type": "code",
   "execution_count": 348,
   "metadata": {},
   "outputs": [
    {
     "data": {
      "text/plain": [
       "array([ 0,  2,  4,  6,  8, 10, 12, 14, 16, 18])"
      ]
     },
     "execution_count": 348,
     "metadata": {},
     "output_type": "execute_result"
    }
   ],
   "source": [
    "a*2"
   ]
  },
  {
   "cell_type": "code",
   "execution_count": 351,
   "metadata": {},
   "outputs": [
    {
     "data": {
      "text/plain": [
       "array([[ 1,  2,  3,  4,  5,  6,  7,  8,  9, 10],\n",
       "       [ 2,  3,  4,  5,  6,  7,  8,  9, 10, 11],\n",
       "       [ 3,  4,  5,  6,  7,  8,  9, 10, 11, 12],\n",
       "       [ 4,  5,  6,  7,  8,  9, 10, 11, 12, 13]])"
      ]
     },
     "execution_count": 351,
     "metadata": {},
     "output_type": "execute_result"
    }
   ],
   "source": [
    "a + np.array([1,2,3,4]).reshape(4,1)"
   ]
  },
  {
   "cell_type": "code",
   "execution_count": 353,
   "metadata": {},
   "outputs": [
    {
     "data": {
      "text/plain": [
       "array([[ 0,  0,  0],\n",
       "       [10, 10, 10],\n",
       "       [20, 20, 20],\n",
       "       [30, 30, 30]])"
      ]
     },
     "execution_count": 353,
     "metadata": {},
     "output_type": "execute_result"
    }
   ],
   "source": [
    "a=np.array([0,10,20,30])\n",
    "a=np.stack((a,a,a),1)\n",
    "a"
   ]
  },
  {
   "cell_type": "code",
   "execution_count": 355,
   "metadata": {},
   "outputs": [
    {
     "data": {
      "text/plain": [
       "array([0, 1, 2])"
      ]
     },
     "execution_count": 355,
     "metadata": {},
     "output_type": "execute_result"
    }
   ],
   "source": [
    "b = np.array([0,1,2])\n",
    "b"
   ]
  },
  {
   "cell_type": "code",
   "execution_count": 356,
   "metadata": {},
   "outputs": [
    {
     "data": {
      "text/plain": [
       "array([[ 0,  1,  2],\n",
       "       [10, 11, 12],\n",
       "       [20, 21, 22],\n",
       "       [30, 31, 32]])"
      ]
     },
     "execution_count": 356,
     "metadata": {},
     "output_type": "execute_result"
    }
   ],
   "source": [
    "a+b # broadcasting"
   ]
  },
  {
   "cell_type": "code",
   "execution_count": 373,
   "metadata": {},
   "outputs": [
    {
     "name": "stdout",
     "output_type": "stream",
     "text": [
      "[[ 0  1  2]\n",
      " [10 11 12]\n",
      " [20 21 22]\n",
      " [30 31 32]]\n"
     ]
    }
   ],
   "source": [
    "#c=np.array([0,10,20,30]).reshape(4,1)\n",
    "c=np.arange(4)*10\n",
    "c=c.reshape([-1,1])\n",
    "#d=np.array([0,1,2])\n",
    "d=np.arange(3)\n",
    "print(c+d)\n"
   ]
  },
  {
   "cell_type": "code",
   "execution_count": 374,
   "metadata": {},
   "outputs": [
    {
     "data": {
      "text/plain": [
       "False"
      ]
     },
     "execution_count": 374,
     "metadata": {},
     "output_type": "execute_result"
    }
   ],
   "source": [
    "7 == 3"
   ]
  },
  {
   "cell_type": "code",
   "execution_count": 375,
   "metadata": {},
   "outputs": [
    {
     "data": {
      "text/plain": [
       "array([0, 1, 2, 3, 4, 5, 6, 7])"
      ]
     },
     "execution_count": 375,
     "metadata": {},
     "output_type": "execute_result"
    }
   ],
   "source": [
    "a = np.arange(8)\n",
    "a"
   ]
  },
  {
   "cell_type": "code",
   "execution_count": 377,
   "metadata": {},
   "outputs": [
    {
     "data": {
      "text/plain": [
       "array([False, False, False, False, False, False,  True,  True])"
      ]
     },
     "execution_count": 377,
     "metadata": {},
     "output_type": "execute_result"
    }
   ],
   "source": [
    "a > 5"
   ]
  },
  {
   "cell_type": "code",
   "execution_count": 379,
   "metadata": {},
   "outputs": [
    {
     "data": {
      "text/plain": [
       "array([ True,  True,  True,  True,  True,  True,  True,  True])"
      ]
     },
     "execution_count": 379,
     "metadata": {},
     "output_type": "execute_result"
    }
   ],
   "source": [
    "b=np.arange(1,9)\n",
    "a<b"
   ]
  },
  {
   "cell_type": "code",
   "execution_count": 384,
   "metadata": {},
   "outputs": [
    {
     "name": "stdout",
     "output_type": "stream",
     "text": [
      "[False False False False  True  True  True  True]\n"
     ]
    }
   ],
   "source": [
    "mask = a > 3\n",
    "print(mask)"
   ]
  },
  {
   "cell_type": "code",
   "execution_count": 381,
   "metadata": {},
   "outputs": [
    {
     "data": {
      "text/plain": [
       "array([3, 4, 5, 6, 7])"
      ]
     },
     "execution_count": 381,
     "metadata": {},
     "output_type": "execute_result"
    }
   ],
   "source": [
    "# true인 값만 선택됩니다. boolean mask 를 이용한 indexing\n",
    "a[mask]"
   ]
  },
  {
   "cell_type": "code",
   "execution_count": 385,
   "metadata": {},
   "outputs": [
    {
     "data": {
      "text/plain": [
       "array([ True,  True,  True,  True, False, False, False, False])"
      ]
     },
     "execution_count": 385,
     "metadata": {},
     "output_type": "execute_result"
    }
   ],
   "source": [
    "np.logical_not(mask)"
   ]
  },
  {
   "cell_type": "code",
   "execution_count": 387,
   "metadata": {},
   "outputs": [
    {
     "data": {
      "text/plain": [
       "array([False, False, False, False,  True,  True,  True,  True])"
      ]
     },
     "execution_count": 387,
     "metadata": {},
     "output_type": "execute_result"
    }
   ],
   "source": [
    "np.logical_and(mask, mask)"
   ]
  },
  {
   "cell_type": "code",
   "execution_count": 388,
   "metadata": {},
   "outputs": [
    {
     "data": {
      "text/plain": [
       "array([0, 1, 2, 3, 4, 5, 6, 7])"
      ]
     },
     "execution_count": 388,
     "metadata": {},
     "output_type": "execute_result"
    }
   ],
   "source": [
    "# 짝수이면서 2보다 큰 값을 뽑으세요. logical_and, [mask]를 이용해서\n",
    "a"
   ]
  },
  {
   "cell_type": "code",
   "execution_count": 389,
   "metadata": {},
   "outputs": [
    {
     "data": {
      "text/plain": [
       "(array([ True, False,  True, False,  True, False,  True, False]),\n",
       " array([False, False, False,  True,  True,  True,  True,  True]))"
      ]
     },
     "execution_count": 389,
     "metadata": {},
     "output_type": "execute_result"
    }
   ],
   "source": [
    "mask0 = a % 2 ==0\n",
    "mask1 = a > 2\n",
    "mask0, mask1"
   ]
  },
  {
   "cell_type": "code",
   "execution_count": 390,
   "metadata": {},
   "outputs": [
    {
     "data": {
      "text/plain": [
       "array([False, False, False, False,  True, False,  True, False])"
      ]
     },
     "execution_count": 390,
     "metadata": {},
     "output_type": "execute_result"
    }
   ],
   "source": [
    "np.logical_and(mask0,mask1\n",
    "              )"
   ]
  },
  {
   "cell_type": "code",
   "execution_count": 392,
   "metadata": {},
   "outputs": [
    {
     "data": {
      "text/plain": [
       "array([4, 6])"
      ]
     },
     "execution_count": 392,
     "metadata": {},
     "output_type": "execute_result"
    }
   ],
   "source": [
    "a[np.logical_and(mask0,mask1)]"
   ]
  },
  {
   "cell_type": "code",
   "execution_count": 394,
   "metadata": {},
   "outputs": [
    {
     "data": {
      "text/plain": [
       "array([7, 6, 5, 4, 3, 2, 1, 0])"
      ]
     },
     "execution_count": 394,
     "metadata": {},
     "output_type": "execute_result"
    }
   ],
   "source": [
    "#정렬\n",
    "np.sort(a)[::-1]"
   ]
  },
  {
   "cell_type": "markdown",
   "metadata": {},
   "source": [
    "주식 데이터 2개를 받아서 concatenate로 붙이세요\n",
    "df = pandas.read_csv()로 파일 읽고\n",
    "arr0 = np.array(df[]) 필요한 숫자부분만\n",
    "arr = np.concatenate(arr0, arr1), axis=0)"
   ]
  },
  {
   "cell_type": "code",
   "execution_count": 421,
   "metadata": {},
   "outputs": [],
   "source": [
    "import pandas\n",
    "df0=pandas.read_csv('2018.csv')\n",
    "arr0=np.array(df0)\n",
    "df1=pandas.read_csv('2019.csv')\n",
    "arr1=np.array(df1)"
   ]
  },
  {
   "cell_type": "code",
   "execution_count": 422,
   "metadata": {},
   "outputs": [],
   "source": [
    "#arr0=arr0[:,1:]\n",
    "#arr1=arr1[:,1:]"
   ]
  },
  {
   "cell_type": "code",
   "execution_count": 423,
   "metadata": {},
   "outputs": [],
   "source": [
    "arr=np.concatenate((arr0,arr1),axis=0)\n"
   ]
  },
  {
   "cell_type": "code",
   "execution_count": 424,
   "metadata": {},
   "outputs": [
    {
     "data": {
      "text/plain": [
       "((251, 7), (251, 7), (502, 7))"
      ]
     },
     "execution_count": 424,
     "metadata": {},
     "output_type": "execute_result"
    }
   ],
   "source": [
    "arr0.shape, arr1.shape, arr.shape\n"
   ]
  },
  {
   "cell_type": "markdown",
   "metadata": {},
   "source": [
    "# 평균, 최저값, 최대값\n",
    "- 각 컬럼의 평균값을 구합니다.\n",
    "- 가격 변동(gap)이 가장 클때, 그게 언제인지?(날짜)"
   ]
  },
  {
   "cell_type": "code",
   "execution_count": 442,
   "metadata": {},
   "outputs": [],
   "source": [
    "arr_avg=np.mean(arr[:,1:],axis=0).astype(np.int)"
   ]
  },
  {
   "cell_type": "code",
   "execution_count": 443,
   "metadata": {},
   "outputs": [
    {
     "data": {
      "text/plain": [
       "array([    24525,     24642,     24399,     24527,     24527, 332232888])"
      ]
     },
     "execution_count": 443,
     "metadata": {},
     "output_type": "execute_result"
    }
   ],
   "source": [
    "arr_avg"
   ]
  },
  {
   "cell_type": "code",
   "execution_count": 436,
   "metadata": {},
   "outputs": [
    {
     "data": {
      "text/plain": [
       "array([84.24023400000078, 54.109375, 56.36132799999905,\n",
       "       10.691405999998096, 13.839843999998266, 25.128906999998435,\n",
       "       100.52929699999731, 82.25, 200.35156199999983, 1.03125, 86.96875,\n",
       "       14.660155999998096, 103.890625, 59.67968799999653,\n",
       "       27.28906200000347, 1.0996090000007825, 64.21093699999983,\n",
       "       15.900390999999217, 104.97070299999905, 4.25, 15.208984000000783,\n",
       "       71.5, 29.759765999999217, 11.650389999998879, 64.609375,\n",
       "       25.130859000000783, 20.628906999998435, 79.13085900000078,\n",
       "       42.800781000001734, 27.728515999999217, 2.5, 11.880859000000783,\n",
       "       18.519531000001734, 34.41992200000095, 18.220703000002686,\n",
       "       9.800781000001734, 26.359375, 144.18945299999905, 25.0,\n",
       "       48.07031300000017, 30.919922000000952, 7.060547000000952,\n",
       "       234.00976500000252, 50.371093000001565, 32.390625,\n",
       "       160.11132799999905, 38.17968700000347, 56.5, 5.410155999998096,\n",
       "       24.099609000000783, 147.36914099999922, 32.66992200000095,\n",
       "       12.089843000001565, 5.7910159999992175, 159.05859399999827,\n",
       "       8.119140999999217, 35.60156199999983, 33.359375,\n",
       "       129.58007799999905, 28.298827999999048, 54.70898500000112,\n",
       "       58.519530999998096, 15.900390999999217, 33.42968699999983,\n",
       "       21.10156200000347, 61.20898499999748, 54.78906200000347,\n",
       "       15.519530999998096, 24.380859000000783, 37.70898400000078, 9.78125,\n",
       "       74.36914099999922, 46.61914099999922, 134.12890600000173,\n",
       "       77.22070300000269, 15.970702999999048, 106.31054700000095,\n",
       "       11.640625, 18.660155999998096, 45.91992200000095,\n",
       "       45.24023400000078, 13.839843000001565, 4.708985000001121,\n",
       "       64.04101599999922, 45.029296999997314, 70.46875, 55.56836000000112,\n",
       "       123.45117100000061, 74.9882809999981, 94.98046899999827,\n",
       "       101.6289059999981, 19.96875, 15.029296999997314, 57.00976599999922,\n",
       "       8.019531000001734, 7.890625, 53.019531999998435,\n",
       "       10.400390999999217, 14.458984000000783, 16.798828000002686,\n",
       "       20.759765999999217, 30.150390999999217, 10.5, 72.22851599999922,\n",
       "       21.07031199999983, 63.310546999997314, 93.01953100000173,\n",
       "       75.52929700000095, 59.61913999999888, 90.67968699999983,\n",
       "       71.06054600000061, 5.2402340000007825, 27.919922000000952,\n",
       "       211.52148500000112, 57.41992200000095, 258.54882799999905,\n",
       "       73.81054700000095, 134.05859399999827, 154.36914099999922,\n",
       "       30.990234999997483, 94.88085999999748, 65.90039000000252,\n",
       "       47.91992200000095, 51.839843000001565, 60.24023500000112,\n",
       "       122.34960999999748, 66.02929600000061, 52.638671999997314,\n",
       "       79.63085900000078, 111.43945299999905, 4.029297000000952,\n",
       "       9.978515999999217, 30.371094000001904, 7.78125, 30.298827999999048,\n",
       "       130.41015600000173, 14.660156999998435, 72.2304690000019,\n",
       "       110.27148400000078, 180.94921899999827, 25.400390999999217, 73.75,\n",
       "       21.0, 176.13085999999748, 164.79882799999905, 194.75976599999922,\n",
       "       204.87109399999827, 131.74023400000078, 84.37109399999827,\n",
       "       189.2792960000006, 4.058593999998266, 29.951172000000952,\n",
       "       79.72851599999922, 149.9707039999994, 144.7988280000027,\n",
       "       121.55859399999827, 118.77929700000095, 103.671875, 540.828125,\n",
       "       992.1191409999992, 827.5996090000008, 0.4804680000015651,\n",
       "       1041.8398430000016, 198.23046899999827, 263.5097650000025,\n",
       "       100.11914099999922, 357.6699210000006, 152.54882799999905,\n",
       "       53.441406000001734, 160.16015600000173, 190.28125,\n",
       "       107.07031299999653, 259.48046800000157, 305.91992200000095, 325.75,\n",
       "       455.95117200000095, 415.0585940000019, 143.15039099999922,\n",
       "       403.44921899999827, 81.77148400000078, 43.20898400000078,\n",
       "       41.800781999998435, 330.8496090000008, 193.83007799999905,\n",
       "       250.72070299999905, 328.85156199999983, 36.371093000001565,\n",
       "       69.16992200000095, 282.7792969999973, 76.62890600000173,\n",
       "       41.17968699999983, 568.1191409999992, 461.9804690000019,\n",
       "       376.859375, 418.90820299999905, 34.660155999998096,\n",
       "       153.92968699999983, 432.41015600000173, 335.02929700000095,\n",
       "       610.1503900000025, 191.3105469999973, 440.83984300000157,\n",
       "       58.41992200000095, 209.05078100000173, 84.74023400000078,\n",
       "       180.23046800000157, 222.67968800000017, 89.88867200000095,\n",
       "       104.84179600000061, 72.77929600000061, 46.410156000001734,\n",
       "       194.45117200000095, 39.38086000000112, 555.8085939999983,\n",
       "       13.630859000000783, 193.61914099999922, 30.951172000000952,\n",
       "       247.25976500000252, 18.238281999998435, 172.65039000000252,\n",
       "       93.91992200000095, 397.28906300000017, 39.660156999998435,\n",
       "       18.861328999999387, 143.359375, 147.86914099999922,\n",
       "       72.52929700000095, 20.041015000002517, 103.140625, 46.609375,\n",
       "       38.41992200000095, 7.3691409999992175, 130.22851599999922,\n",
       "       213.140625, 129.09960900000078, 65.59960900000078,\n",
       "       28.199219000001904, 245.140625, 199.9492190000019,\n",
       "       204.9492190000019, 93.1210940000019, 86.13867199999731,\n",
       "       20.138672000000952, 292.25, 49.269531000001734, 107.24023400000078,\n",
       "       14.359375, 26.089844000001904, 127.45117200000095,\n",
       "       79.33984399999827, 26.230469000001904, 43.191405999998096,\n",
       "       63.378905999998096, 113.36914099999922, 177.5117190000019,\n",
       "       53.91992200000095, 210.92968799999653, 1.21875, 185.51953100000173,\n",
       "       151.8613280000027, 52.519531999998435, 145.65039099999922,\n",
       "       184.57031199999983, 70.91992100000061, 104.00976599999922,\n",
       "       257.390625, 112.68945300000269, 89.03125, 121.99023400000078,\n",
       "       93.33984300000157, 38.77929700000095, 85.97070299999905, 65.5,\n",
       "       74.65039099999922, 16.978515999999217, 7.388672000000952,\n",
       "       149.50976499999888, 230.40039000000252, 58.519531999998435,\n",
       "       69.45898400000078, 132.49023500000112, 69.97851499999888,\n",
       "       127.81054600000061, 69.71093700000347, 102.21093699999983, 64.75,\n",
       "       77.25976500000252, 31.970702999999048, 80.5585940000019,\n",
       "       88.04882799999905, 139.49023400000078, 84.2304690000019,\n",
       "       72.95898499999748, 263.7597659999992, 118.51953199999843,\n",
       "       30.990234000000783, 35.29882899999939, 91.46093800000017,\n",
       "       57.878906000001734, 101.76953100000173, 166.92968699999983,\n",
       "       28.67968799999653, 42.04101599999922, 112.08984399999827,\n",
       "       0.029296000000613276, 36.410155999998096, 55.15039000000252,\n",
       "       22.849609999997483, 34.480468000001565, 134.83984300000157,\n",
       "       129.91992200000095, 9.849609000000783, 62.050781000001734,\n",
       "       14.890625, 89.54101500000252, 170.75, 117.91992200000095,\n",
       "       137.58984399999827, 17.25, 143.19921899999827, 109.36913999999888,\n",
       "       151.58007799999905, 21.660156999998435, 50.65039099999922,\n",
       "       52.85156300000017, 125.02929699999731, 5.080077999999048,\n",
       "       156.59960900000078, 185.71875, 87.33007800000269,\n",
       "       38.61913999999888, 842.9902349999975, 465.56054700000095,\n",
       "       67.640625, 81.91015699999843, 446.890625, 0.8105470000009518,\n",
       "       266.1113280000027, 23.25, 174.73046899999827, 152.96875,\n",
       "       589.4609369999998, 248.01171800000157, 81.93945299999905,\n",
       "       376.0605469999973, 392.60156199999983, 106.93945299999905,\n",
       "       238.66015600000173, 172.76953100000173, 200.22851599999922,\n",
       "       182.17968800000017, 391.83984300000157, 51.63085900000078,\n",
       "       159.80859399999827, 572.1503899999989, 34.72070399999939,\n",
       "       307.58007799999905, 227.78906200000347, 170.87109399999827,\n",
       "       375.16992200000095, 153.03906300000017, 76.96093800000017,\n",
       "       50.45117200000095, 276.109375, 191.71093799999653,\n",
       "       533.5898440000019, 4.810547000000952, 231.32031300000017,\n",
       "       46.859375, 725.4902340000008, 210.25, 529.8710940000019,\n",
       "       62.31054700000095, 349.66992200000095, 18.17968700000347,\n",
       "       21.521484000000783, 307.52929700000095, 393.8496090000008,\n",
       "       93.49023400000078, 369.6699219999973, 364.51953199999843,\n",
       "       426.37109300000157, 525.0800780000027, 1020.71875,\n",
       "       509.7597659999992, 151.20898400000078, 173.52148500000112,\n",
       "       287.6308590000008, 490.16992200000095, 538.2402340000008,\n",
       "       57.089843000001565, 107.1289059999981, 34.84960999999748,\n",
       "       190.81054700000095, 55.93945299999905, 29.310546999997314,\n",
       "       151.48046899999827, 67.25, 223.00976500000252, 172.16015600000173,\n",
       "       203.27929700000095, 1.6308590000007825, 26.720703999999387,\n",
       "       49.988280999998096, 68.75976599999922, 60.34179700000095,\n",
       "       188.33984399999827, 45.189453000002686, 38.58007799999905, 177.25,\n",
       "       123.58984300000157, 18.730468000001565, 96.28125,\n",
       "       63.97070299999905, 89.70117200000095, 273.73046899999827,\n",
       "       62.410156000001734, 21.259765999999217, 318.6191409999992,\n",
       "       41.47070399999939, 82.17968699999983, 71.77929700000095,\n",
       "       125.54101599999922, 34.20117200000095, 6.371093999998266,\n",
       "       10.439452999999048, 68.27929700000095, 6.6503909999992175,\n",
       "       302.53906199999983, 22.439453999999387, 145.29882799999905,\n",
       "       172.21875, 102.859375, 442.8808590000008, 45.640625,\n",
       "       65.66015600000173, 17.628905999998096, 127.90820299999905,\n",
       "       112.21875, 100.48828199999843, 122.11914099999922,\n",
       "       274.07031300000017, 342.33007799999905, 26.109375,\n",
       "       8.169921999997314, 50.75, 24.140625, 101.36914099999922,\n",
       "       183.32031300000017, 34.41992200000095, 19.89843800000017,\n",
       "       171.21093699999983, 2.5703130000001693, 28.349609000000783,\n",
       "       92.95898500000112, 16.550781999998435, 45.160156999998435,\n",
       "       54.511718000001565, 22.990234999997483, 29.529296999997314,\n",
       "       18.990234000000783, 96.16992200000095, 0.28125, 142.56054700000095,\n",
       "       55.50976599999922, 35.71093699999983, 88.71093699999983,\n",
       "       5.4785159999992175, 1.6503909999992175, 208.91992200000095,\n",
       "       99.36132799999905, 125.80859399999827, 277.86132799999905,\n",
       "       311.81054700000095, 33.54101499999888, 50.49023400000078,\n",
       "       178.64843800000017, 243.07031300000017, 148.02148400000078,\n",
       "       247.88867200000095, 170.53906300000017, 44.050781000001734,\n",
       "       24.589843999998266, 94.99023400000078, 41.85156300000017,\n",
       "       167.51953100000173, 34.61913999999888, 268.78125,\n",
       "       105.05078199999843, 29.941406000001734, 231.27148400000078,\n",
       "       10.380859000000783, 369.359375, 88.57031300000017,\n",
       "       153.21093700000347, 215.21875, 27.54101499999888,\n",
       "       132.08007799999905, 35.470703000002686, 69.83007800000269, 13.25,\n",
       "       4.029297000000952], dtype=object)"
      ]
     },
     "execution_count": 436,
     "metadata": {},
     "output_type": "execute_result"
    }
   ],
   "source": [
    "Close = arr[:,4]\n",
    "Open = arr[:,1]\n",
    "Gap = np.ab\n",
    "s(Close - Open)#절대값을 구하세요\n",
    "Gap"
   ]
  },
  {
   "cell_type": "code",
   "execution_count": 439,
   "metadata": {},
   "outputs": [
    {
     "data": {
      "text/plain": [
       "(1041.8398430000016, '2018-02-08')"
      ]
     },
     "execution_count": 439,
     "metadata": {},
     "output_type": "execute_result"
    }
   ],
   "source": [
    "np.max(Gap), arr[np.argmax(Gap),0]\n"
   ]
  },
  {
   "cell_type": "code",
   "execution_count": null,
   "metadata": {},
   "outputs": [],
   "source": []
  }
 ],
 "metadata": {
  "kernelspec": {
   "display_name": "Python 3",
   "language": "python",
   "name": "python3"
  },
  "language_info": {
   "codemirror_mode": {
    "name": "ipython",
    "version": 3
   },
   "file_extension": ".py",
   "mimetype": "text/x-python",
   "name": "python",
   "nbconvert_exporter": "python",
   "pygments_lexer": "ipython3",
   "version": "3.7.3"
  }
 },
 "nbformat": 4,
 "nbformat_minor": 2
}
