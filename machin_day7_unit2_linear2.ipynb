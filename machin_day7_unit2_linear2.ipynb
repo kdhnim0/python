{
 "cells": [
  {
   "cell_type": "markdown",
   "metadata": {},
   "source": [
    "### p73 선형 회귀 모델\n",
    "- 데이터를 선형 함수로 모델링\n",
    "- 최소제곱법 : 평균 제곱 오차를 최소화하는 파라미터를 찾는다.\n",
    "    - 파라미터를 줄이고 키우고를 반복한다(예시)\n",
    "    - 오차를 파라미터로 미분한 값만큼 조절 반복(경사하강법)\n",
    "    - 정규방적식으로 찾기(메모리 부족)\n",
    " - 평균제곱오차 : 오차(예측과 정답으 ㅣ차이)를 제곱 > 모든 샘플들으 ㅣ오차를 평균"
   ]
  },
  {
   "cell_type": "code",
   "execution_count": 1,
   "metadata": {},
   "outputs": [],
   "source": [
    "import numpy as np\n",
    "import pandas as pd\n",
    "import matplotlib.pyplot as plt"
   ]
  },
  {
   "cell_type": "code",
   "execution_count": 2,
   "metadata": {},
   "outputs": [],
   "source": [
    "# 키오 ㅏ몸무게, 몸무게로부터 키를 예측해보자\n",
    "몸무게 = [30,60,70,90]\n",
    "키 = [120,160,170,190]\n",
    "몸무게_test = [65,80] # 이 두사람의 키는 어떻게 될까?"
   ]
  },
  {
   "cell_type": "code",
   "execution_count": 3,
   "metadata": {},
   "outputs": [],
   "source": [
    "#4행 1열 /1행 4열\n",
    "몸무게 = np.array(몸무게).reshape((-1,1))\n",
    "키 = np.array(키)\n",
    "몸무게_test=np.array(몸무게_test).reshape((-1,1))"
   ]
  },
  {
   "cell_type": "code",
   "execution_count": 6,
   "metadata": {},
   "outputs": [
    {
     "data": {
      "text/plain": [
       "LinearRegression(copy_X=True, fit_intercept=True, n_jobs=None,\n",
       "         normalize=False)"
      ]
     },
     "execution_count": 6,
     "metadata": {},
     "output_type": "execute_result"
    }
   ],
   "source": [
    "#p76 모델 선택\n",
    "from sklearn.linear_model import LinearRegression\n",
    "lr = LinearRegression()\n",
    " # y = w*x+b에서 w와 b를 조절하는 것"
   ]
  },
  {
   "cell_type": "code",
   "execution_count": 7,
   "metadata": {},
   "outputs": [
    {
     "data": {
      "text/plain": [
       "(array([[65],\n",
       "        [80]]), array([162.93333333, 180.53333333]))"
      ]
     },
     "execution_count": 7,
     "metadata": {},
     "output_type": "execute_result"
    }
   ],
   "source": [
    "몸무게_test, lr.predict(몸무게_test)"
   ]
  },
  {
   "cell_type": "code",
   "execution_count": 8,
   "metadata": {},
   "outputs": [
    {
     "data": {
      "text/plain": [
       "0.9928205128205129"
      ]
     },
     "execution_count": 8,
     "metadata": {},
     "output_type": "execute_result"
    }
   ],
   "source": [
    "lr.score(몸무게, 키) # 겨정계수"
   ]
  },
  {
   "cell_type": "code",
   "execution_count": 10,
   "metadata": {},
   "outputs": [
    {
     "data": {
      "text/plain": [
       "(array([1.17333333]), 86.66666666666667)"
      ]
     },
     "execution_count": 10,
     "metadata": {},
     "output_type": "execute_result"
    }
   ],
   "source": [
    "# 계수 w와 절편 b\n",
    "lr.coef_, lr.intercept_"
   ]
  },
  {
   "cell_type": "code",
   "execution_count": 70,
   "metadata": {},
   "outputs": [],
   "source": [
    "url = 'https://finance.daum.net/domestic/kospi200'\n",
    "url = 'file:///C:/Users/wtime/Downloads/%EC%BD%94%EC%8A%A4%ED%94%BC200%20_%20%EB%8B%A4%EC%9D%8C%20%EA%B8%88%EC%9C%B5.html'\n",
    "tables = pd.read_html(url, index_col=0)"
   ]
  },
  {
   "cell_type": "code",
   "execution_count": 71,
   "metadata": {},
   "outputs": [
    {
     "data": {
      "text/html": [
       "<div>\n",
       "<style scoped>\n",
       "    .dataframe tbody tr th:only-of-type {\n",
       "        vertical-align: middle;\n",
       "    }\n",
       "\n",
       "    .dataframe tbody tr th {\n",
       "        vertical-align: top;\n",
       "    }\n",
       "\n",
       "    .dataframe thead th {\n",
       "        text-align: right;\n",
       "    }\n",
       "</style>\n",
       "<table border=\"1\" class=\"dataframe\">\n",
       "  <thead>\n",
       "    <tr style=\"text-align: right;\">\n",
       "      <th></th>\n",
       "      <th>종가</th>\n",
       "      <th>전일비</th>\n",
       "      <th>등락률</th>\n",
       "      <th>거래량</th>\n",
       "      <th>거래대금</th>\n",
       "      <th>개인(억)</th>\n",
       "      <th>외국인(억)</th>\n",
       "      <th>기관(억)</th>\n",
       "    </tr>\n",
       "    <tr>\n",
       "      <th>일자</th>\n",
       "      <th></th>\n",
       "      <th></th>\n",
       "      <th></th>\n",
       "      <th></th>\n",
       "      <th></th>\n",
       "      <th></th>\n",
       "      <th></th>\n",
       "      <th></th>\n",
       "    </tr>\n",
       "  </thead>\n",
       "  <tbody>\n",
       "    <tr>\n",
       "      <th>19.07.02</th>\n",
       "      <td>276.86</td>\n",
       "      <td>▼0.41</td>\n",
       "      <td>-0.15%</td>\n",
       "      <td>22595</td>\n",
       "      <td>826900</td>\n",
       "      <td>318</td>\n",
       "      <td>84</td>\n",
       "      <td>-382</td>\n",
       "    </tr>\n",
       "    <tr>\n",
       "      <th>19.07.01</th>\n",
       "      <td>277.27</td>\n",
       "      <td>▼0.23</td>\n",
       "      <td>-0.08%</td>\n",
       "      <td>74357</td>\n",
       "      <td>3446049</td>\n",
       "      <td>-214</td>\n",
       "      <td>1286</td>\n",
       "      <td>365</td>\n",
       "    </tr>\n",
       "    <tr>\n",
       "      <th>19.06.28</th>\n",
       "      <td>277.50</td>\n",
       "      <td>▼0.25</td>\n",
       "      <td>-0.09%</td>\n",
       "      <td>67598</td>\n",
       "      <td>2879563</td>\n",
       "      <td>-1802</td>\n",
       "      <td>3011</td>\n",
       "      <td>-1189</td>\n",
       "    </tr>\n",
       "    <tr>\n",
       "      <th>19.06.27</th>\n",
       "      <td>277.75</td>\n",
       "      <td>▲2.22</td>\n",
       "      <td>+0.81%</td>\n",
       "      <td>66303</td>\n",
       "      <td>3357666</td>\n",
       "      <td>-4165</td>\n",
       "      <td>1837</td>\n",
       "      <td>2415</td>\n",
       "    </tr>\n",
       "    <tr>\n",
       "      <th>19.06.26</th>\n",
       "      <td>275.53</td>\n",
       "      <td>▲0.25</td>\n",
       "      <td>+0.09%</td>\n",
       "      <td>58818</td>\n",
       "      <td>2636531</td>\n",
       "      <td>-712</td>\n",
       "      <td>157</td>\n",
       "      <td>557</td>\n",
       "    </tr>\n",
       "  </tbody>\n",
       "</table>\n",
       "</div>"
      ],
      "text/plain": [
       "              종가    전일비     등락률    거래량     거래대금  개인(억)  외국인(억)  기관(억)\n",
       "일자                                                                   \n",
       "19.07.02  276.86  ▼0.41  -0.15%  22595   826900    318      84   -382\n",
       "19.07.01  277.27  ▼0.23  -0.08%  74357  3446049   -214    1286    365\n",
       "19.06.28  277.50  ▼0.25  -0.09%  67598  2879563  -1802    3011  -1189\n",
       "19.06.27  277.75  ▲2.22  +0.81%  66303  3357666  -4165    1837   2415\n",
       "19.06.26  275.53  ▲0.25  +0.09%  58818  2636531   -712     157    557"
      ]
     },
     "execution_count": 71,
     "metadata": {},
     "output_type": "execute_result"
    }
   ],
   "source": [
    "df = tables[1]\n",
    "df.head()"
   ]
  },
  {
   "cell_type": "code",
   "execution_count": 72,
   "metadata": {},
   "outputs": [],
   "source": [
    "#전일비와 등락률을 수치데이터로 변환\n",
    "df['전일비'] = df['전일비'].replace('▼','-',regex=True)\n",
    "df['전일비'] = df['전일비'].replace('▲','',regex=True)\n",
    "df['등락률'] = df['등락률'].replace('%','',regex=True)"
   ]
  },
  {
   "cell_type": "code",
   "execution_count": 73,
   "metadata": {},
   "outputs": [],
   "source": [
    "df['전일비'] = df['전일비'].astype(np.float)\n",
    "df['등락률'] = df['등락률'].astype(np.float)"
   ]
  },
  {
   "cell_type": "code",
   "execution_count": 74,
   "metadata": {},
   "outputs": [
    {
     "name": "stderr",
     "output_type": "stream",
     "text": [
      "C:\\Users\\wtime\\Anaconda3\\lib\\site-packages\\ipykernel_launcher.py:4: UserWarning: Pandas doesn't allow columns to be created via a new attribute name - see https://pandas.pydata.org/pandas-docs/stable/indexing.html#attribute-access\n",
      "  after removing the cwd from sys.path.\n"
     ]
    }
   ],
   "source": [
    "#min max 정규화 [0,1]\n",
    "minnum = np.min(df, axis=0)\n",
    "maxnum = np.max(df, axis=0)\n",
    "df.norm = (df-minnum) / (maxnum-minnum)"
   ]
  },
  {
   "cell_type": "code",
   "execution_count": 75,
   "metadata": {},
   "outputs": [
    {
     "data": {
      "text/plain": [
       "((10, 7), (10,))"
      ]
     },
     "execution_count": 75,
     "metadata": {},
     "output_type": "execute_result"
    }
   ],
   "source": [
    "#입력x와 출력y 분리\n",
    "# x_0, x_1, x_2(아ㅐ첨자)\n",
    "y = df.norm['종가']\n",
    "x = df.norm.iloc[:, 1:]\n",
    "x.shape, y.shape"
   ]
  },
  {
   "cell_type": "code",
   "execution_count": 76,
   "metadata": {},
   "outputs": [],
   "source": [
    "offset = 8 #train용 개수\n",
    "X_train = x[-offset:] # 상수 Magic Number를 가능하면 사용하지 않는게 좋다\n",
    "X_test = x[:-offset]\n",
    "y_train = y[-offset:]\n",
    "y_test = y[:-offset]"
   ]
  },
  {
   "cell_type": "code",
   "execution_count": 40,
   "metadata": {},
   "outputs": [
    {
     "data": {
      "text/plain": [
       "LinearRegression(copy_X=True, fit_intercept=True, n_jobs=None,\n",
       "         normalize=False)"
      ]
     },
     "execution_count": 40,
     "metadata": {},
     "output_type": "execute_result"
    }
   ],
   "source": [
    "from sklearn.linear_model import LinearRegression\n",
    "lr = LinearRegression()\n",
    "lr.fit(X=x_train, y=y_train)"
   ]
  },
  {
   "cell_type": "code",
   "execution_count": 41,
   "metadata": {},
   "outputs": [
    {
     "data": {
      "text/plain": [
       "array([273.42089502, 282.4319801 ])"
      ]
     },
     "execution_count": 41,
     "metadata": {},
     "output_type": "execute_result"
    }
   ],
   "source": [
    "lr.predict(x_test)"
   ]
  },
  {
   "cell_type": "code",
   "execution_count": 42,
   "metadata": {},
   "outputs": [
    {
     "data": {
      "text/plain": [
       "-456.7451707292072"
      ]
     },
     "execution_count": 42,
     "metadata": {},
     "output_type": "execute_result"
    }
   ],
   "source": [
    "lr.score(x_test, y_test)"
   ]
  },
  {
   "cell_type": "code",
   "execution_count": 43,
   "metadata": {},
   "outputs": [
    {
     "data": {
      "text/plain": [
       "일자\n",
       "19.07.02    276.86\n",
       "19.07.01    277.27\n",
       "Name: 종가, dtype: float64"
      ]
     },
     "execution_count": 43,
     "metadata": {},
     "output_type": "execute_result"
    }
   ],
   "source": [
    "y_test"
   ]
  },
  {
   "cell_type": "code",
   "execution_count": 44,
   "metadata": {},
   "outputs": [
    {
     "data": {
      "text/html": [
       "<div>\n",
       "<style scoped>\n",
       "    .dataframe tbody tr th:only-of-type {\n",
       "        vertical-align: middle;\n",
       "    }\n",
       "\n",
       "    .dataframe tbody tr th {\n",
       "        vertical-align: top;\n",
       "    }\n",
       "\n",
       "    .dataframe thead th {\n",
       "        text-align: right;\n",
       "    }\n",
       "</style>\n",
       "<table border=\"1\" class=\"dataframe\">\n",
       "  <thead>\n",
       "    <tr style=\"text-align: right;\">\n",
       "      <th></th>\n",
       "      <th>전일비</th>\n",
       "      <th>등락률</th>\n",
       "      <th>거래량</th>\n",
       "      <th>거래대금</th>\n",
       "      <th>개인(억)</th>\n",
       "      <th>외국인(억)</th>\n",
       "      <th>기관(억)</th>\n",
       "    </tr>\n",
       "    <tr>\n",
       "      <th>일자</th>\n",
       "      <th></th>\n",
       "      <th></th>\n",
       "      <th></th>\n",
       "      <th></th>\n",
       "      <th></th>\n",
       "      <th></th>\n",
       "      <th></th>\n",
       "    </tr>\n",
       "  </thead>\n",
       "  <tbody>\n",
       "    <tr>\n",
       "      <th>19.07.02</th>\n",
       "      <td>-0.41</td>\n",
       "      <td>-0.15</td>\n",
       "      <td>22595</td>\n",
       "      <td>826900</td>\n",
       "      <td>318</td>\n",
       "      <td>84</td>\n",
       "      <td>-382</td>\n",
       "    </tr>\n",
       "    <tr>\n",
       "      <th>19.07.01</th>\n",
       "      <td>-0.23</td>\n",
       "      <td>-0.08</td>\n",
       "      <td>74357</td>\n",
       "      <td>3446049</td>\n",
       "      <td>-214</td>\n",
       "      <td>1286</td>\n",
       "      <td>365</td>\n",
       "    </tr>\n",
       "  </tbody>\n",
       "</table>\n",
       "</div>"
      ],
      "text/plain": [
       "           전일비   등락률    거래량     거래대금  개인(억)  외국인(억)  기관(억)\n",
       "일자                                                        \n",
       "19.07.02 -0.41 -0.15  22595   826900    318      84   -382\n",
       "19.07.01 -0.23 -0.08  74357  3446049   -214    1286    365"
      ]
     },
     "execution_count": 44,
     "metadata": {},
     "output_type": "execute_result"
    }
   ],
   "source": [
    "x_test"
   ]
  },
  {
   "cell_type": "code",
   "execution_count": 22,
   "metadata": {},
   "outputs": [
    {
     "data": {
      "text/plain": [
       "((9, 8), (9,))"
      ]
     },
     "execution_count": 22,
     "metadata": {},
     "output_type": "execute_result"
    }
   ],
   "source": [
    "X=df.iloc[1:] # 오늘 데이터 제외\n",
    "Y=df.iloc[:-1,0] # 가장 오래된 데이터와 종가 외의 컬럼 제외\n",
    "X.shape, Y.shape"
   ]
  },
  {
   "cell_type": "code",
   "execution_count": 23,
   "metadata": {
    "scrolled": true
   },
   "outputs": [
    {
     "data": {
      "text/plain": [
       "(              종가   전일비   등락률    거래량     거래대금  개인(억)  외국인(억)  기관(억)\n",
       " 일자                                                                \n",
       " 19.07.01  277.27 -0.23 -0.08  74357  3446049   -214    1286    365\n",
       " 19.06.28  277.50 -0.25 -0.09  67598  2879563  -1802    3011  -1189\n",
       " 19.06.27  277.75  2.22  0.81  66303  3357666  -4165    1837   2415\n",
       " 19.06.26  275.53  0.25  0.09  58818  2636531   -712     157    557\n",
       " 19.06.25  275.28 -0.30 -0.11  60506  2635188   -364     277    -12\n",
       " 19.06.24  275.58  0.10  0.04  55539  2235175   -978   -1048   1966\n",
       " 19.06.21  275.48 -0.53 -0.19  77279  3275700    538     206   -767\n",
       " 19.06.20  276.01  0.70  0.25  55336  2417864  -1342    -434   1762\n",
       " 19.06.19  275.31  3.95  1.46  69733  3134202  -4430    2876   1606, 일자\n",
       " 19.07.02    276.86\n",
       " 19.07.01    277.27\n",
       " 19.06.28    277.50\n",
       " 19.06.27    277.75\n",
       " 19.06.26    275.53\n",
       " 19.06.25    275.28\n",
       " 19.06.24    275.58\n",
       " 19.06.21    275.48\n",
       " 19.06.20    276.01\n",
       " Name: 종가, dtype: float64)"
      ]
     },
     "execution_count": 23,
     "metadata": {},
     "output_type": "execute_result"
    }
   ],
   "source": [
    "X, Y"
   ]
  },
  {
   "cell_type": "code",
   "execution_count": 51,
   "metadata": {},
   "outputs": [],
   "source": [
    "#Train /Test용 분리\n",
    "from sklearn.model_selection import train_test_split\n",
    "X_train, X_test, y_train, y_test = train_test_split(X,Y,random_state=42)"
   ]
  },
  {
   "cell_type": "code",
   "execution_count": 77,
   "metadata": {},
   "outputs": [
    {
     "data": {
      "text/plain": [
       "(1.0, -456.7451696885433)"
      ]
     },
     "execution_count": 77,
     "metadata": {},
     "output_type": "execute_result"
    }
   ],
   "source": [
    "#train으로 Linear Regression 모델 ift\n",
    "#score 측정\n",
    "#예측을 그래프로 시각화\n",
    "lr = LinearRegression().fit(X_train, y_train)\n",
    "lr.score(X_train, y_train), lr.score(X_test, y_test)"
   ]
  },
  {
   "cell_type": "code",
   "execution_count": 78,
   "metadata": {},
   "outputs": [
    {
     "data": {
      "text/plain": [
       "[<matplotlib.lines.Line2D at 0x1f3084912e8>]"
      ]
     },
     "execution_count": 78,
     "metadata": {},
     "output_type": "execute_result"
    },
    {
     "data": {
      "image/png": "[encoded data removed]",
      "text/plain": [
       "<Figure size 432x288 with 1 Axes>"
      ]
     },
     "metadata": {
      "needs_background": "light"
     },
     "output_type": "display_data"
    }
   ],
   "source": [
    "plt.plot(lr.predict(X_train))\n",
    "plt.plot(y_train)"
   ]
  },
  {
   "cell_type": "code",
   "execution_count": 79,
   "metadata": {},
   "outputs": [
    {
     "data": {
      "text/plain": [
       "(0.31578706606506557, -32.02192413210372)"
      ]
     },
     "execution_count": 79,
     "metadata": {},
     "output_type": "execute_result"
    }
   ],
   "source": [
    "'''\n",
    "train 셋으로 linear regression 모델 fit\n",
    "78 릿지(ridge)모델 : w를 가능한한 작게 만드는 Linear regression -> 규제(regularization)\n",
    "W를 줄인다는 것은 Y를 예측하는 데 가능한한 모든 특성을 반영해라\n",
    "Y = w1 * x1 + w2 * x2 + ..... wi * xi + b\n",
    "'''\n",
    "from sklearn.linear_model import LinearRegression, Ridge\n",
    "lr = Ridge().fit(X_train, y_train)\n",
    "lr.score(X_train, y_train), lr.score(X_test, y_test)\n"
   ]
  },
  {
   "cell_type": "code",
   "execution_count": 80,
   "metadata": {},
   "outputs": [
    {
     "data": {
      "text/plain": [
       "[<matplotlib.lines.Line2D at 0x1f30864be80>]"
      ]
     },
     "execution_count": 80,
     "metadata": {},
     "output_type": "execute_result"
    },
    {
     "data": {
      "image/png": "[encoded data removed]",
      "text/plain": [
       "<Figure size 432x288 with 1 Axes>"
      ]
     },
     "metadata": {
      "needs_background": "light"
     },
     "output_type": "display_data"
    }
   ],
   "source": [
    "plt.plot(lr.predict(X_train))\n",
    "plt.plot(y_train)"
   ]
  },
  {
   "cell_type": "code",
   "execution_count": 87,
   "metadata": {},
   "outputs": [
    {
     "data": {
      "text/plain": [
       "<matplotlib.legend.Legend at 0x1f309a7db38>"
      ]
     },
     "execution_count": 87,
     "metadata": {},
     "output_type": "execute_result"
    },
    {
     "data": {
      "image/png": "[encoded data removed]",
      "text/plain": [
       "<Figure size 432x288 with 1 Axes>"
      ]
     },
     "metadata": {
      "needs_background": "light"
     },
     "output_type": "display_data"
    }
   ],
   "source": [
    "train_len = np.arange(len(X_train))\n",
    "test_len=np.arange(len(X_train), len(X_train) + len(X_test))\n",
    "plt.plot(train_len, lr.predict(X_train), label='train_x')\n",
    "plt.plot(train_len, y_train, label='train_y')\n",
    "plt.plot(test_len, lr.predict(X_test), label='test_x')\n",
    "plt.plot(test_len, y_test, label='test_y')\n",
    "plt.legend()"
   ]
  },
  {
   "cell_type": "code",
   "execution_count": null,
   "metadata": {},
   "outputs": [],
   "source": []
  }
 ],
 "metadata": {
  "kernelspec": {
   "display_name": "Python 3",
   "language": "python",
   "name": "python3"
  },
  "language_info": {
   "codemirror_mode": {
    "name": "ipython",
    "version": 3
   },
   "file_extension": ".py",
   "mimetype": "text/x-python",
   "name": "python",
   "nbconvert_exporter": "python",
   "pygments_lexer": "ipython3",
   "version": "3.7.3"
  }
 },
 "nbformat": 4,
 "nbformat_minor": 2
}
