{
 "cells": [
  {
   "cell_type": "markdown",
   "metadata": {},
   "source": [
    "## 서울 지하철 유/무임 승차 데이터\n",
    "#### T-money 제공\n",
    "#### 문제1. 유임 승차 비율이 가장 높은 역은 어디일까"
   ]
  },
  {
   "cell_type": "code",
   "execution_count": 11,
   "metadata": {},
   "outputs": [],
   "source": [
    "import numpy as np\n",
    "import pandas as pd\n",
    "import matplotlib.pyplot as plt"
   ]
  },
  {
   "cell_type": "code",
   "execution_count": 12,
   "metadata": {},
   "outputs": [
    {
     "data": {
      "text/plain": [
       "(597, 9)"
      ]
     },
     "execution_count": 12,
     "metadata": {},
     "output_type": "execute_result"
    }
   ],
   "source": [
    "df = pd.read_csv('subwayfee.csv', encoding='cp949')\n",
    "df = df.replace(',','',regex=True)\n",
    "df = df.dropna() # 누락값이 있는 행은 버린다.\n",
    "df. shape"
   ]
  },
  {
   "cell_type": "code",
   "execution_count": 13,
   "metadata": {},
   "outputs": [
    {
     "data": {
      "text/html": [
       "<div>\n",
       "<style scoped>\n",
       "    .dataframe tbody tr th:only-of-type {\n",
       "        vertical-align: middle;\n",
       "    }\n",
       "\n",
       "    .dataframe tbody tr th {\n",
       "        vertical-align: top;\n",
       "    }\n",
       "\n",
       "    .dataframe thead th {\n",
       "        text-align: right;\n",
       "    }\n",
       "</style>\n",
       "<table border=\"1\" class=\"dataframe\">\n",
       "  <thead>\n",
       "    <tr style=\"text-align: right;\">\n",
       "      <th></th>\n",
       "      <th>사용월</th>\n",
       "      <th>호선명</th>\n",
       "      <th>역ID</th>\n",
       "      <th>지하철역</th>\n",
       "      <th>유임승차</th>\n",
       "      <th>유임하차</th>\n",
       "      <th>무임승차</th>\n",
       "      <th>무임하차</th>\n",
       "      <th>작업일시</th>\n",
       "    </tr>\n",
       "  </thead>\n",
       "  <tbody>\n",
       "    <tr>\n",
       "      <th>0</th>\n",
       "      <td>2019-05</td>\n",
       "      <td>1호선</td>\n",
       "      <td>150</td>\n",
       "      <td>서울역</td>\n",
       "      <td>1568570</td>\n",
       "      <td>1489737</td>\n",
       "      <td>247801</td>\n",
       "      <td>242107</td>\n",
       "      <td>2019-06-03 10:56:20</td>\n",
       "    </tr>\n",
       "    <tr>\n",
       "      <th>1</th>\n",
       "      <td>2019-05</td>\n",
       "      <td>1호선</td>\n",
       "      <td>151</td>\n",
       "      <td>시청</td>\n",
       "      <td>709821</td>\n",
       "      <td>727110</td>\n",
       "      <td>112279</td>\n",
       "      <td>112016</td>\n",
       "      <td>2019-06-03 10:56:20</td>\n",
       "    </tr>\n",
       "    <tr>\n",
       "      <th>2</th>\n",
       "      <td>2019-05</td>\n",
       "      <td>1호선</td>\n",
       "      <td>152</td>\n",
       "      <td>종각</td>\n",
       "      <td>1204910</td>\n",
       "      <td>1151371</td>\n",
       "      <td>176083</td>\n",
       "      <td>164915</td>\n",
       "      <td>2019-06-03 10:56:20</td>\n",
       "    </tr>\n",
       "    <tr>\n",
       "      <th>3</th>\n",
       "      <td>2019-05</td>\n",
       "      <td>1호선</td>\n",
       "      <td>153</td>\n",
       "      <td>종로3가</td>\n",
       "      <td>699000</td>\n",
       "      <td>647664</td>\n",
       "      <td>408682</td>\n",
       "      <td>382809</td>\n",
       "      <td>2019-06-03 10:56:20</td>\n",
       "    </tr>\n",
       "    <tr>\n",
       "      <th>4</th>\n",
       "      <td>2019-05</td>\n",
       "      <td>1호선</td>\n",
       "      <td>154</td>\n",
       "      <td>종로5가</td>\n",
       "      <td>561662</td>\n",
       "      <td>578374</td>\n",
       "      <td>307515</td>\n",
       "      <td>295535</td>\n",
       "      <td>2019-06-03 10:56:20</td>\n",
       "    </tr>\n",
       "  </tbody>\n",
       "</table>\n",
       "</div>"
      ],
      "text/plain": [
       "       사용월  호선명  역ID  지하철역     유임승차     유임하차    무임승차    무임하차  \\\n",
       "0  2019-05  1호선  150   서울역  1568570  1489737  247801  242107   \n",
       "1  2019-05  1호선  151    시청   709821   727110  112279  112016   \n",
       "2  2019-05  1호선  152    종각  1204910  1151371  176083  164915   \n",
       "3  2019-05  1호선  153  종로3가   699000   647664  408682  382809   \n",
       "4  2019-05  1호선  154  종로5가   561662   578374  307515  295535   \n",
       "\n",
       "                  작업일시  \n",
       "0  2019-06-03 10:56:20  \n",
       "1  2019-06-03 10:56:20  \n",
       "2  2019-06-03 10:56:20  \n",
       "3  2019-06-03 10:56:20  \n",
       "4  2019-06-03 10:56:20  "
      ]
     },
     "execution_count": 13,
     "metadata": {},
     "output_type": "execute_result"
    }
   ],
   "source": [
    "df.head()"
   ]
  },
  {
   "cell_type": "code",
   "execution_count": 14,
   "metadata": {},
   "outputs": [
    {
     "data": {
      "text/plain": [
       "((597, 9), array(['2019-05', '1호선', 150, '서울역', '1568570', '1489737', '247801',\n",
       "        '242107', '2019-06-03 10:56:20'], dtype=object))"
      ]
     },
     "execution_count": 14,
     "metadata": {},
     "output_type": "execute_result"
    }
   ],
   "source": [
    "arr = np.array(df) # 배열로 변환\n",
    "arr.shape, arr[0]"
   ]
  },
  {
   "cell_type": "code",
   "execution_count": 21,
   "metadata": {},
   "outputs": [
    {
     "data": {
      "text/plain": [
       "('강남', 2894341, 31)"
      ]
     },
     "execution_count": 21,
     "metadata": {},
     "output_type": "execute_result"
    }
   ],
   "source": [
    "유임승차 = arr[:,4].astype(np.int)\n",
    "arr[np.argmax(유임승차),3], np.max(유임승차), np.argmax(유임승차)"
   ]
  },
  {
   "cell_type": "code",
   "execution_count": 23,
   "metadata": {},
   "outputs": [
    {
     "data": {
      "text/plain": [
       "('종로3가', 408682, 3)"
      ]
     },
     "execution_count": 23,
     "metadata": {},
     "output_type": "execute_result"
    }
   ],
   "source": [
    "무임승차 = arr[:,6].astype(np.int)\n",
    "arr[np.argmax(무임승차),3], np.max(무임승차), np.argmax(무임승차)"
   ]
  },
  {
   "cell_type": "code",
   "execution_count": 27,
   "metadata": {},
   "outputs": [
    {
     "data": {
      "text/plain": [
       "(array(['분당선', '복정'], dtype=object), 24.0, 237)"
      ]
     },
     "execution_count": 27,
     "metadata": {},
     "output_type": "execute_result"
    }
   ],
   "source": [
    "유임승차비율 = 유임승차 / (무임승차+1)\n",
    "arr[np.argmax(유임승차비율),1:4:2], np.max(유임승차비율), np.argmax(유임승차비율)"
   ]
  },
  {
   "cell_type": "markdown",
   "metadata": {},
   "source": [
    "유무임 승하차 인원이 가장 많은 역은 어디일까?"
   ]
  },
  {
   "cell_type": "code",
   "execution_count": 33,
   "metadata": {},
   "outputs": [
    {
     "data": {
      "text/plain": [
       "(array([[1568570, 1489737,  247801,  242107],\n",
       "        [ 709821,  727110,  112279,  112016],\n",
       "        [1204910, 1151371,  176083,  164915],\n",
       "        ...,\n",
       "        [  87982,  103574,   34415,   32373],\n",
       "        [  35939,   36973,   17275,   17703],\n",
       "        [  42076,   44785,   23061,   20860]]),\n",
       " array([3548215, 1661226, 2697279, 2138155, 1743086, 1034351, 1021248,\n",
       "        1313148, 1657718,  774535, 1586991, 3157446, 1451720,  775177,\n",
       "        1361978,  985430,  909251, 1195406,  900239, 1291570, 1907343,\n",
       "        3088522, 1527250, 2915963, 1053237, 5455044, 1635292, 1122815,\n",
       "        3886965, 3202850, 3059426, 6234453, 2449940, 1443247, 1354453,\n",
       "        2937187, 1917359, 3401690, 1533360, 4459139, 1829578, 4011415,\n",
       "        1925237, 3755440, 1265918, 1407053, 1534132, 2231105, 5392292,\n",
       "        3123202, 1421470,  707614,  716859,  186568,  108668,  271839,\n",
       "          77187,  485394,  670383,  153201,   88599, 1403986, 2653821,\n",
       "        1293354,  869342, 1263201,  269494,  601557, 1773838, 1681403,\n",
       "         798962,  715337,      60,  886653,  912439,  541033,  658056,\n",
       "        2163307, 2174023,  418502, 3871455,  786047, 2213683, 2670902,\n",
       "         705475,  374027,  789783,  186212,  627914,  641242, 1175380,\n",
       "         624646,  483997,  407352,  845328, 1305899, 1542622, 1965622,\n",
       "        2015901, 2476811, 1103456, 1953753, 1566484, 1612715, 1133266,\n",
       "        2785936, 1652342, 1427588, 2082522, 2534396, 2092316, 1167607,\n",
       "        1091210,  336900, 1070676,  670625,  207479, 1453833, 1807994,\n",
       "          93597,  283062,  751703, 2775236,  773237,  959319, 3220382,\n",
       "         273356,  597652, 1360052, 1132301,  817310,  738144,  560785,\n",
       "        1881956,  670208, 1777387,  477906,  609407, 1089841,  565542,\n",
       "        3292413, 1068796,  255312, 1162381,  198990,  254397,  717859,\n",
       "         109469,  336932,  373538,  174870,  983059,  368286,   63339,\n",
       "         470430,  527885,  489433,  113453,  179283, 1590638,  799660,\n",
       "        2072676, 2632908, 2117185, 2562954,  572182, 1184964, 1537947,\n",
       "         759485, 1128469,  311953,  548765,  741386,  616658,  426265,\n",
       "         281461,  514032,  632850,  266701,  261352,  137057,  287601,\n",
       "           2893,  121533, 1157821, 1182624,  718865,  582372,  687804,\n",
       "         667756,  474406,  303607,      23,  667235,  408971,  491440,\n",
       "         643928,  868583, 1472198,  466217,  328971,  595228,  149669,\n",
       "         473574,  501611,  252595,  119029,  177879,  274330, 1261981,\n",
       "         296574,  311619, 1393088,  617770, 1261868,  590338,  283142,\n",
       "         945071,  115429,  647807,  716294,  295653,  563553,  444265,\n",
       "         532508,  338391,  765109, 1703608, 1130940, 1938913,  896308,\n",
       "         962553,  438716,  125201,  222592,  209224,  943821,      24,\n",
       "         526599,  618329, 1107763,  628630,  494312,  775137,  914254,\n",
       "        1522144, 1943571, 1832683,  889464, 1120731, 1158406,  771558,\n",
       "         417537,  168211, 1153869,  337194,  310988,  711889,  379683,\n",
       "         284853,  674120,  886922,  305624,  841110,  169172,  545776,\n",
       "        1097070,  779685, 1322889,  110159,  753713,  568018,  715789,\n",
       "         666554,  951139, 2020976,  378094,  402813,  543429,  123068,\n",
       "         969925,  604252,   57462,  423092,  168327,   75594,   67524,\n",
       "         151471,   15984,   58096,   53898,   22975,  242859,   30558,\n",
       "         213339,    4150,   88727,  184434,  227689,   74275,  335564,\n",
       "         181267,  283853,   72200,  188968,  215712,  153470,  155812,\n",
       "         345360,  141529,  147439,  205378,  179199,  518776,  249471,\n",
       "          40181,  448615,  351115,  630680,  507825,  345406,  392984,\n",
       "         321072,  485725,  175374,  120883,  409268,      10,       1,\n",
       "             16,       7,       4,   56800,  166683,  173749,  237557,\n",
       "         236297,  107293,  403835,  109622,  281920,   81404,  149391,\n",
       "          32929,  162098,   15539,    9080,   51024,   37253,  226498,\n",
       "         159594,    4634,  169297,  389979,  424282,  237134,  136802,\n",
       "         312339,  348586,  193985,  445047,  248631,  134199,  116214,\n",
       "         256621,   72654,  128559,  447244,  171621,  154885,   89499,\n",
       "         185510,  122557,   21177,  174039,  467271,  380978,  487635,\n",
       "         594043,  414387, 1208218, 1023962, 1890786, 1912802,  733678,\n",
       "        1276276, 1601045,  414332,  230033,  658875,  225429, 1554368,\n",
       "        1140318,  905021,  928841,  463972,  293982, 1181490, 2270701,\n",
       "        1051737,  336403,  188438,  260023,  436432,  522782,  349308,\n",
       "         403968, 1014293, 1172572,  757216, 1020771,  911114, 1342375,\n",
       "        1210822,  496064,  631662,  543782,  637396,  779500,  581503,\n",
       "         348403,  482127,  239059,  459676,  492096,  358835, 1165163,\n",
       "         279268,  341991,  192605,      22,  455234,  906356,  678422,\n",
       "         889828,  527153,  900726,  956481,  948874,  763379,  600795,\n",
       "         632832, 1156275,  470086,  419925,  400017, 1093838,  594758,\n",
       "         155091,  249017,  253880,  588289,  638570,  229103,  484572,\n",
       "        1021527,  670347,  836578,  432488,  553093,  888606,  477615,\n",
       "         784565,  624120,  114814,  728934,  893656,  773904, 1436588,\n",
       "        1020766, 1269201,  890873,  694289,  703508,  781314, 1112093,\n",
       "        1080659, 1062684,  408550,  643092,  847608, 1244878, 1114847,\n",
       "         852004, 1337070, 1006138, 1379391, 1249637,  429934, 1243009,\n",
       "         913165, 1073664,  751230, 1100504,  805249,  698453, 1076420,\n",
       "         648030,  749319,  691316, 1053375, 2501162, 1590618, 1691016,\n",
       "         600495,  716143,  507235,  307169,  578407,  957154,  829816,\n",
       "         960562,  341918,  612248,  697150, 1132550, 1265195,  673371,\n",
       "         478704, 1090080,  569823,  622889,  527709, 1196710, 1202728,\n",
       "         709275,  387709,  943599,  734574,  325717,  354888,  286747,\n",
       "         372066,  684155,  198425,  447680,  626881,  564006, 1313715,\n",
       "         429985,  648521, 1062779,  248891,  425651, 1191885,  949226,\n",
       "        1340129,  316822, 1871778,  276261,  715039,  144888,  203910,\n",
       "         224472, 1197504,  202325, 2044753,  814152,  172619,  795846,\n",
       "         769594,  321322,  555453,  694147,  519191,  407566,  464560,\n",
       "         159275, 1008732,  320188,  177916,  530244,  538494,  354716,\n",
       "        1151384,  291547,  325269,  295217,  375820,  237230,  141228,\n",
       "         490497,   58312,  427380,  217477,  153070,  237865,  257418,\n",
       "         208490,  134827,  157005,  348180,  394464,  275701,  258344,\n",
       "         107890,  130782]),\n",
       " array(['2호선', '강남'], dtype=object),\n",
       " 6234453,\n",
       " 31)"
      ]
     },
     "execution_count": 33,
     "metadata": {},
     "output_type": "execute_result"
    }
   ],
   "source": [
    "승하차합 = arr[:,4:8].astype(np.int)\n",
    "승하차합합 = np.sum(승하차합, axis=1)\n",
    "승하차합, 승하차합합, arr[np.argmax(승하차합합),1:4:2], np.max(승하차합합), np.argmax(승하차합합)"
   ]
  },
  {
   "cell_type": "markdown",
   "metadata": {},
   "source": [
    "모든 역의 유무임승하차 비율은 어떻게 될까 > 파이(유임승차 45%, 무임하차x%)\n"
   ]
  },
  {
   "cell_type": "code",
   "execution_count": 45,
   "metadata": {},
   "outputs": [
    {
     "data": {
      "image/png": "[encoded data removed]",
      "text/plain": [
       "<Figure size 432x288 with 1 Axes>"
      ]
     },
     "metadata": {},
     "output_type": "display_data"
    }
   ],
   "source": [
    "a = np.sum(arr[:,4:8].astype(np.int), axis=0)\n",
    "#label='사용월','호선명','역ID','지하철역','유임승차','유임하차','무임승차','무임하차','작업일시'\n",
    "plt.rc('font', family='Malgun Gothic')\n",
    "plt.title('유무임승하차비율')\n",
    "n = plt.pie(a, labels=df.columns[4:8], autopct='%.1f %%', explode=[0.1, 0.1, 0.1, 0.1] )\n",
    "plt.savefig('유무임승하차비율.png')"
   ]
  },
  {
   "cell_type": "markdown",
   "metadata": {},
   "source": [
    "모든 역마다 유무임 승차 비율을 따로 파이 차트로 나타내기\n",
    "- 100만명 이상 승차하는 곳만"
   ]
  },
  {
   "cell_type": "code",
   "execution_count": 52,
   "metadata": {},
   "outputs": [],
   "source": [
    "for i in range(len(arr)):\n",
    "    row=arr[i]\n",
    "    승하차인원 = row[4:8].astype(np.int)\n",
    "    유임승차 = 승하차인원[0]\n",
    "    역이름= row[1] + '_' + row[3]\n",
    "    if 유임승차 > 1000000:\n",
    "        plt.rc('font', family='Malgun Gothic')\n",
    "        plt.title(역이름+'승하차인원')\n",
    "        n = plt.pie(row[4:8], labels=df.columns[4:8], autopct='%.1f %%', explode=[0.1, 0.1, 0.1, 0.1] )\n",
    "        plt.savefig('subway_' + 역이름 +'.png')\n",
    "        plt.close()\n"
   ]
  },
  {
   "cell_type": "code",
   "execution_count": null,
   "metadata": {},
   "outputs": [],
   "source": []
  }
 ],
 "metadata": {
  "kernelspec": {
   "display_name": "Python 3",
   "language": "python",
   "name": "python3"
  },
  "language_info": {
   "codemirror_mode": {
    "name": "ipython",
    "version": 3
   },
   "file_extension": ".py",
   "mimetype": "text/x-python",
   "name": "python",
   "nbconvert_exporter": "python",
   "pygments_lexer": "ipython3",
   "version": "3.7.3"
  }
 },
 "nbformat": 4,
 "nbformat_minor": 2
}
