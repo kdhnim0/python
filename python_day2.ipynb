{
 "cells": [
  {
   "attachments": {
    "%EB%8B%A4%EC%9A%B4%EB%A1%9C%EB%93%9C.jpg": {
     "image/jpeg": "[encoded data removed]"
    }
   },
   "cell_type": "markdown",
   "metadata": {},
   "source": [
    "# Markdown은 코드가 아닌 글을쓰는 곳입니다.\n",
    "## 111111111111 \n",
    "Run을 하면 디자인이 입혀집니다.\n",
    "![%EB%8B%A4%EC%9A%B4%EB%A1%9C%EB%93%9C.jpg](attachment:%EB%8B%A4%EC%9A%B4%EB%A1%9C%EB%93%9C.jpg)<span style=\"font-size:15pt,\"> html test\n",
    "    \n",
    "    \n",
    "    \n",
    "    https://jupyter-notebook.readthedocs.io/en/stable/example 에서 확인 가능\n",
    "    "
   ]
  },
  {
   "cell_type": "markdown",
   "metadata": {},
   "source": [
    "브라우저에 따라서 YOUtube 동영상 퍼가기로 추가됩니다.\n",
    "여기에서는 동영상이 나타나지 않지\n",
    "file - download as - html로 다운받아서 열면 동영상이 나타납니다."
   ]
  },
  {
   "cell_type": "markdown",
   "metadata": {},
   "source": [
    "<iframe width=\"560\" height=\"315\" src=\"https://www.youtube.com/embed/etOqaw4xFgs\" frameborder=\"0\" allow=\"accelerometer; autoplay; encrypted-media; gyroscope; picture-in-picture\" allowfullscreen></iframe>"
   ]
  },
  {
   "cell_type": "markdown",
   "metadata": {},
   "source": [
    "나오기 esc\n",
    "\n",
    "실행 enter\n",
    "     ctrl enter 아래로 내려가지 않는다\n",
    "     shift enter 아래로 내려간다\n",
    "\n",
    "지우기 x \n"
   ]
  },
  {
   "cell_type": "markdown",
   "metadata": {},
   "source": [
    "<iframe width=\"560\" height=\"315\" src=\"https://www.youtube.com/embed/zNUbFQ5HTfQ\" frameborder=\"0\" allow=\"accelerometer; autoplay; encrypted-media; gyroscope; picture-in-picture\" allowfullscreen></iframe>"
   ]
  },
  {
   "cell_type": "markdown",
   "metadata": {},
   "source": []
  },
  {
   "cell_type": "code",
   "execution_count": 1,
   "metadata": {},
   "outputs": [],
   "source": [
    "# .tab 함수 목록 및 자동왕성\n",
    "a=[1,2,3,4,5]\n",
    "a.append(6)"
   ]
  },
  {
   "cell_type": "code",
   "execution_count": 2,
   "metadata": {},
   "outputs": [],
   "source": [
    "# shift + tab 함수설명\n",
    "a.append(7)"
   ]
  },
  {
   "cell_type": "code",
   "execution_count": 3,
   "metadata": {},
   "outputs": [],
   "source": [
    "# 객체? 객체 정보 조회\n",
    "a?"
   ]
  },
  {
   "cell_type": "code",
   "execution_count": 11,
   "metadata": {},
   "outputs": [
    {
     "name": "stdout",
     "output_type": "stream",
     "text": [
      "14\n"
     ]
    },
    {
     "data": {
      "text/plain": [
       "16384"
      ]
     },
     "execution_count": 11,
     "metadata": {},
     "output_type": "execute_result"
    }
   ],
   "source": [
    "# 파이썬은 들여쓰기(indent)를 정확하게 해야합니다. 콜론(:) 뒤에는 반드시 들여쓰기\n",
    "# while 반복 횟수를 미리 알 수 없을 때 사용\n",
    "# 무한 반복이 되지 않도록 주의\n",
    "x = 10000\n",
    "i=1\n",
    "while(2**i<x): # true면 실행\n",
    "    i+=1\n",
    "print(i)\n",
    "2**i"
   ]
  },
  {
   "cell_type": "code",
   "execution_count": 29,
   "metadata": {},
   "outputs": [
    {
     "name": "stdout",
     "output_type": "stream",
     "text": [
      "{'age': 20, 'city': 'Seoul'}\n"
     ]
    },
    {
     "data": {
      "text/plain": [
       "{'city': 'busan', 'age': 30}"
      ]
     },
     "execution_count": 29,
     "metadata": {},
     "output_type": "execute_result"
    }
   ],
   "source": [
    "# dictonary {키:값, 키:값...}\n",
    "b={'age':20, 'city':'Seoul'}\n",
    "print(b)\n",
    "b1={'city':'busan', 'age':30}\n",
    "b1"
   ]
  },
  {
   "cell_type": "code",
   "execution_count": 30,
   "metadata": {},
   "outputs": [
    {
     "name": "stdout",
     "output_type": "stream",
     "text": [
      "20\n"
     ]
    },
    {
     "data": {
      "text/plain": [
       "30"
      ]
     },
     "execution_count": 30,
     "metadata": {},
     "output_type": "execute_result"
    }
   ],
   "source": [
    "#키를 통해 값을 조회\n",
    "print(b['age'])\n",
    "b1['age']"
   ]
  },
  {
   "cell_type": "code",
   "execution_count": 31,
   "metadata": {},
   "outputs": [
    {
     "data": {
      "text/plain": [
       "25"
      ]
     },
     "execution_count": 31,
     "metadata": {},
     "output_type": "execute_result"
    }
   ],
   "source": [
    "#키를 통해 값을 수\n",
    "b['age']+=5\n",
    "b['age']"
   ]
  },
  {
   "cell_type": "code",
   "execution_count": 32,
   "metadata": {},
   "outputs": [
    {
     "data": {
      "text/plain": [
       "{'age': 25, 'city': 'Seoul', 'part': '개발부'}"
      ]
     },
     "execution_count": 32,
     "metadata": {},
     "output_type": "execute_result"
    }
   ],
   "source": [
    "#키와 값을 추가\n",
    "b['part']='개발부'\n",
    "b"
   ]
  },
  {
   "cell_type": "code",
   "execution_count": 23,
   "metadata": {},
   "outputs": [
    {
     "data": {
      "text/plain": [
       "{'city': 'Seoul', 'part': '개발부'}"
      ]
     },
     "execution_count": 23,
     "metadata": {},
     "output_type": "execute_result"
    }
   ],
   "source": [
    "#키를 통해서 제거\n",
    "del b['age']\n",
    "b"
   ]
  },
  {
   "cell_type": "code",
   "execution_count": 34,
   "metadata": {},
   "outputs": [
    {
     "name": "stdout",
     "output_type": "stream",
     "text": [
      "dict_keys(['age', 'city', 'part'])\n",
      "dict_keys(['city', 'age'])\n"
     ]
    }
   ],
   "source": [
    "#2차원 표 데이터(panal)에서 컬럼명이 키이고 value가 됩니다.\n",
    "# 2차원 데이터 하나는 dictionary로 저장됩니다.\n",
    "# 서울 100년간 온도 데이터에서 날짜 최저기온 최고기온 둘이 key가 됩니다.\n",
    "print(b.keys())\n",
    "print(b1.keys())"
   ]
  },
  {
   "cell_type": "code",
   "execution_count": null,
   "metadata": {},
   "outputs": [],
   "source": []
  },
  {
   "cell_type": "code",
   "execution_count": null,
   "metadata": {},
   "outputs": [],
   "source": []
  }
 ],
 "metadata": {
  "kernelspec": {
   "display_name": "Python 3",
   "language": "python",
   "name": "python3"
  },
  "language_info": {
   "codemirror_mode": {
    "name": "ipython",
    "version": 3
   },
   "file_extension": ".py",
   "mimetype": "text/x-python",
   "name": "python",
   "nbconvert_exporter": "python",
   "pygments_lexer": "ipython3",
   "version": "3.7.3"
  }
 },
 "nbformat": 4,
 "nbformat_minor": 2
}
